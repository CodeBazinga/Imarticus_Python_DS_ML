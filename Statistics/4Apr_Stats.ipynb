{
 "cells": [
  {
   "cell_type": "markdown",
   "id": "d6bbeede",
   "metadata": {},
   "source": [
    "### Statistics\n",
    "1) Branch of matehmatics that deals with data collection, analysis, interpretataion and presentation.<br>\n",
    "\n",
    "2) It is used to provide meaningful insights in the data by applying various statistical methods on it.<br>"
   ]
  },
  {
   "cell_type": "markdown",
   "id": "c9e32ac3",
   "metadata": {},
   "source": [
    "### Types of Data \n",
    "1) <b>Qualitative:</b> Data which cannot be measured.It is of 2 types\n",
    "\n",
    "a) <b>Nominal:</b> Data with no inherent order. Sorting Nominal data makes no difference\n",
    "Examples - Gender column, languages that a person can speak\n",
    "\n",
    "b) <b>Ordinal:</b> Data with inherent order. It can be sorted.\n",
    "Examples - Educational qualifications of a person over the years, low,medium and high temperatures\n",
    "\n",
    "2) <b>Qunatitative:</b> Data which can be measured. It is of 2 types\n",
    "\n",
    "a) <b>Continous Data:</b> It can have finite or infinite values within a specific range. It can be expressed in fractions.\n",
    "Examples - Profit,Loss,speed,acceleration,salary,price, distance, magnitude etc\n",
    "\n",
    "b) <b>Categorical or Discrete Data:</b> It can have finite values only. It cannot be expressed in fractions\n",
    "Examples - number of states in a country, types of species, types of elements \n",
    "\n"
   ]
  },
  {
   "cell_type": "markdown",
   "id": "10cf5e01",
   "metadata": {},
   "source": [
    "### Random Variable and its Types\n",
    "\n",
    "#### Random Variable\n",
    "1) A variable whose possible values are outcome of a random experiment<br>\n",
    "2) It is denoted by X.<br>\n",
    "3) Is is of 2 types<br>\n",
    "\n",
    "<b>a) Discrete/Categorical Random Variables</b><br>\n",
    "i) It is a variable that takes countable number of finite values<br>\n",
    "ii) These variables cant be expressed in fraction<br>\n",
    "iii) Exmaples - Number of states in a country, number of vehciles manufactured in a day,\n",
    "number of quarters in a year etc.\n",
    "\n",
    "\n",
    "<b>b) Continuous Random Variables</b><br>\n",
    "i) A variable that takes infinite value within a range<br>\n",
    "ii) It can be expressed in fractions<br>\n",
    "iii) Examples - Temperature in celcius for a city at various hours, profit/loss on products sold per day\n",
    "price of a product over the years\n",
    "etc"
   ]
  },
  {
   "cell_type": "markdown",
   "id": "dc7b30d4",
   "metadata": {},
   "source": [
    "### Statistical Analysis\n",
    "#### 1) Descriptive Anaysis\n",
    "a) It is used to generate summarize the insights about the data/sample<br>\n",
    "b) It helps to study the underlying pattern in the data<br>\n",
    "c) Various numerical and vizualization techniques can be used<br>\n",
    "\n",
    "#### 2) Inferential Analysis\n",
    "a) It is used to make conclusions or generalizations about the data.<br>\n",
    "b) It includes various tests.<br>\n"
   ]
  },
  {
   "cell_type": "markdown",
   "id": "325a110f",
   "metadata": {},
   "source": [
    "### Population and Sample\n",
    "\n",
    "<b> Population:</b> It is collection of all the objects under consideration.<br>\n",
    "<b> Sample:</b>It is a subset of population which is used as a reprentataive of population."
   ]
  },
  {
   "cell_type": "markdown",
   "id": "d035dde9",
   "metadata": {},
   "source": [
    "### Univariate Descriptive Analysis"
   ]
  },
  {
   "cell_type": "markdown",
   "id": "2fdda1c3",
   "metadata": {},
   "source": [
    "#### Measure of Central Tendency\n",
    "\n",
    "<b>1)  Mean - </b><br>\n",
    "a) Defined as sum of all observations divied by total number of observations<br>\n",
    "b) It cant be computed for categorial data.<br>\n",
    "c) It can be affedcted by outliers<br>\n",
    "d) It is based on all obersations<br>\n",
    "<img src=\"mean.png\" height=\"200\" width=\"300\">\n",
    "\n",
    "<b>2) Median - </b><br>\n",
    "a) It is the middlemost observation when the data is arranged in ascending or descening order<br>\n",
    "b) The median divides the data into 2 equal parts- there will be equal number of observations below and above the median.<br>\n",
    "c) It is not affected by presence of outliers<br>\n",
    "d) It is not based on all observations- thus it is not considered a very good representative \n",
    "<img src=\"median.png\" height=\"400\" width=\"500\">\n",
    "\n",
    "<b>3) Mode </b><br>\n",
    "a) It is the observation with the highest frequency<br>\n",
    "b) Data can have more than one mode<br>\n",
    "c) The group of observations with one mode is called <b>unimodal</b><br>\n",
    "d) The group of observations with two modes is called <b>bimodal</b><br>\n",
    "e) The group of observations with more than two modes is called <b>multimodal</b><br>\n",
    "f) It is not affecdted by presence of outliers<br>\n",
    "g) It can be calculated for continuous and categorical data<br>\n",
    "h) It is not based on all observations- thus it is not considered a very good representative "
   ]
  },
  {
   "cell_type": "markdown",
   "id": "87e22e11",
   "metadata": {},
   "source": [
    "#### Which is the best measure out of Mean, Median and Mode?\n",
    "1) Mean is the most frequently used measure of central tendency and generally considered the best measure of it. However, there are some situations where either median or mode are preferred.<br>\n",
    "2) Median is the preferred measure of central tendency when: <br>\n",
    "a) There are a few extreme scores in the distribution of the data. (outlier can have a great effect on the mean).<br>\n",
    "b) There are some missing or undetermined values in your data<br>\n",
    "c) You have data measured on an ordinal scale.<br>\n",
    "3) Mode is the preferred measure when data are measured in a nominal ( and even sometimes ordinal) scale."
   ]
  },
  {
   "cell_type": "code",
   "execution_count": 4,
   "id": "0067f37d",
   "metadata": {},
   "outputs": [],
   "source": [
    "import numpy as np"
   ]
  },
  {
   "cell_type": "code",
   "execution_count": null,
   "id": "8a9f8c99",
   "metadata": {},
   "outputs": [],
   "source": []
  },
  {
   "cell_type": "markdown",
   "id": "1218804b",
   "metadata": {},
   "source": [
    "#### 4) Quantile\n",
    "\n",
    "1) These are values that divide the dataset into equal parts<br>\n",
    "2) Median is 50 qunatile<br>\n",
    "3) <b>Quartile</b> divide dataset into 4 equal parts.\n",
    "and <b>Percentile</b> divide dataset into 100 equal parts<>\n",
    "\n",
    "<b>Percentile :</b> The percent of population which lies below that value<br>\n",
    "<b>Quartile :</b> Quartile is a special case of quantile, quartiles cut the data set into four equal parts i.e. q=4 for quantiles so we have First quartile Q1, second quartile Q2(Median) and third quartile Q3\n",
    "\n",
    "0 quartile = 0 quantile = 0 percentile\n",
    "\n",
    "1 quartile (Q1) = 0.25 quantile = 25 percentile\n",
    "\n",
    "2 quartile (Q2) = 0.5 quantile = 50 percentile (Median)\n",
    "\n",
    "3 quartile (Q3) = 0.75 quantile = 75 percentile\n",
    "\n",
    "4 quartile (Q4) = 1 quantile = 100 percentile\n",
    "\n",
    "\n",
    "#### 5 Point Summary\n",
    "i) Q1 - 25 percentile (median of min and Q2)<br>\n",
    "ii) Q2 - 50 percentile (median)<br>\n",
    "iii) Q3 - 75 percentile (median of max and Q2)<br>\n",
    "iv) IQR (Inter Quartile Range) = Q3-Q1<br>\n",
    "v) min = Q1 - 1.5 * IQR<br>\n",
    "vi) max = Q3 +  1.5 * IQR<br>\n",
    "vii) Outliers = >max or <min"
   ]
  },
  {
   "cell_type": "code",
   "execution_count": 2,
   "id": "13437d90",
   "metadata": {},
   "outputs": [
    {
     "name": "stdout",
     "output_type": "stream",
     "text": [
      "[12, 14, 16, 15, 14, 25, 12, 11, 9, 10, 13, 15, 2, 17, 9, 16]\n",
      "16\n"
     ]
    }
   ],
   "source": [
    "x = [12,14, 16, 15, 14,25, 12, 11, 9,10,13,15,2,17,9,16]\n",
    "print(x)\n",
    "print(len(x))"
   ]
  },
  {
   "cell_type": "markdown",
   "id": "aa1ad857",
   "metadata": {},
   "source": [
    "#### Q) For the list x\n",
    "a) Depict the quartile distribution of the list x. <br>\n",
    "b) Find the values of Q1, Q2, Q3, IQR, min and max.<br>\n",
    "c) Create a list fetching the outliers from the list x<br>\n",
    "d) Create a list by removing the outliers from the list x."
   ]
  },
  {
   "cell_type": "code",
   "execution_count": null,
   "id": "18eca1a8",
   "metadata": {},
   "outputs": [],
   "source": []
  },
  {
   "cell_type": "code",
   "execution_count": null,
   "id": "c843f0a3",
   "metadata": {},
   "outputs": [],
   "source": []
  },
  {
   "cell_type": "markdown",
   "id": "abc016e8",
   "metadata": {},
   "source": [
    "<b>Decile</b> : - It divides the dataset into 10 equal parts\n",
    "1) The first Decile(D1) is such that 10% of data is below D1 and 90% above it<br>\n",
    "2) The fifth Decile(D5) is such that 50% of data is below D5 and 50% above it. It is the median<br>"
   ]
  },
  {
   "cell_type": "code",
   "execution_count": 2,
   "id": "8235ed50",
   "metadata": {},
   "outputs": [],
   "source": [
    "# x = [4,6,2,8,10,14,12,16,20,18]\n",
    "# d1 = np.quantile(x,0.10)\n",
    "# d2 = np.quantile(x,0.20)\n",
    "# d5 = np.quantile(x,0.50)\n",
    "# print('d1',d1)\n",
    "# print('d2',d2)\n",
    "# print('d5',d5)\n",
    "# x.sort()\n",
    "# print(len(x))\n",
    "# print(x)"
   ]
  },
  {
   "cell_type": "markdown",
   "id": "465a67b9",
   "metadata": {},
   "source": [
    "### Measure of Dispersion\n",
    "It summaries the variation in the data points<br>\n",
    "\n",
    "a) <b>Range</b><br>\n",
    "1) It is the difference between largest and smallest value<br>\n",
    "2) It depends on 2 extreme values of the data<br>\n",
    "\n",
    "b) <b> Variance</b><br>\n",
    "1) It measure the spread of obseravtions from the mean<br>\n",
    "2) The unit of variance is squared to that unit of data so as to obtain measure of dispersion in the same unit as original obervations we take positive square root of variance (known as <b>Standard Deviation)</b><br>\n",
    "\n",
    "\n",
    "c) <b>Standard Deviation</b><br>\n",
    "1) It is obtained by taking squae root of the variance<br>\n",
    "\n",
    "<img src=\"variance_sd.png\" width=\"600\" height=\"600\">\n",
    "\n",
    "where <br>\n",
    "xi - individual obervation<br>\n",
    "µ - population mean<br> \n",
    "x_bar - sample mean<br>\n",
    "N - total number of observations<br>\n",
    "n - total number of observations<br>\n",
    "\n"
   ]
  },
  {
   "cell_type": "code",
   "execution_count": null,
   "id": "50aeb059",
   "metadata": {},
   "outputs": [],
   "source": []
  },
  {
   "cell_type": "markdown",
   "id": "5fb25cb7",
   "metadata": {},
   "source": [
    "### Bivariate/Multivariate Descriptive Analysis\n",
    "\n",
    "a) <b>Covariance</b><br>\n",
    "1) It measures how 2 variable vary together<br>\n",
    "2) Covariance values are not normalized/Standardized.<br>\n",
    "3) Covarince provides direction linear relation between the variables.<br>\n",
    "4) It ranges from -inifinity to + infinity<br>\n",
    "5) It is used in PCA <b>(Principal Component Analysis)</b>\n",
    "6) Note\n",
    "\n",
    "        cov(a,b) = cov(b,a)\n",
    "        cov(a,a) = var(a)\n",
    "        cov(b,b) = var(b)\n",
    "\n",
    "<img src=\"cov.png\" height=\"400\" width=\"400\">\n",
    "\n",
    "where <br>\n",
    "xi,yi - individual obervation of x and y respectively<br>\n",
    "x_bar,y_bar - sample mean of x and y respectively<br>\n",
    "N - total number of observations<br>\n",
    "\n",
    "\n",
    "\n",
    "b) <b>Correlation</b><br>\n",
    "1) It provides direction and magnitude of realtionship betwwen variables<br>\n",
    "2) It ranges from -1 to +1 where -1 indicates strong negative correlation and +1 indicates strong negative correaltion.<br>\n",
    "3) If corr(x,y)> 0 => Positive correlation<br>\n",
    "   If corr(x,y)< 0 => Negative correlation<br>  \n",
    "\n",
    "4) Positive correlation =><br>\n",
    "\n",
    "       If x is increasing, y also increases\n",
    "       If x is decreasing, y also decreases\n",
    "\n",
    "5) Negative correlation =><br>\n",
    "   \n",
    "       If x is increasing, y decreases\n",
    "       If x is decreasing, y increases\n",
    "\n",
    "6) It is used in <b>Feature Selection </b>in Machine learning<br>\n",
    "7) Note\n",
    "\n",
    "        corr(x,y) = corr(y,x)<\n",
    "        corr(x,x) = corr(y,y) = 1\n",
    "\n",
    "<img src=\"corr1.png\" height=\"400\" width=\"400\">\n",
    "\n",
    "where <br>\n",
    "xi,yi - individual obervation of x and y respectively<br>\n",
    "x_bar,y_bar - sample mean of x and y respectively<br>"
   ]
  },
  {
   "cell_type": "markdown",
   "id": "6ea0b5bb",
   "metadata": {},
   "source": [
    "<img src=\"covariance_graph.png\" height=\"300\" align='left'>\n",
    "<img src=\"corr_graph.png\" height=\"300\" width=\"400\">"
   ]
  },
  {
   "cell_type": "code",
   "execution_count": null,
   "id": "5b107969",
   "metadata": {},
   "outputs": [],
   "source": []
  },
  {
   "cell_type": "code",
   "execution_count": null,
   "id": "ad416bac",
   "metadata": {},
   "outputs": [],
   "source": []
  },
  {
   "cell_type": "code",
   "execution_count": null,
   "id": "d2c6ae07",
   "metadata": {},
   "outputs": [],
   "source": []
  },
  {
   "cell_type": "code",
   "execution_count": null,
   "id": "e450a574",
   "metadata": {},
   "outputs": [],
   "source": []
  }
 ],
 "metadata": {
  "kernelspec": {
   "display_name": "Python 3",
   "language": "python",
   "name": "python3"
  },
  "language_info": {
   "codemirror_mode": {
    "name": "ipython",
    "version": 3
   },
   "file_extension": ".py",
   "mimetype": "text/x-python",
   "name": "python",
   "nbconvert_exporter": "python",
   "pygments_lexer": "ipython3",
   "version": "3.8.8"
  }
 },
 "nbformat": 4,
 "nbformat_minor": 5
}
