{
 "cells": [
  {
   "cell_type": "markdown",
   "id": "24781374",
   "metadata": {},
   "source": [
    "#### Numpy (Numerical Python)\n",
    "\n",
    "1) NumPy is the fundamental package for scientific computing in Python<br>\n",
    "2) It is used for fast operations on arrays, including mathematical, logical, shape manipulation, sorting, selecting, basic linear algebra, basic statistical operations and much more.<br>\n",
    "3) The NumPy library contains multidimensional array and matrix data structures<br>\n",
    "4) It provides ndarray, a homogeneous n-dimensional array object, with wide variety of methods to efficiently operate on it."
   ]
  },
  {
   "cell_type": "markdown",
   "id": "710f48d2",
   "metadata": {},
   "source": [
    "#### Numpy Array\n",
    "1) An array is a central data structure of the NumPy library.<br>\n",
    "\n",
    "2) An array is a grid of values and it contains information about the raw data, how to locate an element, and how to interpret an element. It has a grid of elements that can be indexed in various ways. The elements are all of the same type, referred to as the array dtype."
   ]
  },
  {
   "cell_type": "markdown",
   "id": "ab31aeb3",
   "metadata": {},
   "source": [
    "#### Difference between list and Numpy arrays\n",
    "\n",
    "#### List\n",
    "1) It is an ordered collection of elements of same or different data types\n",
    "\n",
    "\n",
    "#### Numpy Array\n",
    "1) It is an ordered collection of elements of same data type. Elements in numpy array are homogeneous.<br>\n",
    "2) Numpy arrays are faster than list<br>"
   ]
  },
  {
   "cell_type": "markdown",
   "id": "04fad52f",
   "metadata": {},
   "source": [
    "### Creating Numpy Arrays\n",
    "1) np.array()<br>\n",
    "2) np.arange()\n",
    "\n",
    "Other methods<br>\n",
    "\n",
    "3) np.zeros()<br>\n",
    "4) np.ones()<br>\n",
    "5) np.linspace()<br>"
   ]
  },
  {
   "cell_type": "code",
   "execution_count": 21,
   "id": "14835b17",
   "metadata": {},
   "outputs": [],
   "source": [
    "import numpy as np"
   ]
  },
  {
   "cell_type": "markdown",
   "id": "289817c0",
   "metadata": {},
   "source": [
    "### 1) np.array()\n",
    "1) The data type of the numpy array is <b>np.ndarray</b><br>\n",
    "2) An array is usually a fixed-size container of items of the same type and size. The number of dimensions and items in an array is defined by its shape \n",
    "    "
   ]
  },
  {
   "cell_type": "code",
   "execution_count": 22,
   "id": "1a57006d",
   "metadata": {},
   "outputs": [
    {
     "name": "stdout",
     "output_type": "stream",
     "text": [
      "[5 7 8 3 7]\n",
      "<class 'numpy.ndarray'>\n"
     ]
    }
   ],
   "source": [
    "n1 = np.array([5,7,8,3,7])\n",
    "print(n1)\n",
    "print(type(n1))"
   ]
  },
  {
   "cell_type": "code",
   "execution_count": 23,
   "id": "335b8699",
   "metadata": {},
   "outputs": [
    {
     "name": "stdout",
     "output_type": "stream",
     "text": [
      "[10 20 30 40]\n",
      "[5 7 3 8]\n"
     ]
    }
   ],
   "source": [
    "# Creating numpy arrays using List and tuple\n",
    "a1 = [10,20,30,40]\n",
    "a2 = (5,7,3,8)\n",
    "w1 = np.array(a1)\n",
    "w2 = np.array(a2)\n",
    "print(w1)\n",
    "print(w2)"
   ]
  },
  {
   "cell_type": "markdown",
   "id": "cc7ad741",
   "metadata": {},
   "source": [
    "#### Attributes of numpy array\n",
    "\n",
    "1) dtype - Returns data type of ndarray<br>\n",
    "2) size - Returns size(number of elements) of ndarray<br>\n",
    "3) shape - Returns shape(in terms of rows and columns,starting from 2 dimensions) of ndarray<br>\n",
    "4) ndim - Returns number of dimensions of ndarray<br>"
   ]
  },
  {
   "cell_type": "code",
   "execution_count": 13,
   "id": "250f80ee",
   "metadata": {},
   "outputs": [
    {
     "name": "stdout",
     "output_type": "stream",
     "text": [
      "[7 8 6 5 4 3 5 6 7 8]\n",
      "int32\n",
      "10\n",
      "(10,)\n",
      "1\n"
     ]
    }
   ],
   "source": [
    "s1 = np.array([7,8,6,5,4,3,5,6,7,8])\n",
    "print(s1)\n",
    "print(s1.dtype)\n",
    "print(s1.size)\n",
    "print(s1.shape)\n",
    "print(s1.ndim)"
   ]
  },
  {
   "cell_type": "code",
   "execution_count": 17,
   "id": "b2845825",
   "metadata": {},
   "outputs": [
    {
     "name": "stdout",
     "output_type": "stream",
     "text": [
      "[[  5  10  15]\n",
      " [ 20  30 354]]\n",
      "int32\n",
      "6\n",
      "(2, 3)\n",
      "2\n"
     ]
    }
   ],
   "source": [
    "s2 = np.array([[5,10,15],[20,30,354]])\n",
    "print(s2)\n",
    "print(s2.dtype)\n",
    "print(s2.size)\n",
    "print(s2.shape)\n",
    "print(s2.ndim)"
   ]
  },
  {
   "cell_type": "code",
   "execution_count": 19,
   "id": "90ee9483",
   "metadata": {},
   "outputs": [
    {
     "name": "stdout",
     "output_type": "stream",
     "text": [
      "[[[  5  10  15]\n",
      "  [ 20  30 354]]\n",
      "\n",
      " [[  1   2   3]\n",
      "  [  4   5   6]]]\n",
      "int32\n",
      "12\n",
      "(2, 2, 3)\n",
      "3\n"
     ]
    }
   ],
   "source": [
    "s3 = np.array([[[5,10,15],[20,30,354]],[[1,2,3],[4,5,6]]])\n",
    "print(s3)\n",
    "print(s3.dtype)\n",
    "print(s3.size)\n",
    "print(s3.shape)\n",
    "print(s3.ndim)"
   ]
  },
  {
   "cell_type": "code",
   "execution_count": 24,
   "id": "bff60f0b",
   "metadata": {},
   "outputs": [
    {
     "name": "stdout",
     "output_type": "stream",
     "text": [
      "67\n",
      "int32\n",
      "1\n",
      "()\n",
      "0\n"
     ]
    }
   ],
   "source": [
    "s0 = np.array(67)\n",
    "print(s0)\n",
    "print(s0.dtype)\n",
    "print(s0.size)\n",
    "print(s0.shape)\n",
    "print(s0.ndim)"
   ]
  },
  {
   "cell_type": "markdown",
   "id": "abe05abd",
   "metadata": {},
   "source": [
    "### 2) np.arange()\n",
    "\n"
   ]
  },
  {
   "cell_type": "code",
   "execution_count": 25,
   "id": "e46e6685",
   "metadata": {},
   "outputs": [
    {
     "name": "stdout",
     "output_type": "stream",
     "text": [
      "[10 11 12 13 14 15 16 17 18 19]\n"
     ]
    }
   ],
   "source": [
    "w1 = np.arange(10,20)\n",
    "print(w1)"
   ]
  },
  {
   "cell_type": "code",
   "execution_count": 28,
   "id": "03a7e2e9",
   "metadata": {},
   "outputs": [
    {
     "name": "stdout",
     "output_type": "stream",
     "text": [
      "[ 5  9 13 17 21]\n",
      "[30 25 20 15]\n"
     ]
    }
   ],
   "source": [
    "w2 = np.arange(5,25,4)\n",
    "print(w2)\n",
    "w3 = np.arange(30,10,-5)\n",
    "print(w3)"
   ]
  },
  {
   "cell_type": "markdown",
   "id": "a51bd0fc",
   "metadata": {},
   "source": [
    "### 3) np.linspace()\n",
    "Generates linearly spaced elements"
   ]
  },
  {
   "cell_type": "code",
   "execution_count": 33,
   "id": "305a31c4",
   "metadata": {},
   "outputs": [
    {
     "name": "stdout",
     "output_type": "stream",
     "text": [
      "[ 2.  4.  6.  8. 10.]\n",
      "[ 2.  6. 10.]\n"
     ]
    }
   ],
   "source": [
    "z1 = np.linspace(2,10,5)\n",
    "print(z1)\n",
    "z2 = np.linspace(2,10,3)\n",
    "print(z2)"
   ]
  },
  {
   "cell_type": "code",
   "execution_count": 35,
   "id": "64cbe854",
   "metadata": {},
   "outputs": [
    {
     "name": "stdout",
     "output_type": "stream",
     "text": [
      "[ 4.   6.6  9.2 11.8 14.4 17. ]\n"
     ]
    }
   ],
   "source": [
    "z3 = np.linspace(4,17,6)\n",
    "print(z3)"
   ]
  },
  {
   "cell_type": "code",
   "execution_count": 36,
   "id": "7138616d",
   "metadata": {},
   "outputs": [
    {
     "name": "stdout",
     "output_type": "stream",
     "text": [
      "[ 2.          2.36734694  2.73469388  3.10204082  3.46938776  3.83673469\n",
      "  4.20408163  4.57142857  4.93877551  5.30612245  5.67346939  6.04081633\n",
      "  6.40816327  6.7755102   7.14285714  7.51020408  7.87755102  8.24489796\n",
      "  8.6122449   8.97959184  9.34693878  9.71428571 10.08163265 10.44897959\n",
      " 10.81632653 11.18367347 11.55102041 11.91836735 12.28571429 12.65306122\n",
      " 13.02040816 13.3877551  13.75510204 14.12244898 14.48979592 14.85714286\n",
      " 15.2244898  15.59183673 15.95918367 16.32653061 16.69387755 17.06122449\n",
      " 17.42857143 17.79591837 18.16326531 18.53061224 18.89795918 19.26530612\n",
      " 19.63265306 20.        ]\n"
     ]
    }
   ],
   "source": [
    "z4 = np.linspace(2,20)\n",
    "print(z4)"
   ]
  },
  {
   "cell_type": "markdown",
   "id": "a5aa8cae",
   "metadata": {},
   "source": [
    "#### np.zeros() - Generates an array of zeros\n",
    "#### np.ones() - Generates an array of ones"
   ]
  },
  {
   "cell_type": "code",
   "execution_count": 38,
   "id": "b73eb5dd",
   "metadata": {},
   "outputs": [
    {
     "name": "stdout",
     "output_type": "stream",
     "text": [
      "[[0. 0. 0. 0.]\n",
      " [0. 0. 0. 0.]\n",
      " [0. 0. 0. 0.]]\n",
      "[[1 1 1 1 1]\n",
      " [1 1 1 1 1]\n",
      " [1 1 1 1 1]\n",
      " [1 1 1 1 1]]\n"
     ]
    }
   ],
   "source": [
    "d1 = np.zeros((3,4))\n",
    "print(d1)\n",
    "d2 = np.ones((4,5),dtype=int)\n",
    "print(d2)"
   ]
  },
  {
   "cell_type": "markdown",
   "id": "2d17fad0",
   "metadata": {},
   "source": [
    "#### Reshape and shape()"
   ]
  },
  {
   "cell_type": "code",
   "execution_count": 52,
   "id": "452dda8a",
   "metadata": {},
   "outputs": [
    {
     "name": "stdout",
     "output_type": "stream",
     "text": [
      "[ 3  4  5  6  7  8  9 10 11 12 13 14]\n",
      "(12,)\n",
      "[[ 3  4  5  6]\n",
      " [ 7  8  9 10]\n",
      " [11 12 13 14]]\n",
      "(3, 4)\n"
     ]
    }
   ],
   "source": [
    "b1 = np.array([3,4,5,6,7,8,9,10,11,12,13,14])\n",
    "print(b1)\n",
    "print(b1.shape)\n",
    "b2 = np.array([3,4,5,6,7,8,9,10,11,12,13,14]).reshape(3,4)\n",
    "print(b2)\n",
    "print(b2.shape)"
   ]
  },
  {
   "cell_type": "code",
   "execution_count": 62,
   "id": "198794fe",
   "metadata": {},
   "outputs": [
    {
     "name": "stdout",
     "output_type": "stream",
     "text": [
      "[[ 3  4  5  6  7  8]\n",
      " [ 9 10 11 12 13 14]]\n",
      "(2, 6)\n"
     ]
    }
   ],
   "source": [
    "b3 = b2.reshape(2,6)\n",
    "print(b3)\n",
    "print(b3.shape)"
   ]
  },
  {
   "cell_type": "code",
   "execution_count": 61,
   "id": "7361fd72",
   "metadata": {},
   "outputs": [
    {
     "name": "stdout",
     "output_type": "stream",
     "text": [
      "(3, 4)\n"
     ]
    }
   ],
   "source": [
    "print(b2.shape)"
   ]
  },
  {
   "cell_type": "code",
   "execution_count": 68,
   "id": "0a26d659",
   "metadata": {},
   "outputs": [
    {
     "name": "stdout",
     "output_type": "stream",
     "text": [
      "[[ 1  2  3]\n",
      " [ 4  5  6]\n",
      " [ 7  8  9]\n",
      " [10 11 12]\n",
      " [13 14 15]\n",
      " [16 17 18]]\n",
      "(6, 3)\n"
     ]
    }
   ],
   "source": [
    "b4 = np.arange(1,19).reshape(6,3)\n",
    "print(b4)\n",
    "print(b4.shape)"
   ]
  },
  {
   "cell_type": "code",
   "execution_count": 69,
   "id": "e1e733b2",
   "metadata": {},
   "outputs": [
    {
     "data": {
      "text/plain": [
       "array([[[ 1,  2,  3],\n",
       "        [ 4,  5,  6],\n",
       "        [ 7,  8,  9]],\n",
       "\n",
       "       [[10, 11, 12],\n",
       "        [13, 14, 15],\n",
       "        [16, 17, 18]]])"
      ]
     },
     "execution_count": 69,
     "metadata": {},
     "output_type": "execute_result"
    }
   ],
   "source": [
    "b4.reshape(2,3,3)"
   ]
  },
  {
   "cell_type": "code",
   "execution_count": 70,
   "id": "18ce4606",
   "metadata": {},
   "outputs": [
    {
     "name": "stdout",
     "output_type": "stream",
     "text": [
      "(6, 3)\n"
     ]
    }
   ],
   "source": [
    "print(b4.shape)"
   ]
  },
  {
   "cell_type": "code",
   "execution_count": 72,
   "id": "4ed834e7",
   "metadata": {},
   "outputs": [
    {
     "name": "stdout",
     "output_type": "stream",
     "text": [
      "[[[ 1  2  3]\n",
      "  [ 4  5  6]]\n",
      "\n",
      " [[ 7  8  9]\n",
      "  [10 11 12]]\n",
      "\n",
      " [[13 14 15]\n",
      "  [16 17 18]]]\n",
      "(3, 2, 3)\n"
     ]
    }
   ],
   "source": [
    "b4.shape = (3,2,3)\n",
    "print(b4)\n",
    "print(b4.shape)"
   ]
  },
  {
   "cell_type": "markdown",
   "id": "ee6df7b6",
   "metadata": {},
   "source": [
    "### Numpy random numbers"
   ]
  },
  {
   "cell_type": "markdown",
   "id": "adb6efea",
   "metadata": {},
   "source": [
    "#### 1) np.random.random()\n",
    "Return random floats in the half-open interval [0.0, 1.0)."
   ]
  },
  {
   "cell_type": "code",
   "execution_count": 83,
   "id": "097ecdf8",
   "metadata": {},
   "outputs": [
    {
     "name": "stdout",
     "output_type": "stream",
     "text": [
      "[0.24003303 0.25996895 0.13247389 0.6623688  0.6135923 ]\n",
      "[[0.59153978 0.50417739]\n",
      " [0.54670587 0.60547557]\n",
      " [0.30244471 0.93895771]]\n"
     ]
    }
   ],
   "source": [
    "a1 = np.random.random(5)\n",
    "print(a1)\n",
    "a2 = np.random.random((3,2))\n",
    "print(a2)"
   ]
  },
  {
   "cell_type": "markdown",
   "id": "18fe1759",
   "metadata": {},
   "source": [
    "#### 2) np.random.randint(low,high,size)\n",
    "Return random integers from `low` (inclusive) to `high` (exclusive)."
   ]
  },
  {
   "cell_type": "code",
   "execution_count": 85,
   "id": "1746dafb",
   "metadata": {},
   "outputs": [
    {
     "name": "stdout",
     "output_type": "stream",
     "text": [
      "[18  8 11  9 15 13  3]\n",
      "[86 85 56 88 81 57 56 98]\n"
     ]
    }
   ],
   "source": [
    "a3 = np.random.randint(3,20,7)\n",
    "print(a3)\n",
    "a4 = np.random.randint(50,100,8)\n",
    "print(a4)"
   ]
  },
  {
   "cell_type": "markdown",
   "id": "9b201c90",
   "metadata": {},
   "source": [
    "#### 3) np.random.rand()\n",
    "generates random values between [0, 1) in the given shape."
   ]
  },
  {
   "cell_type": "code",
   "execution_count": 87,
   "id": "778abd9a",
   "metadata": {},
   "outputs": [
    {
     "name": "stdout",
     "output_type": "stream",
     "text": [
      "[0.69883846 0.48965443 0.99961294 0.3683419  0.85760098]\n",
      "[[0.7918532  0.78781533]\n",
      " [0.27768179 0.23105112]\n",
      " [0.84470204 0.18873977]\n",
      " [0.48961043 0.49905359]]\n"
     ]
    }
   ],
   "source": [
    "w1 = np.random.rand(5)\n",
    "print(w1)\n",
    "w2 = np.random.rand(4,2)\n",
    "print(w2)"
   ]
  },
  {
   "cell_type": "markdown",
   "id": "7bb01d89",
   "metadata": {},
   "source": [
    "#### 4) np.random.random_sample()\n",
    "Returns random floats between [0,1)"
   ]
  },
  {
   "cell_type": "code",
   "execution_count": 89,
   "id": "5b221887",
   "metadata": {},
   "outputs": [
    {
     "name": "stdout",
     "output_type": "stream",
     "text": [
      "[0.29513393 0.11737928 0.21842797 0.16509819 0.5264627  0.45747108]\n",
      "[[0.94688127 0.89856131 0.06449863]\n",
      " [0.31699621 0.04239464 0.90952693]\n",
      " [0.09690178 0.300504   0.7288259 ]\n",
      " [0.51816836 0.315571   0.90547265]]\n"
     ]
    }
   ],
   "source": [
    "r1 = np.random.random_sample(6)\n",
    "print(r1)\n",
    "r2 = np.random.random_sample((4,3))\n",
    "print(r2)"
   ]
  },
  {
   "cell_type": "code",
   "execution_count": null,
   "id": "f1e42c14",
   "metadata": {},
   "outputs": [],
   "source": []
  }
 ],
 "metadata": {
  "kernelspec": {
   "display_name": "Python 3",
   "language": "python",
   "name": "python3"
  },
  "language_info": {
   "codemirror_mode": {
    "name": "ipython",
    "version": 3
   },
   "file_extension": ".py",
   "mimetype": "text/x-python",
   "name": "python",
   "nbconvert_exporter": "python",
   "pygments_lexer": "ipython3",
   "version": "3.8.8"
  }
 },
 "nbformat": 4,
 "nbformat_minor": 5
}
