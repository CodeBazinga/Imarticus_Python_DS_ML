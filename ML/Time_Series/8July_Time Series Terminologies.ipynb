{
 "cells": [
  {
   "cell_type": "code",
   "execution_count": null,
   "id": "e16ac42a",
   "metadata": {},
   "outputs": [],
   "source": []
  },
  {
   "cell_type": "code",
   "execution_count": null,
   "id": "abd57268",
   "metadata": {},
   "outputs": [],
   "source": [
    "# ML\n",
    "1) Python/R, Data Science, ML,DL, Pyspark,Apcahe Spark, Hive, PIG, Flask, Django  \n",
    "2) SQL\n",
    "3) MLOPS \n",
    "3) AWS, Azure, GCP\n",
    "4) Airflow, AWS, Kaffa,  MLFlow,\n",
    "5) GPT\n",
    "6) Transformers\n",
    "\n",
    "7) Excel\n",
    "8) Tableau, Power BI, SAAS"
   ]
  },
  {
   "cell_type": "code",
   "execution_count": 1,
   "id": "638d5495",
   "metadata": {},
   "outputs": [
    {
     "ename": "SyntaxError",
     "evalue": "unmatched ')' (<ipython-input-1-e6290f2f941b>, line 2)",
     "output_type": "error",
     "traceback": [
      "\u001b[1;36m  File \u001b[1;32m\"<ipython-input-1-e6290f2f941b>\"\u001b[1;36m, line \u001b[1;32m2\u001b[0m\n\u001b[1;33m    1) create,insert,upate,delete,alter,select\u001b[0m\n\u001b[1;37m     ^\u001b[0m\n\u001b[1;31mSyntaxError\u001b[0m\u001b[1;31m:\u001b[0m unmatched ')'\n"
     ]
    }
   ],
   "source": [
    "#### SQL\n",
    "# 1) create,insert,upate,delete,alter,select\n",
    "# 2) filter, alias\n",
    "# 3) join\n",
    "# 4) subquery\n",
    "# 5) index and views\n",
    "# 6) Functions\n",
    "# 7) Stored Procedures\n",
    "# 8) CTE\n",
    "# 9) Triggers"
   ]
  },
  {
   "cell_type": "code",
   "execution_count": null,
   "id": "2165a76b",
   "metadata": {},
   "outputs": [],
   "source": []
  },
  {
   "cell_type": "markdown",
   "id": "2b0e45b8",
   "metadata": {},
   "source": [
    "#### Time Series\n",
    "A time series is simply a series of data points ordered in time. In a time series, time is often the independent variable and the goal is usually to make a forecast for the future.\n",
    "\n",
    "<b>Time series data: </b> A set of observations on the values that a variable takes at different times.\n",
    "\n",
    "#### Time Series Forecasting \n",
    "Predicting a continuous value over a period of time. Independent feature is time<br>\n",
    "Businesses utilize forecasting to determine how to allocate their budgets or plan for anticipated expenses for an upcoming period of time"
   ]
  },
  {
   "cell_type": "markdown",
   "id": "eeaa6dad",
   "metadata": {},
   "source": [
    "#### Examples of Time Series\n",
    "\n",
    "1) Stock Market<br>\n",
    "2) Weather Forecasting<br>\n",
    "3) GDP<br>\n",
    "4) Zomato,Swiggy pricing<br>\n",
    "5) Ola, Uber pricing<br>\n",
    "6) Movies show time<br>\n",
    "7) Flight Pricing<br>\n",
    "8) Water Park<br>\n",
    "9) Ocean Tides<br>\n",
    "10) Energy/power consumption<br>\n",
    "11) Pricing of Mobile phones<br>\n",
    "12) Car pricing<br>\n",
    "13) Cryptocurrency<br>\n",
    "14) Accessories Cost over time<br>"
   ]
  },
  {
   "cell_type": "markdown",
   "id": "279c91a2",
   "metadata": {},
   "source": [
    "### Components of Time Series\n",
    "1) Trend<br>\n",
    "2) Seasonality<br>\n",
    "3) Residuals or Irregularity<br>"
   ]
  },
  {
   "cell_type": "markdown",
   "id": "6d72e7c6",
   "metadata": {},
   "source": [
    "### Trend\n",
    "1) It is a movement of data values that decrease or increase with time. There can be an upward trend and downward trend of any data series.<br>\n",
    "2) The upward trends are those that increase with time. The downward trends are those that decrease with time.\n",
    "<img src=\"trend.png\">"
   ]
  },
  {
   "cell_type": "markdown",
   "id": "5e9be5ec",
   "metadata": {},
   "source": [
    "### Seasonality\n",
    "1) Seasonality is a repeated behavior of data that occurs on the regular interval of time. It means that there are patterns that repeat themselves after some interval of the period then we call it seasonality.<br>\n",
    "2) Seasonality refers to periodic fluctuations.<br>\n",
    "3) The target variable can have yearly, bi-yearly,quarterly, monthly, weekly,daily,hourly etc seasonality<br>\n",
    "<img src=\"seasonality1.png\" align=\"left\">"
   ]
  },
  {
   "cell_type": "markdown",
   "id": "751f7b5d",
   "metadata": {},
   "source": [
    "#### Noise or Residual or Irregularity\n",
    "1) The variation and irregular patterns are not fixed frequency patterns and they are or short duration and non-repeating.\n",
    "\n",
    "<img src=\"residuals1.png\" align=\"left\">"
   ]
  },
  {
   "cell_type": "markdown",
   "id": "ed65f945",
   "metadata": {},
   "source": [
    "#### Cyclicity(Cyclic Patterns) :\n",
    "It refers to repeating up and down movements. It usually go over more than a year of time.It is much harder to predict."
   ]
  },
  {
   "cell_type": "markdown",
   "id": "3fe2c0bf",
   "metadata": {},
   "source": [
    "### Features of Time Series\n",
    "1) Series must be sequentially indexed with time.<br>\n",
    "2) No missing values<br>\n",
    "3) There must be autocorrelation(next value must be dependent on previous value)<br>\n",
    "$ {Y}_t  = F({Y}_{t-1} + {Y}_{t-2} + {Y}_{t-3} +.... + {Y}_{t-n})  $"
   ]
  },
  {
   "cell_type": "markdown",
   "id": "cbe3de0e",
   "metadata": {},
   "source": [
    "#### Sequentilally Indexed with Time"
   ]
  },
  {
   "cell_type": "code",
   "execution_count": null,
   "id": "0f0a70cf",
   "metadata": {},
   "outputs": [],
   "source": [
    "#  Time         Sales\n",
    "# 2019-01-01    344\n",
    "# 2019-02-01    387\n",
    "# 2019-03-01    415\n",
    "# 2019-04-01    450\n",
    "# 2019-05-01    435\n",
    "# 2019-06-01    424"
   ]
  },
  {
   "cell_type": "markdown",
   "id": "e99cb470",
   "metadata": {},
   "source": [
    "#### Not Sequentially indexed with Time"
   ]
  },
  {
   "cell_type": "code",
   "execution_count": null,
   "id": "371ddf61",
   "metadata": {},
   "outputs": [],
   "source": [
    "#  Time         Sales\n",
    "# 2019-01-01    344\n",
    "# 2019-01-03    387\n",
    "# 2019-01-07    415\n",
    "# 2019-01-08    450\n",
    "# 2019-01-10    435\n",
    "# 2019-01-15    424\n",
    "# 2019-01-18    434\n",
    "# 2019-01-19    439\n",
    "# 2019-01-28    441"
   ]
  },
  {
   "cell_type": "markdown",
   "id": "067fb69a",
   "metadata": {},
   "source": [
    "#### Not Sequentially indexed with Time"
   ]
  },
  {
   "cell_type": "code",
   "execution_count": null,
   "id": "fc5bb63f",
   "metadata": {},
   "outputs": [],
   "source": [
    "#  Time         Sales\n",
    "# 2019-01-01    344\n",
    "# 2019-01-02    387\n",
    "# 2019-01-03    415\n",
    "# 2019-01-03    450\n",
    "# 2019-01-03    435\n",
    "# 2019-01-04    429\n",
    "# 2019-01-05    431\n",
    "# 2019-01-06    442\n",
    "# 2019-01-06    449"
   ]
  },
  {
   "cell_type": "markdown",
   "id": "714a8256",
   "metadata": {},
   "source": [
    "### Stationary Time Series\n",
    "1) A Stationary series is one whose statistical properties like mean, variance, covariance do not vary with time or these stats properties are not the function of time.<br>\n",
    "2) Time series are stationary if they do not have trend or seasonal effects(not strictly followed)<br>\n",
    "3) We should have a stationary time series otherwise some Time Series models cant be applied.\n",
    "<img src = \"stationary1.png\">"
   ]
  },
  {
   "cell_type": "markdown",
   "id": "b23958a9",
   "metadata": {},
   "source": [
    "#### Methods to Check Stationarity\n",
    "There are many methods to check whether a time series (direct observations, residuals, otherwise) is stationary or non-stationary.\n",
    "\n",
    "1) <b>Look at Plots:</b> You can review a time series plot of your data and visually check if there are any obvious trends or seasonality.<br>\n",
    "2) <b>Summary Statistics:</b> You can review the summary statistics for your data for seasons or random partitions and check for obvious or significant differences.<br>\n",
    "3) <b>Statistical Tests: </b>You can use statistical tests to check if the expectations of stationarity are met or have been violated.\n"
   ]
  },
  {
   "cell_type": "markdown",
   "id": "18299187",
   "metadata": {},
   "source": [
    "### How to test if Time Series is Stationary - Statistical methods\n",
    "\n",
    "1) <b>ADF Test (Augmnented Dickey Fuller Test)</b>\n",
    "The intuition behind a unit root test is that it determines how strongly a time series is defined by a trend.<br>\n",
    "Ho : Data is non-stationary<br>\n",
    "H1 : Data is stationary<br>    \n",
    "\n",
    "p-value > 0.05: Ho accepted => Data is non-stationary<br>\n",
    "p-value <= 0.05: H1 accepted => Data is stationary<br>\n",
    "\n",
    "\n",
    "2)<b> KPSS Test (Kwiatkowski-Phillips-Schmidt-Shin Test)</b><br>\n",
    "KPSS test tests for stationarity of the series around a deterministic trend. \n",
    "The word deterministic implies the slope of the trend in the series does not change permanently.<br>\n",
    "Ho : Data is stationary<br>\n",
    "H1 : Data is not stationary<br>  \n",
    "\n",
    "p-value > 0.05: Ho accepted => Data  is stationary<br>\n",
    "p-value <= 0.05: H1 accepted => Data is non-stationary<br>\n",
    "\n",
    "#### Note\n",
    "KPSS cant be interchangibly used with ADF test"
   ]
  },
  {
   "cell_type": "markdown",
   "id": "5194945a",
   "metadata": {},
   "source": [
    "#### When to use ADF and KPSS?\n",
    "Apply both the tests and makes sure that the series is truly stationary.\n",
    "\n",
    "<b>Case 1:</b>  Both tests conclude that the given series is stationary – The series is stationary\n",
    "\n",
    "<b>Case 2:</b>  Both tests conclude that the given series is non-stationary – The series is non-stationary\n",
    "    \n",
    "<b>Case 3:</b>  ADF concludes non-stationary and KPSS concludes stationary – The series is trend stationary. To make the series strictly stationary, the trend needs to be removed in this case. Then the detrended series is checked for stationarity.\n",
    "    \n",
    "<b>Case 4:</b> ADF concludes stationary and KPSS concludes non-stationary – The series is difference stationary. Differencing is to be used to make series stationary. Then the differenced series is checked for stationarity.    "
   ]
  },
  {
   "cell_type": "markdown",
   "id": "ff355aba",
   "metadata": {},
   "source": [
    "#### What if Series is not-Sationary\n",
    "Then we make the series Stationary.\n",
    "\n",
    "#### Methods to make a Stationary Time Series\n",
    "1) Detrending<br>\n",
    "2) Transformation Methods<br>\n",
    "\n",
    "       a) Lag Difference\n",
    "       b) Log \n",
    "       c) Log Difference"
   ]
  },
  {
   "cell_type": "markdown",
   "id": "cec38ef3",
   "metadata": {},
   "source": [
    "### Series Decompostion\n",
    "\n",
    "#### 1) Additive Decomposition \n",
    "$ {Y}_t  = Original + Trend + Seasoanlity + Irregular  $\n",
    "\n",
    "#### 2) Multiplicateive Decompsition\n",
    "$ {Y}_t  = Original * Trend * Seasoanlity * Irregular  $"
   ]
  },
  {
   "cell_type": "markdown",
   "id": "830bb737",
   "metadata": {},
   "source": [
    "### Time Series Forecasting methods\n",
    "#### a) Basic Methods<br>\n",
    "1) SMA<br>\n",
    "2) WMA<br>\n",
    "3) CMA<br>\n",
    "\n",
    "### b) Smoothing\n",
    "1) Single Exponential Smoothing<br>\n",
    "2) Double exponential Smoothing<br>\n",
    "3) Triple exponential Smoothing (Holt Winter Method)<br>\n",
    "\n",
    "#### Statsmodels TS Forecasting\n",
    "1) AR<br>\n",
    "2) MA<br>\n",
    "3) ARMA<br>\n",
    "4) ARIMA<br>\n",
    "5) ARIMAX<br>\n",
    "6) SARIMA<br>\n",
    "7) SARIMAX<br>\n",
    "\n",
    "### Other Options\n",
    "1) XGBoost<br>\n",
    "2) FB Prophet<br>\n",
    "3) Greykite<br>\n",
    "\n",
    "### Super Advanced Methods\n",
    "1) ARCH<br>\n",
    "2) GARCH<br>\n",
    "\n",
    "#### Deep learning Method\n",
    "1) RNN<br>\n",
    "2) LSTM<br>\n",
    "3) GRU<br>\n",
    "4) Transformers<br>"
   ]
  },
  {
   "cell_type": "markdown",
   "id": "ea392911",
   "metadata": {},
   "source": [
    "## ARIMA (Auto Regrssive Integrated Moving Average)\n",
    "\n",
    "1) It belongs to a class of models that explains a given time series based on its own past values -i.e- its own lags and the lagged forecast errors. The equation can be used to forecast future values. <br>\n",
    "2) So, ARIMA is a forecasting algorithm based on the idea that the information in the past values of the time series can alone be used to predict the future values.\n",
    "\n",
    "3) ARIMA Models are specified by three order parameters: (p, d, q),\n",
    "where,<br>\n",
    "a) p is the order of the AR term<br>\n",
    "b) q is the order of the MA term<br>\n",
    "c) d is the number of differencing required to make the time series stationary<br>\n",
    "\n",
    "4) p is the order of the Auto Regressive (AR) term. It refers to the number of lags of Y to be used as predictors. And q is the order of the Moving Average (MA) term. It refers to the number of lagged forecast errors that should go into the ARIMA Model.\n",
    "\n",
    "5) I(d) Integration – It uses differencing of observations (subtracting an observation from observation at the previous time step) in order to make the time series stationary. Differencing involves the subtraction of the current values of a series with its previous values d number of times.\n",
    "\n",
    "6) A pure Auto Regressive (AR only) model is one where Yt depends only on its own lags. That is, Yt is a function of the ‘lags of Yt’. \n",
    "A pure Moving Average (MA only) model is one where Yt depends only on the lagged forecast errors.\n",
    "\n",
    "<b>ARIMA model can be summarised as :</b><br>\n",
    "Predicted Yt = Constant + Linear combination Lags of Y (upto p lags) + Linear Combination of Lagged forecast errors (upto q lags)\n",
    "\n",
    "\n",
    "\n",
    "\n"
   ]
  },
  {
   "cell_type": "markdown",
   "id": "bd6ecd26",
   "metadata": {},
   "source": [
    "#### AR - Auto Regressive - p - determined using PACF plot<br>\n",
    "$ {Y}_{t}  = {Y}_t  = F({Y}_{t-1} + {Y}_{t-2} + {Y}_{t-3} +.... + {Y}_{t-p})  $\n",
    "<br>OR<br>\n",
    " yt = m1x1 + m2x2 + m3x3 +... mpxp + c\n",
    "\n",
    "#### I - Integerated - d - Differencing<br>\n",
    "\n",
    "#### MA - Moving Average - q -  determined using ACF plot<br>\n",
    "$ {Y}_{t}  = {Y}_t  = F({Y}_{t-1} + {Y}_{t-2} + {Y}_{t-3} +.... + {Y}_{t-q})  $\n",
    "<br>OR<br>\n",
    "yt = m1x1 + m2x2 + m3x3 +... mqxq + c"
   ]
  },
  {
   "cell_type": "markdown",
   "id": "543132e8",
   "metadata": {},
   "source": [
    "### Autocorrelation (gives q) - represented by ACF plot\n",
    "1) The autocorrelation for an observation and an observation at a prior time step is comprised of both the direct correlation and indirect correlations. These indirect correlations are a linear function of the correlation of the observation, with observations at intervening time steps.<br>\n",
    "2) We plot ACF plot to determine the value of q.<br>\n",
    "3) q implies that current value time dependent data is dependent on q past(year,month,week,day,hour) values.<br>\n",
    "\n",
    "### Partial Autocorrelation (gives p) - represented by PACF Plot\n",
    "1) A partial autocorrelation is a summary of the relationship between an observation in a time series with observations at prior time steps with the relationships of intervening observations removed.<br>\n",
    "2) We can plot PACF (Partial Autocorrelation Plot Function) to determine the value of p<br>\n",
    "3) p implies that current value time dependent data is dependent on p past(year,month,week,day,hour) values provided the previous(year,month,week,day,hour) effect is excluded.<br>\n"
   ]
  },
  {
   "cell_type": "code",
   "execution_count": 3,
   "id": "b4dcfd7e",
   "metadata": {},
   "outputs": [],
   "source": [
    "import pandas as pd\n",
    "import numpy as np\n",
    "import matplotlib.pyplot as plt\n",
    "import seaborn as sns\n",
    "import warnings\n",
    "warnings.filterwarnings(\"ignore\")"
   ]
  },
  {
   "cell_type": "code",
   "execution_count": 4,
   "id": "35e75184",
   "metadata": {},
   "outputs": [],
   "source": [
    "from sklearn.metrics import mean_squared_error\n",
    "\n",
    "from statsmodels.tsa.seasonal import seasonal_decompose\n",
    "from statsmodels.tsa.stattools import adfuller,kpss\n",
    "\n",
    "from statsmodels.graphics.tsaplots import plot_acf,plot_pacf\n",
    "from statsmodels.tsa.arima.model import ARIMA"
   ]
  },
  {
   "cell_type": "code",
   "execution_count": 6,
   "id": "67b8a339",
   "metadata": {},
   "outputs": [
    {
     "data": {
      "text/html": [
       "<div>\n",
       "<style scoped>\n",
       "    .dataframe tbody tr th:only-of-type {\n",
       "        vertical-align: middle;\n",
       "    }\n",
       "\n",
       "    .dataframe tbody tr th {\n",
       "        vertical-align: top;\n",
       "    }\n",
       "\n",
       "    .dataframe thead th {\n",
       "        text-align: right;\n",
       "    }\n",
       "</style>\n",
       "<table border=\"1\" class=\"dataframe\">\n",
       "  <thead>\n",
       "    <tr style=\"text-align: right;\">\n",
       "      <th></th>\n",
       "      <th>value</th>\n",
       "    </tr>\n",
       "    <tr>\n",
       "      <th>date</th>\n",
       "      <th></th>\n",
       "    </tr>\n",
       "  </thead>\n",
       "  <tbody>\n",
       "    <tr>\n",
       "      <th>1991-07-01</th>\n",
       "      <td>3.526591</td>\n",
       "    </tr>\n",
       "    <tr>\n",
       "      <th>1991-08-01</th>\n",
       "      <td>3.180891</td>\n",
       "    </tr>\n",
       "    <tr>\n",
       "      <th>1991-09-01</th>\n",
       "      <td>3.252221</td>\n",
       "    </tr>\n",
       "    <tr>\n",
       "      <th>1991-10-01</th>\n",
       "      <td>3.611003</td>\n",
       "    </tr>\n",
       "    <tr>\n",
       "      <th>1991-11-01</th>\n",
       "      <td>3.565869</td>\n",
       "    </tr>\n",
       "  </tbody>\n",
       "</table>\n",
       "</div>"
      ],
      "text/plain": [
       "               value\n",
       "date                \n",
       "1991-07-01  3.526591\n",
       "1991-08-01  3.180891\n",
       "1991-09-01  3.252221\n",
       "1991-10-01  3.611003\n",
       "1991-11-01  3.565869"
      ]
     },
     "execution_count": 6,
     "metadata": {},
     "output_type": "execute_result"
    }
   ],
   "source": [
    "df = pd.read_csv('ts_data.txt',index_col=0,parse_dates=True)\n",
    "df.head()"
   ]
  },
  {
   "cell_type": "code",
   "execution_count": 9,
   "id": "33c6f5db",
   "metadata": {},
   "outputs": [
    {
     "data": {
      "image/png": "[encoded data removed]",
      "text/plain": [
       "<Figure size 432x288 with 1 Axes>"
      ]
     },
     "metadata": {
      "needs_background": "light"
     },
     "output_type": "display_data"
    }
   ],
   "source": [
    "from statsmodels.graphics.tsaplots import plot_acf,plot_pacf\n",
    "plot_acf(df,lags=100)\n",
    "plt.show()\n",
    "# q = 60-70"
   ]
  },
  {
   "cell_type": "code",
   "execution_count": 11,
   "id": "c8298f41",
   "metadata": {},
   "outputs": [
    {
     "data": {
      "image/png": "[encoded data removed]",
      "text/plain": [
       "<Figure size 432x288 with 1 Axes>"
      ]
     },
     "metadata": {
      "needs_background": "light"
     },
     "output_type": "display_data"
    }
   ],
   "source": [
    "plot_pacf(df,lags=20)\n",
    "plt.show()"
   ]
  },
  {
   "cell_type": "code",
   "execution_count": 12,
   "id": "3c3ad20f",
   "metadata": {},
   "outputs": [
    {
     "data": {
      "text/html": [
       "<div>\n",
       "<style scoped>\n",
       "    .dataframe tbody tr th:only-of-type {\n",
       "        vertical-align: middle;\n",
       "    }\n",
       "\n",
       "    .dataframe tbody tr th {\n",
       "        vertical-align: top;\n",
       "    }\n",
       "\n",
       "    .dataframe thead th {\n",
       "        text-align: right;\n",
       "    }\n",
       "</style>\n",
       "<table border=\"1\" class=\"dataframe\">\n",
       "  <thead>\n",
       "    <tr style=\"text-align: right;\">\n",
       "      <th></th>\n",
       "      <th>date</th>\n",
       "      <th>value</th>\n",
       "    </tr>\n",
       "  </thead>\n",
       "  <tbody>\n",
       "    <tr>\n",
       "      <th>0</th>\n",
       "      <td>1991-07-01</td>\n",
       "      <td>3.526591</td>\n",
       "    </tr>\n",
       "    <tr>\n",
       "      <th>1</th>\n",
       "      <td>1991-08-01</td>\n",
       "      <td>3.180891</td>\n",
       "    </tr>\n",
       "    <tr>\n",
       "      <th>2</th>\n",
       "      <td>1991-09-01</td>\n",
       "      <td>3.252221</td>\n",
       "    </tr>\n",
       "    <tr>\n",
       "      <th>3</th>\n",
       "      <td>1991-10-01</td>\n",
       "      <td>3.611003</td>\n",
       "    </tr>\n",
       "    <tr>\n",
       "      <th>4</th>\n",
       "      <td>1991-11-01</td>\n",
       "      <td>3.565869</td>\n",
       "    </tr>\n",
       "  </tbody>\n",
       "</table>\n",
       "</div>"
      ],
      "text/plain": [
       "         date     value\n",
       "0  1991-07-01  3.526591\n",
       "1  1991-08-01  3.180891\n",
       "2  1991-09-01  3.252221\n",
       "3  1991-10-01  3.611003\n",
       "4  1991-11-01  3.565869"
      ]
     },
     "execution_count": 12,
     "metadata": {},
     "output_type": "execute_result"
    }
   ],
   "source": [
    "df1 = pd.read_csv('ts_data.txt')\n",
    "df1.head()"
   ]
  },
  {
   "cell_type": "code",
   "execution_count": 13,
   "id": "5d49f090",
   "metadata": {},
   "outputs": [
    {
     "data": {
      "text/html": [
       "<div>\n",
       "<style scoped>\n",
       "    .dataframe tbody tr th:only-of-type {\n",
       "        vertical-align: middle;\n",
       "    }\n",
       "\n",
       "    .dataframe tbody tr th {\n",
       "        vertical-align: top;\n",
       "    }\n",
       "\n",
       "    .dataframe thead th {\n",
       "        text-align: right;\n",
       "    }\n",
       "</style>\n",
       "<table border=\"1\" class=\"dataframe\">\n",
       "  <thead>\n",
       "    <tr style=\"text-align: right;\">\n",
       "      <th></th>\n",
       "      <th>date</th>\n",
       "      <th>value</th>\n",
       "      <th>Lag1</th>\n",
       "      <th>Lag2</th>\n",
       "      <th>Lag3</th>\n",
       "      <th>Lag4</th>\n",
       "      <th>Lag5</th>\n",
       "    </tr>\n",
       "  </thead>\n",
       "  <tbody>\n",
       "    <tr>\n",
       "      <th>0</th>\n",
       "      <td>1991-07-01</td>\n",
       "      <td>3.526591</td>\n",
       "      <td>NaN</td>\n",
       "      <td>NaN</td>\n",
       "      <td>NaN</td>\n",
       "      <td>NaN</td>\n",
       "      <td>NaN</td>\n",
       "    </tr>\n",
       "    <tr>\n",
       "      <th>1</th>\n",
       "      <td>1991-08-01</td>\n",
       "      <td>3.180891</td>\n",
       "      <td>3.526591</td>\n",
       "      <td>NaN</td>\n",
       "      <td>NaN</td>\n",
       "      <td>NaN</td>\n",
       "      <td>NaN</td>\n",
       "    </tr>\n",
       "    <tr>\n",
       "      <th>2</th>\n",
       "      <td>1991-09-01</td>\n",
       "      <td>3.252221</td>\n",
       "      <td>3.180891</td>\n",
       "      <td>3.526591</td>\n",
       "      <td>NaN</td>\n",
       "      <td>NaN</td>\n",
       "      <td>NaN</td>\n",
       "    </tr>\n",
       "    <tr>\n",
       "      <th>3</th>\n",
       "      <td>1991-10-01</td>\n",
       "      <td>3.611003</td>\n",
       "      <td>3.252221</td>\n",
       "      <td>3.180891</td>\n",
       "      <td>3.526591</td>\n",
       "      <td>NaN</td>\n",
       "      <td>NaN</td>\n",
       "    </tr>\n",
       "    <tr>\n",
       "      <th>4</th>\n",
       "      <td>1991-11-01</td>\n",
       "      <td>3.565869</td>\n",
       "      <td>3.611003</td>\n",
       "      <td>3.252221</td>\n",
       "      <td>3.180891</td>\n",
       "      <td>3.526591</td>\n",
       "      <td>NaN</td>\n",
       "    </tr>\n",
       "  </tbody>\n",
       "</table>\n",
       "</div>"
      ],
      "text/plain": [
       "         date     value      Lag1      Lag2      Lag3      Lag4  Lag5\n",
       "0  1991-07-01  3.526591       NaN       NaN       NaN       NaN   NaN\n",
       "1  1991-08-01  3.180891  3.526591       NaN       NaN       NaN   NaN\n",
       "2  1991-09-01  3.252221  3.180891  3.526591       NaN       NaN   NaN\n",
       "3  1991-10-01  3.611003  3.252221  3.180891  3.526591       NaN   NaN\n",
       "4  1991-11-01  3.565869  3.611003  3.252221  3.180891  3.526591   NaN"
      ]
     },
     "execution_count": 13,
     "metadata": {},
     "output_type": "execute_result"
    }
   ],
   "source": [
    "df1['Lag1'] = df1['value'].shift(1)\n",
    "df1['Lag2'] = df1['value'].shift(2)\n",
    "df1['Lag3'] = df1['value'].shift(3)\n",
    "df1['Lag4'] = df1['value'].shift(4)\n",
    "df1['Lag5'] = df1['value'].shift(5)\n",
    "df1.head()"
   ]
  },
  {
   "cell_type": "code",
   "execution_count": 15,
   "id": "144c7fde",
   "metadata": {},
   "outputs": [
    {
     "data": {
      "text/html": [
       "<div>\n",
       "<style scoped>\n",
       "    .dataframe tbody tr th:only-of-type {\n",
       "        vertical-align: middle;\n",
       "    }\n",
       "\n",
       "    .dataframe tbody tr th {\n",
       "        vertical-align: top;\n",
       "    }\n",
       "\n",
       "    .dataframe thead th {\n",
       "        text-align: right;\n",
       "    }\n",
       "</style>\n",
       "<table border=\"1\" class=\"dataframe\">\n",
       "  <thead>\n",
       "    <tr style=\"text-align: right;\">\n",
       "      <th></th>\n",
       "      <th>date</th>\n",
       "      <th>value</th>\n",
       "      <th>Lag1</th>\n",
       "      <th>Lag2</th>\n",
       "      <th>Lag3</th>\n",
       "      <th>Lag4</th>\n",
       "      <th>Lag5</th>\n",
       "    </tr>\n",
       "  </thead>\n",
       "  <tbody>\n",
       "    <tr>\n",
       "      <th>5</th>\n",
       "      <td>1991-12-01</td>\n",
       "      <td>4.306371</td>\n",
       "      <td>3.565869</td>\n",
       "      <td>3.611003</td>\n",
       "      <td>3.252221</td>\n",
       "      <td>3.180891</td>\n",
       "      <td>3.526591</td>\n",
       "    </tr>\n",
       "    <tr>\n",
       "      <th>6</th>\n",
       "      <td>1992-01-01</td>\n",
       "      <td>5.088335</td>\n",
       "      <td>4.306371</td>\n",
       "      <td>3.565869</td>\n",
       "      <td>3.611003</td>\n",
       "      <td>3.252221</td>\n",
       "      <td>3.180891</td>\n",
       "    </tr>\n",
       "    <tr>\n",
       "      <th>7</th>\n",
       "      <td>1992-02-01</td>\n",
       "      <td>2.814520</td>\n",
       "      <td>5.088335</td>\n",
       "      <td>4.306371</td>\n",
       "      <td>3.565869</td>\n",
       "      <td>3.611003</td>\n",
       "      <td>3.252221</td>\n",
       "    </tr>\n",
       "    <tr>\n",
       "      <th>8</th>\n",
       "      <td>1992-03-01</td>\n",
       "      <td>2.985811</td>\n",
       "      <td>2.814520</td>\n",
       "      <td>5.088335</td>\n",
       "      <td>4.306371</td>\n",
       "      <td>3.565869</td>\n",
       "      <td>3.611003</td>\n",
       "    </tr>\n",
       "    <tr>\n",
       "      <th>9</th>\n",
       "      <td>1992-04-01</td>\n",
       "      <td>3.204780</td>\n",
       "      <td>2.985811</td>\n",
       "      <td>2.814520</td>\n",
       "      <td>5.088335</td>\n",
       "      <td>4.306371</td>\n",
       "      <td>3.565869</td>\n",
       "    </tr>\n",
       "  </tbody>\n",
       "</table>\n",
       "</div>"
      ],
      "text/plain": [
       "         date     value      Lag1      Lag2      Lag3      Lag4      Lag5\n",
       "5  1991-12-01  4.306371  3.565869  3.611003  3.252221  3.180891  3.526591\n",
       "6  1992-01-01  5.088335  4.306371  3.565869  3.611003  3.252221  3.180891\n",
       "7  1992-02-01  2.814520  5.088335  4.306371  3.565869  3.611003  3.252221\n",
       "8  1992-03-01  2.985811  2.814520  5.088335  4.306371  3.565869  3.611003\n",
       "9  1992-04-01  3.204780  2.985811  2.814520  5.088335  4.306371  3.565869"
      ]
     },
     "execution_count": 15,
     "metadata": {},
     "output_type": "execute_result"
    }
   ],
   "source": [
    "df1.dropna(inplace=True)\n",
    "df1.head()"
   ]
  },
  {
   "cell_type": "code",
   "execution_count": null,
   "id": "c1387910",
   "metadata": {},
   "outputs": [],
   "source": [
    "# q  = 3"
   ]
  },
  {
   "cell_type": "code",
   "execution_count": null,
   "id": "2302f7d6",
   "metadata": {},
   "outputs": [],
   "source": [
    "# CI\n",
    "# A = P(1+ R/n)^nt\n",
    "\n",
    "\n",
    "# Jan - 1000\n",
    "# Feb - 1100  1000  100\n",
    "# Mar - "
   ]
  },
  {
   "cell_type": "code",
   "execution_count": null,
   "id": "5acb99f0",
   "metadata": {},
   "outputs": [],
   "source": [
    "# Actual\n",
    "# July -  345\n",
    "# Aug -   370\n",
    "# Sept -  395"
   ]
  },
  {
   "cell_type": "code",
   "execution_count": null,
   "id": "262d3420",
   "metadata": {},
   "outputs": [],
   "source": [
    "#              influ_july\n",
    "# July -  345\n",
    "# Aug -   350  20  \n",
    "# Sept -  360  25  3   7    \n"
   ]
  }
 ],
 "metadata": {
  "kernelspec": {
   "display_name": "Python 3",
   "language": "python",
   "name": "python3"
  },
  "language_info": {
   "codemirror_mode": {
    "name": "ipython",
    "version": 3
   },
   "file_extension": ".py",
   "mimetype": "text/x-python",
   "name": "python",
   "nbconvert_exporter": "python",
   "pygments_lexer": "ipython3",
   "version": "3.8.8"
  }
 },
 "nbformat": 4,
 "nbformat_minor": 5
}
