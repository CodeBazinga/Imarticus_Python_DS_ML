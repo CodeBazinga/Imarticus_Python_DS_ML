{
 "cells": [
  {
   "cell_type": "markdown",
   "id": "1d48484f",
   "metadata": {},
   "source": [
    "### Test of Normality\n",
    "\n",
    "#### Statistical Methods\n",
    "\n",
    "1) Shapiro Wilk Test<br>\n",
    "2) Jarquee bera Test<br>"
   ]
  },
  {
   "cell_type": "code",
   "execution_count": 4,
   "id": "45aaee97",
   "metadata": {},
   "outputs": [],
   "source": [
    "import pandas as pd\n",
    "import numpy as np"
   ]
  },
  {
   "cell_type": "markdown",
   "id": "8fbc41b2",
   "metadata": {},
   "source": [
    "### Shapiro Wilk Test - Test of Normality\n",
    "\n",
    "1) It is used to test normality when number of observations is <5000\n",
    "\n",
    "Working of Shapiro Test\n",
    "\n",
    "1) Arrange the data in Ascending Order<br>\n",
    "2) Calculate SS<br>\n",
    "   SS = sum(xi -x_mean) ** 2 for i=1 to n\n",
    "   \n",
    "3) If n is even, m=n/2, is m is odd, m=(n-1)/2<br>\n",
    "4) Compute b as follows:<br>\n",
    "    b = sum(ai*(xn+1-i-xi))    for i=1 to m\n",
    "    \n",
    "Note - a values can be seen from the table\n",
    "\n",
    "5) Calculate test-statistic W = (b ** 2)/SS<br>\n",
    "6) For the given value of W, look out for the Shapiro table for the closest value of W.\n",
    "This is the p-value for the given table<br>\n",
    "\n",
    "Shapiro Wilk Table -> https://www.real-statistics.com/statistics-tables/shapiro-wilk-table/\n",
    "\n",
    "<img src=\"shapiro_test_formula.png\" width=\"600\">"
   ]
  },
  {
   "cell_type": "markdown",
   "id": "2502eed5",
   "metadata": {},
   "source": [
    "#### Q1) Test if the following ages is normally distributed\n",
    "\n",
    "[65,61,63,86,70,55,74,35,72,68,45,58]\n",
    "\n",
    "Fetch the n-values from the Shapiro Wilk Tables\n",
    "\n",
    "Solution\n",
    "<img src=\"shapiro-wilk_Ex1_solution.jpg\">"
   ]
  },
  {
   "cell_type": "code",
   "execution_count": 7,
   "id": "9d713196",
   "metadata": {},
   "outputs": [
    {
     "name": "stdout",
     "output_type": "stream",
     "text": [
      "[65, 61, 63, 86, 70, 55, 74, 35, 72, 68, 45, 58]\n",
      "[35, 45, 55, 58, 61, 63, 65, 68, 70, 72, 74, 86]\n",
      "b1 [51, 29, 17, 12, 7, 2]\n",
      "b2 [27.9225, 9.6425, 3.9899, 1.9032, 0.6454, 0.0606]\n",
      "b = 44.1641\n",
      "Age Mean = 62.666666666666664\n",
      "SS = 2008.666666666667\n",
      "W = 0.971026084704613\n"
     ]
    }
   ],
   "source": [
    "age = [65,61,63,86,70,55,74,35,72,68,45,58]\n",
    "print(age)\n",
    "age.sort()\n",
    "print(age)\n",
    "\n",
    "a_val = [0.5475,0.3325,0.2347,0.1586,0.0922,0.0303]\n",
    "\n",
    "b1 = [age[-i-1] - age[i] for i in range(len(age))][:6]\n",
    "print('b1',b1)\n",
    "b2 = [a_val[i]*b1[j] for i in range(len(a_val)) for j in range(len(b1)) if i==j]\n",
    "print('b2',b2)\n",
    "b = sum(b2)\n",
    "print('b =',b)\n",
    "age_m = np.array(age).mean()\n",
    "print('Age Mean =',age_m)\n",
    "ss = sum([(i-age_m)**2 for i in age])\n",
    "print('SS =',ss)\n",
    "w = b**2/(ss)\n",
    "print('W =',w)\n",
    "# From the table, we can confirm that \n",
    "# p_at_0.5 = 0.943\n",
    "# p_at_0.9 = 0.973\n",
    "# linear interploation => y = y1 + (x-x1)*(y2-y1)/(x2-x1)\n",
    "# w_at_0.9971 = "
   ]
  },
  {
   "cell_type": "code",
   "execution_count": 8,
   "id": "4695038a",
   "metadata": {},
   "outputs": [],
   "source": [
    "from scipy.stats import shapiro"
   ]
  },
  {
   "cell_type": "code",
   "execution_count": 14,
   "id": "0f0fefb9",
   "metadata": {},
   "outputs": [
    {
     "name": "stdout",
     "output_type": "stream",
     "text": [
      "Stat 0.9710664749145508\n",
      "p-value 0.9216489195823669\n",
      "H0 Accepted - Data is Normally Distributed\n"
     ]
    }
   ],
   "source": [
    "w_stat, p = shapiro(age)\n",
    "print('Stat',w_stat)\n",
    "print('p-value',p)\n",
    "if p<0.05:\n",
    "    print('H0 Rejected - Data is not Normally Distributed')\n",
    "else:\n",
    "    print('H0 Accepted - Data is Normally Distributed')\n"
   ]
  },
  {
   "cell_type": "markdown",
   "id": "3c756bc7",
   "metadata": {},
   "source": [
    "#### Examples"
   ]
  },
  {
   "cell_type": "code",
   "execution_count": 9,
   "id": "f96dbf98",
   "metadata": {},
   "outputs": [],
   "source": [
    "from scipy.stats import shapiro"
   ]
  },
  {
   "cell_type": "code",
   "execution_count": 10,
   "id": "0625a517",
   "metadata": {},
   "outputs": [
    {
     "name": "stdout",
     "output_type": "stream",
     "text": [
      "[10.59794699 41.13186639 29.0396699  29.20331081 45.16338659 27.6539167\n",
      " 24.63294846 37.12788768 26.95035627 42.46315738 22.78607035 30.44182198\n",
      " 17.8752216   8.01158329 12.84811091 12.22313606 34.57301023 31.55995805\n",
      " 40.17939136 13.57332125 15.73092306 40.03846113 26.95713295 15.70698139\n",
      " 42.73271862  6.8193681  35.61619085 16.43337005  9.18094695 34.73149525\n",
      " 42.83244233 12.2884277  49.62282462 12.52433165 45.11798897  9.73600115\n",
      " 33.39451855 11.09181945  1.42150929  5.85566518 20.19159642 43.66981767\n",
      " 37.70926438 22.09114706 10.12481137 15.86362769  6.36830143 10.33095623\n",
      " 36.16489754 44.98737336 43.67505333 33.4460149  44.42156522 22.67961123\n",
      " 36.96488235 19.7355039  13.25390184 39.53285425  1.64976146 31.12864307\n",
      " 23.18630003 36.52052092  9.24612799 22.84533748 23.39059514 23.77393705\n",
      " 21.23102471 19.76429152 42.37852542 30.45999582 24.30263389 26.83206881\n",
      " 47.70053784 19.67653419 45.39303375 37.18268729 42.91908601  9.16234729\n",
      " 29.80004191 19.19624745 21.38111605 33.8957026  34.29102942 49.47186037\n",
      " 12.6745751  29.86596128 37.72013649 19.30691084 13.95649743  9.11172374\n",
      " 32.35258391  4.91178463 11.52744188 39.97333639 12.7797322  24.24315764\n",
      "  6.96279573  4.11949101 37.8729845  18.85527731]\n"
     ]
    }
   ],
   "source": [
    "d1 = np.random.random(100)*50\n",
    "print(d1)"
   ]
  },
  {
   "cell_type": "code",
   "execution_count": 11,
   "id": "05e4a261",
   "metadata": {},
   "outputs": [
    {
     "name": "stdout",
     "output_type": "stream",
     "text": [
      "Stat 0.9581772089004517\n",
      "p-value 0.0029875971376895905\n",
      "H0 Rejected - Data is not Normally Distributed\n"
     ]
    }
   ],
   "source": [
    "stat, p = shapiro(d1)\n",
    "print('Stat',stat)\n",
    "print('p-value',p)\n",
    "if p<0.05:\n",
    "    print('H0 Rejected - Data is not Normally Distributed')\n",
    "else:\n",
    "    print('H0 Accepted - Data is Normally Distributed')\n"
   ]
  },
  {
   "cell_type": "code",
   "execution_count": 15,
   "id": "a0f2d257",
   "metadata": {},
   "outputs": [
    {
     "name": "stdout",
     "output_type": "stream",
     "text": [
      "(100,)\n",
      "[-2.88814011  5.53466555  0.63326672  5.51789696  5.36998081 -0.08688128\n",
      "  4.60985565 -3.09098085  2.37683978 -1.38293296  1.50034049  2.614952\n",
      "  5.8925698  -1.11533273  1.68456015  1.85946336  2.65345307  0.18066638\n",
      "  3.46091944  0.21047587  4.80059999 -0.75449919  4.8555107   3.42565161\n",
      "  0.45381622 -1.7397659   3.20744762  1.31770119  3.20523586 -2.08842607\n",
      "  2.11518781 10.67730835  2.83801535  0.3292947   2.84049309  1.43019886\n",
      " -0.57143813  1.88919207 -1.5458328  -1.06697695  0.199308    4.08307614\n",
      "  6.97877185  1.16410043  2.45018636  3.67575543 -1.78963404  3.5979581\n",
      "  1.28633765  1.35412336 -1.61197422  3.23503954  0.93555405  2.59716238\n",
      " -1.39644782 -0.88122998 -1.08042378  2.84745654 -3.66374185  3.29432751\n",
      "  2.77019229 -3.38505857  6.37003757 -2.60508252  4.53705701 -1.72051025\n",
      "  5.63672821  1.28567224  3.21504456  2.87381816  4.35640404  0.68340968\n",
      " -2.34894313  2.25514433  0.92684372 -0.4050342  -0.19065963  5.87139159\n",
      " -1.07186055  2.02517663 -4.53012746  1.26109328  1.34540173 -1.47413771\n",
      "  2.89811134  6.20110296 -1.30517392  1.79504357  1.56897418  2.56870507\n",
      "  5.90100585  0.44330771  2.99899605 -4.08714337  0.75311066  1.11641879\n",
      "  2.91740754 -0.29670041  2.25267955 -1.18055984]\n"
     ]
    }
   ],
   "source": [
    "d2 = np.random.normal(loc=2,scale=3,size=100)\n",
    "print(d1.shape)\n",
    "print(d2)"
   ]
  },
  {
   "cell_type": "code",
   "execution_count": 17,
   "id": "bb7a0ba4",
   "metadata": {},
   "outputs": [
    {
     "name": "stdout",
     "output_type": "stream",
     "text": [
      "Stat 0.987859308719635\n",
      "p-value 0.497893363237381\n",
      "H0 Accepted - Data is Normally Distributed\n"
     ]
    }
   ],
   "source": [
    "w_stat, p = shapiro(d2)\n",
    "print('Stat',w_stat)\n",
    "print('p-value',p)\n",
    "if p<0.05:\n",
    "    print('H0 Rejected - Data is not Normally Distributed')\n",
    "else:\n",
    "    print('H0 Accepted - Data is Normally Distributed')\n"
   ]
  },
  {
   "cell_type": "code",
   "execution_count": null,
   "id": "c8962208",
   "metadata": {},
   "outputs": [],
   "source": []
  },
  {
   "cell_type": "markdown",
   "id": "2bd172b0",
   "metadata": {},
   "source": [
    "### Jarquee_Bera Test\n",
    "\n",
    "1) The Jarque-Bera test is a goodness-of-fit test that determines whether or not sample data have \n",
    "skewness and kurtosis that matches a normal distribution.\n",
    "\n",
    "2) Mainly used for large sample size > 5000\n",
    "\n",
    "3) JB = (n/6)* (S^2 + C^2)/4<br>\n",
    "where <br>\n",
    "n  = no of observations in the sample<br>\n",
    "s = sample skewness<br>\n",
    "C = sample kurtosis<br>"
   ]
  },
  {
   "cell_type": "code",
   "execution_count": 32,
   "id": "ef45d800",
   "metadata": {},
   "outputs": [],
   "source": [
    "from scipy.stats import skew,kurtosis"
   ]
  },
  {
   "cell_type": "code",
   "execution_count": 30,
   "id": "a1fa0655",
   "metadata": {},
   "outputs": [
    {
     "name": "stdout",
     "output_type": "stream",
     "text": [
      "6000\n",
      "[5.66904204 5.73927353 5.4528072  ... 4.04310867 7.02812791 3.96913254]\n"
     ]
    }
   ],
   "source": [
    "# create the data from by genrating a random sample\n",
    "d1 = np.random.normal(loc=5, scale =1.3, size=6000)\n",
    "# + np.random.normal(loc=5, scale =0.1, size=6000)\n",
    "print(len(d1))\n",
    "print(d1)"
   ]
  },
  {
   "cell_type": "code",
   "execution_count": 33,
   "id": "9abaa43b",
   "metadata": {},
   "outputs": [
    {
     "name": "stdout",
     "output_type": "stream",
     "text": [
      "n = 6000\n",
      "s = -0.032211505894115616\n",
      "c = -0.126207248342868\n",
      "JB = 5.019648495536235\n"
     ]
    }
   ],
   "source": [
    "n = len(d1)\n",
    "print('n =',n)\n",
    "s = skew(d1)\n",
    "print('s =',s)\n",
    "c = kurtosis(d1)\n",
    "print('c =',c)\n",
    "\n",
    "jb = (n/6)*(s**2 + (c**2)/4)\n",
    "print('JB =',jb)"
   ]
  },
  {
   "cell_type": "code",
   "execution_count": 31,
   "id": "c32d6da9",
   "metadata": {},
   "outputs": [
    {
     "name": "stdout",
     "output_type": "stream",
     "text": [
      "jb_stat 5.019648495536178\n",
      "p_val 0.08128252357053634\n",
      "Accept Ho - data is normally distribured\n"
     ]
    }
   ],
   "source": [
    "# Method - 2\n",
    "jb_stat, p = jarque_bera(d1)\n",
    "print('jb_stat',jb_stat)\n",
    "print('p_val',p)\n",
    "alpha=0.05\n",
    "if p<alpha:\n",
    "    print('Reject Ho - data is not normally distributed')\n",
    "else:\n",
    "    print('Accept Ho - data is normally distribured')"
   ]
  },
  {
   "cell_type": "code",
   "execution_count": null,
   "id": "34626e18",
   "metadata": {},
   "outputs": [],
   "source": []
  }
 ],
 "metadata": {
  "kernelspec": {
   "display_name": "Python 3",
   "language": "python",
   "name": "python3"
  },
  "language_info": {
   "codemirror_mode": {
    "name": "ipython",
    "version": 3
   },
   "file_extension": ".py",
   "mimetype": "text/x-python",
   "name": "python",
   "nbconvert_exporter": "python",
   "pygments_lexer": "ipython3",
   "version": "3.8.8"
  }
 },
 "nbformat": 4,
 "nbformat_minor": 5
}
