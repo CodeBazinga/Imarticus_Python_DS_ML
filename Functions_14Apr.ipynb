{
 "cells": [
  {
   "cell_type": "markdown",
   "id": "293d4677",
   "metadata": {},
   "source": [
    "#### Functions\n",
    "1) Functions facilitate resuability of code.<br>\n",
    "2) They prevent code repetition<br>\n",
    "3) They make the code modular<br>\n",
    "\n",
    "\n",
    "#### Types of Functions\n",
    "1) <b>Built-in Function</b> - print(),input(),len(),type(), list().append()<br>\n",
    "\n",
    "2) <b>User Defined Functions</b><br>\n",
    "They are created by user/developers to solve a problem statement"
   ]
  },
  {
   "cell_type": "markdown",
   "id": "70e4f4ab",
   "metadata": {},
   "source": [
    "#### User Defined Functions\n",
    "\n",
    "They consist of two pasts<br>\n",
    "1) Function definition<br>\n",
    "2) Function calling - Functions are called using functsion name"
   ]
  },
  {
   "cell_type": "markdown",
   "id": "47d1e1bd",
   "metadata": {},
   "source": [
    "### Non-Parameterised Functions"
   ]
  },
  {
   "cell_type": "markdown",
   "id": "0c4c89c6",
   "metadata": {},
   "source": [
    "#### Write a function to print sum of two numbers"
   ]
  },
  {
   "cell_type": "code",
   "execution_count": 1,
   "id": "e709bcda",
   "metadata": {},
   "outputs": [],
   "source": [
    "# Function Definition\n",
    "def sum2no():\n",
    "    a,b=5,2\n",
    "    print(a+b)"
   ]
  },
  {
   "cell_type": "code",
   "execution_count": 2,
   "id": "e4b4d2b9",
   "metadata": {},
   "outputs": [
    {
     "name": "stdout",
     "output_type": "stream",
     "text": [
      "7\n"
     ]
    }
   ],
   "source": [
    "# Function calling\n",
    "sum2no()"
   ]
  },
  {
   "cell_type": "code",
   "execution_count": 3,
   "id": "9ec0cbca",
   "metadata": {},
   "outputs": [],
   "source": [
    "# Function Definition\n",
    "def sum_2_no():\n",
    "    n1 = int(input('Enter 1st number: '))\n",
    "    n2 = int(input('Enter 2nd number: '))\n",
    "    print(f'Sum of {n1} and {n2} is {n1+n2}')"
   ]
  },
  {
   "cell_type": "code",
   "execution_count": 4,
   "id": "daa0b392",
   "metadata": {},
   "outputs": [
    {
     "name": "stdout",
     "output_type": "stream",
     "text": [
      "Enter 1st number: 34\n",
      "Enter 2nd number: 23\n",
      "Sum of 34 and 23 is 57\n"
     ]
    }
   ],
   "source": [
    "# Function calling\n",
    "sum_2_no()"
   ]
  },
  {
   "cell_type": "code",
   "execution_count": 6,
   "id": "a53676f4",
   "metadata": {},
   "outputs": [
    {
     "name": "stdout",
     "output_type": "stream",
     "text": [
      "Enter 1st number: 4\n",
      "Enter 2nd number: 7\n",
      "Sum of 4 and 7 is 11\n"
     ]
    }
   ],
   "source": [
    "sum_2_no()"
   ]
  },
  {
   "cell_type": "markdown",
   "id": "743e5e2e",
   "metadata": {},
   "source": [
    "#### WAF to print area of circle using its radius as user input"
   ]
  },
  {
   "cell_type": "code",
   "execution_count": 7,
   "id": "765cb4ba",
   "metadata": {},
   "outputs": [],
   "source": [
    "# Function definition\n",
    "def area_circle():\n",
    "    r = int(input('Enter radius: '))\n",
    "    area = 3.14*r*r\n",
    "    print(f'Area of circle with radius {r} is {area} sq units')"
   ]
  },
  {
   "cell_type": "code",
   "execution_count": 9,
   "id": "6b065472",
   "metadata": {},
   "outputs": [
    {
     "name": "stdout",
     "output_type": "stream",
     "text": [
      "Enter radius: 7\n",
      "Area of circle with radius 7 is 153.86 sq units\n"
     ]
    }
   ],
   "source": [
    "# Function calling\n",
    "area_circle()"
   ]
  },
  {
   "cell_type": "markdown",
   "id": "ca243b59",
   "metadata": {},
   "source": [
    "#### Exercise\n",
    "WAF - Write a Function<br>\n",
    "Q1) WAF to print the diagonal and perimter of rectange. Accpet length and area as user inputs<br>\n",
    "Q2) WAF to compute speed given distance and time. Accpet speed and distance as user inputs<br>"
   ]
  },
  {
   "cell_type": "code",
   "execution_count": null,
   "id": "757c4e14",
   "metadata": {},
   "outputs": [],
   "source": []
  },
  {
   "cell_type": "markdown",
   "id": "c68553a1",
   "metadata": {},
   "source": [
    "### Parameterised Functions"
   ]
  },
  {
   "cell_type": "code",
   "execution_count": 19,
   "id": "1f91d23e",
   "metadata": {},
   "outputs": [
    {
     "name": "stdout",
     "output_type": "stream",
     "text": [
      "Prod of 5 and 7 is 35\n"
     ]
    }
   ],
   "source": [
    "# a and b are the parameters of the function\n",
    "def prod_2_no(a,b):\n",
    "    prod = a*b\n",
    "    print(f'Prod of {a} and {b} is {prod}')\n",
    "    \n",
    "prod_2_no(5,7)"
   ]
  },
  {
   "cell_type": "code",
   "execution_count": 20,
   "id": "fa1a8a59",
   "metadata": {},
   "outputs": [
    {
     "name": "stdout",
     "output_type": "stream",
     "text": [
      "Prod of 3 and 10 is 30\n"
     ]
    }
   ],
   "source": [
    "m,n=10,3\n",
    "prod_2_no(n,m) \n",
    "# the value of n is considered as a, the value of m is considered as b"
   ]
  },
  {
   "cell_type": "code",
   "execution_count": 21,
   "id": "e80dd14a",
   "metadata": {},
   "outputs": [
    {
     "name": "stdout",
     "output_type": "stream",
     "text": [
      "Prod of 7.3 and 4 is 29.2\n"
     ]
    }
   ],
   "source": [
    "prod_2_no(7.3,4)"
   ]
  },
  {
   "cell_type": "code",
   "execution_count": 22,
   "id": "2bf4507c",
   "metadata": {},
   "outputs": [
    {
     "name": "stdout",
     "output_type": "stream",
     "text": [
      "Prod of Hello  and 3 is Hello Hello Hello \n"
     ]
    }
   ],
   "source": [
    "prod_2_no('Hello ',3)"
   ]
  },
  {
   "cell_type": "code",
   "execution_count": 23,
   "id": "ae7a3cd4",
   "metadata": {},
   "outputs": [
    {
     "ename": "TypeError",
     "evalue": "can't multiply sequence by non-int of type 'str'",
     "output_type": "error",
     "traceback": [
      "\u001b[1;31m---------------------------------------------------------------------------\u001b[0m",
      "\u001b[1;31mTypeError\u001b[0m                                 Traceback (most recent call last)",
      "\u001b[1;32m<ipython-input-23-dec872393ef1>\u001b[0m in \u001b[0;36m<module>\u001b[1;34m\u001b[0m\n\u001b[1;32m----> 1\u001b[1;33m \u001b[0mprod_2_no\u001b[0m\u001b[1;33m(\u001b[0m\u001b[1;34m'Hi'\u001b[0m\u001b[1;33m,\u001b[0m\u001b[1;34m'Bye'\u001b[0m\u001b[1;33m)\u001b[0m\u001b[1;33m\u001b[0m\u001b[1;33m\u001b[0m\u001b[0m\n\u001b[0m",
      "\u001b[1;32m<ipython-input-19-a70d088e3ad0>\u001b[0m in \u001b[0;36mprod_2_no\u001b[1;34m(a, b)\u001b[0m\n\u001b[0;32m      1\u001b[0m \u001b[1;32mdef\u001b[0m \u001b[0mprod_2_no\u001b[0m\u001b[1;33m(\u001b[0m\u001b[0ma\u001b[0m\u001b[1;33m,\u001b[0m\u001b[0mb\u001b[0m\u001b[1;33m)\u001b[0m\u001b[1;33m:\u001b[0m\u001b[1;33m\u001b[0m\u001b[1;33m\u001b[0m\u001b[0m\n\u001b[1;32m----> 2\u001b[1;33m     \u001b[0mprod\u001b[0m \u001b[1;33m=\u001b[0m \u001b[0ma\u001b[0m\u001b[1;33m*\u001b[0m\u001b[0mb\u001b[0m\u001b[1;33m\u001b[0m\u001b[1;33m\u001b[0m\u001b[0m\n\u001b[0m\u001b[0;32m      3\u001b[0m     \u001b[0mprint\u001b[0m\u001b[1;33m(\u001b[0m\u001b[1;34mf'Prod of {a} and {b} is {prod}'\u001b[0m\u001b[1;33m)\u001b[0m\u001b[1;33m\u001b[0m\u001b[1;33m\u001b[0m\u001b[0m\n\u001b[0;32m      4\u001b[0m \u001b[1;33m\u001b[0m\u001b[0m\n\u001b[0;32m      5\u001b[0m \u001b[0mprod_2_no\u001b[0m\u001b[1;33m(\u001b[0m\u001b[1;36m5\u001b[0m\u001b[1;33m,\u001b[0m\u001b[1;36m7\u001b[0m\u001b[1;33m)\u001b[0m\u001b[1;33m\u001b[0m\u001b[1;33m\u001b[0m\u001b[0m\n",
      "\u001b[1;31mTypeError\u001b[0m: can't multiply sequence by non-int of type 'str'"
     ]
    }
   ],
   "source": [
    "prod_2_no('Hi','Bye')"
   ]
  },
  {
   "cell_type": "markdown",
   "id": "75f21d06",
   "metadata": {},
   "source": [
    "#### WAF to check if a given number is even or odd"
   ]
  },
  {
   "cell_type": "code",
   "execution_count": 25,
   "id": "26cbbabb",
   "metadata": {},
   "outputs": [
    {
     "name": "stdout",
     "output_type": "stream",
     "text": [
      "2342 is even\n",
      "321437 is odd\n"
     ]
    }
   ],
   "source": [
    "def even_odd(n):\n",
    "    if n%2==0:\n",
    "        print(f'{n} is even')\n",
    "    else:\n",
    "        print(n,'is odd')\n",
    "        \n",
    "even_odd(2342)\n",
    "even_odd(321437)"
   ]
  },
  {
   "cell_type": "markdown",
   "id": "435ef108",
   "metadata": {},
   "source": [
    "#### WAF to the print the table of a number(from 1 to 10) provided as argument"
   ]
  },
  {
   "cell_type": "code",
   "execution_count": null,
   "id": "a49fdc68",
   "metadata": {},
   "outputs": [],
   "source": []
  },
  {
   "cell_type": "markdown",
   "id": "1bea456b",
   "metadata": {},
   "source": [
    "#### Positional Arguments and Default arguments\n",
    "\n",
    "Default arguments - parameters initailzed by default values. They are used when the corresponding argument is not passed while function is called"
   ]
  },
  {
   "cell_type": "code",
   "execution_count": 50,
   "id": "02be9071",
   "metadata": {},
   "outputs": [
    {
     "name": "stdout",
     "output_type": "stream",
     "text": [
      "9\n",
      "11\n"
     ]
    }
   ],
   "source": [
    "def f1(a,b=3):\n",
    "    print(a+b)\n",
    "    \n",
    "f1(4,5) # a=4,b=5\n",
    "f1(8)  # a=8, b=3"
   ]
  },
  {
   "cell_type": "code",
   "execution_count": 57,
   "id": "0a3e3a60",
   "metadata": {},
   "outputs": [
    {
     "ename": "SyntaxError",
     "evalue": "invalid syntax (<ipython-input-57-db3d192885e7>, line 10)",
     "output_type": "error",
     "traceback": [
      "\u001b[1;36m  File \u001b[1;32m\"<ipython-input-57-db3d192885e7>\"\u001b[1;36m, line \u001b[1;32m10\u001b[0m\n\u001b[1;33m    f2(,,8,6)\u001b[0m\n\u001b[1;37m       ^\u001b[0m\n\u001b[1;31mSyntaxError\u001b[0m\u001b[1;31m:\u001b[0m invalid syntax\n"
     ]
    }
   ],
   "source": [
    "def f2(a=2,b=3,c=5,d=4):\n",
    "    r = (a+b) *(c-d)\n",
    "    print(r)\n",
    "    \n",
    "f2(10,12,15,5) # a=10,b=12,c=15,d=5\n",
    "f2(7,8,6)      # a=7,b=8,c=6,d=4\n",
    "f2(7,8)        # a=7,b=8,c=5,d=4\n",
    "f2(20)         # a=20, b=3,c=5,d=4\n",
    "f2()\n",
    "f2(,,8,6)      # not acceptable (Error)"
   ]
  },
  {
   "cell_type": "code",
   "execution_count": 60,
   "id": "70307a27",
   "metadata": {},
   "outputs": [
    {
     "name": "stdout",
     "output_type": "stream",
     "text": [
      "25\n",
      "27\n"
     ]
    }
   ],
   "source": [
    "def f3(a,b,c=7,d=5):\n",
    "    r = a+b+c+d\n",
    "    print(r)\n",
    "\n",
    "f3(10,3)\n",
    "f3(b=10,a=5)"
   ]
  },
  {
   "cell_type": "code",
   "execution_count": 61,
   "id": "fda9c05e",
   "metadata": {},
   "outputs": [
    {
     "ename": "SyntaxError",
     "evalue": "non-default argument follows default argument (<ipython-input-61-cf5253047c1e>, line 1)",
     "output_type": "error",
     "traceback": [
      "\u001b[1;36m  File \u001b[1;32m\"<ipython-input-61-cf5253047c1e>\"\u001b[1;36m, line \u001b[1;32m1\u001b[0m\n\u001b[1;33m    def f4(a=10,b):\u001b[0m\n\u001b[1;37m           ^\u001b[0m\n\u001b[1;31mSyntaxError\u001b[0m\u001b[1;31m:\u001b[0m non-default argument follows default argument\n"
     ]
    }
   ],
   "source": [
    "def f4(a=10,b):\n",
    "    r = a*b\n",
    "    print(r)\n",
    "    \n",
    "f4(8,4)"
   ]
  },
  {
   "cell_type": "code",
   "execution_count": 62,
   "id": "cf95341e",
   "metadata": {},
   "outputs": [
    {
     "name": "stdout",
     "output_type": "stream",
     "text": [
      "32\n"
     ]
    }
   ],
   "source": [
    "def f4(b,a=10):\n",
    "    r = a*b\n",
    "    print(r)\n",
    "    \n",
    "f4(8,4)"
   ]
  },
  {
   "cell_type": "markdown",
   "id": "d4c67619",
   "metadata": {},
   "source": [
    "#### While defining the functions with arguments\n",
    "1) Postional arguments have be defined first and then followed by default arguments"
   ]
  },
  {
   "cell_type": "markdown",
   "id": "5275faa1",
   "metadata": {},
   "source": [
    "### return keyword\n",
    "1) return is only used inside functions<br>\n",
    "2) return has to be the last statement in a function<br>\n",
    "3) return can be used only once in a function<br>\n",
    "4) if multple return statements are used, only the first one is the valid statement<br>\n",
    "5) return cannot be used to generate a sequence<br>"
   ]
  },
  {
   "cell_type": "code",
   "execution_count": 63,
   "id": "95f4f914",
   "metadata": {},
   "outputs": [
    {
     "name": "stdout",
     "output_type": "stream",
     "text": [
      "Ankit Chaturvedi\n"
     ]
    }
   ],
   "source": [
    "def gen_fullname(fn,ln):\n",
    "    fullname = fn + \" \" + ln\n",
    "    return fullname\n",
    "\n",
    "res = gen_fullname('Ankit','Chaturvedi')\n",
    "print(res)"
   ]
  },
  {
   "cell_type": "code",
   "execution_count": 64,
   "id": "6419ea52",
   "metadata": {},
   "outputs": [
    {
     "data": {
      "text/plain": [
       "'Shreya Singh'"
      ]
     },
     "execution_count": 64,
     "metadata": {},
     "output_type": "execute_result"
    }
   ],
   "source": [
    "gen_fullname('Shreya','Singh')"
   ]
  },
  {
   "cell_type": "code",
   "execution_count": 65,
   "id": "5451737c",
   "metadata": {},
   "outputs": [
    {
     "name": "stdout",
     "output_type": "stream",
     "text": [
      "37\n"
     ]
    }
   ],
   "source": [
    "def f5(a,b,c):\n",
    "    return (a*b)-c\n",
    "\n",
    "r = f5(8,5,3)\n",
    "print(r)"
   ]
  },
  {
   "cell_type": "markdown",
   "id": "53e6df39",
   "metadata": {},
   "source": [
    "#### If multiple return statements are used, only the first return statement is considered valid return"
   ]
  },
  {
   "cell_type": "code",
   "execution_count": 66,
   "id": "619f75e3",
   "metadata": {},
   "outputs": [
    {
     "name": "stdout",
     "output_type": "stream",
     "text": [
      "37\n"
     ]
    }
   ],
   "source": [
    "def f5(a,b,c):\n",
    "    return (a*b)-c\n",
    "    return 'Hello'\n",
    "\n",
    "r = f5(8,5,3)\n",
    "print(r)"
   ]
  },
  {
   "cell_type": "markdown",
   "id": "f8de8f3d",
   "metadata": {},
   "source": [
    "#### Return cannot generate a sequence"
   ]
  },
  {
   "cell_type": "code",
   "execution_count": 68,
   "id": "aed6f5d3",
   "metadata": {},
   "outputs": [
    {
     "name": "stdout",
     "output_type": "stream",
     "text": [
      "8\n",
      "9\n",
      "10\n",
      "11\n",
      "12\n"
     ]
    }
   ],
   "source": [
    "def f6():\n",
    "    for i in range(5,10):\n",
    "        print(i+3)\n",
    "\n",
    "f6()"
   ]
  },
  {
   "cell_type": "code",
   "execution_count": 71,
   "id": "5f3f3eea",
   "metadata": {},
   "outputs": [
    {
     "name": "stdout",
     "output_type": "stream",
     "text": [
      "8\n",
      "9\n",
      "10\n",
      "11\n",
      "12\n",
      "None\n"
     ]
    }
   ],
   "source": [
    "print(f6())"
   ]
  },
  {
   "cell_type": "code",
   "execution_count": 70,
   "id": "9d5a04f4",
   "metadata": {},
   "outputs": [
    {
     "name": "stdout",
     "output_type": "stream",
     "text": [
      "8\n"
     ]
    }
   ],
   "source": [
    "def f7():\n",
    "    for i in range(5,10):\n",
    "        return i+3\n",
    "\n",
    "r = f7()\n",
    "print(r)"
   ]
  },
  {
   "cell_type": "markdown",
   "id": "7f292635",
   "metadata": {},
   "source": [
    "#### Recursion\n",
    "1) The process where a function calls itself is called recursion and the function is called recursive function.<br>\n",
    "2) The function must contain a terminating condition"
   ]
  },
  {
   "cell_type": "code",
   "execution_count": 5,
   "id": "b8d5a6a6",
   "metadata": {},
   "outputs": [
    {
     "name": "stdout",
     "output_type": "stream",
     "text": [
      "Factorial of f is 120\n"
     ]
    }
   ],
   "source": [
    "def fact1(n):\n",
    "    f = 1\n",
    "    for i in range(1,n+1):\n",
    "        f = f*i\n",
    "    print(f'Factorial of f is {f}')\n",
    "\n",
    "fact1(5)"
   ]
  },
  {
   "cell_type": "markdown",
   "id": "97f1fc9b",
   "metadata": {},
   "source": [
    "#### Factorial using Recursion"
   ]
  },
  {
   "cell_type": "code",
   "execution_count": 7,
   "id": "9c5fbc87",
   "metadata": {},
   "outputs": [
    {
     "data": {
      "text/plain": [
       "120"
      ]
     },
     "execution_count": 7,
     "metadata": {},
     "output_type": "execute_result"
    }
   ],
   "source": [
    "def fact_re(n):\n",
    "    if n<=0:\n",
    "        return 1\n",
    "    else:\n",
    "        return n*fact_re(n-1)\n",
    "\n",
    "fact_re(5)"
   ]
  },
  {
   "cell_type": "code",
   "execution_count": 8,
   "id": "f48e0a0a",
   "metadata": {},
   "outputs": [
    {
     "data": {
      "text/plain": [
       "720"
      ]
     },
     "execution_count": 8,
     "metadata": {},
     "output_type": "execute_result"
    }
   ],
   "source": [
    "fact_re(6)"
   ]
  },
  {
   "cell_type": "code",
   "execution_count": 40,
   "id": "c3614dea",
   "metadata": {},
   "outputs": [],
   "source": [
    "def dragon(x):\n",
    "    if x<8:\n",
    "        return -x\n",
    "    else:\n",
    "        return x + dragon(x-2)\n",
    "    \n",
    "dragon(14)"
   ]
  },
  {
   "cell_type": "code",
   "execution_count": 39,
   "id": "1f500fd0",
   "metadata": {},
   "outputs": [],
   "source": [
    "def area51(n):\n",
    "    if n>10:\n",
    "        return n-1\n",
    "    else:\n",
    "        return 2*area51(n+1)\n",
    "    \n",
    "area51(5)"
   ]
  },
  {
   "cell_type": "code",
   "execution_count": 38,
   "id": "7bf73709",
   "metadata": {},
   "outputs": [],
   "source": [
    "def tesla(x):\n",
    "    if x<5:\n",
    "        return x-3\n",
    "    else:\n",
    "        return 2*x + tesla(x-2)\n",
    "    \n",
    "tesla(13)"
   ]
  },
  {
   "cell_type": "code",
   "execution_count": null,
   "id": "e42bdbf8",
   "metadata": {},
   "outputs": [],
   "source": []
  },
  {
   "cell_type": "code",
   "execution_count": null,
   "id": "7c17dac6",
   "metadata": {},
   "outputs": [],
   "source": []
  },
  {
   "cell_type": "markdown",
   "id": "4fd76de6",
   "metadata": {},
   "source": [
    "#### Exercise on Functions, Lis and dict\n",
    "<ol>\n",
    "<li>WAF to compute SI given P,R and T as arguments<br>\n",
    "<li>For a gievn dict . d1 ={'a':34,'b':15,'c':78,'d':50,'e':67}. Find difference between largest and smallest values and find their corresponding keys. </li>\n",
    "<li>Assume any given list of marks(all integers between 1 to 100), find the marks of the second highest from a list of marks.</li>\n",
    "<li>Create a function to generate a list containing common elements of two given lists. \n",
    "w1 = [1,2,3,4,67,78]<br>\n",
    "w2 = [45,78,3,11,109]</li>\n",
    "<li>Write a program that takes a list of words and returns the length of longest word and \n",
    "   print the longest word as well. Assume any list of words</li>\n",
    "<li>Sort even-placed elements (according to thier index) in decreasing and odd-placed in increasing order and store them in a separate list and display them as output. \n",
    " Assume any list of numbers</li>\n",
    "<li>Find the pair of numbers from a list which sum upto 20.Given the list\n",
    "Given list -[3,8,17,8,19,12,11,2,4,1]</li>\n",
    "<li>WAF to count the number of vowels in a given string. Assume any string</li>\n",
    "   \n",
    "</ol>"
   ]
  },
  {
   "cell_type": "code",
   "execution_count": null,
   "id": "f19b117a",
   "metadata": {},
   "outputs": [],
   "source": []
  }
 ],
 "metadata": {
  "kernelspec": {
   "display_name": "Python 3",
   "language": "python",
   "name": "python3"
  },
  "language_info": {
   "codemirror_mode": {
    "name": "ipython",
    "version": 3
   },
   "file_extension": ".py",
   "mimetype": "text/x-python",
   "name": "python",
   "nbconvert_exporter": "python",
   "pygments_lexer": "ipython3",
   "version": "3.8.8"
  }
 },
 "nbformat": 4,
 "nbformat_minor": 5
}
