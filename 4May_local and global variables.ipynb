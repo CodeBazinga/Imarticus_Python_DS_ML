{
 "cells": [
  {
   "cell_type": "markdown",
   "id": "5a3e8970",
   "metadata": {},
   "source": [
    "### Local and Global variables"
   ]
  },
  {
   "cell_type": "markdown",
   "id": "18d3315c",
   "metadata": {},
   "source": [
    "#### Ex1"
   ]
  },
  {
   "cell_type": "code",
   "execution_count": 1,
   "id": "6017701b",
   "metadata": {},
   "outputs": [
    {
     "name": "stdout",
     "output_type": "stream",
     "text": [
      "10\n",
      "10\n",
      "10\n"
     ]
    }
   ],
   "source": [
    "x = 10                # x is a global variable\n",
    "print(x)              # 10\n",
    "\n",
    "def f1():\n",
    "    print(x)           \n",
    "    \n",
    "f1()                  # 10\n",
    "print(x)              # 10"
   ]
  },
  {
   "cell_type": "markdown",
   "id": "143cd99c",
   "metadata": {},
   "source": [
    "#### Ex2"
   ]
  },
  {
   "cell_type": "code",
   "execution_count": 3,
   "id": "10271e13",
   "metadata": {},
   "outputs": [
    {
     "name": "stdout",
     "output_type": "stream",
     "text": [
      "5\n",
      "7\n",
      "5\n"
     ]
    }
   ],
   "source": [
    "y = 5\n",
    "print(y)              # 5\n",
    "\n",
    "def f2():\n",
    "    y = 7             # y is a local varaible\n",
    "    print(y)           \n",
    "    \n",
    "f2()                  # 7\n",
    "print(y)              # 5"
   ]
  },
  {
   "cell_type": "markdown",
   "id": "bdaf9dbd",
   "metadata": {},
   "source": [
    "#### global\n",
    "1) global keyword is used to create global variable<br>\n",
    "2) They are declared in one line and intialized in the next line\n",
    "\n",
    "Synatx:\n",
    "\n",
    "    global h\n",
    "    h = \"Python\""
   ]
  },
  {
   "cell_type": "code",
   "execution_count": 5,
   "id": "dfbd59ee",
   "metadata": {},
   "outputs": [
    {
     "name": "stdout",
     "output_type": "stream",
     "text": [
      "Python\n",
      "Stats\n",
      "Stats\n"
     ]
    }
   ],
   "source": [
    "w = \"Python\"\n",
    "print(w)          # Python \n",
    "\n",
    "def f3():\n",
    "    global w\n",
    "    w = \"Stats\"\n",
    "    print(w)\n",
    "    \n",
    "f3()             # Stats\n",
    "print(w)         # Stats"
   ]
  },
  {
   "cell_type": "code",
   "execution_count": 6,
   "id": "50145694",
   "metadata": {},
   "outputs": [
    {
     "name": "stdout",
     "output_type": "stream",
     "text": [
      "Python\n",
      "Stats\n",
      "SQL\n"
     ]
    }
   ],
   "source": [
    "w = \"Python\"\n",
    "print(w)          # Python \n",
    "\n",
    "def f3():\n",
    "    global w\n",
    "    w = \"Stats\"\n",
    "    print(w)\n",
    "    w = \"SQL\"\n",
    "    \n",
    "f3()             # Stats\n",
    "print(w)         # SQL"
   ]
  },
  {
   "cell_type": "code",
   "execution_count": 10,
   "id": "08e401e2",
   "metadata": {},
   "outputs": [
    {
     "name": "stdout",
     "output_type": "stream",
     "text": [
      "Python\n",
      "45\n",
      "Stats\n",
      "SQL\n"
     ]
    }
   ],
   "source": [
    "w = \"Python\"\n",
    "print(w)          # Python \n",
    "\n",
    "def f4():\n",
    "    global w\n",
    "    w = \"Stats\"\n",
    "    print(w)\n",
    "    w = \"SQL\"\n",
    "    \n",
    "w = 45\n",
    "print(w)          #  45\n",
    "f4()              #  Stats\n",
    "print(w)          #  SQL"
   ]
  },
  {
   "cell_type": "markdown",
   "id": "7f3b42f5",
   "metadata": {},
   "source": [
    "### args and kwargs"
   ]
  },
  {
   "cell_type": "code",
   "execution_count": null,
   "id": "dc4639c0",
   "metadata": {},
   "outputs": [],
   "source": []
  }
 ],
 "metadata": {
  "kernelspec": {
   "display_name": "Python 3",
   "language": "python",
   "name": "python3"
  },
  "language_info": {
   "codemirror_mode": {
    "name": "ipython",
    "version": 3
   },
   "file_extension": ".py",
   "mimetype": "text/x-python",
   "name": "python",
   "nbconvert_exporter": "python",
   "pygments_lexer": "ipython3",
   "version": "3.8.8"
  }
 },
 "nbformat": 4,
 "nbformat_minor": 5
}
