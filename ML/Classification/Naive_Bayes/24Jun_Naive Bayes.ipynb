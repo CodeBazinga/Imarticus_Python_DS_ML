{
 "cells": [
  {
   "cell_type": "markdown",
   "id": "b5b78816",
   "metadata": {},
   "source": [
    "### Conditional Probability\n",
    "a) When we try to calculate probability on a condition, i.e. probability of happening of event A when event B has already taken place.\n",
    "\n",
    "b)\t<b>P(A|B) = P(AᲘB)/P(B) <br>\n",
    "for conditional probability of A given B has occurred</b>"
   ]
  },
  {
   "cell_type": "markdown",
   "id": "ac57968f",
   "metadata": {},
   "source": [
    "#### Q) There are 15 cards - 1,2,3,4,5,6,7,8,9,10,11,12,13,14,15 in a deck. A card is drawn at random, which is more than 6, find the probability that it is odd\n",
    "\n"
   ]
  },
  {
   "cell_type": "code",
   "execution_count": null,
   "id": "560421e8",
   "metadata": {},
   "outputs": [],
   "source": [
    "# SS = 15\n",
    "# A = more than 6 = {7,8,9,10,11,12,13,14,15} => P(A) = 9/15\n",
    "# B = number is odd = {1,3,5,7,9,11,13,15}  => P(B) = 8/15\n",
    "# AᲘB = more than 6 and odd = {7,9,11,13,15} => P(AᲘB) = 5/15 \n",
    "# P(B|A) = P(AᲘB)/P(A) = (5/15)/(9/15) = 5/9\n",
    "# P(AᲘB) = P(BᲘA)"
   ]
  },
  {
   "cell_type": "code",
   "execution_count": 3,
   "id": "f53e936a",
   "metadata": {},
   "outputs": [],
   "source": []
  },
  {
   "cell_type": "markdown",
   "id": "4c653a77",
   "metadata": {},
   "source": [
    "### Bayes Theorem\n",
    "\n",
    "In probability theory, Bayes theorem describes probability of an event based on prior knowledge of conditions that might be related to the event\n",
    "Derivation<br>\n",
    "Bayes theorem is derived through conditional probability equation by equating P(A Ი B) of below mentioned equation 1 and equation 2\n",
    "\n",
    "P(A|B) = P(AᲘB)/P(B)          -- 1<br>\n",
    "P(B|A) = P(BᲘA)/P(A)          -- 2<br>\n",
    "We know that P(AᲘB) = P(BᲘA) <br>\n",
    "From equation 1 and 2, equating the expression for P(AᲘB), we get<br>\n",
    "=> P(A|B)*P(B) = P(B|A)*P(A)<br>\n",
    "=> P(A|B)  = (P(B|A) *P(A)) / P(B)<br>\n",
    "\n",
    "1) Bayes’ Theorem finds the probability of an event occurring given the probability of another event that has already occurred. Bayes’ theorem is stated mathematically as the following equation:<br>\n",
    "2) P(A|B) = Probability of A given that event B has already occurred.\n",
    "\n",
    " \n",
    "<img src=\"nb2.png\">\n",
    "where A and B are events and P(B)  ≠ 0.\n"
   ]
  },
  {
   "cell_type": "markdown",
   "id": "c7858204",
   "metadata": {},
   "source": [
    "### Naive Bayes\n",
    "1)\tNaive Bayes is a supervised learning algorithm used for classification based on Bayes’ Theorem. <br>\n",
    "2)\tNaive Bayes intuition - Every pair of features being classified is independent of each other.<br>\n",
    "3)\tThe fundamental Naïve Bayes assumption is that each feature makes an independent and equal contribution to the outcome.<br>\n",
    "4)\tThey are used in <b>sentiment analysis, spam filtering, email classification etc</b><br>\n",
    "\n",
    "### Why it is called Naive?\n",
    "Naive Bayes is called naive because it assumes that each input variable is independent. This is a strong assumption and unrealistic for most data; however, the technique is very effective on a certain kinds of problems like the ones mentioned above.\n"
   ]
  },
  {
   "cell_type": "markdown",
   "id": "4049b8aa",
   "metadata": {},
   "source": [
    "### Naive Bayes\n",
    "<img src=\"nb_derivation.png\">"
   ]
  },
  {
   "cell_type": "markdown",
   "id": "e277746a",
   "metadata": {},
   "source": [
    "where<br>\n",
    "$ P(y|x1,x2……,xn) = \\frac {(P(y)*P(x1,x2.......xn|y)} { P(x1,x2.......xn)} $\n",
    "                            \n",
    "is equivalent to <br>\n",
    "                            \n",
    "$ P(y|x1,x2……,xn) = \\frac {(P(y)*P(x1|y)*P(x2|y)*…….*P(xn|y)) } { P(x1)*P(x2)*……*P(xn)} $"
   ]
  },
  {
   "cell_type": "markdown",
   "id": "d5c8d972",
   "metadata": {},
   "source": [
    "### Types of Naive Bayes Algorithms\n",
    "\n",
    "1) <b>Gaussian Naive Bayes</b>\n",
    "Used when all features are numerical and follows Normal distribution then Gaussian Naive bayes is used. \n",
    "<img src=\"gnb.png\">\n",
    "    \n",
    "    \n",
    "2) <b>Bernoulli Naive Bayes</b><br>\n",
    "BernoulliNB implements the naive Bayes training and classification algorithms for data that is distributed according to multivariate Bernoulli distributions; i.e., there may be multiple features but each one is assumed to be a binary-valued (Bernoulli, boolean) variable.<br>\n",
    "All the features are converted to binary format(Using Label_Encoder or get_dummies)\n",
    "    \n",
    "3) <b>Multinomial NB</b><br>\n",
    "It is one of the two classic naive Bayes variants used in text classification.\n",
    "It can also be used when features contain catgorical data or a mixture of categorical and continuous features. Categorical(object data type) needs LabelEncoding. "
   ]
  },
  {
   "cell_type": "markdown",
   "id": "9ebe5fea",
   "metadata": {},
   "source": [
    "### How to Import Naive Bayes"
   ]
  },
  {
   "cell_type": "code",
   "execution_count": 2,
   "id": "7a4b604f",
   "metadata": {},
   "outputs": [],
   "source": [
    "from sklearn.naive_bayes import GaussianNB,BernoulliNB,MultinomialNB"
   ]
  },
  {
   "cell_type": "markdown",
   "id": "17acadc8",
   "metadata": {},
   "source": [
    "### Laplace/Lindstone Correction or Smoothing in Naive Bayes\n",
    "1) Laplace smoothing is a smoothing technique that handles the problem of zero probability in Naïve Bayes.<br>\n",
    "2) It is applied to MultiNomial NB<br>\n",
    "3) <b>Setting α=1,is called Laplace smoothing, while α<1 is called Lidstone smoothing.</b><br>\n",
    "    \n",
    "Laplace Smoothing<br>\n",
    "https://scikit-learn.org/stable/modules/naive_bayes.html    "
   ]
  },
  {
   "cell_type": "markdown",
   "id": "1e047918",
   "metadata": {},
   "source": [
    "### Example of Naive Bayes\n",
    "<img src=\"nb_example.png\">\n",
    "\n",
    "Input Features = X1 and X2<br>\n",
    "Target Feature = Y\n",
    "#### Find P(Y | X1=B,X2=S) "
   ]
  },
  {
   "cell_type": "code",
   "execution_count": null,
   "id": "3f34a7b4",
   "metadata": {},
   "outputs": [],
   "source": []
  }
 ],
 "metadata": {
  "kernelspec": {
   "display_name": "Python 3",
   "language": "python",
   "name": "python3"
  },
  "language_info": {
   "codemirror_mode": {
    "name": "ipython",
    "version": 3
   },
   "file_extension": ".py",
   "mimetype": "text/x-python",
   "name": "python",
   "nbconvert_exporter": "python",
   "pygments_lexer": "ipython3",
   "version": "3.8.8"
  }
 },
 "nbformat": 4,
 "nbformat_minor": 5
}
