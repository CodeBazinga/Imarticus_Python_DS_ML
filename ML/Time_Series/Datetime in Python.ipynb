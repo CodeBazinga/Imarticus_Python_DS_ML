{
 "cells": [
  {
   "cell_type": "markdown",
   "metadata": {},
   "source": [
    "### Datetime in Python"
   ]
  },
  {
   "cell_type": "code",
   "execution_count": 16,
   "metadata": {},
   "outputs": [],
   "source": [
    "import datetime as dt"
   ]
  },
  {
   "cell_type": "markdown",
   "metadata": {},
   "source": [
    "#### Today's date, year, month"
   ]
  },
  {
   "cell_type": "code",
   "execution_count": 19,
   "metadata": {},
   "outputs": [
    {
     "name": "stdout",
     "output_type": "stream",
     "text": [
      "2022-07-07\n",
      "2022\n",
      "7\n",
      "7\n"
     ]
    }
   ],
   "source": [
    "today = dt.date.today() # YYYY-MM-DD\n",
    "today_year = dt.date.today().year\n",
    "today_date = dt.date.today().day\n",
    "today_month = dt.date.today().month\n",
    "print(today)\n",
    "print(today_year)\n",
    "print(today_date)\n",
    "print(today_month)"
   ]
  },
  {
   "cell_type": "markdown",
   "metadata": {},
   "source": [
    "#### datetime - year, month, day, hour, minute, second, microsecond"
   ]
  },
  {
   "cell_type": "code",
   "execution_count": 22,
   "metadata": {},
   "outputs": [
    {
     "name": "stdout",
     "output_type": "stream",
     "text": [
      "2022-07-07 11:43:34.353686\n",
      "2022\n",
      "7\n",
      "7\n",
      "11\n",
      "43\n",
      "34\n",
      "353686\n"
     ]
    }
   ],
   "source": [
    "t1 = dt.datetime.today() # YYYY-MM-DD HH:MM:SS.ssssss\n",
    "t2 = dt.datetime.today().year\n",
    "t3 = dt.datetime.today().month\n",
    "t4 = dt.datetime.today().day\n",
    "t5 = dt.datetime.today().hour\n",
    "t6 = dt.datetime.today().minute\n",
    "t7 = dt.datetime.today().second\n",
    "t8 = dt.datetime.today().microsecond\n",
    "print(t1)\n",
    "print(t2)\n",
    "print(t3)\n",
    "print(t4)\n",
    "print(t5)\n",
    "print(t6)\n",
    "print(t7)\n",
    "print(t8)"
   ]
  },
  {
   "cell_type": "markdown",
   "metadata": {},
   "source": [
    "### Custom date and time\n",
    "datetime(year,month,day,hour,min,sec,ms)"
   ]
  },
  {
   "cell_type": "code",
   "execution_count": 23,
   "metadata": {},
   "outputs": [
    {
     "name": "stdout",
     "output_type": "stream",
     "text": [
      "2021-03-23 05:30:45.032443\n"
     ]
    },
    {
     "data": {
      "text/plain": [
       "datetime.datetime"
      ]
     },
     "execution_count": 23,
     "metadata": {},
     "output_type": "execute_result"
    }
   ],
   "source": [
    "req_date = dt.datetime(year=2021,month=3,day=23,hour=5,minute=30,\n",
    "                       second=45,microsecond=32443)\n",
    "print(req_date)\n",
    "type(req_date)"
   ]
  },
  {
   "cell_type": "code",
   "execution_count": 24,
   "metadata": {},
   "outputs": [
    {
     "name": "stdout",
     "output_type": "stream",
     "text": [
      "2019-11-18 00:00:00\n",
      "2019-11-18 06:12:00\n"
     ]
    }
   ],
   "source": [
    "a1 = dt.datetime(year=2019,month=11,day=18) # midnight 12\n",
    "a2 = dt.datetime(year=2019,month=11,day=18,hour=6,minute=12)\n",
    "print(a1)\n",
    "print(a2)"
   ]
  },
  {
   "cell_type": "code",
   "execution_count": 29,
   "metadata": {},
   "outputs": [
    {
     "name": "stdout",
     "output_type": "stream",
     "text": [
      "2021-04-14 15:14:45\n",
      "2021-04-28 00:00:00\n"
     ]
    }
   ],
   "source": [
    "# datetime(year,month,day,hour,min,sec,ms)\n",
    "a = dt.datetime(2021,4,14,15,14,45)\n",
    "b = dt.datetime(2021,4,28)\n",
    "print(a)\n",
    "print(b)"
   ]
  },
  {
   "cell_type": "code",
   "execution_count": 32,
   "metadata": {},
   "outputs": [
    {
     "name": "stdout",
     "output_type": "stream",
     "text": [
      "2032-10-13\n",
      "2010-03-02\n"
     ]
    },
    {
     "data": {
      "text/plain": [
       "datetime.date"
      ]
     },
     "execution_count": 32,
     "metadata": {},
     "output_type": "execute_result"
    }
   ],
   "source": [
    "req_date = dt.date(year=2032,month=10,day=13)\n",
    "start_date = dt.date(2010,3,2)\n",
    "print(req_date)\n",
    "print(start_date)\n",
    "type(req_date)"
   ]
  },
  {
   "cell_type": "code",
   "execution_count": 37,
   "metadata": {},
   "outputs": [
    {
     "name": "stdout",
     "output_type": "stream",
     "text": [
      "2022-07-10\n"
     ]
    }
   ],
   "source": [
    "r = dt.date(2022,7,10)\n",
    "print(r)"
   ]
  },
  {
   "cell_type": "code",
   "execution_count": 33,
   "metadata": {},
   "outputs": [],
   "source": [
    "from datetime import time"
   ]
  },
  {
   "cell_type": "code",
   "execution_count": 35,
   "metadata": {},
   "outputs": [
    {
     "name": "stdout",
     "output_type": "stream",
     "text": [
      "09:30:36.123456\n",
      "00:00:00\n"
     ]
    },
    {
     "data": {
      "text/plain": [
       "datetime.time"
      ]
     },
     "execution_count": 35,
     "metadata": {},
     "output_type": "execute_result"
    }
   ],
   "source": [
    "req_time = time(hour=9,minute=30,second=36,microsecond=123456)\n",
    "null_time = time() # midnight 12\n",
    "print(req_time)\n",
    "print(null_time)\n",
    "type(req_time)"
   ]
  },
  {
   "cell_type": "markdown",
   "metadata": {},
   "source": [
    "#### Addition and Subtraction of date and time"
   ]
  },
  {
   "cell_type": "code",
   "execution_count": 38,
   "metadata": {},
   "outputs": [],
   "source": [
    "from datetime import timedelta as td"
   ]
  },
  {
   "cell_type": "markdown",
   "metadata": {},
   "source": [
    "#### What is the date and time 2 days, 3 hours, 15 minutes and 45 sec ahead from now?"
   ]
  },
  {
   "cell_type": "code",
   "execution_count": 40,
   "metadata": {},
   "outputs": [
    {
     "name": "stdout",
     "output_type": "stream",
     "text": [
      "2022-07-07 11:49:44.456981\n",
      "2 days, 3:15:45\n",
      "2022-07-09 15:05:29.456981\n"
     ]
    }
   ],
   "source": [
    "curr_date_time = dt.datetime.today()\n",
    "print(curr_date_time)\n",
    "\n",
    "time_diff = td(days=2,hours=3,minutes=15,seconds=45)\n",
    "print(time_diff)\n",
    "# Add time diff to the current time\n",
    "req_date_time = curr_date_time + time_diff\n",
    "\n",
    "print(req_date_time)"
   ]
  },
  {
   "cell_type": "markdown",
   "metadata": {},
   "source": [
    "#### What is date and time 2 weeks, 4 days, 6 hrs, 27 mins and 45 sec from now?"
   ]
  },
  {
   "cell_type": "code",
   "execution_count": 42,
   "metadata": {},
   "outputs": [
    {
     "name": "stdout",
     "output_type": "stream",
     "text": [
      "2022-07-07 11:50:02.170701\n",
      "18 days, 6:27:45\n",
      "2022-07-25 18:17:47.170701\n"
     ]
    }
   ],
   "source": [
    "curr_date_time = dt.datetime.today()\n",
    "print(curr_date_time)\n",
    "\n",
    "time_diff = td(weeks=2,days=4,hours=6,minutes=27,seconds=45)\n",
    "print(time_diff)\n",
    "# Add time diff to the current time\n",
    "req_date_time = curr_date_time + time_diff\n",
    "\n",
    "print(req_date_time)"
   ]
  },
  {
   "cell_type": "markdown",
   "metadata": {},
   "source": [
    "#### What is the date and time 1 week and 3 days before 2019 June 1, 9 AM?"
   ]
  },
  {
   "cell_type": "code",
   "execution_count": 44,
   "metadata": {},
   "outputs": [
    {
     "name": "stdout",
     "output_type": "stream",
     "text": [
      "2019-06-01 09:00:00\n",
      "-10 days, 0:00:00\n",
      "2019-05-22 09:00:00\n"
     ]
    }
   ],
   "source": [
    "base_date_time = dt.datetime(year=2019,month=6,day=1,hour=9)\n",
    "print(base_date_time)\n",
    "\n",
    "time_diff = td(weeks=-1,days=-3)\n",
    "print(time_diff)\n",
    "# Subtract time diff to the current time\n",
    "req_date_time = base_date_time + time_diff\n",
    "\n",
    "print(req_date_time)"
   ]
  },
  {
   "cell_type": "code",
   "execution_count": 46,
   "metadata": {},
   "outputs": [
    {
     "name": "stdout",
     "output_type": "stream",
     "text": [
      "2019-06-01 09:00:00\n",
      "10 days, 0:00:00\n",
      "2019-05-22 09:00:00\n"
     ]
    }
   ],
   "source": [
    "base_date_time = dt.datetime(year=2019,month=6,day=1,hour=9)\n",
    "print(base_date_time)\n",
    "\n",
    "time_diff = td(weeks=1,days=3)\n",
    "print(time_diff)\n",
    "# Subtract time diff to the current time\n",
    "req_date_time = base_date_time - time_diff\n",
    "\n",
    "print(req_date_time)"
   ]
  },
  {
   "cell_type": "markdown",
   "metadata": {},
   "source": [
    "#### What is the date and time 2 weeks,4 days, 100 hrs, 27 mins and 45 sec from now?"
   ]
  },
  {
   "cell_type": "code",
   "execution_count": 47,
   "metadata": {},
   "outputs": [
    {
     "name": "stdout",
     "output_type": "stream",
     "text": [
      "2022-07-07 11:52:35.491937\n",
      "22 days, 4:27:45\n",
      "2022-07-29 16:20:20.491937\n"
     ]
    }
   ],
   "source": [
    "curr_date_time = dt.datetime.today()\n",
    "print(curr_date_time)\n",
    "\n",
    "time_diff = td(weeks=2,days=4,hours=100,minutes=27,seconds=45)\n",
    "print(time_diff)\n",
    "# Add time diff to the current time\n",
    "req_date_time = curr_date_time + time_diff\n",
    "\n",
    "print(req_date_time)"
   ]
  },
  {
   "cell_type": "code",
   "execution_count": 48,
   "metadata": {},
   "outputs": [],
   "source": [
    "import datetime as dt"
   ]
  },
  {
   "cell_type": "markdown",
   "metadata": {},
   "source": [
    "### Date Parsing formats\n",
    "1) %Y - Year (in YYYY format) - eg 2021<br>\n",
    "2) %y - Year (in YY format)  - eg - 21<br>\n",
    "3) %B - Month(full name - March)<br>\n",
    "4) %b - Month(three letters of the month- Mar)<br>\n",
    "5) %A - Weekday full name (Thursday)<br>\n",
    "6) %a - Weekday Short name (Thu)<br>\n",
    "7) %d - Day of month(1-31)<br>\n",
    "8) %w - weekday number (0-Sun, 6-Sat)<br>\n",
    "9) %m - month(01-Jan, 12-Dec)<br>\n",
    "10) %H - Hour<br>\n",
    "11) %M - Minute<br>\n",
    "12) %S - Second"
   ]
  },
  {
   "cell_type": "markdown",
   "metadata": {},
   "source": [
    "### Changing date time formats\n",
    "\n",
    "<b>strptime</b> - converts string to datetime format<br>\n",
    "<b>strftime</b> - converts datetime to string format"
   ]
  },
  {
   "cell_type": "code",
   "execution_count": 50,
   "metadata": {},
   "outputs": [],
   "source": [
    "import datetime as dt\n",
    "from datetime import time\n",
    "from datetime import timedelta as td"
   ]
  },
  {
   "cell_type": "code",
   "execution_count": 57,
   "metadata": {},
   "outputs": [
    {
     "name": "stdout",
     "output_type": "stream",
     "text": [
      "2029-07-14 11:01:30.012345 <class 'datetime.datetime'>\n",
      "29-14-07 11:01:30\n",
      "2029 07 14 11:01:30\n",
      "2029 July 14 11:01:30\n",
      "14 Jul 2029 11:01:30\n",
      "2029/07/14 11:01:30\n",
      "29-14-07 Saturday 11:01:30\n"
     ]
    },
    {
     "data": {
      "text/plain": [
       "str"
      ]
     },
     "execution_count": 57,
     "metadata": {},
     "output_type": "execute_result"
    }
   ],
   "source": [
    "x = dt.datetime(2029,7,14,11,1,30,12345)  # 2021-07-14 11:01:30.012345\n",
    "print(x,type(x))\n",
    "# type(x)\n",
    "print(x.strftime(\"%y-%d-%m %H:%M:%S\"))\n",
    "print(x.strftime(\"%Y %m %d %H:%M:%S\"))\n",
    "print(x.strftime(\"%Y %B %d %H:%M:%S\"))\n",
    "print(x.strftime(\"%d %b %Y %H:%M:%S\"))\n",
    "print(x.strftime(\"%Y/%m/%d %H:%M:%S\"))\n",
    "date_str = x.strftime(\"%y-%d-%m %A %H:%M:%S\")\n",
    "print(date_str)\n",
    "type(date_str)\n"
   ]
  },
  {
   "cell_type": "code",
   "execution_count": 61,
   "metadata": {},
   "outputs": [
    {
     "name": "stdout",
     "output_type": "stream",
     "text": [
      "2018-09-15 17:45:35\n",
      "--------------\n",
      "2018 09 15 17 45 35\n",
      "2018 15 Sep 17 45 35\n",
      "September 15 18 Saturday 17 45 35\n",
      "Sep-15-2018 Sat 17:45:35\n",
      "September/15/2018 17-45-35\n",
      "Year - 2018, Month - September, Day - 15\n",
      "21 22 05\n"
     ]
    },
    {
     "data": {
      "text/plain": [
       "str"
      ]
     },
     "execution_count": 61,
     "metadata": {},
     "output_type": "execute_result"
    }
   ],
   "source": [
    "x = dt.datetime(2018, 9, 15, 17, 45, 35)\n",
    "print(x)\n",
    "print('--------------')\n",
    "print(x.strftime(\"%Y %m %d %H %M %S\"))\n",
    "print(x.strftime(\"%Y %d %b %H %M %S\"))\n",
    "print(x.strftime(\"%B %d %y %A %H %M %S\"))\n",
    "print(x.strftime(\"%b-%d-%Y %a %H:%M:%S\"))\n",
    "print(x.strftime(\"%B/%d/%Y %H-%M-%S\"))\n",
    "print(x.strftime(\"Year - %Y, Month - %B, Day - %d\"))\n",
    "print(dt.datetime(2021, 5, 22, 12, 45, 35).strftime(\"%y %d %m\"))\n",
    "type(dt.datetime(2021, 7, 11, 12, 45, 35).strftime(\"%y %d %m\"))"
   ]
  },
  {
   "cell_type": "code",
   "execution_count": 67,
   "metadata": {},
   "outputs": [
    {
     "name": "stdout",
     "output_type": "stream",
     "text": [
      "2015-11-19 18:45:00\n"
     ]
    },
    {
     "data": {
      "text/plain": [
       "datetime.datetime"
      ]
     },
     "execution_count": 67,
     "metadata": {},
     "output_type": "execute_result"
    }
   ],
   "source": [
    "s = \"19 Nov 2015 18:45:00\"\n",
    "d1 = dt.datetime.strptime(s, \"%d %b %Y %H:%M:%S\")\n",
    "print(d1)\n",
    "type(d1)"
   ]
  },
  {
   "cell_type": "code",
   "execution_count": 69,
   "metadata": {},
   "outputs": [
    {
     "name": "stdout",
     "output_type": "stream",
     "text": [
      "2001-01-01 18:45:00\n"
     ]
    },
    {
     "data": {
      "text/plain": [
       "datetime.datetime"
      ]
     },
     "execution_count": 69,
     "metadata": {},
     "output_type": "execute_result"
    }
   ],
   "source": [
    "string = \"Jan 1 2001 18:45:00\"\n",
    "d1 = dt.datetime.strptime(string, \"%b %d %Y %H:%M:%S\")\n",
    "print(d1)\n",
    "type(d1)"
   ]
  },
  {
   "cell_type": "code",
   "execution_count": 71,
   "metadata": {},
   "outputs": [
    {
     "ename": "ValueError",
     "evalue": "time data '19 Nov 2015 18:45:00' does not match format '%d %Y %b %H:%M:%S'",
     "output_type": "error",
     "traceback": [
      "\u001b[1;31m---------------------------------------------------------------------------\u001b[0m",
      "\u001b[1;31mValueError\u001b[0m                                Traceback (most recent call last)",
      "\u001b[1;32m<ipython-input-71-af48ac1e8d1c>\u001b[0m in \u001b[0;36m<module>\u001b[1;34m\u001b[0m\n\u001b[0;32m      1\u001b[0m \u001b[0mstring\u001b[0m \u001b[1;33m=\u001b[0m \u001b[1;34m\"19 Nov 2015 18:45:00\"\u001b[0m\u001b[1;33m\u001b[0m\u001b[1;33m\u001b[0m\u001b[0m\n\u001b[1;32m----> 2\u001b[1;33m \u001b[0md1\u001b[0m \u001b[1;33m=\u001b[0m \u001b[0mdt\u001b[0m\u001b[1;33m.\u001b[0m\u001b[0mdatetime\u001b[0m\u001b[1;33m.\u001b[0m\u001b[0mstrptime\u001b[0m\u001b[1;33m(\u001b[0m\u001b[0mstring\u001b[0m\u001b[1;33m,\u001b[0m \u001b[1;34m\"%d %Y %b %H:%M:%S\"\u001b[0m\u001b[1;33m)\u001b[0m\u001b[1;33m\u001b[0m\u001b[1;33m\u001b[0m\u001b[0m\n\u001b[0m\u001b[0;32m      3\u001b[0m \u001b[0mprint\u001b[0m\u001b[1;33m(\u001b[0m\u001b[0md1\u001b[0m\u001b[1;33m)\u001b[0m\u001b[1;33m\u001b[0m\u001b[1;33m\u001b[0m\u001b[0m\n\u001b[0;32m      4\u001b[0m \u001b[0mtype\u001b[0m\u001b[1;33m(\u001b[0m\u001b[0md1\u001b[0m\u001b[1;33m)\u001b[0m\u001b[1;33m\u001b[0m\u001b[1;33m\u001b[0m\u001b[0m\n",
      "\u001b[1;32m~\\anaconda3\\lib\\_strptime.py\u001b[0m in \u001b[0;36m_strptime_datetime\u001b[1;34m(cls, data_string, format)\u001b[0m\n\u001b[0;32m    566\u001b[0m     \"\"\"Return a class cls instance based on the input string and the\n\u001b[0;32m    567\u001b[0m     format string.\"\"\"\n\u001b[1;32m--> 568\u001b[1;33m     \u001b[0mtt\u001b[0m\u001b[1;33m,\u001b[0m \u001b[0mfraction\u001b[0m\u001b[1;33m,\u001b[0m \u001b[0mgmtoff_fraction\u001b[0m \u001b[1;33m=\u001b[0m \u001b[0m_strptime\u001b[0m\u001b[1;33m(\u001b[0m\u001b[0mdata_string\u001b[0m\u001b[1;33m,\u001b[0m \u001b[0mformat\u001b[0m\u001b[1;33m)\u001b[0m\u001b[1;33m\u001b[0m\u001b[1;33m\u001b[0m\u001b[0m\n\u001b[0m\u001b[0;32m    569\u001b[0m     \u001b[0mtzname\u001b[0m\u001b[1;33m,\u001b[0m \u001b[0mgmtoff\u001b[0m \u001b[1;33m=\u001b[0m \u001b[0mtt\u001b[0m\u001b[1;33m[\u001b[0m\u001b[1;33m-\u001b[0m\u001b[1;36m2\u001b[0m\u001b[1;33m:\u001b[0m\u001b[1;33m]\u001b[0m\u001b[1;33m\u001b[0m\u001b[1;33m\u001b[0m\u001b[0m\n\u001b[0;32m    570\u001b[0m     \u001b[0margs\u001b[0m \u001b[1;33m=\u001b[0m \u001b[0mtt\u001b[0m\u001b[1;33m[\u001b[0m\u001b[1;33m:\u001b[0m\u001b[1;36m6\u001b[0m\u001b[1;33m]\u001b[0m \u001b[1;33m+\u001b[0m \u001b[1;33m(\u001b[0m\u001b[0mfraction\u001b[0m\u001b[1;33m,\u001b[0m\u001b[1;33m)\u001b[0m\u001b[1;33m\u001b[0m\u001b[1;33m\u001b[0m\u001b[0m\n",
      "\u001b[1;32m~\\anaconda3\\lib\\_strptime.py\u001b[0m in \u001b[0;36m_strptime\u001b[1;34m(data_string, format)\u001b[0m\n\u001b[0;32m    347\u001b[0m     \u001b[0mfound\u001b[0m \u001b[1;33m=\u001b[0m \u001b[0mformat_regex\u001b[0m\u001b[1;33m.\u001b[0m\u001b[0mmatch\u001b[0m\u001b[1;33m(\u001b[0m\u001b[0mdata_string\u001b[0m\u001b[1;33m)\u001b[0m\u001b[1;33m\u001b[0m\u001b[1;33m\u001b[0m\u001b[0m\n\u001b[0;32m    348\u001b[0m     \u001b[1;32mif\u001b[0m \u001b[1;32mnot\u001b[0m \u001b[0mfound\u001b[0m\u001b[1;33m:\u001b[0m\u001b[1;33m\u001b[0m\u001b[1;33m\u001b[0m\u001b[0m\n\u001b[1;32m--> 349\u001b[1;33m         raise ValueError(\"time data %r does not match format %r\" %\n\u001b[0m\u001b[0;32m    350\u001b[0m                          (data_string, format))\n\u001b[0;32m    351\u001b[0m     \u001b[1;32mif\u001b[0m \u001b[0mlen\u001b[0m\u001b[1;33m(\u001b[0m\u001b[0mdata_string\u001b[0m\u001b[1;33m)\u001b[0m \u001b[1;33m!=\u001b[0m \u001b[0mfound\u001b[0m\u001b[1;33m.\u001b[0m\u001b[0mend\u001b[0m\u001b[1;33m(\u001b[0m\u001b[1;33m)\u001b[0m\u001b[1;33m:\u001b[0m\u001b[1;33m\u001b[0m\u001b[1;33m\u001b[0m\u001b[0m\n",
      "\u001b[1;31mValueError\u001b[0m: time data '19 Nov 2015 18:45:00' does not match format '%d %Y %b %H:%M:%S'"
     ]
    }
   ],
   "source": [
    "string = \"19 Nov 2015 18:45:00\"\n",
    "d1 = dt.datetime.strptime(string, \"%d %Y %b %H:%M:%S\")\n",
    "print(d1)\n",
    "type(d1)"
   ]
  },
  {
   "cell_type": "code",
   "execution_count": 73,
   "metadata": {},
   "outputs": [
    {
     "ename": "ValueError",
     "evalue": "time data 'January 15 2045' does not match format '%A %b %d'",
     "output_type": "error",
     "traceback": [
      "\u001b[1;31m---------------------------------------------------------------------------\u001b[0m",
      "\u001b[1;31mValueError\u001b[0m                                Traceback (most recent call last)",
      "\u001b[1;32m<ipython-input-73-e5d3928f8fd9>\u001b[0m in \u001b[0;36m<module>\u001b[1;34m\u001b[0m\n\u001b[0;32m      1\u001b[0m \u001b[0mdt_string\u001b[0m \u001b[1;33m=\u001b[0m \u001b[1;34m\"January 15 2045\"\u001b[0m\u001b[1;33m\u001b[0m\u001b[1;33m\u001b[0m\u001b[0m\n\u001b[0;32m      2\u001b[0m \u001b[1;33m\u001b[0m\u001b[0m\n\u001b[1;32m----> 3\u001b[1;33m \u001b[0mdt1\u001b[0m \u001b[1;33m=\u001b[0m \u001b[0mdt\u001b[0m\u001b[1;33m.\u001b[0m\u001b[0mdatetime\u001b[0m\u001b[1;33m.\u001b[0m\u001b[0mstrptime\u001b[0m\u001b[1;33m(\u001b[0m\u001b[0mdt_string\u001b[0m\u001b[1;33m,\u001b[0m \u001b[1;34m\"%A %b %d\"\u001b[0m\u001b[1;33m)\u001b[0m\u001b[1;33m\u001b[0m\u001b[1;33m\u001b[0m\u001b[0m\n\u001b[0m\u001b[0;32m      4\u001b[0m \u001b[0mprint\u001b[0m\u001b[1;33m(\u001b[0m\u001b[0mdt1\u001b[0m\u001b[1;33m)\u001b[0m\u001b[1;33m\u001b[0m\u001b[1;33m\u001b[0m\u001b[0m\n",
      "\u001b[1;32m~\\anaconda3\\lib\\_strptime.py\u001b[0m in \u001b[0;36m_strptime_datetime\u001b[1;34m(cls, data_string, format)\u001b[0m\n\u001b[0;32m    566\u001b[0m     \"\"\"Return a class cls instance based on the input string and the\n\u001b[0;32m    567\u001b[0m     format string.\"\"\"\n\u001b[1;32m--> 568\u001b[1;33m     \u001b[0mtt\u001b[0m\u001b[1;33m,\u001b[0m \u001b[0mfraction\u001b[0m\u001b[1;33m,\u001b[0m \u001b[0mgmtoff_fraction\u001b[0m \u001b[1;33m=\u001b[0m \u001b[0m_strptime\u001b[0m\u001b[1;33m(\u001b[0m\u001b[0mdata_string\u001b[0m\u001b[1;33m,\u001b[0m \u001b[0mformat\u001b[0m\u001b[1;33m)\u001b[0m\u001b[1;33m\u001b[0m\u001b[1;33m\u001b[0m\u001b[0m\n\u001b[0m\u001b[0;32m    569\u001b[0m     \u001b[0mtzname\u001b[0m\u001b[1;33m,\u001b[0m \u001b[0mgmtoff\u001b[0m \u001b[1;33m=\u001b[0m \u001b[0mtt\u001b[0m\u001b[1;33m[\u001b[0m\u001b[1;33m-\u001b[0m\u001b[1;36m2\u001b[0m\u001b[1;33m:\u001b[0m\u001b[1;33m]\u001b[0m\u001b[1;33m\u001b[0m\u001b[1;33m\u001b[0m\u001b[0m\n\u001b[0;32m    570\u001b[0m     \u001b[0margs\u001b[0m \u001b[1;33m=\u001b[0m \u001b[0mtt\u001b[0m\u001b[1;33m[\u001b[0m\u001b[1;33m:\u001b[0m\u001b[1;36m6\u001b[0m\u001b[1;33m]\u001b[0m \u001b[1;33m+\u001b[0m \u001b[1;33m(\u001b[0m\u001b[0mfraction\u001b[0m\u001b[1;33m,\u001b[0m\u001b[1;33m)\u001b[0m\u001b[1;33m\u001b[0m\u001b[1;33m\u001b[0m\u001b[0m\n",
      "\u001b[1;32m~\\anaconda3\\lib\\_strptime.py\u001b[0m in \u001b[0;36m_strptime\u001b[1;34m(data_string, format)\u001b[0m\n\u001b[0;32m    347\u001b[0m     \u001b[0mfound\u001b[0m \u001b[1;33m=\u001b[0m \u001b[0mformat_regex\u001b[0m\u001b[1;33m.\u001b[0m\u001b[0mmatch\u001b[0m\u001b[1;33m(\u001b[0m\u001b[0mdata_string\u001b[0m\u001b[1;33m)\u001b[0m\u001b[1;33m\u001b[0m\u001b[1;33m\u001b[0m\u001b[0m\n\u001b[0;32m    348\u001b[0m     \u001b[1;32mif\u001b[0m \u001b[1;32mnot\u001b[0m \u001b[0mfound\u001b[0m\u001b[1;33m:\u001b[0m\u001b[1;33m\u001b[0m\u001b[1;33m\u001b[0m\u001b[0m\n\u001b[1;32m--> 349\u001b[1;33m         raise ValueError(\"time data %r does not match format %r\" %\n\u001b[0m\u001b[0;32m    350\u001b[0m                          (data_string, format))\n\u001b[0;32m    351\u001b[0m     \u001b[1;32mif\u001b[0m \u001b[0mlen\u001b[0m\u001b[1;33m(\u001b[0m\u001b[0mdata_string\u001b[0m\u001b[1;33m)\u001b[0m \u001b[1;33m!=\u001b[0m \u001b[0mfound\u001b[0m\u001b[1;33m.\u001b[0m\u001b[0mend\u001b[0m\u001b[1;33m(\u001b[0m\u001b[1;33m)\u001b[0m\u001b[1;33m:\u001b[0m\u001b[1;33m\u001b[0m\u001b[1;33m\u001b[0m\u001b[0m\n",
      "\u001b[1;31mValueError\u001b[0m: time data 'January 15 2045' does not match format '%A %b %d'"
     ]
    }
   ],
   "source": [
    "dt_string = \"January 15 2045\"\n",
    "\n",
    "dt1 = dt.datetime.strptime(dt_string, \"%A %b %d\")\n",
    "print(dt1)"
   ]
  },
  {
   "cell_type": "code",
   "execution_count": 74,
   "metadata": {},
   "outputs": [
    {
     "name": "stdout",
     "output_type": "stream",
     "text": [
      "2019-08-01 00:00:00\n"
     ]
    }
   ],
   "source": [
    "dt_string = \"Aug 1 19\"\n",
    "\n",
    "dt1 = dt.datetime.strptime(dt_string, \"%b %d %y\")\n",
    "print(dt1)"
   ]
  },
  {
   "cell_type": "code",
   "execution_count": 75,
   "metadata": {},
   "outputs": [
    {
     "name": "stdout",
     "output_type": "stream",
     "text": [
      "2021-03-30 00:00:00\n"
     ]
    }
   ],
   "source": [
    "dt_string = \"2021 Mar 30\"\n",
    "\n",
    "dt1 = dt.datetime.strptime(dt_string, \"%Y %b %d\")\n",
    "print(dt1)"
   ]
  },
  {
   "cell_type": "code",
   "execution_count": 77,
   "metadata": {},
   "outputs": [
    {
     "name": "stdout",
     "output_type": "stream",
     "text": [
      "2021-03-30 00:00:00\n",
      "2021-03-30\n"
     ]
    }
   ],
   "source": [
    "dt_string = \"2021 Tue 3 30\"\n",
    "\n",
    "dt1 = dt.datetime.strptime(dt_string, \"%Y %a %m %d\")\n",
    "print(dt1)\n",
    "dt2 = dt1.strftime(\"%Y-%m-%d\")\n",
    "print(dt2)"
   ]
  },
  {
   "cell_type": "markdown",
   "metadata": {},
   "source": [
    "#### Q) Accept year-month-day from user as user input, covert it to datetime format and then parse it in the format weekdayname, month_fullname, year"
   ]
  },
  {
   "cell_type": "code",
   "execution_count": 13,
   "metadata": {},
   "outputs": [
    {
     "name": "stdout",
     "output_type": "stream",
     "text": [
      "Enter date separated by - : 2019-10-23\n",
      "2019-10-23\n",
      "2019-10-23 00:00:00\n",
      "Wednesday October 2019\n"
     ]
    }
   ],
   "source": [
    "d = input('Enter date separated by - : ')\n",
    "print(d)\n",
    "r = dt.datetime.strptime(d, \"%Y-%m-%d\")\n",
    "print(r)\n",
    "res = r.strftime(\"%A %B %Y\")\n",
    "print(res)"
   ]
  },
  {
   "cell_type": "code",
   "execution_count": null,
   "metadata": {},
   "outputs": [],
   "source": []
  }
 ],
 "metadata": {
  "kernelspec": {
   "display_name": "Python 3",
   "language": "python",
   "name": "python3"
  },
  "language_info": {
   "codemirror_mode": {
    "name": "ipython",
    "version": 3
   },
   "file_extension": ".py",
   "mimetype": "text/x-python",
   "name": "python",
   "nbconvert_exporter": "python",
   "pygments_lexer": "ipython3",
   "version": "3.8.8"
  }
 },
 "nbformat": 4,
 "nbformat_minor": 2
}
