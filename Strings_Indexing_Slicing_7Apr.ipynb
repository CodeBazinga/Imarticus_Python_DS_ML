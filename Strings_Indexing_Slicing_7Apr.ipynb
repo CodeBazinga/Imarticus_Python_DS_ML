{
 "cells": [
  {
   "cell_type": "code",
   "execution_count": 1,
   "id": "df299ccd",
   "metadata": {},
   "outputs": [
    {
     "name": "stdout",
     "output_type": "stream",
     "text": [
      "Welcome to Python\n"
     ]
    },
    {
     "data": {
      "text/plain": [
       "str"
      ]
     },
     "execution_count": 1,
     "metadata": {},
     "output_type": "execute_result"
    }
   ],
   "source": [
    "w = \"Welcome to Python\"\n",
    "print(w)\n",
    "type(w)"
   ]
  },
  {
   "cell_type": "markdown",
   "id": "98ef68ed",
   "metadata": {},
   "source": [
    "<img src=\"string_slicing.png\">"
   ]
  },
  {
   "cell_type": "markdown",
   "id": "33b3c18f",
   "metadata": {},
   "source": [
    "#### Indexing\n",
    "Fetching a character at a particular index \n",
    "\n",
    "Syntax -> variable_name[index]\n",
    "\n",
    "1) Indexing starts from left to right from 0 towards postive numbers<br>\n",
    "2) Indexing starts from right to left from -1 towards negative numbers"
   ]
  },
  {
   "cell_type": "code",
   "execution_count": 7,
   "id": "ca407e91",
   "metadata": {},
   "outputs": [
    {
     "name": "stdout",
     "output_type": "stream",
     "text": [
      "Welcome to Python\n",
      "W\n",
      "e\n",
      "m\n",
      "P\n",
      "l l\n"
     ]
    }
   ],
   "source": [
    "print(w)\n",
    "print(w[0])\n",
    "print(w[1])\n",
    "print(w[5])\n",
    "print(w[-6])\n",
    "print(w[2],w[-15])"
   ]
  },
  {
   "cell_type": "markdown",
   "id": "2ceff524",
   "metadata": {},
   "source": [
    "<img src=\"string_slicing.png\">"
   ]
  },
  {
   "cell_type": "code",
   "execution_count": 9,
   "id": "9dd2c2eb",
   "metadata": {},
   "outputs": [
    {
     "name": "stdout",
     "output_type": "stream",
     "text": [
      "t\n",
      "o\n",
      "y\n",
      "--------\n",
      "y\n",
      "o\n",
      "t\n"
     ]
    }
   ],
   "source": [
    "a = \"toy\"\n",
    "print(a[0])\n",
    "print(a[1])\n",
    "print(a[2])\n",
    "print('--------')\n",
    "print(a[-1])\n",
    "print(a[-2])\n",
    "print(a[-3])"
   ]
  },
  {
   "cell_type": "code",
   "execution_count": 11,
   "id": "33a9b2dd",
   "metadata": {},
   "outputs": [
    {
     "ename": "IndexError",
     "evalue": "string index out of range",
     "output_type": "error",
     "traceback": [
      "\u001b[1;31m---------------------------------------------------------------------------\u001b[0m",
      "\u001b[1;31mIndexError\u001b[0m                                Traceback (most recent call last)",
      "\u001b[1;32m<ipython-input-11-712131ea4ecd>\u001b[0m in \u001b[0;36m<module>\u001b[1;34m\u001b[0m\n\u001b[0;32m      1\u001b[0m \u001b[0ma\u001b[0m \u001b[1;33m=\u001b[0m \u001b[1;34m\"toy\"\u001b[0m\u001b[1;33m\u001b[0m\u001b[1;33m\u001b[0m\u001b[0m\n\u001b[1;32m----> 2\u001b[1;33m \u001b[0mprint\u001b[0m\u001b[1;33m(\u001b[0m\u001b[0ma\u001b[0m\u001b[1;33m[\u001b[0m\u001b[1;33m-\u001b[0m\u001b[1;36m7\u001b[0m\u001b[1;33m]\u001b[0m\u001b[1;33m)\u001b[0m\u001b[1;33m\u001b[0m\u001b[1;33m\u001b[0m\u001b[0m\n\u001b[0m",
      "\u001b[1;31mIndexError\u001b[0m: string index out of range"
     ]
    }
   ],
   "source": [
    "a = \"toy\"\n",
    "print(a[-7])"
   ]
  },
  {
   "cell_type": "markdown",
   "id": "4945b0be",
   "metadata": {},
   "source": [
    "### Slicing\n",
    "\n",
    "Extracting a part of the string is referred to as slicing\n",
    "\n",
    "Syntax -> <br>\n",
    "s = \"Text based data\"<br>\n",
    "<b>s[start:end:step]</b><br>\n",
    "\n",
    "\n",
    "<b>1) start: </b>- Index from where slicing starts<br>\n",
    "<b>2) end: </b>- Index from where slicing ends.<br>\n",
    "<b>3) step: </b>-Number of characters to jump while slicig. Default value is +1\n",
    "\n",
    "a) All parameters are optional<br>\n",
    "b) Slicing can be performed <br>\n",
    "i) from left to right or<br>\n",
    "ii) from right to left<br>"
   ]
  },
  {
   "cell_type": "markdown",
   "id": "82d861a7",
   "metadata": {},
   "source": [
    "### Left to Right slicing\n",
    "\n",
    "1) Step size has to be a positive number.<br>\n",
    "2) Slicing is performed till index <b>end-1</b> if end is mentioned, otherwise till right end.<br>\n",
    "3) If start is not mnetioned, then its default value is 0 (if slicing direction is from left to right)."
   ]
  },
  {
   "cell_type": "markdown",
   "id": "c9bc0bf9",
   "metadata": {},
   "source": [
    "<img src=\"string_slicing.png\">"
   ]
  },
  {
   "cell_type": "code",
   "execution_count": null,
   "id": "f50a51c4",
   "metadata": {},
   "outputs": [],
   "source": []
  },
  {
   "cell_type": "markdown",
   "id": "2f9c8b23",
   "metadata": {},
   "source": [
    "### Right to Left slicing\n",
    "1) Step size has to be a negative number.<br>\n",
    "2) Slicing is performed till index <b>end+1</b> if end is mentioned, otherwise till left end.<br>"
   ]
  },
  {
   "cell_type": "markdown",
   "id": "14822f72",
   "metadata": {},
   "source": [
    "<img src=\"string_slicing.png\">"
   ]
  },
  {
   "cell_type": "code",
   "execution_count": null,
   "id": "116276c4",
   "metadata": {},
   "outputs": [],
   "source": []
  },
  {
   "cell_type": "markdown",
   "id": "ebaff423",
   "metadata": {},
   "source": [
    "### Special case\n",
    "\n",
    "1) When start and/or end is absent(not mentioned) but step size is mentioned, then slicing direction is governed by step size<br>\n",
    "a) If step size is positive=> Left to Right slicing is performed<br>\n",
    "b) If step size is negative=> Right to Left slicing is performed"
   ]
  },
  {
   "cell_type": "markdown",
   "id": "0b245833",
   "metadata": {},
   "source": [
    "#### a) When start is absent, end and step are present"
   ]
  },
  {
   "cell_type": "markdown",
   "id": "f80fa2c7",
   "metadata": {},
   "source": [
    "<img src=\"string_slicing.png\">"
   ]
  },
  {
   "cell_type": "code",
   "execution_count": null,
   "id": "c3cca265",
   "metadata": {},
   "outputs": [],
   "source": []
  },
  {
   "cell_type": "markdown",
   "id": "8aeeeab4",
   "metadata": {},
   "source": [
    "#### b) When end is absent, start and step are present"
   ]
  },
  {
   "cell_type": "markdown",
   "id": "f61a613f",
   "metadata": {},
   "source": [
    "<img src=\"string_slicing.png\">"
   ]
  },
  {
   "cell_type": "code",
   "execution_count": null,
   "id": "5a2b7c46",
   "metadata": {},
   "outputs": [],
   "source": []
  },
  {
   "cell_type": "markdown",
   "id": "3a862edc",
   "metadata": {},
   "source": [
    "#### c) When both the start and end are absent, but step size is present"
   ]
  },
  {
   "cell_type": "markdown",
   "id": "5390a888",
   "metadata": {},
   "source": [
    "<img src=\"string_slicing.png\">"
   ]
  },
  {
   "cell_type": "code",
   "execution_count": null,
   "id": "47feb8d3",
   "metadata": {},
   "outputs": [],
   "source": []
  }
 ],
 "metadata": {
  "kernelspec": {
   "display_name": "Python 3",
   "language": "python",
   "name": "python3"
  },
  "language_info": {
   "codemirror_mode": {
    "name": "ipython",
    "version": 3
   },
   "file_extension": ".py",
   "mimetype": "text/x-python",
   "name": "python",
   "nbconvert_exporter": "python",
   "pygments_lexer": "ipython3",
   "version": "3.8.8"
  }
 },
 "nbformat": 4,
 "nbformat_minor": 5
}
