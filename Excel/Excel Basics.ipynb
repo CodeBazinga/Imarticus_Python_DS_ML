{
 "cells": [
  {
   "cell_type": "code",
   "execution_count": null,
   "id": "34261167",
   "metadata": {},
   "outputs": [],
   "source": [
    "### Excel\n",
    "\n",
    "# 1) Vlookup, Hlookup, multisheet vlookup\n",
    "# 2) Date Time functions\n",
    "# 3) Statistical functions\n",
    "# 4) Pivot table\n",
    "# 5) Grouping operations\n",
    "# 6) Graphs and Charts\n",
    "# 7) Text based functions\n",
    "\n",
    "# Advancved Excel\n",
    "# 1) MIS\n",
    "# 2) VBA\n",
    "# 3) Macros\n",
    "\n",
    "\n",
    "# SQL\n",
    "# Tableu\n",
    "# Power BI\n",
    "# Python\n"
   ]
  }
 ],
 "metadata": {
  "kernelspec": {
   "display_name": "Python 3",
   "language": "python",
   "name": "python3"
  },
  "language_info": {
   "codemirror_mode": {
    "name": "ipython",
    "version": 3
   },
   "file_extension": ".py",
   "mimetype": "text/x-python",
   "name": "python",
   "nbconvert_exporter": "python",
   "pygments_lexer": "ipython3",
   "version": "3.8.8"
  }
 },
 "nbformat": 4,
 "nbformat_minor": 5
}
