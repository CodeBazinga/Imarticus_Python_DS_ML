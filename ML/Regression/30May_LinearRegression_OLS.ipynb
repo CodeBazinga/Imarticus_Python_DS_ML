{
 "cells": [
  {
   "cell_type": "markdown",
   "id": "c8e77381",
   "metadata": {},
   "source": [
    "### Assumptions of Multiple Linear Regression\n",
    "\n",
    "1) Linearity<br>\n",
    "2) No Multicollinearlity<br>\n",
    "3) No Autocorrelation<br>\n",
    "4) Homoscedasticity (No Hetroscedasticity)<br>\n",
    "5) Data is normally distributed<br>\n",
    "6) No missing values<br>\n",
    "7) No Outliers<br>"
   ]
  },
  {
   "cell_type": "markdown",
   "id": "aaf41d03",
   "metadata": {},
   "source": [
    "### 1) Linearity\n",
    "\n",
    "a) All independent variables should have a linear relationship with dependent variables<br>\n",
    "b) <b>How to check linearlity</b><br>\n",
    "i) Plot the scatter chart between the independent variable and dependent varibale <br>\n",
    "ii) Pairplot<br>\n",
    "c) <b>What to do if this assumption is violated</b><br>\n",
    "i) Apply a nonlinear transformation to the independent and/or dependent variable. Common examples include taking the log, the square root, or the reciprocal of the independent and/or dependent variable.\n"
   ]
  },
  {
   "cell_type": "markdown",
   "id": "a96d5bd8",
   "metadata": {},
   "source": [
    "### 2) No Multicollinearity\n",
    "1) The independent variables should not be correlated. Absence of this phenomenon is known as multicollinearity.<br>\n",
    "2) This phenomenon exists when the independent variables are found to be moderately or highly correlated. In a model with correlated variables, it becomes a tough task to figure out the true relationship of a predictors with response variable. In other words, it becomes difficult to find out which variable is actually contributing to predict the response variable.<br>\n",
    "\n",
    "3) <b>How to Check Multicollinearity</b><br>\n",
    "a) You can use scatter plot to visualize correlation effect among variables.<br>\n",
    "b) Use VIF factor. VIF value <= 4 suggests no multicollinearity whereas a value of >= 10 implies serious multicollinearity. VIF = Variance Inflation Factor.<br> \n",
    "c) VIF - Measures how much the variance of estimated Regression coefficient increases if your predictors are correlated. If variance increases, model is not relaible<br>\n",
    "c) A correlation table should also solve the purpose.<br>"
   ]
  },
  {
   "cell_type": "markdown",
   "id": "32e7096f",
   "metadata": {},
   "source": [
    "### 3) Homoscedasticity (No Hetroscedasticity)\n",
    "1) The presence of non-constant variance in the error terms results in heteroskedasticity. Generally, non-constant variance arises in presence of outliers <br>\n",
    "2) Under Linear Reg it is assumed that the variance in erros is constant (Homoscedasticity)<br>\n",
    "2) <b>How to check</b><br>\n",
    "a) Breusch-Pagan Test<br>\n",
    "b) Goldfeld Quant Test"
   ]
  },
  {
   "cell_type": "markdown",
   "id": "bfe50881",
   "metadata": {},
   "source": [
    "### 4) No Autocorrelation\n",
    "1) The presence of correlation in error terms drastically reduces model’s accuracy. This usually occurs in time series models where the next instant is dependent on previous instant. If the error terms are correlated, the estimated standard errors tend to underestimate the true standard error.<br>\n",
    "2) Errors are assumed to be randomly spread across error lines<br>\n",
    "2) Autocorrelation measures relationship between a variable's present value and its past value.\n",
    "\n",
    "3) <b>How to Check</b><br>\n",
    "a) Durbin Watson test<br>"
   ]
  },
  {
   "cell_type": "markdown",
   "id": "dbbab099",
   "metadata": {},
   "source": [
    "#### 5) Data is Normally Distributed\n",
    "#### 6) No missing values.\n",
    "#### 7) No Outliers"
   ]
  },
  {
   "cell_type": "code",
   "execution_count": null,
   "id": "c83a61b7",
   "metadata": {},
   "outputs": [],
   "source": []
  },
  {
   "cell_type": "markdown",
   "id": "081a34ea",
   "metadata": {},
   "source": [
    "### OLS Model (Ordinary Least Square) \n",
    "This method aims to minimize SSE (Sum of Square Error)"
   ]
  },
  {
   "cell_type": "markdown",
   "id": "2a6bec3c",
   "metadata": {},
   "source": [
    "#### Least Square Linear Regression\n",
    "ypred = mx + c<br>\n",
    "Error = (y1 - ypred1)^2 + (y2 - ypred2)^2 (y3 - ypred3)^2 + ....  + (yn - ypredn)^n\n",
    "\n",
    "SSE = Sum(yi - ypredi)^2\n",
    "\n",
    "<img src=\"cost_fun.png\" height=\"150\" width=\"250\">\n",
    "<img src=\"cost_fun2.png\" height=\"150\" width=\"250\">\n"
   ]
  },
  {
   "cell_type": "markdown",
   "id": "fe426363",
   "metadata": {},
   "source": [
    "To minimize the error, first order derivative should be equal to zero\n",
    "Solving the Equation we get<br>\n",
    "<img src=\"mc_linreg_ols.png\">"
   ]
  },
  {
   "cell_type": "markdown",
   "id": "8fa45dd4",
   "metadata": {},
   "source": [
    "### Decomposition Variablity\n",
    "It deals with determinants for a good regression model\n",
    "1) SSE<br>\n",
    "2) SSR<br>\n",
    "3) SST<br>\n",
    "4) R2 Score<br>\n",
    "5) Adjusted R2 Score<br>\n",
    "6) AIC <br>\n",
    "7) BIC <br>"
   ]
  },
  {
   "cell_type": "markdown",
   "id": "522160c2",
   "metadata": {},
   "source": [
    "#### Can R2 be negative\n",
    "<img src=\"r2_negative.png\">"
   ]
  },
  {
   "cell_type": "markdown",
   "id": "4509ab8d",
   "metadata": {},
   "source": [
    "### Adjusted R2 Score\n",
    "1)\tIt measures the proportion of variation explained by only those independent variables that really help in explaining the dependent variable. It penalizes you for adding independent variable that don’t help in predicting dependent variable.<br>\n",
    "2)\tThe Adjusted R-squared takes into account the number of independent variables used for predicting the target variable. In doing so, we can determine whether adding new variables to the model actually increases the model fit.<br>\n",
    "3)\tAdjusted R-squared is positive, not negative. It is always lower than the R-squared.\n",
    "<img src=\"adjusted_r2.png\">\n",
    "\n",
    "where<br>\n",
    "n represents the number of data points in our dataset<br>\n",
    "k represents the number of independent variables<br>\n",
    "R represents the R-squared values determined by the model.<br>\n",
    "\n",
    "\n",
    "5)\tIf R-squared does not increase significantly on the addition of a new independent variable, then the value of Adjusted R-squared will actually decrease.<br>\n",
    "6)\tIf on adding the new independent variable we see a significant increase in R-squared value, then the Adjusted R-squared value will also increase.\n",
    "\n",
    "<img src=\"adjusted_r2_theory.png\" heighgt=\"200\" width=\"350\" align=\"left\">"
   ]
  },
  {
   "cell_type": "markdown",
   "id": "2d284958",
   "metadata": {},
   "source": [
    "### AIC (Akaike Information Criteia)\n",
    "<img src=\"aic.png\" align=\"left\" height=\"250\" width=\"400\">"
   ]
  },
  {
   "cell_type": "markdown",
   "id": "af418892",
   "metadata": {},
   "source": [
    "### BIC (Bayesian Information Criteia)\n",
    "<img src=\"bic.png\" align=\"left\" height=\"300\" width=\"400\">"
   ]
  },
  {
   "cell_type": "code",
   "execution_count": 10,
   "id": "11772811",
   "metadata": {},
   "outputs": [],
   "source": [
    "import numpy as np\n",
    "import pandas as pd\n",
    "from sklearn.metrics import r2_score\n",
    "from sklearn.linear_model import LinearRegression"
   ]
  },
  {
   "cell_type": "code",
   "execution_count": 18,
   "id": "fce1f0b3",
   "metadata": {},
   "outputs": [
    {
     "data": {
      "text/html": [
       "<div>\n",
       "<style scoped>\n",
       "    .dataframe tbody tr th:only-of-type {\n",
       "        vertical-align: middle;\n",
       "    }\n",
       "\n",
       "    .dataframe tbody tr th {\n",
       "        vertical-align: top;\n",
       "    }\n",
       "\n",
       "    .dataframe thead th {\n",
       "        text-align: right;\n",
       "    }\n",
       "</style>\n",
       "<table border=\"1\" class=\"dataframe\">\n",
       "  <thead>\n",
       "    <tr style=\"text-align: right;\">\n",
       "      <th></th>\n",
       "      <th>x</th>\n",
       "      <th>y</th>\n",
       "    </tr>\n",
       "  </thead>\n",
       "  <tbody>\n",
       "    <tr>\n",
       "      <th>0</th>\n",
       "      <td>20</td>\n",
       "      <td>41</td>\n",
       "    </tr>\n",
       "    <tr>\n",
       "      <th>1</th>\n",
       "      <td>30</td>\n",
       "      <td>63</td>\n",
       "    </tr>\n",
       "    <tr>\n",
       "      <th>2</th>\n",
       "      <td>25</td>\n",
       "      <td>51</td>\n",
       "    </tr>\n",
       "    <tr>\n",
       "      <th>3</th>\n",
       "      <td>17</td>\n",
       "      <td>39</td>\n",
       "    </tr>\n",
       "    <tr>\n",
       "      <th>4</th>\n",
       "      <td>36</td>\n",
       "      <td>78</td>\n",
       "    </tr>\n",
       "  </tbody>\n",
       "</table>\n",
       "</div>"
      ],
      "text/plain": [
       "    x   y\n",
       "0  20  41\n",
       "1  30  63\n",
       "2  25  51\n",
       "3  17  39\n",
       "4  36  78"
      ]
     },
     "execution_count": 18,
     "metadata": {},
     "output_type": "execute_result"
    }
   ],
   "source": [
    "a = [20,30,25,17,36,40,46,55,52,27,50,33,42,21,48,37]\n",
    "b = [41,63,51,39,78,75,87,98,102,60,101,70,86,47,90,69]\n",
    "\n",
    "df = pd.DataFrame({'x':a,'y':b})\n",
    "df.head()"
   ]
  },
  {
   "cell_type": "code",
   "execution_count": 19,
   "id": "9ab8a8d9",
   "metadata": {},
   "outputs": [
    {
     "name": "stdout",
     "output_type": "stream",
     "text": [
      "(16, 1)\n",
      "(16,)\n"
     ]
    }
   ],
   "source": [
    "x = df[['x']]\n",
    "y = df['y']\n",
    "print(x.shape)\n",
    "print(y.shape)"
   ]
  },
  {
   "cell_type": "code",
   "execution_count": 20,
   "id": "5c32c2d9",
   "metadata": {},
   "outputs": [],
   "source": [
    "import statsmodels.api as sm"
   ]
  },
  {
   "cell_type": "code",
   "execution_count": 22,
   "id": "6e29d51b",
   "metadata": {},
   "outputs": [
    {
     "name": "stdout",
     "output_type": "stream",
     "text": [
      "                            OLS Regression Results                            \n",
      "==============================================================================\n",
      "Dep. Variable:                      y   R-squared:                       0.967\n",
      "Model:                            OLS   Adj. R-squared:                  0.965\n",
      "Method:                 Least Squares   F-statistic:                     415.7\n",
      "Date:                Mon, 30 May 2022   Prob (F-statistic):           8.28e-12\n",
      "Time:                        09:10:18   Log-Likelihood:                -43.439\n",
      "No. Observations:                  16   AIC:                             90.88\n",
      "Df Residuals:                      14   BIC:                             92.42\n",
      "Df Model:                           1                                         \n",
      "Covariance Type:            nonrobust                                         \n",
      "==============================================================================\n",
      "                 coef    std err          t      P>|t|      [0.025      0.975]\n",
      "------------------------------------------------------------------------------\n",
      "const         10.8313      3.170      3.417      0.004       4.033      17.630\n",
      "x              1.6990      0.083     20.389      0.000       1.520       1.878\n",
      "==============================================================================\n",
      "Omnibus:                        2.207   Durbin-Watson:                   1.493\n",
      "Prob(Omnibus):                  0.332   Jarque-Bera (JB):                1.005\n",
      "Skew:                           0.013   Prob(JB):                        0.605\n",
      "Kurtosis:                       1.773   Cond. No.                         124.\n",
      "==============================================================================\n",
      "\n",
      "Notes:\n",
      "[1] Standard Errors assume that the covariance matrix of the errors is correctly specified.\n"
     ]
    },
    {
     "name": "stderr",
     "output_type": "stream",
     "text": [
      "C:\\Users\\Dell\\anaconda3\\lib\\site-packages\\scipy\\stats\\_stats_py.py:1477: UserWarning: kurtosistest only valid for n>=20 ... continuing anyway, n=16\n",
      "  warnings.warn(\"kurtosistest only valid for n>=20 ... continuing \"\n"
     ]
    }
   ],
   "source": [
    "x = sm.add_constant(x)\n",
    "\n",
    "result = sm.OLS(y, x).fit()\n",
    " \n",
    "print(result.summary())"
   ]
  },
  {
   "cell_type": "markdown",
   "id": "ffcd074d",
   "metadata": {},
   "source": [
    "Interpreting Results\n",
    "\n",
    "1) R-squared : the coefficient of determination. It is the proportion of the variance in the dependent variable that is predictable/explained\n",
    "\n",
    "2) Adj. R-squared : Adjusted R-squared is the modified form of R-squared adjusted for the number of independent variables in the model. Value of adj. R-squared increases, when we include extra variables which actually improve the model.\n",
    "\n",
    "3) F-statistic : the ratio of mean squared error of the model to the mean squared error of residuals. It determines the overall significance of the model.\n",
    "\n",
    "4) coef : the coefficients of the independent variables and the constant term in the equation.\n",
    "\n",
    "5) t : the value of t-statistic. It is the ratio of the difference between the estimated and hypothesized value of a parameter, to the standard error"
   ]
  },
  {
   "cell_type": "code",
   "execution_count": 30,
   "id": "56ccd5dd",
   "metadata": {},
   "outputs": [
    {
     "name": "stdout",
     "output_type": "stream",
     "text": [
      "0.9646428571428571\n"
     ]
    }
   ],
   "source": [
    "# Calculation of Adjusted R2_score\n",
    "n=16\n",
    "k=1\n",
    "adj_r2 = 1 - ((1-0.967)*(n-1)/(n-k-1))\n",
    "print(adj_r2)"
   ]
  },
  {
   "cell_type": "markdown",
   "id": "d47500a1",
   "metadata": {},
   "source": [
    "#### Generating Predictions"
   ]
  },
  {
   "cell_type": "code",
   "execution_count": 31,
   "id": "5369e824",
   "metadata": {},
   "outputs": [
    {
     "name": "stdout",
     "output_type": "stream",
     "text": [
      "(16, 1)\n",
      "(16,)\n"
     ]
    }
   ],
   "source": [
    "x = df[['x']]\n",
    "y = df['y']\n",
    "print(x.shape)\n",
    "print(y.shape)"
   ]
  },
  {
   "cell_type": "code",
   "execution_count": 32,
   "id": "134c335e",
   "metadata": {},
   "outputs": [
    {
     "name": "stdout",
     "output_type": "stream",
     "text": [
      "0.9674199185802056\n"
     ]
    }
   ],
   "source": [
    "model = LinearRegression()\n",
    "model.fit(x,y)\n",
    "print(model.score(x,y))"
   ]
  },
  {
   "cell_type": "code",
   "execution_count": 34,
   "id": "dbd078cb",
   "metadata": {},
   "outputs": [
    {
     "name": "stdout",
     "output_type": "stream",
     "text": [
      "Coefficient or Slope [1.69896233]\n",
      "Intercept or Constant 10.831300639658856\n"
     ]
    }
   ],
   "source": [
    "# Y_pred = mx + c\n",
    "m = model.coef_\n",
    "c = model.intercept_\n",
    "print('Coefficient or Slope',m)\n",
    "print('Intercept or Constant',c)"
   ]
  },
  {
   "cell_type": "markdown",
   "id": "64cbbbe0",
   "metadata": {},
   "source": [
    "#### Example - 2"
   ]
  },
  {
   "cell_type": "code",
   "execution_count": 65,
   "id": "c1935dfc",
   "metadata": {},
   "outputs": [
    {
     "data": {
      "text/html": [
       "<div>\n",
       "<style scoped>\n",
       "    .dataframe tbody tr th:only-of-type {\n",
       "        vertical-align: middle;\n",
       "    }\n",
       "\n",
       "    .dataframe tbody tr th {\n",
       "        vertical-align: top;\n",
       "    }\n",
       "\n",
       "    .dataframe thead th {\n",
       "        text-align: right;\n",
       "    }\n",
       "</style>\n",
       "<table border=\"1\" class=\"dataframe\">\n",
       "  <thead>\n",
       "    <tr style=\"text-align: right;\">\n",
       "      <th></th>\n",
       "      <th>Year</th>\n",
       "      <th>Month</th>\n",
       "      <th>Interest_Rate</th>\n",
       "      <th>Unemployment_Rate</th>\n",
       "      <th>Stock_Index_Price</th>\n",
       "    </tr>\n",
       "  </thead>\n",
       "  <tbody>\n",
       "    <tr>\n",
       "      <th>0</th>\n",
       "      <td>2017</td>\n",
       "      <td>12</td>\n",
       "      <td>2.75</td>\n",
       "      <td>5.3</td>\n",
       "      <td>1464</td>\n",
       "    </tr>\n",
       "    <tr>\n",
       "      <th>1</th>\n",
       "      <td>2017</td>\n",
       "      <td>11</td>\n",
       "      <td>2.50</td>\n",
       "      <td>5.3</td>\n",
       "      <td>1394</td>\n",
       "    </tr>\n",
       "    <tr>\n",
       "      <th>2</th>\n",
       "      <td>2017</td>\n",
       "      <td>10</td>\n",
       "      <td>2.50</td>\n",
       "      <td>5.3</td>\n",
       "      <td>1357</td>\n",
       "    </tr>\n",
       "    <tr>\n",
       "      <th>3</th>\n",
       "      <td>2017</td>\n",
       "      <td>9</td>\n",
       "      <td>2.50</td>\n",
       "      <td>5.3</td>\n",
       "      <td>1293</td>\n",
       "    </tr>\n",
       "    <tr>\n",
       "      <th>4</th>\n",
       "      <td>2017</td>\n",
       "      <td>8</td>\n",
       "      <td>2.50</td>\n",
       "      <td>5.4</td>\n",
       "      <td>1256</td>\n",
       "    </tr>\n",
       "  </tbody>\n",
       "</table>\n",
       "</div>"
      ],
      "text/plain": [
       "   Year  Month  Interest_Rate  Unemployment_Rate  Stock_Index_Price\n",
       "0  2017     12           2.75                5.3               1464\n",
       "1  2017     11           2.50                5.3               1394\n",
       "2  2017     10           2.50                5.3               1357\n",
       "3  2017      9           2.50                5.3               1293\n",
       "4  2017      8           2.50                5.4               1256"
      ]
     },
     "execution_count": 65,
     "metadata": {},
     "output_type": "execute_result"
    }
   ],
   "source": [
    "\n",
    "Stock_Market = {'Year': [2017,2017,2017,2017,2017,2017,2017,2017,2017,2017,2017,2017,2016,2016,2016,2016,2016,2016,2016,2016,2016,2016,2016,2016],\n",
    "                'Month': [12, 11,10,9,8,7,6,5,4,3,2,1,12,11,10,9,8,7,6,5,4,3,2,1],\n",
    "                'Interest_Rate': [2.75,2.5,2.5,2.5,2.5,2.5,2.5,2.25,2.25,2.25,2,2,2,1.75,1.75,1.75,1.75,1.75,1.75,1.75,1.75,1.75,1.75,1.75],\n",
    "                'Unemployment_Rate': [5.3,5.3,5.3,5.3,5.4,5.6,5.5,5.5,5.5,5.6,5.7,5.9,6,5.9,5.8,6.1,6.2,6.1,6.1,6.1,5.9,6.2,6.2,6.1],\n",
    "                'Stock_Index_Price': [1464,1394,1357,1293,1256,1254,1234,1195,1159,1167,1130,1075,1047,965,943,958,971,949,884,866,876,822,704,719]        \n",
    "                }\n",
    "\n",
    "df1 = pd.DataFrame(Stock_Market,columns=['Year','Month','Interest_Rate','Unemployment_Rate','Stock_Index_Price']) \n",
    "df1.head()"
   ]
  },
  {
   "cell_type": "code",
   "execution_count": 91,
   "id": "b239a858",
   "metadata": {},
   "outputs": [
    {
     "data": {
      "text/plain": [
       "(10, 2)"
      ]
     },
     "execution_count": 91,
     "metadata": {},
     "output_type": "execute_result"
    }
   ],
   "source": [
    "df.shape"
   ]
  },
  {
   "cell_type": "markdown",
   "id": "f86f5576",
   "metadata": {},
   "source": [
    "#### Problem Statement - Based on Interest Rate,Unemployment rate, predict the Stock_Index_price"
   ]
  },
  {
   "cell_type": "code",
   "execution_count": null,
   "id": "2bfcdb18",
   "metadata": {},
   "outputs": [],
   "source": []
  },
  {
   "cell_type": "code",
   "execution_count": null,
   "id": "448ac3c5",
   "metadata": {},
   "outputs": [],
   "source": []
  }
 ],
 "metadata": {
  "kernelspec": {
   "display_name": "Python 3",
   "language": "python",
   "name": "python3"
  },
  "language_info": {
   "codemirror_mode": {
    "name": "ipython",
    "version": 3
   },
   "file_extension": ".py",
   "mimetype": "text/x-python",
   "name": "python",
   "nbconvert_exporter": "python",
   "pygments_lexer": "ipython3",
   "version": "3.8.8"
  }
 },
 "nbformat": 4,
 "nbformat_minor": 5
}
