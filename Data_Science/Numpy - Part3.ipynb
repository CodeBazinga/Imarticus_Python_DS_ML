{
 "cells": [
  {
   "cell_type": "code",
   "execution_count": 6,
   "metadata": {},
   "outputs": [
    {
     "name": "stdout",
     "output_type": "stream",
     "text": [
      "[10, 14, 7, 4, 6, 9]\n"
     ]
    }
   ],
   "source": [
    "def right_rotate(d,k):\n",
    "    res = []\n",
    "    res.extend(d[-k:])\n",
    "    res.extend(d[:len(d)-k])\n",
    "    print(res)\n",
    "\n",
    "a = [7,4,6,9,10,14]    \n",
    "\n",
    "right_rotate(a,2)\n",
    "\n",
    "\n",
    "\n",
    "# [7,4,6,9,10,14] RR by 2 => [10,14,7,4,6,9,10]\n"
   ]
  },
  {
   "cell_type": "code",
   "execution_count": null,
   "metadata": {},
   "outputs": [],
   "source": [
    "#### \n",
    "1) concatenate\n",
    "2) np.dot(), np.matmul()\n",
    "3) np.multiply()\n",
    "4) a.T\n",
    "5) "
   ]
  },
  {
   "cell_type": "code",
   "execution_count": 2,
   "metadata": {},
   "outputs": [],
   "source": [
    "import numpy as np"
   ]
  },
  {
   "cell_type": "markdown",
   "metadata": {},
   "source": [
    "## 1) Operations on Array/Matrix"
   ]
  },
  {
   "cell_type": "markdown",
   "metadata": {},
   "source": [
    "### Array operations"
   ]
  },
  {
   "cell_type": "code",
   "execution_count": 3,
   "metadata": {},
   "outputs": [
    {
     "data": {
      "text/plain": [
       "array([[12, 13,  4],\n",
       "       [15, 16, 17],\n",
       "       [18, 19, 20],\n",
       "       [21, 22, 24]])"
      ]
     },
     "execution_count": 3,
     "metadata": {},
     "output_type": "execute_result"
    }
   ],
   "source": [
    "r1 =[[12,13,4],[15,16,17],[18,19,20],[21,22,24]]\n",
    "a1 = np.array(r1)\n",
    "a1"
   ]
  },
  {
   "cell_type": "markdown",
   "metadata": {},
   "source": [
    "#### Adding scalar value to each and every array value"
   ]
  },
  {
   "cell_type": "code",
   "execution_count": 5,
   "metadata": {},
   "outputs": [
    {
     "data": {
      "text/plain": [
       "array([[32, 33, 24],\n",
       "       [35, 36, 37],\n",
       "       [38, 39, 40],\n",
       "       [41, 42, 44]])"
      ]
     },
     "execution_count": 5,
     "metadata": {},
     "output_type": "execute_result"
    }
   ],
   "source": [
    "a1+20"
   ]
  },
  {
   "cell_type": "code",
   "execution_count": 8,
   "metadata": {},
   "outputs": [
    {
     "data": {
      "text/plain": [
       "array([[12, 13,  4],\n",
       "       [15, 16, 17],\n",
       "       [18, 19, 20],\n",
       "       [21, 22, 24]])"
      ]
     },
     "execution_count": 8,
     "metadata": {},
     "output_type": "execute_result"
    }
   ],
   "source": [
    "a1"
   ]
  },
  {
   "cell_type": "markdown",
   "metadata": {},
   "source": [
    "#### Row wise addition"
   ]
  },
  {
   "cell_type": "code",
   "execution_count": 10,
   "metadata": {},
   "outputs": [
    {
     "data": {
      "text/plain": [
       "array([[22, 23, 14],\n",
       "       [30, 31, 32],\n",
       "       [38, 39, 40],\n",
       "       [46, 47, 49]])"
      ]
     },
     "execution_count": 10,
     "metadata": {},
     "output_type": "execute_result"
    }
   ],
   "source": [
    "a1+[[10],[15],[20],[25]]"
   ]
  },
  {
   "cell_type": "code",
   "execution_count": 12,
   "metadata": {},
   "outputs": [
    {
     "data": {
      "text/plain": [
       "array([[22, 23, 14],\n",
       "       [30, 31, 32],\n",
       "       [38, 39, 40],\n",
       "       [46, 47, 49]])"
      ]
     },
     "execution_count": 12,
     "metadata": {},
     "output_type": "execute_result"
    }
   ],
   "source": [
    "a2 = a1+[[10],[15],[20],[25]]\n",
    "a2"
   ]
  },
  {
   "cell_type": "code",
   "execution_count": 13,
   "metadata": {},
   "outputs": [
    {
     "data": {
      "text/plain": [
       "array([[12, 13,  4],\n",
       "       [15, 16, 17],\n",
       "       [18, 19, 20],\n",
       "       [21, 22, 24]])"
      ]
     },
     "execution_count": 13,
     "metadata": {},
     "output_type": "execute_result"
    }
   ],
   "source": [
    "a1"
   ]
  },
  {
   "cell_type": "markdown",
   "metadata": {},
   "source": [
    "#### Column wise addition"
   ]
  },
  {
   "cell_type": "code",
   "execution_count": 15,
   "metadata": {},
   "outputs": [
    {
     "data": {
      "text/plain": [
       "array([[22, 28, 24],\n",
       "       [25, 31, 37],\n",
       "       [28, 34, 40],\n",
       "       [31, 37, 44]])"
      ]
     },
     "execution_count": 15,
     "metadata": {},
     "output_type": "execute_result"
    }
   ],
   "source": [
    "a1+[10,15,20]"
   ]
  },
  {
   "cell_type": "code",
   "execution_count": 18,
   "metadata": {},
   "outputs": [
    {
     "name": "stdout",
     "output_type": "stream",
     "text": [
      "[[12 13  4]\n",
      " [15 16 17]\n",
      " [18 19 20]\n",
      " [21 22 24]]\n",
      "(4, 3)\n"
     ]
    }
   ],
   "source": [
    "print(a1)\n",
    "print(a1.shape)"
   ]
  },
  {
   "cell_type": "markdown",
   "metadata": {},
   "source": [
    "#### Adding array of same dimension"
   ]
  },
  {
   "cell_type": "code",
   "execution_count": 20,
   "metadata": {},
   "outputs": [
    {
     "data": {
      "text/plain": [
       "array([[14, 16,  8],\n",
       "       [16, 20, 20],\n",
       "       [20, 20, 23],\n",
       "       [22, 24, 28]])"
      ]
     },
     "execution_count": 20,
     "metadata": {},
     "output_type": "execute_result"
    }
   ],
   "source": [
    "a1+[[2,3,4],\n",
    "    [1,4,3],\n",
    "    [2,1,3],\n",
    "    [1,2,4]]"
   ]
  },
  {
   "cell_type": "code",
   "execution_count": 21,
   "metadata": {},
   "outputs": [
    {
     "data": {
      "text/plain": [
       "array([[12, 13,  4],\n",
       "       [15, 16, 17],\n",
       "       [18, 19, 20],\n",
       "       [21, 22, 24]])"
      ]
     },
     "execution_count": 21,
     "metadata": {},
     "output_type": "execute_result"
    }
   ],
   "source": [
    "a1"
   ]
  },
  {
   "cell_type": "markdown",
   "metadata": {},
   "source": [
    "## 2) Numpy array functions"
   ]
  },
  {
   "cell_type": "markdown",
   "metadata": {},
   "source": [
    "### a) np.sum()"
   ]
  },
  {
   "cell_type": "code",
   "execution_count": 22,
   "metadata": {},
   "outputs": [
    {
     "data": {
      "text/plain": [
       "array([[12, 13,  4],\n",
       "       [15, 16, 17],\n",
       "       [18, 19, 20],\n",
       "       [21, 22, 24]])"
      ]
     },
     "execution_count": 22,
     "metadata": {},
     "output_type": "execute_result"
    }
   ],
   "source": [
    "a1"
   ]
  },
  {
   "cell_type": "code",
   "execution_count": 24,
   "metadata": {},
   "outputs": [
    {
     "data": {
      "text/plain": [
       "201"
      ]
     },
     "execution_count": 24,
     "metadata": {},
     "output_type": "execute_result"
    }
   ],
   "source": [
    "12+13+4+15+16+17+18+19+20+21+22+24"
   ]
  },
  {
   "cell_type": "code",
   "execution_count": 25,
   "metadata": {},
   "outputs": [
    {
     "data": {
      "text/plain": [
       "201"
      ]
     },
     "execution_count": 25,
     "metadata": {},
     "output_type": "execute_result"
    }
   ],
   "source": [
    "a1.sum()"
   ]
  },
  {
   "cell_type": "code",
   "execution_count": 26,
   "metadata": {},
   "outputs": [
    {
     "data": {
      "text/plain": [
       "array([[12, 13,  4],\n",
       "       [15, 16, 17],\n",
       "       [18, 19, 20],\n",
       "       [21, 22, 24]])"
      ]
     },
     "execution_count": 26,
     "metadata": {},
     "output_type": "execute_result"
    }
   ],
   "source": [
    "a1"
   ]
  },
  {
   "cell_type": "code",
   "execution_count": 28,
   "metadata": {},
   "outputs": [
    {
     "data": {
      "text/plain": [
       "array([29, 48, 57, 67])"
      ]
     },
     "execution_count": 28,
     "metadata": {},
     "output_type": "execute_result"
    }
   ],
   "source": [
    "# Row wise addition, axis=1\n",
    "a1.sum(axis=1)"
   ]
  },
  {
   "cell_type": "code",
   "execution_count": 30,
   "metadata": {},
   "outputs": [
    {
     "data": {
      "text/plain": [
       "array([66, 70, 65])"
      ]
     },
     "execution_count": 30,
     "metadata": {},
     "output_type": "execute_result"
    }
   ],
   "source": [
    "# Column wise addition, axis=0\n",
    "a1.sum(axis=0)"
   ]
  },
  {
   "cell_type": "code",
   "execution_count": null,
   "metadata": {},
   "outputs": [],
   "source": []
  },
  {
   "cell_type": "markdown",
   "metadata": {},
   "source": [
    "### b) np.max() and np.min()"
   ]
  },
  {
   "cell_type": "code",
   "execution_count": 31,
   "metadata": {},
   "outputs": [
    {
     "data": {
      "text/plain": [
       "array([[12, 13,  4],\n",
       "       [15, 16, 17],\n",
       "       [18, 19, 20],\n",
       "       [21, 22, 24]])"
      ]
     },
     "execution_count": 31,
     "metadata": {},
     "output_type": "execute_result"
    }
   ],
   "source": [
    "a1"
   ]
  },
  {
   "cell_type": "code",
   "execution_count": 33,
   "metadata": {},
   "outputs": [
    {
     "name": "stdout",
     "output_type": "stream",
     "text": [
      "24\n",
      "4\n"
     ]
    }
   ],
   "source": [
    "print(np.max(a1))\n",
    "print(np.min(a1))"
   ]
  },
  {
   "cell_type": "markdown",
   "metadata": {},
   "source": [
    "#### c) np.argmax() and np.argmin()\n",
    "<b>np.argmax()</b> - Returns the indices of the maximum values along an axis <br>  \n",
    "<b>np.argmin() </b>- Returns the indices of the minimum values along an axis "
   ]
  },
  {
   "cell_type": "code",
   "execution_count": 34,
   "metadata": {},
   "outputs": [
    {
     "data": {
      "text/plain": [
       "array([12, 14,  7, 79, 32, 45, 28,  4, 17])"
      ]
     },
     "execution_count": 34,
     "metadata": {},
     "output_type": "execute_result"
    }
   ],
   "source": [
    "p1 = np.array([12,14,7,79,32,45,28,4,17])\n",
    "p1"
   ]
  },
  {
   "cell_type": "code",
   "execution_count": 36,
   "metadata": {},
   "outputs": [
    {
     "name": "stdout",
     "output_type": "stream",
     "text": [
      "79\n",
      "4\n"
     ]
    },
    {
     "data": {
      "text/plain": [
       "79"
      ]
     },
     "execution_count": 36,
     "metadata": {},
     "output_type": "execute_result"
    }
   ],
   "source": [
    "print(np.max(p1))\n",
    "print(np.min(p1))\n",
    "p1[3]"
   ]
  },
  {
   "cell_type": "code",
   "execution_count": 37,
   "metadata": {},
   "outputs": [
    {
     "name": "stdout",
     "output_type": "stream",
     "text": [
      "3\n",
      "7\n"
     ]
    }
   ],
   "source": [
    "print(np.argmax(p1))\n",
    "print(np.argmin(p1))"
   ]
  },
  {
   "cell_type": "code",
   "execution_count": 39,
   "metadata": {},
   "outputs": [
    {
     "name": "stdout",
     "output_type": "stream",
     "text": [
      "Max_value is  79\n",
      "Min_value is  4\n"
     ]
    }
   ],
   "source": [
    "max_value = p1[np.argmax(p1)]\n",
    "min_value = p1[np.argmin(p1)]\n",
    "print('Max_value is ',max_value)\n",
    "print('Min_value is ',min_value)"
   ]
  },
  {
   "cell_type": "code",
   "execution_count": 40,
   "metadata": {},
   "outputs": [
    {
     "name": "stdout",
     "output_type": "stream",
     "text": [
      "[[16 15 21]\n",
      " [15 16  8]\n",
      " [19  2 18]\n",
      " [ 9 12 13]]\n"
     ]
    }
   ],
   "source": [
    "r2 = [[16,15,21],[15,16,8],[19,2,18],[9,12,13]]\n",
    "p2 = np.array(r2)\n",
    "print(p2)"
   ]
  },
  {
   "cell_type": "code",
   "execution_count": 41,
   "metadata": {},
   "outputs": [
    {
     "name": "stdout",
     "output_type": "stream",
     "text": [
      "[2 1 0]\n",
      "[3 2 1]\n",
      "[2 1 0 2]\n",
      "[1 2 1 0]\n"
     ]
    }
   ],
   "source": [
    "print(np.argmax(p2,axis=0))  # column wise\n",
    "print(np.argmin(p2,axis=0))  # column wise\n",
    "print(np.argmax(p2,axis=1))  # row wise\n",
    "print(np.argmin(p2,axis=1))  # row wise"
   ]
  },
  {
   "cell_type": "markdown",
   "metadata": {},
   "source": [
    "### d) np.sort"
   ]
  },
  {
   "cell_type": "code",
   "execution_count": 42,
   "metadata": {},
   "outputs": [
    {
     "name": "stdout",
     "output_type": "stream",
     "text": [
      "[34 23 56 12 39]\n"
     ]
    }
   ],
   "source": [
    "r1 = np.array([34,23,56,12,39])\n",
    "print(r1)          "
   ]
  },
  {
   "cell_type": "code",
   "execution_count": 43,
   "metadata": {},
   "outputs": [
    {
     "name": "stdout",
     "output_type": "stream",
     "text": [
      "[12 23 34 39 56]\n"
     ]
    }
   ],
   "source": [
    "r2 = np.sort(r1) # ascending order\n",
    "print(r2)"
   ]
  },
  {
   "cell_type": "code",
   "execution_count": 46,
   "metadata": {},
   "outputs": [
    {
     "data": {
      "text/plain": [
       "array([56, 39, 34, 23, 12])"
      ]
     },
     "execution_count": 46,
     "metadata": {},
     "output_type": "execute_result"
    }
   ],
   "source": [
    "r2[::-1]"
   ]
  },
  {
   "cell_type": "code",
   "execution_count": 47,
   "metadata": {},
   "outputs": [
    {
     "name": "stdout",
     "output_type": "stream",
     "text": [
      "[[11 21 18]\n",
      " [24 35 16]\n",
      " [ 7 14  3]]\n"
     ]
    }
   ],
   "source": [
    "r3 = np.array([[11,21,18],[24,35,16],[7,14,3]])\n",
    "print(r3)"
   ]
  },
  {
   "cell_type": "code",
   "execution_count": 48,
   "metadata": {},
   "outputs": [
    {
     "name": "stdout",
     "output_type": "stream",
     "text": [
      "[[11 18 21]\n",
      " [16 24 35]\n",
      " [ 3  7 14]]\n"
     ]
    }
   ],
   "source": [
    "# sorts row wise\n",
    "r4 = np.sort(r3,axis=1)\n",
    "print(r4)"
   ]
  },
  {
   "cell_type": "code",
   "execution_count": 49,
   "metadata": {},
   "outputs": [
    {
     "data": {
      "text/plain": [
       "array([[11, 21, 18],\n",
       "       [24, 35, 16],\n",
       "       [ 7, 14,  3]])"
      ]
     },
     "execution_count": 49,
     "metadata": {},
     "output_type": "execute_result"
    }
   ],
   "source": [
    "r3"
   ]
  },
  {
   "cell_type": "code",
   "execution_count": 51,
   "metadata": {},
   "outputs": [
    {
     "name": "stdout",
     "output_type": "stream",
     "text": [
      "[[ 7 14  3]\n",
      " [11 21 16]\n",
      " [24 35 18]]\n"
     ]
    }
   ],
   "source": [
    "# sorts column wise\n",
    "r4 = np.sort(r3,axis=0)\n",
    "print(r4)"
   ]
  },
  {
   "cell_type": "code",
   "execution_count": 52,
   "metadata": {},
   "outputs": [
    {
     "data": {
      "text/plain": [
       "array([[11, 21, 18],\n",
       "       [24, 35, 16],\n",
       "       [ 7, 14,  3]])"
      ]
     },
     "execution_count": 52,
     "metadata": {},
     "output_type": "execute_result"
    }
   ],
   "source": [
    "r3"
   ]
  },
  {
   "cell_type": "markdown",
   "metadata": {},
   "source": [
    "#### e) np.where() - returns index position for the matching conditions"
   ]
  },
  {
   "cell_type": "code",
   "execution_count": 53,
   "metadata": {},
   "outputs": [
    {
     "data": {
      "text/plain": [
       "array([12, 14,  7, 79, 32, 45, 28,  4, 17])"
      ]
     },
     "execution_count": 53,
     "metadata": {},
     "output_type": "execute_result"
    }
   ],
   "source": [
    "p1"
   ]
  },
  {
   "cell_type": "code",
   "execution_count": 38,
   "metadata": {},
   "outputs": [
    {
     "name": "stdout",
     "output_type": "stream",
     "text": [
      "(array([0, 5], dtype=int64),)\n"
     ]
    }
   ],
   "source": [
    "n2 = np.where(p1%3==0)\n",
    "print(n2)"
   ]
  },
  {
   "cell_type": "code",
   "execution_count": 55,
   "metadata": {},
   "outputs": [
    {
     "data": {
      "text/plain": [
       "array([12, 45])"
      ]
     },
     "execution_count": 55,
     "metadata": {},
     "output_type": "execute_result"
    }
   ],
   "source": [
    "p1[np.where(p1%3==0)]"
   ]
  },
  {
   "cell_type": "code",
   "execution_count": 56,
   "metadata": {},
   "outputs": [
    {
     "data": {
      "text/plain": [
       "array([12, 14,  7, 79, 32, 45, 28,  4, 17])"
      ]
     },
     "execution_count": 56,
     "metadata": {},
     "output_type": "execute_result"
    }
   ],
   "source": [
    "p1"
   ]
  },
  {
   "cell_type": "code",
   "execution_count": 57,
   "metadata": {},
   "outputs": [
    {
     "data": {
      "text/plain": [
       "(array([0, 1, 2, 7, 8], dtype=int64),)"
      ]
     },
     "execution_count": 57,
     "metadata": {},
     "output_type": "execute_result"
    }
   ],
   "source": [
    "np.where(p1 < 20)"
   ]
  },
  {
   "cell_type": "code",
   "execution_count": 58,
   "metadata": {},
   "outputs": [
    {
     "data": {
      "text/plain": [
       "array([12, 14,  7,  4, 17])"
      ]
     },
     "execution_count": 58,
     "metadata": {},
     "output_type": "execute_result"
    }
   ],
   "source": [
    "p1[np.where(p1 < 20)]"
   ]
  },
  {
   "cell_type": "code",
   "execution_count": 61,
   "metadata": {},
   "outputs": [
    {
     "data": {
      "text/plain": [
       "array([12, 14,  7, 79, 32, 45, 28,  4, 17])"
      ]
     },
     "execution_count": 61,
     "metadata": {},
     "output_type": "execute_result"
    }
   ],
   "source": [
    "p1"
   ]
  },
  {
   "cell_type": "code",
   "execution_count": 62,
   "metadata": {},
   "outputs": [
    {
     "name": "stdout",
     "output_type": "stream",
     "text": [
      "[ 17  19  12 158  64  90  56   9  22]\n"
     ]
    }
   ],
   "source": [
    "t1 = np.where(p1 < 20, p1+5, p1*2)\n",
    "print(t1)"
   ]
  },
  {
   "cell_type": "code",
   "execution_count": 64,
   "metadata": {},
   "outputs": [
    {
     "data": {
      "text/plain": [
       "array([12, 14,  7, 79, 32, 45, 28,  4, 17])"
      ]
     },
     "execution_count": 64,
     "metadata": {},
     "output_type": "execute_result"
    }
   ],
   "source": [
    "p1"
   ]
  },
  {
   "cell_type": "code",
   "execution_count": 66,
   "metadata": {},
   "outputs": [
    {
     "data": {
      "text/plain": [
       "array([22, 24,  0, 72, 42, 38, 38, 14, 10])"
      ]
     },
     "execution_count": 66,
     "metadata": {},
     "output_type": "execute_result"
    }
   ],
   "source": [
    "np.where(p1%2==0, p1+10, p1-7)"
   ]
  },
  {
   "cell_type": "code",
   "execution_count": 69,
   "metadata": {},
   "outputs": [
    {
     "data": {
      "text/plain": [
       "array([[ 1,  2,  7],\n",
       "       [ 3,  4, -8],\n",
       "       [ 5,  6,  0]])"
      ]
     },
     "execution_count": 69,
     "metadata": {},
     "output_type": "execute_result"
    }
   ],
   "source": [
    "w1 = np.array([[1,2,7],[3,4,-8],[5,6,0]])\n",
    "w1"
   ]
  },
  {
   "cell_type": "code",
   "execution_count": 70,
   "metadata": {},
   "outputs": [
    {
     "data": {
      "text/plain": [
       "(array([0, 1, 1, 2, 2], dtype=int64), array([1, 1, 2, 1, 2], dtype=int64))"
      ]
     },
     "execution_count": 70,
     "metadata": {},
     "output_type": "execute_result"
    }
   ],
   "source": [
    "np.where(w1%2==0)"
   ]
  },
  {
   "cell_type": "code",
   "execution_count": 71,
   "metadata": {},
   "outputs": [
    {
     "data": {
      "text/plain": [
       "array([ 2,  4, -8,  6,  0])"
      ]
     },
     "execution_count": 71,
     "metadata": {},
     "output_type": "execute_result"
    }
   ],
   "source": [
    "w1[np.where(w1%2==0)]"
   ]
  },
  {
   "cell_type": "markdown",
   "metadata": {},
   "source": [
    "#### f) np.extract() - directly returns the values on which conditions are applied,using the second parameter as array name"
   ]
  },
  {
   "cell_type": "code",
   "execution_count": 72,
   "metadata": {},
   "outputs": [
    {
     "data": {
      "text/plain": [
       "array([12, 14,  7, 79, 32, 45, 28,  4, 17])"
      ]
     },
     "execution_count": 72,
     "metadata": {},
     "output_type": "execute_result"
    }
   ],
   "source": [
    "p1"
   ]
  },
  {
   "cell_type": "code",
   "execution_count": 74,
   "metadata": {},
   "outputs": [
    {
     "name": "stdout",
     "output_type": "stream",
     "text": [
      "[79 32 45 28]\n"
     ]
    },
    {
     "data": {
      "text/plain": [
       "numpy.ndarray"
      ]
     },
     "execution_count": 74,
     "metadata": {},
     "output_type": "execute_result"
    }
   ],
   "source": [
    "t1 = np.extract(p1>20, p1)\n",
    "print(t1)\n",
    "type(t1)"
   ]
  },
  {
   "cell_type": "code",
   "execution_count": 75,
   "metadata": {},
   "outputs": [
    {
     "data": {
      "text/plain": [
       "array([12, 14,  7, 79, 32, 45, 28,  4, 17])"
      ]
     },
     "execution_count": 75,
     "metadata": {},
     "output_type": "execute_result"
    }
   ],
   "source": [
    "p1"
   ]
  },
  {
   "cell_type": "code",
   "execution_count": 78,
   "metadata": {},
   "outputs": [
    {
     "data": {
      "text/plain": [
       "array([14,  7, 79, 32, 28,  4, 17])"
      ]
     },
     "execution_count": 78,
     "metadata": {},
     "output_type": "execute_result"
    }
   ],
   "source": [
    "np.extract(p1%3!=0,p1)"
   ]
  },
  {
   "cell_type": "code",
   "execution_count": 80,
   "metadata": {},
   "outputs": [
    {
     "data": {
      "text/plain": [
       "array([[ 1,  2,  7],\n",
       "       [ 3,  4,  8],\n",
       "       [ 5,  6, 13]])"
      ]
     },
     "execution_count": 80,
     "metadata": {},
     "output_type": "execute_result"
    }
   ],
   "source": [
    "w1 = np.array([[1,2,7],[3,4,8],[5,6,13]])\n",
    "w1"
   ]
  },
  {
   "cell_type": "code",
   "execution_count": 81,
   "metadata": {},
   "outputs": [
    {
     "name": "stdout",
     "output_type": "stream",
     "text": [
      "[ 1  2  7  4  8  5 13]\n"
     ]
    }
   ],
   "source": [
    "w2 = np.extract(w1%3!=0,w1)\n",
    "print(w2)"
   ]
  },
  {
   "cell_type": "markdown",
   "metadata": {},
   "source": [
    "#### g) np.insert() - adds values at specified position"
   ]
  },
  {
   "cell_type": "code",
   "execution_count": 84,
   "metadata": {},
   "outputs": [
    {
     "data": {
      "text/plain": [
       "array([12, 14,  7, 79, 32, 45, 28,  4, 17])"
      ]
     },
     "execution_count": 84,
     "metadata": {},
     "output_type": "execute_result"
    }
   ],
   "source": [
    "p1"
   ]
  },
  {
   "cell_type": "code",
   "execution_count": 87,
   "metadata": {},
   "outputs": [
    {
     "data": {
      "text/plain": [
       "array([12, 14, 41,  7, 79, 32, 45, 28,  4, 17])"
      ]
     },
     "execution_count": 87,
     "metadata": {},
     "output_type": "execute_result"
    }
   ],
   "source": [
    "np.insert(p1,2,41)"
   ]
  },
  {
   "cell_type": "code",
   "execution_count": 88,
   "metadata": {},
   "outputs": [
    {
     "data": {
      "text/plain": [
       "array([12, 14,  7, 79, 32, 45, 28,  4, 17])"
      ]
     },
     "execution_count": 88,
     "metadata": {},
     "output_type": "execute_result"
    }
   ],
   "source": [
    "p1"
   ]
  },
  {
   "cell_type": "code",
   "execution_count": 90,
   "metadata": {},
   "outputs": [
    {
     "data": {
      "text/plain": [
       "array([12, 14,  7, 79, 32, 45, 28, 56,  4, 17])"
      ]
     },
     "execution_count": 90,
     "metadata": {},
     "output_type": "execute_result"
    }
   ],
   "source": [
    "np.insert(p1,7,56)"
   ]
  },
  {
   "cell_type": "code",
   "execution_count": 92,
   "metadata": {},
   "outputs": [
    {
     "name": "stdout",
     "output_type": "stream",
     "text": [
      "2D arr : \n",
      " [[ 0  1  2  3]\n",
      " [ 4  5  6  7]\n",
      " [ 8  9 10 11]]\n",
      "Shape :  (3, 4)\n",
      "Array after insertion :\n",
      " [[ 0  9  1  2  3]\n",
      " [ 4  9  5  6  7]\n",
      " [ 8  9  9 10 11]]\n",
      "Shape :  (3, 5)\n",
      "Array after insertion :\n",
      " [[ 0  1  2  3]\n",
      " [ 4  5  6  7]\n",
      " [41 41 41 41]\n",
      " [ 8  9 10 11]]\n",
      "Shape :  (4, 4)\n"
     ]
    }
   ],
   "source": [
    "# Working on 2D array  \n",
    "arr = np.arange(12).reshape(3, 4) \n",
    "print(\"2D arr : \\n\", arr) \n",
    "print(\"Shape : \", arr.shape) \n",
    "  \n",
    "a = np.insert(arr, 1, 9, axis = 1) \n",
    "# row wise insertion of 9 theryby creating a new column\n",
    "print(\"Array after insertion :\\n\", a) \n",
    "print(\"Shape : \", a.shape) \n",
    "\n",
    "b = np.insert(arr, 2, 41, axis = 0)  \n",
    "# column wise insertion of 41 theryby creating a new column\n",
    "print(\"Array after insertion :\\n\", b) \n",
    "print(\"Shape : \", b.shape) "
   ]
  },
  {
   "cell_type": "markdown",
   "metadata": {},
   "source": [
    "#### h) np.delete() - deletes values at specified position/index"
   ]
  },
  {
   "cell_type": "code",
   "execution_count": 93,
   "metadata": {},
   "outputs": [
    {
     "data": {
      "text/plain": [
       "array([12, 14,  7, 79, 32, 45, 28,  4, 17])"
      ]
     },
     "execution_count": 93,
     "metadata": {},
     "output_type": "execute_result"
    }
   ],
   "source": [
    "p1"
   ]
  },
  {
   "cell_type": "code",
   "execution_count": 94,
   "metadata": {},
   "outputs": [
    {
     "data": {
      "text/plain": [
       "array([12, 14,  7, 79, 45, 28,  4, 17])"
      ]
     },
     "execution_count": 94,
     "metadata": {},
     "output_type": "execute_result"
    }
   ],
   "source": [
    "p2 = np.delete(p1,4)\n",
    "p2"
   ]
  },
  {
   "cell_type": "code",
   "execution_count": 95,
   "metadata": {},
   "outputs": [
    {
     "data": {
      "text/plain": [
       "array([12, 14,  7, 79, 32, 45, 28,  4, 17])"
      ]
     },
     "execution_count": 95,
     "metadata": {},
     "output_type": "execute_result"
    }
   ],
   "source": [
    "p1"
   ]
  },
  {
   "cell_type": "code",
   "execution_count": 96,
   "metadata": {},
   "outputs": [
    {
     "data": {
      "text/plain": [
       "array([[ 1,  2,  7],\n",
       "       [ 3,  4,  8],\n",
       "       [ 5,  6, 13]])"
      ]
     },
     "execution_count": 96,
     "metadata": {},
     "output_type": "execute_result"
    }
   ],
   "source": [
    "w1"
   ]
  },
  {
   "cell_type": "code",
   "execution_count": 97,
   "metadata": {},
   "outputs": [
    {
     "name": "stdout",
     "output_type": "stream",
     "text": [
      "[[1 2]\n",
      " [3 4]\n",
      " [5 6]]\n"
     ]
    }
   ],
   "source": [
    "q1 = np.delete(w1,2,axis=1)  # deletes 2nd index column value corresponding to each row\n",
    "print(q1)"
   ]
  },
  {
   "cell_type": "code",
   "execution_count": 98,
   "metadata": {},
   "outputs": [
    {
     "data": {
      "text/plain": [
       "array([[ 1,  2,  7],\n",
       "       [ 3,  4,  8],\n",
       "       [ 5,  6, 13]])"
      ]
     },
     "execution_count": 98,
     "metadata": {},
     "output_type": "execute_result"
    }
   ],
   "source": [
    "w1"
   ]
  },
  {
   "cell_type": "code",
   "execution_count": 100,
   "metadata": {},
   "outputs": [
    {
     "name": "stdout",
     "output_type": "stream",
     "text": [
      "[[1 2 7]\n",
      " [3 4 8]]\n"
     ]
    }
   ],
   "source": [
    "q1 = np.delete(w1,2,axis=0) # deletes 2nd index row value corresponding to each column\n",
    "print(q1)"
   ]
  },
  {
   "cell_type": "markdown",
   "metadata": {},
   "source": [
    "## 3) Appending values ino array "
   ]
  },
  {
   "cell_type": "code",
   "execution_count": 102,
   "metadata": {},
   "outputs": [
    {
     "data": {
      "text/plain": [
       "array([12, 14,  7, 79, 32, 45, 28,  4, 17])"
      ]
     },
     "execution_count": 102,
     "metadata": {},
     "output_type": "execute_result"
    }
   ],
   "source": [
    "a1 = np.array([12, 14,  7, 79, 32, 45, 28,  4, 17])\n",
    "a1"
   ]
  },
  {
   "cell_type": "code",
   "execution_count": 103,
   "metadata": {},
   "outputs": [
    {
     "data": {
      "text/plain": [
       "array([12, 14,  7, 79, 32, 45, 28,  4, 17, 23])"
      ]
     },
     "execution_count": 103,
     "metadata": {},
     "output_type": "execute_result"
    }
   ],
   "source": [
    "np.append(a1,23)"
   ]
  },
  {
   "cell_type": "code",
   "execution_count": 104,
   "metadata": {},
   "outputs": [
    {
     "name": "stdout",
     "output_type": "stream",
     "text": [
      "[12 14  7 79 32 45 28  4 17]\n"
     ]
    }
   ],
   "source": [
    "print(a1)"
   ]
  },
  {
   "cell_type": "code",
   "execution_count": 106,
   "metadata": {},
   "outputs": [
    {
     "data": {
      "text/plain": [
       "array([12, 14,  7, 79, 32, 45, 28,  4, 17, 36])"
      ]
     },
     "execution_count": 106,
     "metadata": {},
     "output_type": "execute_result"
    }
   ],
   "source": [
    "np.append(a1,36)"
   ]
  },
  {
   "cell_type": "code",
   "execution_count": 107,
   "metadata": {},
   "outputs": [
    {
     "name": "stdout",
     "output_type": "stream",
     "text": [
      "[[ 1  2  7]\n",
      " [ 3  4  8]\n",
      " [ 5  6 13]]\n",
      "(3, 3)\n"
     ]
    }
   ],
   "source": [
    "w1 = np.array([[1,2,7],[3,4,8],[5,6,13]])\n",
    "print(w1)\n",
    "print(w1.shape)"
   ]
  },
  {
   "cell_type": "code",
   "execution_count": 108,
   "metadata": {},
   "outputs": [
    {
     "name": "stdout",
     "output_type": "stream",
     "text": [
      "[ 1  2  7  3  4  8  5  6 13 45]\n"
     ]
    }
   ],
   "source": [
    "w2 = np.append(w1,45)\n",
    "print(w2)"
   ]
  },
  {
   "cell_type": "code",
   "execution_count": 109,
   "metadata": {},
   "outputs": [
    {
     "data": {
      "text/plain": [
       "array([[ 1,  2,  3,  4],\n",
       "       [ 5,  6,  7,  8],\n",
       "       [ 9, 10, 11, 12]])"
      ]
     },
     "execution_count": 109,
     "metadata": {},
     "output_type": "execute_result"
    }
   ],
   "source": [
    "r1 = np.array([1,2,3,4,5,6,7,8,9,10,11,12]).reshape(3,4)\n",
    "r1"
   ]
  },
  {
   "cell_type": "markdown",
   "metadata": {},
   "source": [
    "### a) Append/Add a new Row/Column"
   ]
  },
  {
   "cell_type": "code",
   "execution_count": 110,
   "metadata": {},
   "outputs": [
    {
     "name": "stdout",
     "output_type": "stream",
     "text": [
      "[[ 1  2  3  4]\n",
      " [ 5  6  7  8]\n",
      " [ 9 10 11 12]]\n",
      "(3, 4)\n"
     ]
    }
   ],
   "source": [
    "print(r1)\n",
    "print(r1.shape)"
   ]
  },
  {
   "cell_type": "code",
   "execution_count": 118,
   "metadata": {},
   "outputs": [
    {
     "name": "stdout",
     "output_type": "stream",
     "text": [
      "[[ 1  2  3  4]\n",
      " [ 5  6  7  8]\n",
      " [ 9 10 11 12]]\n",
      "(3, 4)\n",
      "-------\n",
      "[[ 1  2  3  4]\n",
      " [ 5  6  7  8]\n",
      " [ 9 10 11 12]\n",
      " [13 14 15 16]]\n",
      "(4, 4)\n"
     ]
    }
   ],
   "source": [
    "# Column wise - Add a value to each column, thereby creaing a new row\n",
    "r2 = np.append(r1, [[13,14,15,16]], axis=0) \n",
    "print(r1)\n",
    "print(r1.shape)\n",
    "print('-------')\n",
    "print(r2)\n",
    "print(r2.shape)"
   ]
  },
  {
   "cell_type": "code",
   "execution_count": 119,
   "metadata": {},
   "outputs": [
    {
     "name": "stdout",
     "output_type": "stream",
     "text": [
      "[[ 1  2  3  4]\n",
      " [ 5  6  7  8]\n",
      " [ 9 10 11 12]]\n"
     ]
    }
   ],
   "source": [
    "print(r1)"
   ]
  },
  {
   "cell_type": "code",
   "execution_count": 125,
   "metadata": {},
   "outputs": [
    {
     "name": "stdout",
     "output_type": "stream",
     "text": [
      "[[ 1  2  3  4]\n",
      " [ 5  6  7  8]\n",
      " [ 9 10 11 12]]\n",
      "(3, 4)\n",
      "-------\n",
      "[[  1   2   3   4 500]\n",
      " [  5   6   7   8 600]\n",
      " [  9  10  11  12 700]]\n",
      "(3, 5)\n"
     ]
    }
   ],
   "source": [
    "# Row wise - Add a value to each row, thereby creaing a new column\n",
    "r4 = np.append(r1, [[500],[600],[700]], axis=1)\n",
    "print(r1)\n",
    "print(r1.shape)\n",
    "print('-------')\n",
    "print(r4)\n",
    "print(r4.shape)"
   ]
  },
  {
   "cell_type": "code",
   "execution_count": 126,
   "metadata": {},
   "outputs": [
    {
     "name": "stdout",
     "output_type": "stream",
     "text": [
      "[[ 1  2  3  4]\n",
      " [ 5  6  7  8]\n",
      " [ 9 10 11 12]]\n"
     ]
    }
   ],
   "source": [
    "print(r1)"
   ]
  },
  {
   "cell_type": "markdown",
   "metadata": {},
   "source": [
    "#### 4) Iterating over numpy array - np.nditer()"
   ]
  },
  {
   "cell_type": "code",
   "execution_count": 127,
   "metadata": {},
   "outputs": [
    {
     "name": "stdout",
     "output_type": "stream",
     "text": [
      "[12 14  7 79 32 45 28  4 17]\n"
     ]
    },
    {
     "data": {
      "text/plain": [
       "numpy.ndarray"
      ]
     },
     "execution_count": 127,
     "metadata": {},
     "output_type": "execute_result"
    }
   ],
   "source": [
    "p1 = np.array([12, 14,  7, 79, 32, 45, 28,  4, 17])\n",
    "print(p1)\n",
    "type(p1)"
   ]
  },
  {
   "cell_type": "code",
   "execution_count": 128,
   "metadata": {},
   "outputs": [
    {
     "name": "stdout",
     "output_type": "stream",
     "text": [
      "12\n",
      "14\n",
      "7\n",
      "79\n",
      "32\n",
      "45\n",
      "28\n",
      "4\n",
      "17\n"
     ]
    }
   ],
   "source": [
    "for i in p1:\n",
    "    print(i)"
   ]
  },
  {
   "cell_type": "code",
   "execution_count": 129,
   "metadata": {},
   "outputs": [
    {
     "name": "stdout",
     "output_type": "stream",
     "text": [
      "12\n",
      "14\n",
      "7\n",
      "79\n",
      "32\n",
      "45\n",
      "28\n",
      "4\n",
      "17\n"
     ]
    }
   ],
   "source": [
    "for i in np.nditer(p1):\n",
    "    print(i)"
   ]
  },
  {
   "cell_type": "code",
   "execution_count": 131,
   "metadata": {},
   "outputs": [
    {
     "name": "stdout",
     "output_type": "stream",
     "text": [
      "[[ 2 10 18]\n",
      " [26 34 42]\n",
      " [50 58 66]]\n"
     ]
    }
   ],
   "source": [
    "n1 = np.arange(2,70,8).reshape(3,3)\n",
    "print(n1)"
   ]
  },
  {
   "cell_type": "code",
   "execution_count": 134,
   "metadata": {},
   "outputs": [
    {
     "name": "stdout",
     "output_type": "stream",
     "text": [
      "[ 2 10 18]\n",
      "[26 34 42]\n",
      "[50 58 66]\n"
     ]
    }
   ],
   "source": [
    "for i in n1:\n",
    "    print(i)"
   ]
  },
  {
   "cell_type": "code",
   "execution_count": 136,
   "metadata": {},
   "outputs": [
    {
     "name": "stdout",
     "output_type": "stream",
     "text": [
      "2\n",
      "10\n",
      "18\n",
      "26\n",
      "34\n",
      "42\n",
      "50\n",
      "58\n",
      "66\n"
     ]
    }
   ],
   "source": [
    "for i in np.nditer(n1):\n",
    "    print(i)"
   ]
  },
  {
   "cell_type": "code",
   "execution_count": 138,
   "metadata": {},
   "outputs": [
    {
     "data": {
      "text/plain": [
       "array([[ 2, 10, 18],\n",
       "       [26, 34, 42],\n",
       "       [50, 58, 66]])"
      ]
     },
     "execution_count": 138,
     "metadata": {},
     "output_type": "execute_result"
    }
   ],
   "source": [
    "n1"
   ]
  },
  {
   "cell_type": "code",
   "execution_count": 139,
   "metadata": {},
   "outputs": [
    {
     "data": {
      "text/plain": [
       "array([ 2, 10, 18, 26, 34, 42, 50, 58, 66])"
      ]
     },
     "execution_count": 139,
     "metadata": {},
     "output_type": "execute_result"
    }
   ],
   "source": [
    "n1.flatten()"
   ]
  },
  {
   "cell_type": "code",
   "execution_count": 144,
   "metadata": {},
   "outputs": [
    {
     "name": "stdout",
     "output_type": "stream",
     "text": [
      "2\n",
      "10\n",
      "18\n",
      "26\n",
      "34\n",
      "42\n",
      "50\n",
      "58\n",
      "66\n"
     ]
    }
   ],
   "source": [
    "for i in n1.flatten():\n",
    "    print(i)"
   ]
  },
  {
   "cell_type": "code",
   "execution_count": 145,
   "metadata": {},
   "outputs": [
    {
     "data": {
      "text/plain": [
       "array([[ 2, 10, 18],\n",
       "       [26, 34, 42],\n",
       "       [50, 58, 66]])"
      ]
     },
     "execution_count": 145,
     "metadata": {},
     "output_type": "execute_result"
    }
   ],
   "source": [
    "n1"
   ]
  },
  {
   "cell_type": "code",
   "execution_count": 147,
   "metadata": {},
   "outputs": [
    {
     "name": "stdout",
     "output_type": "stream",
     "text": [
      "[ 2 10 18]\n",
      "[26 34 42]\n",
      "[50 58 66]\n"
     ]
    }
   ],
   "source": [
    "for i in n1:\n",
    "    print(i)"
   ]
  },
  {
   "cell_type": "code",
   "execution_count": 146,
   "metadata": {},
   "outputs": [
    {
     "name": "stdout",
     "output_type": "stream",
     "text": [
      "2 10 18 26 34 42 50 58 66 "
     ]
    }
   ],
   "source": [
    "for i in np.nditer(n1):  \n",
    "    print(i,end=' ')"
   ]
  },
  {
   "cell_type": "code",
   "execution_count": 148,
   "metadata": {},
   "outputs": [
    {
     "name": "stdout",
     "output_type": "stream",
     "text": [
      "2 10 18 26 34 42 50 58 66 "
     ]
    }
   ],
   "source": [
    "for i in np.nditer(n1,order='C'):  # order= 'C', iterates element row wise\n",
    "    print(i,end=' ')"
   ]
  },
  {
   "cell_type": "code",
   "execution_count": 149,
   "metadata": {},
   "outputs": [
    {
     "data": {
      "text/plain": [
       "array([[ 2, 10, 18],\n",
       "       [26, 34, 42],\n",
       "       [50, 58, 66]])"
      ]
     },
     "execution_count": 149,
     "metadata": {},
     "output_type": "execute_result"
    }
   ],
   "source": [
    "n1"
   ]
  },
  {
   "cell_type": "code",
   "execution_count": 155,
   "metadata": {},
   "outputs": [
    {
     "name": "stdout",
     "output_type": "stream",
     "text": [
      "2 26 50 10 34 58 18 42 66 "
     ]
    }
   ],
   "source": [
    "for i in np.nditer(n1,order='F'):  # order= 'F', print element column wise\n",
    "    print(i,end=' ')"
   ]
  },
  {
   "cell_type": "code",
   "execution_count": 152,
   "metadata": {},
   "outputs": [
    {
     "data": {
      "text/plain": [
       "array([[ 2, 10, 18],\n",
       "       [26, 34, 42],\n",
       "       [50, 58, 66]])"
      ]
     },
     "execution_count": 152,
     "metadata": {},
     "output_type": "execute_result"
    }
   ],
   "source": [
    "n1"
   ]
  },
  {
   "cell_type": "code",
   "execution_count": 153,
   "metadata": {},
   "outputs": [
    {
     "name": "stdout",
     "output_type": "stream",
     "text": [
      "2 10 18 26 34 42 50 58 66 "
     ]
    }
   ],
   "source": [
    "for i in np.nditer(n1,order='A'):  # order= 'A', print element row wise\n",
    "    print(i,end=' ')"
   ]
  },
  {
   "cell_type": "code",
   "execution_count": 154,
   "metadata": {},
   "outputs": [
    {
     "name": "stdout",
     "output_type": "stream",
     "text": [
      "2 10 18 26 34 42 50 58 66 "
     ]
    }
   ],
   "source": [
    "for i in np.nditer(n1,order='K'):  # order= 'K', print element row wise\n",
    "    print(i,end=' ')"
   ]
  },
  {
   "cell_type": "code",
   "execution_count": 159,
   "metadata": {},
   "outputs": [
    {
     "data": {
      "text/plain": [
       "array([[ 2, 10, 18],\n",
       "       [26, 34, 42],\n",
       "       [50, 58, 66]])"
      ]
     },
     "execution_count": 159,
     "metadata": {},
     "output_type": "execute_result"
    }
   ],
   "source": [
    "n1"
   ]
  },
  {
   "cell_type": "code",
   "execution_count": 162,
   "metadata": {},
   "outputs": [
    {
     "data": {
      "text/plain": [
       "array([[100, 101, 102],\n",
       "       [103, 104, 105],\n",
       "       [106, 107, 108]])"
      ]
     },
     "execution_count": 162,
     "metadata": {},
     "output_type": "execute_result"
    }
   ],
   "source": [
    "n2 = np.arange(100,109).reshape(3,3)\n",
    "n2"
   ]
  },
  {
   "cell_type": "code",
   "execution_count": 163,
   "metadata": {},
   "outputs": [
    {
     "name": "stdout",
     "output_type": "stream",
     "text": [
      "2 100\n",
      "10 101\n",
      "18 102\n",
      "26 103\n",
      "34 104\n",
      "42 105\n",
      "50 106\n",
      "58 107\n",
      "66 108\n"
     ]
    }
   ],
   "source": [
    "for x,y in np.nditer([n1,n2]): \n",
    "    print(x,y)"
   ]
  },
  {
   "cell_type": "code",
   "execution_count": null,
   "metadata": {},
   "outputs": [],
   "source": []
  },
  {
   "cell_type": "markdown",
   "metadata": {},
   "source": [
    "## 5) Matrix Multiplication and Transpose, Flatten"
   ]
  },
  {
   "cell_type": "code",
   "execution_count": 165,
   "metadata": {},
   "outputs": [
    {
     "name": "stdout",
     "output_type": "stream",
     "text": [
      "[[ 2  4  6]\n",
      " [ 8 10 12]\n",
      " [14 16 18]]\n"
     ]
    }
   ],
   "source": [
    "r1 = np.arange(2,20,2).reshape(3,3)\n",
    "print(r1)  # Normal matrix"
   ]
  },
  {
   "cell_type": "code",
   "execution_count": 167,
   "metadata": {},
   "outputs": [
    {
     "name": "stdout",
     "output_type": "stream",
     "text": [
      "[[ 2  8 14]\n",
      " [ 4 10 16]\n",
      " [ 6 12 18]]\n",
      "[[ 2  8 14]\n",
      " [ 4 10 16]\n",
      " [ 6 12 18]]\n",
      "[ 2  4  6  8 10 12 14 16 18]\n",
      "[ 2  8 14  4 10 16  6 12 18]\n"
     ]
    }
   ],
   "source": [
    "print(r1.T)            # Transpose of the array\n",
    "print(np.transpose(r1))            # Transpose of the array\n",
    "print(r1.flatten())    # Flatten the normal array\n",
    "print(r1.T.flatten())  # Flattenthe transpose of the array"
   ]
  },
  {
   "cell_type": "code",
   "execution_count": 169,
   "metadata": {},
   "outputs": [
    {
     "name": "stdout",
     "output_type": "stream",
     "text": [
      "[[8 5 0]\n",
      " [2 9 6]\n",
      " [4 1 7]]\n",
      "[[3 7 9]\n",
      " [4 1 0]\n",
      " [5 6 2]]\n"
     ]
    }
   ],
   "source": [
    "a1 = np.array([8,5,0,2,9,6,4,1,7]).reshape(3,3)\n",
    "a2 = np.array([3,7,9,4,1,0,5,6,2]).reshape(3,3)\n",
    "print(a1)\n",
    "print(a2)"
   ]
  },
  {
   "cell_type": "code",
   "execution_count": 170,
   "metadata": {},
   "outputs": [
    {
     "name": "stdout",
     "output_type": "stream",
     "text": [
      "[[44 61 72]\n",
      " [72 59 30]\n",
      " [51 71 50]]\n"
     ]
    }
   ],
   "source": [
    "# Actual Matrix multiplication\n",
    "r2 = np.matmul(a1,a2)\n",
    "print(r2)"
   ]
  },
  {
   "cell_type": "code",
   "execution_count": 172,
   "metadata": {},
   "outputs": [
    {
     "name": "stdout",
     "output_type": "stream",
     "text": [
      "[[44 61 72]\n",
      " [72 59 30]\n",
      " [51 71 50]]\n"
     ]
    }
   ],
   "source": [
    "# Actual Matrix multiplication\n",
    "r2 = np.dot(a1,a2)\n",
    "print(r2)"
   ]
  },
  {
   "cell_type": "code",
   "execution_count": 173,
   "metadata": {},
   "outputs": [
    {
     "name": "stdout",
     "output_type": "stream",
     "text": [
      "[[8 5 0]\n",
      " [2 9 6]\n",
      " [4 1 7]]\n",
      "[[3 7 9]\n",
      " [4 1 0]\n",
      " [5 6 2]]\n"
     ]
    }
   ],
   "source": [
    "print(a1)\n",
    "print(a2)"
   ]
  },
  {
   "cell_type": "code",
   "execution_count": 174,
   "metadata": {},
   "outputs": [
    {
     "name": "stdout",
     "output_type": "stream",
     "text": [
      "[[24 35  0]\n",
      " [ 8  9  0]\n",
      " [20  6 14]]\n"
     ]
    }
   ],
   "source": [
    "# Element wise multiplication\n",
    "r3 = np.multiply(a1,a2)\n",
    "print(r3)"
   ]
  },
  {
   "cell_type": "markdown",
   "metadata": {},
   "source": [
    "<b>Linear algebra in NumPy:</b> \n",
    "<br>The Linear Algebra module of NumPy offers various methods to apply linear algebra \n",
    "on any numpy array. It can be used to determine:\n",
    "<ol>\n",
    "<li>rank, determinant, trace, etc. of an array.</li>\n",
    "<li>solve linear equations</li>\n",
    "</ol>"
   ]
  },
  {
   "cell_type": "code",
   "execution_count": 175,
   "metadata": {},
   "outputs": [
    {
     "name": "stdout",
     "output_type": "stream",
     "text": [
      "[[0 1 2]\n",
      " [2 3 4]\n",
      " [1 2 5]]\n"
     ]
    }
   ],
   "source": [
    "A = np.array([[0,1,2], \n",
    "              [2,3,4], \n",
    "              [1,2,5]],dtype=int) \n",
    "print(A)"
   ]
  },
  {
   "cell_type": "code",
   "execution_count": 181,
   "metadata": {},
   "outputs": [
    {
     "name": "stdout",
     "output_type": "stream",
     "text": [
      "Rank of A: 3\n",
      "Trace of A: 8\n",
      "Determinant of A: -4.0\n",
      "Inverse of A:\n",
      " [[-1.75  0.25  0.5 ]\n",
      " [ 1.5   0.5  -1.  ]\n",
      " [-0.25 -0.25  0.5 ]]\n"
     ]
    }
   ],
   "source": [
    "print(\"Rank of A:\", np.linalg.matrix_rank(A)) \n",
    "  \n",
    "print(\"Trace of A:\", np.trace(A))  # 0+3+5 = sum of primary diagonal\n",
    "  \n",
    "print(\"Determinant of A:\", np.linalg.det(A)) \n",
    "# 0(3*5-4*2) - 1(2*5 - 4*1) + 2(2*2 - 3*1)  = -6 + 2(1) = -6 + 2 = -4\n",
    "  \n",
    "print(\"Inverse of A:\\n\", np.linalg.inv(A)) "
   ]
  },
  {
   "cell_type": "markdown",
   "metadata": {},
   "source": [
    "### Solving Linear Equations using numpy"
   ]
  },
  {
   "cell_type": "code",
   "execution_count": 182,
   "metadata": {},
   "outputs": [
    {
     "name": "stdout",
     "output_type": "stream",
     "text": [
      "Solution of linear equations: [ 6.8 -0.6]\n"
     ]
    }
   ],
   "source": [
    "# Solving the equation:-\n",
    "# x - 2y = 8\n",
    "# 3x + 4y = 18\n",
    "\n",
    "a = np.array([[1, -2], [3, 4]]) \n",
    "b = np.array([8, 18]) \n",
    "  \n",
    "print(\"Solution of linear equations:\", np.linalg.solve(a, b))"
   ]
  },
  {
   "cell_type": "code",
   "execution_count": 183,
   "metadata": {},
   "outputs": [
    {
     "name": "stdout",
     "output_type": "stream",
     "text": [
      "[5. 3. 2.]\n"
     ]
    }
   ],
   "source": [
    "# Solving the equation:-\n",
    "# x +2y-z = 9\n",
    "# 2x -3y+7z = 15\n",
    "# 7x -4y-5z = 13\n",
    "\n",
    "a = np.array([[1, 2, -1], [2, -3, 7], [7, -4, -5]],dtype=int)\n",
    "b = np.array([9,15,13],dtype=int)\n",
    "x = np.linalg.solve(a, b)\n",
    "print(x)"
   ]
  },
  {
   "cell_type": "code",
   "execution_count": 184,
   "metadata": {},
   "outputs": [
    {
     "name": "stdout",
     "output_type": "stream",
     "text": [
      "[[0 1 2]\n",
      " [2 3 4]\n",
      " [0 2 1]]\n",
      "Determinant of A: 6.0\n"
     ]
    }
   ],
   "source": [
    "s1 = np.array([[0,1,2],[2,3,4],[0,2,1]])\n",
    "print(s1)\n",
    "print(\"Determinant of A:\", np.linalg.det(s1)) "
   ]
  },
  {
   "cell_type": "code",
   "execution_count": null,
   "metadata": {},
   "outputs": [],
   "source": []
  }
 ],
 "metadata": {
  "kernelspec": {
   "display_name": "Python 3",
   "language": "python",
   "name": "python3"
  },
  "language_info": {
   "codemirror_mode": {
    "name": "ipython",
    "version": 3
   },
   "file_extension": ".py",
   "mimetype": "text/x-python",
   "name": "python",
   "nbconvert_exporter": "python",
   "pygments_lexer": "ipython3",
   "version": "3.8.8"
  }
 },
 "nbformat": 4,
 "nbformat_minor": 2
}
