{
 "cells": [
  {
   "cell_type": "markdown",
   "id": "92d8d085",
   "metadata": {},
   "source": [
    "### Clustering\n",
    "\n",
    "1)\tClustering identifies similarities between objects, which it groups according to those characteristics in common and which differentiate them from other groups of objects. These groups are known as \"clusters\".<br>\n",
    "2)\tClustering is framed in unsupervised learning; that is, for this type of algorithm we only have one set of input data (not labeled), about which we must obtain information, without previously knowing what the output will be.<br>\n",
    "3)<b>\tThere is no need to split the data in training and testing dataset.</b>\n"
   ]
  },
  {
   "cell_type": "markdown",
   "id": "2a3a3d89",
   "metadata": {},
   "source": [
    "#### Clustering can be categorised into the following categories\n",
    "1) Centroid based - KMeans<br>\n",
    "2) Density Based - DBSCAN (Density-based spatial clustering of applications with noise)<br>\n",
    "3) Hierarchical - Divisive and  Agglomerative Clustering"
   ]
  },
  {
   "cell_type": "markdown",
   "id": "66873928",
   "metadata": {},
   "source": [
    "### KMeans\n",
    "\n",
    "1)\tK-means algorithm is an iterative algorithm that tries to partition the dataset into<b> K pre-defined distinct non-overlapping subgroups (clusters)</b> where each data point belongs to only one group<br>\n",
    "2)\tIt tries to make the intra-cluster data points as similar as possible while also keeping the clusters as different (far) as possible. It assigns data points to a cluster such that the<b> sum of the squared distance between the data points and the cluster’s centroid (arithmetic mean of all the data points that belong to that cluster) is at the minimum.</b> The less variation we have within clusters, the more homogeneous (similar) the data points are within the same cluster.<br>\n",
    "3)\tSince clustering algorithms including KMeans which use distance-based measurements to determine the similarity between data points, it’s recommended to standardize or scale the data since almost always the features in any dataset would have different units of measurements for instance as age vs. income.<br>\n"
   ]
  },
  {
   "cell_type": "markdown",
   "id": "911d7e59",
   "metadata": {},
   "source": [
    "### K-Means Algorithm\n",
    "\n",
    "1) Specify number of clusters K.<br>\n",
    "2) Initialize centroids by first shuffling the dataset and then randomly selecting K data points for the centroids without replacement.<br>\n",
    "4) Compute the sum of the squared distance between each of the data points and all the centroids.<br>\n",
    "5) Assign each data point to the closest cluster (centroid) based on its nerest distance<br>\n",
    "6) Compute the centroids for the clusters by taking the average of the all data points that belong to each cluster.<br>\n",
    "7) Repeat steps 4,5 and 6 until there is no change in the centroids.\n"
   ]
  },
  {
   "cell_type": "markdown",
   "id": "2b12e79b",
   "metadata": {},
   "source": [
    "<img src=\"kmeans1.png\">"
   ]
  },
  {
   "cell_type": "code",
   "execution_count": null,
   "id": "0edd8efd",
   "metadata": {},
   "outputs": [],
   "source": []
  },
  {
   "cell_type": "code",
   "execution_count": null,
   "id": "5cfef547",
   "metadata": {},
   "outputs": [],
   "source": []
  }
 ],
 "metadata": {
  "kernelspec": {
   "display_name": "Python 3",
   "language": "python",
   "name": "python3"
  },
  "language_info": {
   "codemirror_mode": {
    "name": "ipython",
    "version": 3
   },
   "file_extension": ".py",
   "mimetype": "text/x-python",
   "name": "python",
   "nbconvert_exporter": "python",
   "pygments_lexer": "ipython3",
   "version": "3.8.8"
  }
 },
 "nbformat": 4,
 "nbformat_minor": 5
}
