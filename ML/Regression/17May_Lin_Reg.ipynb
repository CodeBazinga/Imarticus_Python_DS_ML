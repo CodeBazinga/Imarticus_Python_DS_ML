{
 "cells": [
  {
   "cell_type": "markdown",
   "id": "f416a80c",
   "metadata": {},
   "source": [
    "### Regression\n",
    "1) It is a predictive modeling technique which investigates the realtionship between dependent and independent variables(one or more) <br>\n",
    "2) Dependent variable is continuos in nature eg - Sales, Weight, Profit, Revenue, Price,Distance, Magintude,Height, Weight etc<br>\n",
    "\n",
    "3) <pre>\n",
    "   y = depenedent varaible/output\n",
    "   x = independent variable/input(s)\n",
    "   </pre>"
   ]
  },
  {
   "cell_type": "markdown",
   "id": "191b2537",
   "metadata": {},
   "source": [
    "### Simple Linear Regression\n",
    "1) It is a regression model that estimates the relationship between one independent variable and one dependent variable using a straight line.<br>\n",
    "2) It has an equation of the form <b> y = mx + c</b><br>\n",
    "\n",
    "Where-<br>\n",
    "x = independent variable/ input feature/input attribute/input column<br>\n",
    "y = dependent variable / output feature/target attribute/ output column<br>\n",
    "m = slope or coefficient or weight or how much we expect y to change as x changes       \n",
    "c = intercept / constant / bias<br>\n",
    "\n",
    "In this graph, x = Time spent Studying, y = Marks obtained. The orange dots are the corresponding data points. The blue line is the best fit line for Linear regression(y = mx +c)\n",
    "\n",
    "<img src=\"reg1.png\">"
   ]
  },
  {
   "cell_type": "markdown",
   "id": "4533058c",
   "metadata": {},
   "source": [
    "### Best Fit Line\n",
    "The Linear Regression model finds the best fit line that minimizes the squared error between the actual data points and its perpendicular dropped on the predicted line.<br>\n",
    "\n",
    "SST = Total Sum of Squares <br>\n",
    "SSE = Error Sum of squares <br>\n",
    "SSR = Regression sum of squares<br>\n",
    "\n",
    "<img src=\"reg2.png\">"
   ]
  },
  {
   "cell_type": "markdown",
   "id": "e4a30cc0",
   "metadata": {},
   "source": [
    "<img src=\"reg3.png\">"
   ]
  },
  {
   "cell_type": "markdown",
   "id": "285d6386",
   "metadata": {},
   "source": [
    "### R2 score (Coefficient of Determination or Goodness of Fit)\n",
    "\n",
    "The coefficient of determination is the portion of the total variation in the dependent variable that is explained by variation in the independent variable\n",
    "\n",
    "<img src=\"reg4.png\">\n",
    "\n",
    "<b>SST = SSE + SSR</b><br>\n",
    "R2 score  = SSR/SST = (SST- SSE)/ SST = 1 – SSE/SST<br>\n",
    "When SSE= 0, R2 score = 1 (Best Case Scenario)<br>\n",
    "and when SSE = SST, R2 score = 0 (Worst Case Scenario)\n",
    "\n"
   ]
  },
  {
   "cell_type": "markdown",
   "id": "3c10970c",
   "metadata": {},
   "source": [
    "### Regression Metrics\n",
    "\n",
    "<img src=\"reg5.png\">"
   ]
  },
  {
   "cell_type": "markdown",
   "id": "2e8db382",
   "metadata": {},
   "source": [
    "### Multiple Linear Regression\n",
    "\n",
    "1)\tMultiple linear regression is used to estimate the relationship between two or more independent variables and one dependent variable. <br>\n",
    "\n",
    "2)\tIt has an equation of the form <b>y = m1x1 + m2x2 + m3x3 +…..+ mnxn + c </b><br>\n",
    "where:-<br>\n",
    "x1,x2,x3,...,xn = independent variables/ input features<br>\n",
    "y = dependent variable / output feature<br>\n",
    "m1,m2,m3...,mn = coefficients/slope  corresponding to x1 - xn             \n",
    "c = intercept / constant / bias<br>"
   ]
  },
  {
   "cell_type": "code",
   "execution_count": 1,
   "id": "2e216b8b",
   "metadata": {},
   "outputs": [],
   "source": [
    "import pandas as pd\n",
    "import numpy as np\n",
    "import matplotlib.pyplot as plt"
   ]
  },
  {
   "cell_type": "code",
   "execution_count": 1,
   "id": "fec77b90",
   "metadata": {},
   "outputs": [],
   "source": [
    "x = [20,30,25,17,36,40,46,55,52,27,50,33,42,21,48,37,23,33,14,19,52]\n",
    "y = [41,63,51,39,78,75,87,98,102,60,101,70,86,47,90,69,58,64,41,47,98]"
   ]
  },
  {
   "cell_type": "code",
   "execution_count": null,
   "id": "3e789d7d",
   "metadata": {},
   "outputs": [],
   "source": []
  },
  {
   "cell_type": "code",
   "execution_count": null,
   "id": "f829cd6a",
   "metadata": {},
   "outputs": [],
   "source": []
  },
  {
   "cell_type": "markdown",
   "id": "7f3bebd7",
   "metadata": {},
   "source": [
    "### LinearRegression Using Sklearn"
   ]
  },
  {
   "cell_type": "code",
   "execution_count": 2,
   "id": "50cd619e",
   "metadata": {},
   "outputs": [],
   "source": [
    "x = [20,30,25,17,36,40,46,55,52,27,50,33,42,21,48,37,23,33,14,19,52]\n",
    "y = [41,63,51,39,78,75,87,98,102,60,101,70,86,47,90,69,58,64,41,47,98]\n"
   ]
  },
  {
   "cell_type": "code",
   "execution_count": null,
   "id": "a8423397",
   "metadata": {},
   "outputs": [],
   "source": []
  }
 ],
 "metadata": {
  "kernelspec": {
   "display_name": "Python 3",
   "language": "python",
   "name": "python3"
  },
  "language_info": {
   "codemirror_mode": {
    "name": "ipython",
    "version": 3
   },
   "file_extension": ".py",
   "mimetype": "text/x-python",
   "name": "python",
   "nbconvert_exporter": "python",
   "pygments_lexer": "ipython3",
   "version": "3.8.8"
  }
 },
 "nbformat": 4,
 "nbformat_minor": 5
}
