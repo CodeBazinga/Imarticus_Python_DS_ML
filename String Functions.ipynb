{
 "cells": [
  {
   "cell_type": "code",
   "execution_count": 32,
   "id": "b52d0c8b",
   "metadata": {},
   "outputs": [
    {
     "name": "stdout",
     "output_type": "stream",
     "text": [
      "Welcome to Python world\n",
      "23\n"
     ]
    }
   ],
   "source": [
    "s = \"Welcome to Python world\"\n",
    "print(s)\n",
    "print(len(s))"
   ]
  },
  {
   "cell_type": "markdown",
   "id": "f195d8da",
   "metadata": {},
   "source": [
    "#### 1) upper()\n",
    "upper() - It converts string into upper case"
   ]
  },
  {
   "cell_type": "code",
   "execution_count": 2,
   "id": "da0f5b6d",
   "metadata": {},
   "outputs": [
    {
     "name": "stdout",
     "output_type": "stream",
     "text": [
      "HELLO\n",
      "WELCOME\n",
      "PYTHON 324 #%*\n"
     ]
    }
   ],
   "source": [
    "s1 = \"Hello\"\n",
    "s2 = \"welcome\"\n",
    "s3 = \"Python 324 #%*\"\n",
    "print(s1.upper())\n",
    "print(s2.upper())\n",
    "print(s3.upper())"
   ]
  },
  {
   "cell_type": "markdown",
   "id": "059df0fd",
   "metadata": {},
   "source": [
    "#### 2) lower()\n",
    "It converts the string into lower case"
   ]
  },
  {
   "cell_type": "code",
   "execution_count": 4,
   "id": "84a828dc",
   "metadata": {},
   "outputs": [
    {
     "name": "stdout",
     "output_type": "stream",
     "text": [
      "hello\n",
      "welcome\n",
      "python 324 #%*\n"
     ]
    }
   ],
   "source": [
    "s1 = \"Hello\"\n",
    "s2 = \"WELCOME\"\n",
    "s3 = \"Python 324 #%*\"\n",
    "print(s1.lower())\n",
    "print(s2.lower())\n",
    "print(s3.lower())"
   ]
  },
  {
   "cell_type": "markdown",
   "id": "54f230e1",
   "metadata": {},
   "source": [
    "#### 3) isuuper()\n",
    "Returns True, if the string contains atleast 1 uppercase and no lowercase characters,otherwise False."
   ]
  },
  {
   "cell_type": "code",
   "execution_count": 11,
   "id": "09da1cb9",
   "metadata": {},
   "outputs": [
    {
     "name": "stdout",
     "output_type": "stream",
     "text": [
      "False\n",
      "True\n",
      "True\n",
      "True\n",
      "True\n"
     ]
    }
   ],
   "source": [
    "s1,s2 = \"Hello\", \"WELCOME\"\n",
    "s3,s4 = \"TOM JERRY\" ,\"HELLO587\"\n",
    "s5 = \"INDIA %*& 123\"\n",
    "print(s1.isupper())\n",
    "print(s2.isupper())\n",
    "print(s3.isupper())\n",
    "print(s4.isupper())\n",
    "print(s5.isupper())"
   ]
  },
  {
   "cell_type": "markdown",
   "id": "55be61ea",
   "metadata": {},
   "source": [
    "#### 4) islower()\n",
    "Returns True, if the string contains atleast 1 lowercase and no uppercase characters,otherwise False."
   ]
  },
  {
   "cell_type": "code",
   "execution_count": 15,
   "id": "85d45fe4",
   "metadata": {},
   "outputs": [
    {
     "name": "stdout",
     "output_type": "stream",
     "text": [
      "False\n",
      "True\n",
      "True\n",
      "True\n",
      "False\n"
     ]
    }
   ],
   "source": [
    "s1,s2 = \"Hello\", \"welcome\"\n",
    "s3,s4 = \"tom and jerry\" ,\"hello587\"\n",
    "s5 = \"google %*& 123J\"\n",
    "print(s1.islower())\n",
    "print(s2.islower())\n",
    "print(s3.islower())\n",
    "print(s4.islower())\n",
    "print(s5.islower())"
   ]
  },
  {
   "cell_type": "markdown",
   "id": "92b41a93",
   "metadata": {},
   "source": [
    "#### 5) islapha()\n",
    "Returns True if the string contains only alphabets, otherwise False"
   ]
  },
  {
   "cell_type": "code",
   "execution_count": 17,
   "id": "b1331900",
   "metadata": {},
   "outputs": [
    {
     "name": "stdout",
     "output_type": "stream",
     "text": [
      "True\n",
      "True\n",
      "False\n",
      "False\n",
      "False\n"
     ]
    }
   ],
   "source": [
    "s1,s2 = \"Hello\", \"wElComE\"\n",
    "s3,s4 = \"tom and jerry\" ,\"hello587\"\n",
    "s5 = \"google %*& 123J\"\n",
    "print(s1.isalpha())\n",
    "print(s2.isalpha())\n",
    "print(s3.isalpha())\n",
    "print(s4.isalpha())\n",
    "print(s5.isalpha())"
   ]
  },
  {
   "cell_type": "markdown",
   "id": "18478ccc",
   "metadata": {},
   "source": [
    "#### 6) isspace()\n",
    "Returns True, if the string contains only space charcaters, otherwise False"
   ]
  },
  {
   "cell_type": "code",
   "execution_count": 20,
   "id": "4764e6e1",
   "metadata": {},
   "outputs": [
    {
     "name": "stdout",
     "output_type": "stream",
     "text": [
      "True\n",
      "False\n",
      "False\n",
      "False\n",
      "False\n"
     ]
    }
   ],
   "source": [
    "s1 = \"             \"\n",
    "s2 = \"     4      \"\n",
    "s3 = \"         j  \"\n",
    "s4 = \" @          \"\n",
    "s5 = \"\"\n",
    "print(s1.isspace())\n",
    "print(s2.isspace())\n",
    "print(s3.isspace())\n",
    "print(s4.isspace())\n",
    "print(s5.isspace())"
   ]
  },
  {
   "cell_type": "markdown",
   "id": "3434f383",
   "metadata": {},
   "source": [
    "#### 6) islanum()\n",
    "Returns True, if string conatins atleast 1 alphabet or 1 number, otherwise False"
   ]
  },
  {
   "cell_type": "code",
   "execution_count": 26,
   "id": "b0d97d03",
   "metadata": {},
   "outputs": [
    {
     "name": "stdout",
     "output_type": "stream",
     "text": [
      "True\n",
      "True\n",
      "False\n",
      "False\n",
      "False\n",
      "False\n",
      "False\n",
      "True\n"
     ]
    }
   ],
   "source": [
    "s1,s2 = \"23\",\"laptop\"\n",
    "s3,s4 = \"324 123\",\"hp laptop\"\n",
    "s5,s6 = \"324 hello\",\"345 laptop\"\n",
    "s7,s8 = \"2132Meta&^Google\",\"2132MetaGoogle\"\n",
    "print(s1.isalnum())\n",
    "print(s2.isalnum())\n",
    "print(s3.isalnum())\n",
    "print(s4.isalnum())\n",
    "print(s5.isalnum())\n",
    "print(s6.isalnum())\n",
    "print(s7.isalnum())\n",
    "print(s8.isalnum())"
   ]
  },
  {
   "cell_type": "markdown",
   "id": "96692b52",
   "metadata": {},
   "source": [
    "#### 7) isdigit()\n",
    "Returns true if the string contains atleast 1 digit (0-9), otherwise false"
   ]
  },
  {
   "cell_type": "code",
   "execution_count": 30,
   "id": "4bea8d69",
   "metadata": {},
   "outputs": [
    {
     "name": "stdout",
     "output_type": "stream",
     "text": [
      "True\n",
      "False\n",
      "False\n",
      "False\n"
     ]
    }
   ],
   "source": [
    "s1,s2 = \"342890\",\"1232.121\"\n",
    "s3 = \"324python\"\n",
    "s4 = \"324@!%&\"\n",
    "print(s1.isdigit())\n",
    "print(s2.isdigit())\n",
    "print(s3.isdigit())\n",
    "print(s4.isdigit())"
   ]
  },
  {
   "cell_type": "markdown",
   "id": "6c57f481",
   "metadata": {},
   "source": [
    "#### strip(), lstrip(), rstrip()\n",
    "lstrip() - Removes extra space from left end<br>\n",
    "rstrip() - Removes extra space from right end<br>\n",
    "strip() - Removes extra space from both(left and right) end<br>"
   ]
  },
  {
   "cell_type": "code",
   "execution_count": 37,
   "id": "250ddd91",
   "metadata": {},
   "outputs": [
    {
     "name": "stdout",
     "output_type": "stream",
     "text": [
      "Learing Python from scratch     \n",
      "  Learing Python from scratch\n",
      "Learing Python from scratch\n"
     ]
    }
   ],
   "source": [
    "s = \"  Learing Python from scratch     \"\n",
    "print(s.lstrip())\n",
    "print(s.rstrip())\n",
    "print(s.strip())"
   ]
  },
  {
   "cell_type": "markdown",
   "id": "912751e9",
   "metadata": {},
   "source": [
    "#### startswith(), endswith()\n",
    "startswith() - Returns True if the string starts with the given substring, otherwise False<br>\n",
    "endswith() - Returns True if the string ends with the given substring, otherwise False"
   ]
  },
  {
   "cell_type": "code",
   "execution_count": 41,
   "id": "ef2d1ae0",
   "metadata": {},
   "outputs": [
    {
     "name": "stdout",
     "output_type": "stream",
     "text": [
      "True\n",
      "False\n",
      "False\n",
      "False\n"
     ]
    }
   ],
   "source": [
    "s = \"Russia vs. Ukraine war has impacted the global stock market\"\n",
    "print(s.startswith('Russ'))\n",
    "print(s.startswith('impact'))\n",
    "print(s.startswith('ket'))\n",
    "print(s.startswith('stock'))"
   ]
  },
  {
   "cell_type": "markdown",
   "id": "fdf27cc4",
   "metadata": {},
   "source": [
    "#### capitalize(), title(), swapcase()\n",
    "\n",
    "capitalize() - Capitalizes, the first alphabet of the entire string.<br>\n",
    "title() - Capitalizes, the first alphabet of the each word in the string.<br>\n",
    "swapcase() - Converts upper case characters to lowercase and vice-versa.<br>"
   ]
  },
  {
   "cell_type": "code",
   "execution_count": 46,
   "id": "3d8532ba",
   "metadata": {},
   "outputs": [
    {
     "name": "stdout",
     "output_type": "stream",
     "text": [
      "String methods in python\n",
      "String Methods In Python\n",
      "STRING METHODS IN PYTHON\n"
     ]
    }
   ],
   "source": [
    "t = \"string methods in python\"\n",
    "print(t.capitalize())\n",
    "print(t.title())\n",
    "print(t.swapcase())"
   ]
  },
  {
   "cell_type": "markdown",
   "id": "cb9950fb",
   "metadata": {},
   "source": [
    "#### count()\n",
    "Returns the number of times a subtring occurs in a string"
   ]
  },
  {
   "cell_type": "code",
   "execution_count": 57,
   "id": "dd295de9",
   "metadata": {},
   "outputs": [
    {
     "name": "stdout",
     "output_type": "stream",
     "text": [
      "5\n",
      "8\n",
      "3\n"
     ]
    }
   ],
   "source": [
    "s = \"Python Data applied on differnt datasets containting meaning data\"\n",
    "print(s.count('i'))\n",
    "print(s.count(' '))\n",
    "print(s.count('on'))"
   ]
  },
  {
   "cell_type": "markdown",
   "id": "809bbf5e",
   "metadata": {},
   "source": [
    "#### index() and find()\n",
    "1) index() - Returns the index of the first occurence of the substring from the left. If subtrsing is not found, it returns an error \n",
    "\n",
    "2) find() - Returns the index of the first occurence of the substring from the left. If subtrsing is not found, it returns -1"
   ]
  },
  {
   "cell_type": "code",
   "execution_count": 1,
   "id": "af3f0672",
   "metadata": {},
   "outputs": [
    {
     "name": "stdout",
     "output_type": "stream",
     "text": [
      "18\n",
      "6\n"
     ]
    },
    {
     "ename": "ValueError",
     "evalue": "substring not found",
     "output_type": "error",
     "traceback": [
      "\u001b[1;31m---------------------------------------------------------------------------\u001b[0m",
      "\u001b[1;31mValueError\u001b[0m                                Traceback (most recent call last)",
      "\u001b[1;32m<ipython-input-1-638e0ffd51cc>\u001b[0m in \u001b[0;36m<module>\u001b[1;34m\u001b[0m\n\u001b[0;32m      2\u001b[0m \u001b[0mprint\u001b[0m\u001b[1;33m(\u001b[0m\u001b[0mw\u001b[0m\u001b[1;33m.\u001b[0m\u001b[0mindex\u001b[0m\u001b[1;33m(\u001b[0m\u001b[1;34m'var'\u001b[0m\u001b[1;33m)\u001b[0m\u001b[1;33m)\u001b[0m\u001b[1;33m\u001b[0m\u001b[1;33m\u001b[0m\u001b[0m\n\u001b[0;32m      3\u001b[0m \u001b[0mprint\u001b[0m\u001b[1;33m(\u001b[0m\u001b[0mw\u001b[0m\u001b[1;33m.\u001b[0m\u001b[0mindex\u001b[0m\u001b[1;33m(\u001b[0m\u001b[1;34m'tics'\u001b[0m\u001b[1;33m)\u001b[0m\u001b[1;33m)\u001b[0m\u001b[1;33m\u001b[0m\u001b[1;33m\u001b[0m\u001b[0m\n\u001b[1;32m----> 4\u001b[1;33m \u001b[0mprint\u001b[0m\u001b[1;33m(\u001b[0m\u001b[0mw\u001b[0m\u001b[1;33m.\u001b[0m\u001b[0mindex\u001b[0m\u001b[1;33m(\u001b[0m\u001b[1;34m'then'\u001b[0m\u001b[1;33m)\u001b[0m\u001b[1;33m)\u001b[0m\u001b[1;33m\u001b[0m\u001b[1;33m\u001b[0m\u001b[0m\n\u001b[0m",
      "\u001b[1;31mValueError\u001b[0m: substring not found"
     ]
    }
   ],
   "source": [
    "w = \"Statistics for univariate and biariate analysis\"\n",
    "print(w.index('var'))\n",
    "print(w.index('tics'))\n",
    "print(w.index('then'))"
   ]
  },
  {
   "cell_type": "code",
   "execution_count": 3,
   "id": "c95bae45",
   "metadata": {},
   "outputs": [
    {
     "name": "stdout",
     "output_type": "stream",
     "text": [
      "18\n",
      "6\n",
      "-1\n"
     ]
    }
   ],
   "source": [
    "w = \"Statistics for univariate and biariate analysis\"\n",
    "print(w.find('var'))\n",
    "print(w.find('tics'))\n",
    "print(w.find('then'))"
   ]
  },
  {
   "cell_type": "markdown",
   "id": "13dc5258",
   "metadata": {},
   "source": [
    "#### replace(s1,s2)\n",
    "1) Replaces the subtring s1 in the original string with s2.<br>\n",
    "2) By default, it replaces all the occurences of s1 with s2<br>\n",
    "3) If s1 is not a substring of the original, it returns original string"
   ]
  },
  {
   "cell_type": "code",
   "execution_count": 8,
   "id": "84b7bc59",
   "metadata": {},
   "outputs": [
    {
     "name": "stdout",
     "output_type": "stream",
     "text": [
      "Learning Data Science and AI after Python\n",
      "Learning ML and Statistics after Python\n",
      "Learzizg ML azd AI after Pythoz\n",
      "Learzizg ML and AI after Python\n",
      "Learning ML and AI after Python\n"
     ]
    }
   ],
   "source": [
    "s = \"Learning ML and AI after Python\"\n",
    "print(s.replace('ML','Data Science'))\n",
    "print(s.replace('AI','Statistics'))\n",
    "print(s.replace('n','z'))\n",
    "print(s.replace('n','z',2))\n",
    "print(s.replace('where','hello'))"
   ]
  },
  {
   "cell_type": "markdown",
   "id": "4f3f8ef1",
   "metadata": {},
   "source": [
    "#### split()\n",
    "1) It returns a list<br>\n",
    "2) By default it splits based on singl empty space<br>\n",
    "3) Removes the entity based on which split has been applied.<br>"
   ]
  },
  {
   "cell_type": "code",
   "execution_count": 5,
   "id": "89634de5",
   "metadata": {},
   "outputs": [
    {
     "name": "stdout",
     "output_type": "stream",
     "text": [
      "['FIFA', 'World', 'Cup', '2022', 'is', 'scheduled', 'in', 'the', 'month', 'of', 'Nov', 'and', 'Dec', 'in', 'Qatar']\n",
      "['FIFA W', 'rld Cup 2022 is scheduled in the m', 'nth ', 'f N', 'v and Dec in Qatar']\n"
     ]
    }
   ],
   "source": [
    "w = \"FIFA World Cup 2022 is scheduled in the month of Nov and Dec in Qatar\"\n",
    "w1 = w.split()\n",
    "w2 = w.split('o')\n",
    "print(w1)\n",
    "print(w2)"
   ]
  },
  {
   "cell_type": "code",
   "execution_count": null,
   "id": "c573ef5c",
   "metadata": {},
   "outputs": [],
   "source": []
  },
  {
   "cell_type": "code",
   "execution_count": null,
   "id": "660de122",
   "metadata": {},
   "outputs": [],
   "source": []
  }
 ],
 "metadata": {
  "kernelspec": {
   "display_name": "Python 3",
   "language": "python",
   "name": "python3"
  },
  "language_info": {
   "codemirror_mode": {
    "name": "ipython",
    "version": 3
   },
   "file_extension": ".py",
   "mimetype": "text/x-python",
   "name": "python",
   "nbconvert_exporter": "python",
   "pygments_lexer": "ipython3",
   "version": "3.8.8"
  }
 },
 "nbformat": 4,
 "nbformat_minor": 5
}
