{
 "cells": [
  {
   "cell_type": "markdown",
   "id": "a0ca67e6",
   "metadata": {},
   "source": [
    "#### Q19) \n",
    "A list containing multiple lists is given. Convert each inner list into sets and find the intersection of all the sets. Use reduce function.<br>\n",
    "given_sets = [[7,3,12,45,78,13], [9,12,15,67,34,78], [19,20,78,12,25,95], [12,78,80,21,80], [13,14,12,15,16,75,76,77,78,79,80]]\n",
    "Output: {12,78}"
   ]
  },
  {
   "cell_type": "code",
   "execution_count": 1,
   "id": "1b02b7ff",
   "metadata": {},
   "outputs": [],
   "source": [
    "from functools import reduce"
   ]
  },
  {
   "cell_type": "code",
   "execution_count": 6,
   "id": "2be7fce1",
   "metadata": {},
   "outputs": [
    {
     "name": "stdout",
     "output_type": "stream",
     "text": [
      "[{3, 7, 12, 45, 78, 13}, {34, 67, 9, 12, 78, 15}, {12, 78, 19, 20, 25, 95}, {80, 12, 21, 78}, {75, 12, 13, 14, 15, 16, 76, 77, 78, 79, 80}]\n",
      "{12, 78}\n",
      "<class 'set'>\n"
     ]
    }
   ],
   "source": [
    "a = [[7,3,12,45,78,13], [9,12,15,67,34,78], \n",
    "     [19,20,78,12,25,95], [12,78,80,21,80], \n",
    "     [13,14,12,15,16,75,76,77,78,79,80]]\n",
    "\n",
    "a_set = [set(i) for i in a] # list of sets\n",
    "print(a_set)\n",
    "res = reduce(set.intersection,a_set)\n",
    "print(res)\n",
    "print(type(res))\n",
    "\n",
    "# Step1 -> s1={3, 7, 12, 45, 78, 13},s2={34, 67, 9, 12, 78, 15} => res_temp = {12,78} \n",
    "# Step2 -> s1 ={12,78} ,s2 ={12, 78, 19, 20, 25, 95} => res_temp ={12,78}\n",
    "# Step3 -> s1 = {12,78}, s2= {80, 12, 21, 78} => res_temp ={12,78}\n",
    "# Step4 -> "
   ]
  },
  {
   "cell_type": "markdown",
   "id": "1e09b26b",
   "metadata": {},
   "source": [
    "#### 18) Find the cumulative average of the list [5,7,3,6,9,8] using accumulate() and list comprehension. Result should be upto 2 decimal places \n",
    "Sample Output<br>\n",
    "[5.0, 6.0, 5.0, 5.25, 6.0, 6.33]"
   ]
  },
  {
   "cell_type": "code",
   "execution_count": 7,
   "id": "a09689d6",
   "metadata": {},
   "outputs": [],
   "source": [
    "from itertools import accumulate"
   ]
  },
  {
   "cell_type": "code",
   "execution_count": 11,
   "id": "74931a46",
   "metadata": {},
   "outputs": [
    {
     "name": "stdout",
     "output_type": "stream",
     "text": [
      "[5, 12, 15, 21, 30, 38]\n",
      "[5.0, 6.0, 5.0, 5.25, 6.0, 6.33]\n"
     ]
    }
   ],
   "source": [
    "a = [5,7,3,6,9,8] \n",
    "a_cumsum = accumulate(a)\n",
    "r = [i for i in a_cumsum]\n",
    "print(r)\n",
    "\n",
    "res = [round(r[i]/(i+1),2) for i in range(len(r))]\n",
    "print(res)"
   ]
  },
  {
   "cell_type": "code",
   "execution_count": null,
   "id": "b6069713",
   "metadata": {},
   "outputs": [],
   "source": [
    "# w = list(range(1,7))\n",
    "# res1 = list(map(lambda x,w: x/w,r))"
   ]
  }
 ],
 "metadata": {
  "kernelspec": {
   "display_name": "Python 3",
   "language": "python",
   "name": "python3"
  },
  "language_info": {
   "codemirror_mode": {
    "name": "ipython",
    "version": 3
   },
   "file_extension": ".py",
   "mimetype": "text/x-python",
   "name": "python",
   "nbconvert_exporter": "python",
   "pygments_lexer": "ipython3",
   "version": "3.8.8"
  }
 },
 "nbformat": 4,
 "nbformat_minor": 5
}
