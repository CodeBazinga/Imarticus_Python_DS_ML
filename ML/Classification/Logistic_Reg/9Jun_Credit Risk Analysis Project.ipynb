{
 "cells": [
  {
   "cell_type": "code",
   "execution_count": null,
   "id": "8028081b",
   "metadata": {},
   "outputs": [],
   "source": []
  },
  {
   "cell_type": "markdown",
   "id": "8d998b81",
   "metadata": {},
   "source": [
    "### Credit Risk Analysis\n",
    "\n",
    "One of the leading banks would like to predict bad customer while customer applying for loan. This model also called as PD Models (Probability of Default)\n",
    "\n",
    "Credit scoring is perhaps one of the most \"classic\" applications for predictive modeling, to predict whether or not credit extended to an applicant will likely result in profit or losses for the lending institution. There are many variations and complexities regarding how exactly credit is extended to individuals, businesses, and other organizations for various purposes (purchasing equipment, real estate, consumer items, and so on), and using various methods of credit (credit card, loan, delayed payment plan). But in all cases, a lender provides money to an individual or institution, and expects to be paid back in time with interest commensurate with the risk of default. Credit scoring is the set of decision models and their underlying techniques that aid lenders in the granting of consumer credit. These techniques determine who will get credit, how much credit they should get, and what operational strategies will enhance the profitability of the borrowers to the lenders. Further, they help to assess the risk in lending. Credit scoring is a dependable assessment of a person’s credit worthiness since it is based on actual data.\n",
    "\n",
    "A lender commonly makes two types of decisions: first, whether to grant credit to a new applicant, and second, how to deal with existing applicants, including whether to increase their credit limits. In both cases, whatever the techniques used, it is critical that there is a large sample of previous customers with their application details, behavioral patterns, and subsequent credit history available. Most of the techniques use this sample to identify the connection between the characteristics of the consumers (annual income, age, number of years in employment with their current employer, etc.) and their subsequent history.\n",
    "\n",
    "Typical application areas in the consumer market include: credit cards, auto loans, home mortgages, home equity loans, mail catalog orders, and a wide variety of personal loan products.\n"
   ]
  },
  {
   "cell_type": "markdown",
   "id": "b28aca1d",
   "metadata": {},
   "source": [
    "#### Feature Description\n",
    "\n",
    "    age - Age of Customer\n",
    "    ed - Eductation level of customer\n",
    "    employ: Tenure with current employer (in years)\n",
    "    address: Number of years in same address\n",
    "    income: Customer Income\n",
    "    debtinc: Debt to income ratio\n",
    "    creddebt: Credit to Debt ratio\n",
    "    othdebt: Other debts\n",
    "    default: Customer defaulted in the past (1= defaulted, 0=Never defaulted) "
   ]
  },
  {
   "cell_type": "code",
   "execution_count": null,
   "id": "10465228",
   "metadata": {},
   "outputs": [],
   "source": []
  }
 ],
 "metadata": {
  "kernelspec": {
   "display_name": "Python 3",
   "language": "python",
   "name": "python3"
  },
  "language_info": {
   "codemirror_mode": {
    "name": "ipython",
    "version": 3
   },
   "file_extension": ".py",
   "mimetype": "text/x-python",
   "name": "python",
   "nbconvert_exporter": "python",
   "pygments_lexer": "ipython3",
   "version": "3.8.8"
  }
 },
 "nbformat": 4,
 "nbformat_minor": 5
}
