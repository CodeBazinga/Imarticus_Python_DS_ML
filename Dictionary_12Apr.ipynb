{
 "cells": [
  {
   "cell_type": "markdown",
   "id": "f5edba22",
   "metadata": {},
   "source": [
    "### Dictionary\n",
    "\n",
    "1) Dictionary elements are stored in key:value pair format.<br>\n",
    "2) Dictionary elements are enclosed in {} and are separated by comma<br>\n",
    "3) Dictionary is unordered.<br> \n",
    "4) Dictionary can be indexed based on its keys<br>\n",
    "5) All the keys in the dictionary must be unique. Values may be dupliacte<br>\n",
    "6) Dictionary is mutable (It can be changed)<br>\n",
    "7) The key,value pair is called item in dictionary and each item is stored in form of tuple<br>"
   ]
  },
  {
   "cell_type": "markdown",
   "id": "ccbabe93",
   "metadata": {},
   "source": [
    "#### Empty Dictionary"
   ]
  },
  {
   "cell_type": "code",
   "execution_count": 1,
   "id": "6e402493",
   "metadata": {},
   "outputs": [
    {
     "name": "stdout",
     "output_type": "stream",
     "text": [
      "{}\n",
      "{}\n",
      "<class 'dict'>\n",
      "<class 'dict'>\n"
     ]
    }
   ],
   "source": [
    "d1 = {}\n",
    "d2 = dict()\n",
    "print(d1)\n",
    "print(d2)\n",
    "print(type(d1))\n",
    "print(type(d2))"
   ]
  },
  {
   "cell_type": "markdown",
   "id": "3dced1fa",
   "metadata": {},
   "source": [
    "#### Examples of Dictionary"
   ]
  },
  {
   "cell_type": "code",
   "execution_count": 6,
   "id": "1128c8f3",
   "metadata": {},
   "outputs": [
    {
     "name": "stdout",
     "output_type": "stream",
     "text": [
      "{'Name': 'Harsh', 'Age': 20, 'City': 'Mumbai', 45: 'Python', True: 'India'}\n",
      "5\n",
      "<class 'dict'>\n"
     ]
    }
   ],
   "source": [
    "w1 = {'Name':'Harsh','Age':20,'City':'Mumbai',45:'Python',True:'India'}\n",
    "print(w1)\n",
    "print(len(w1))\n",
    "print(type(w1))"
   ]
  },
  {
   "cell_type": "markdown",
   "id": "6e660cc1",
   "metadata": {},
   "source": [
    "#### Fetch values corresponding to a given key"
   ]
  },
  {
   "cell_type": "code",
   "execution_count": 10,
   "id": "60f00b08",
   "metadata": {},
   "outputs": [
    {
     "name": "stdout",
     "output_type": "stream",
     "text": [
      "{'Name': 'Harsh', 'Age': 20, 'City': 'Mumbai', 45: 'Python', True: 'India'}\n",
      "20\n",
      "Mumbai\n",
      "Harsh\n",
      "India\n",
      "Python\n"
     ]
    }
   ],
   "source": [
    "print(w1)\n",
    "print(w1['Age'])\n",
    "print(w1['City'])\n",
    "print(w1['Name'])\n",
    "print(w1[True])\n",
    "print(w1[45])"
   ]
  },
  {
   "cell_type": "markdown",
   "id": "4ad689f3",
   "metadata": {},
   "source": [
    "#### Add New key:value pair to the dict\n",
    "=> Dict is mutable"
   ]
  },
  {
   "cell_type": "code",
   "execution_count": 16,
   "id": "ece9c585",
   "metadata": {},
   "outputs": [
    {
     "name": "stdout",
     "output_type": "stream",
     "text": [
      "{'a1': 10, 'a2': 20, 'a3': 30, 'a4': 40}\n",
      "{'a1': 10, 'a2': 20, 'a3': 30, 'a4': 40, 'k1': 15}\n",
      "{'a1': 10, 'a2': 20, 'a3': 30, 'a4': 40, 'k1': 15, 'k2': 'Functions'}\n",
      "{'a1': 10, 'a2': 20, 'a3': 30, 'a4': 40, 'k1': 15, 'k2': 'Functions', 23: 'Hello'}\n"
     ]
    }
   ],
   "source": [
    "d1 = {'a1':10,'a2':20,'a3':30,'a4':40}\n",
    "print(d1)\n",
    "d1['k1'] = 15\n",
    "print(d1)\n",
    "d1['k2'] = 'Functions'\n",
    "print(d1)\n",
    "d1[23] = 'Hello'\n",
    "print(d1)"
   ]
  },
  {
   "cell_type": "code",
   "execution_count": 17,
   "id": "164b216b",
   "metadata": {},
   "outputs": [
    {
     "name": "stdout",
     "output_type": "stream",
     "text": [
      "10\n",
      "Functions\n",
      "30\n",
      "Hello\n"
     ]
    }
   ],
   "source": [
    "print(d1['a1'])\n",
    "print(d1['k2'])\n",
    "print(d1['a3'])\n",
    "print(d1[23])"
   ]
  },
  {
   "cell_type": "markdown",
   "id": "7aa8d92a",
   "metadata": {},
   "source": [
    "#### Change value for a given key"
   ]
  },
  {
   "cell_type": "code",
   "execution_count": 1,
   "id": "27d34426",
   "metadata": {},
   "outputs": [
    {
     "name": "stdout",
     "output_type": "stream",
     "text": [
      "{'a1': 10, 'a2': 20, 'a3': 30, 'a4': 40}\n",
      "{'a1': 10, 'a2': 'Dict', 'a3': 30, 'a4': 'Google'}\n"
     ]
    }
   ],
   "source": [
    "d1 = {'a1':10,'a2':20,'a3':30,'a4':40}\n",
    "print(d1)\n",
    "d1['a2'] = 'Dict'\n",
    "d1['a4'] = 'Google'\n",
    "print(d1)"
   ]
  },
  {
   "cell_type": "markdown",
   "id": "9e1a28c0",
   "metadata": {},
   "source": [
    "#### All the keys in the dict must be unique. Values can be dupliacted"
   ]
  },
  {
   "cell_type": "code",
   "execution_count": 23,
   "id": "57e579f3",
   "metadata": {},
   "outputs": [
    {
     "name": "stdout",
     "output_type": "stream",
     "text": [
      "{'k1': 5, 'k2': 65, 'k3': 15, 'k4': 50, 'k5': 15}\n"
     ]
    }
   ],
   "source": [
    "g1 = {'k1':5,'k2':10,'k3':15,'k2':20,'k4':50,'k5':15,'k2':65}\n",
    "print(g1)"
   ]
  },
  {
   "cell_type": "markdown",
   "id": "83a0a7ce",
   "metadata": {},
   "source": [
    "### Methods of Dict"
   ]
  },
  {
   "cell_type": "markdown",
   "id": "895f2620",
   "metadata": {},
   "source": [
    "#### 1) get(key)\n",
    "It is used to fetch value for a given key"
   ]
  },
  {
   "cell_type": "code",
   "execution_count": 29,
   "id": "10cb8fdd",
   "metadata": {},
   "outputs": [
    {
     "name": "stdout",
     "output_type": "stream",
     "text": [
      "5\n",
      "5\n",
      "50\n",
      "50\n",
      "None\n"
     ]
    }
   ],
   "source": [
    "r = {'k1': 5, 'k2': 65, 'k3': 15, 'k4': 50, 'k5': 15}\n",
    "print(r.get('k1'))\n",
    "print(r['k1'])\n",
    "print(r.get('k4'))\n",
    "print(r['k4'])\n",
    "print(r.get('k7'))"
   ]
  },
  {
   "cell_type": "markdown",
   "id": "071aa336",
   "metadata": {},
   "source": [
    "#### 2) update()\n",
    "It is used top update a dict with another dict. It can be used to merge 2 or more dict intpo one dict"
   ]
  },
  {
   "cell_type": "code",
   "execution_count": 41,
   "id": "d95a4cca",
   "metadata": {},
   "outputs": [
    {
     "name": "stdout",
     "output_type": "stream",
     "text": [
      "{'a1': 3, 'a2': 7, 'a3': 9}\n",
      "{'a5': 4, 'a4': 6, 'a6': 8}\n",
      "{'a1': 3, 'a2': 7, 'a3': 9, 'a5': 4, 'a4': 6, 'a6': 8}\n",
      "{'a5': 4, 'a4': 6, 'a6': 8}\n"
     ]
    }
   ],
   "source": [
    "w1 = {'a1':3,'a2':7,'a3':9}\n",
    "w2 = {'a5':4,'a4':6,'a6':8}\n",
    "print(w1)\n",
    "print(w2)\n",
    "w1.update(w2)\n",
    "print(w1)\n",
    "print(w2)"
   ]
  },
  {
   "cell_type": "code",
   "execution_count": 34,
   "id": "f0dfb220",
   "metadata": {},
   "outputs": [
    {
     "name": "stdout",
     "output_type": "stream",
     "text": [
      "{'a1': 3, 'a2': 7, 'a5': 9}\n",
      "{'a2': 4, 'a5': 6, 'a6': 8}\n",
      "{'a1': 3, 'a2': 4, 'a5': 6, 'a6': 8}\n",
      "{'a2': 4, 'a5': 6, 'a6': 8}\n"
     ]
    }
   ],
   "source": [
    "w1 = {'a1':3,'a2':7,'a5':9}\n",
    "w2 = {'a2':4,'a5':6,'a6':8}\n",
    "print(w1)\n",
    "print(w2)\n",
    "w1.update(w2)\n",
    "print(w1)\n",
    "print(w2)"
   ]
  },
  {
   "cell_type": "code",
   "execution_count": 35,
   "id": "bb82be95",
   "metadata": {},
   "outputs": [
    {
     "name": "stdout",
     "output_type": "stream",
     "text": [
      "{'a1': 3, 'a2': 7, 'a5': 9}\n",
      "{'a2': 4, 'a5': 6, 'a6': 8}\n",
      "{'a1': 3, 'a2': 7, 'a5': 9}\n",
      "{'a2': 7, 'a5': 9, 'a6': 8, 'a1': 3}\n"
     ]
    }
   ],
   "source": [
    "w1 = {'a1':3,'a2':7,'a5':9}\n",
    "w2 = {'a2':4,'a5':6,'a6':8}\n",
    "print(w1)\n",
    "print(w2)\n",
    "w2.update(w1)\n",
    "print(w1)\n",
    "print(w2)"
   ]
  },
  {
   "cell_type": "markdown",
   "id": "762dc33d",
   "metadata": {},
   "source": [
    "#### 3) clear()\n",
    "It empties the dict"
   ]
  },
  {
   "cell_type": "code",
   "execution_count": 37,
   "id": "6a224e9f",
   "metadata": {},
   "outputs": [
    {
     "name": "stdout",
     "output_type": "stream",
     "text": [
      "{'a1': 3, 'a2': 7, 'a5': 9}\n",
      "{}\n"
     ]
    }
   ],
   "source": [
    "q1 = {'a1': 3, 'a2': 7, 'a5': 9}\n",
    "print(q1)\n",
    "q1.clear()\n",
    "print(q1)"
   ]
  },
  {
   "cell_type": "markdown",
   "id": "d7f1b99d",
   "metadata": {},
   "source": [
    "#### 4) pop(key)\n",
    "Remove the key-value pair from the dict based on key passed as an argument"
   ]
  },
  {
   "cell_type": "code",
   "execution_count": 39,
   "id": "7b9eee00",
   "metadata": {},
   "outputs": [
    {
     "name": "stdout",
     "output_type": "stream",
     "text": [
      "{'a2': 7, 'a5': 9, 'a6': 10, 'a1': 3}\n",
      "{'a2': 7, 'a6': 10, 'a1': 3}\n",
      "{'a2': 7, 'a6': 10}\n"
     ]
    }
   ],
   "source": [
    "s1 = {'a2': 7, 'a5': 9, 'a6': 8, 'a1': 3,'a6':10}\n",
    "print(s1)\n",
    "s1.pop('a5')\n",
    "print(s1)\n",
    "s1.pop('a1')\n",
    "print(s1)"
   ]
  },
  {
   "cell_type": "markdown",
   "id": "eb39a0b7",
   "metadata": {},
   "source": [
    "#### 5) popitem()\n",
    "Revoves the key-value pair from the dict in LIFO(Last In First Out) order"
   ]
  },
  {
   "cell_type": "code",
   "execution_count": 42,
   "id": "ac2482c2",
   "metadata": {},
   "outputs": [
    {
     "name": "stdout",
     "output_type": "stream",
     "text": [
      "{'a2': 7, 'a5': 9, 'a6': 10, 'a1': 3}\n",
      "{'a2': 7, 'a5': 9, 'a6': 10}\n",
      "{'a2': 7, 'a5': 9}\n",
      "{'a2': 7}\n"
     ]
    }
   ],
   "source": [
    "s1 = {'a2': 7, 'a5': 9, 'a6': 8, 'a1': 3,'a6':10}\n",
    "print(s1)\n",
    "s1.popitem()\n",
    "print(s1)\n",
    "s1.popitem()\n",
    "print(s1)\n",
    "s1.popitem()\n",
    "print(s1)"
   ]
  },
  {
   "cell_type": "markdown",
   "id": "3e2671e3",
   "metadata": {},
   "source": [
    "#### 6) setdeafult(key,value)\n",
    "It is used to add a new key:value pair to the dict. If no value is passed, then the value will be updated as None"
   ]
  },
  {
   "cell_type": "code",
   "execution_count": 46,
   "id": "fa4a225f",
   "metadata": {},
   "outputs": [
    {
     "name": "stdout",
     "output_type": "stream",
     "text": [
      "{'a2': 7, 'a5': 9, 'a6': 10, 'a1': 3}\n",
      "{'a2': 7, 'a5': 9, 'a6': 10, 'a1': 3, 'Name': 'Ankit'}\n",
      "{'a2': 7, 'a5': 9, 'a6': 10, 'a1': 3, 'Name': 'Ankit', 'Age': None}\n"
     ]
    }
   ],
   "source": [
    "f1 =  {'a2': 7, 'a5': 9, 'a6': 10, 'a1': 3}\n",
    "print(f1)\n",
    "f1.setdefault('Name','Ankit')\n",
    "print(f1)\n",
    "f1.setdefault('Age')\n",
    "print(f1)"
   ]
  },
  {
   "cell_type": "markdown",
   "id": "fb2ec1e5",
   "metadata": {},
   "source": [
    "#### 7) fromkeys()\n",
    "Create a new dictionary with keys from iterable and values set to value."
   ]
  },
  {
   "cell_type": "code",
   "execution_count": 10,
   "id": "0d328975",
   "metadata": {},
   "outputs": [
    {
     "name": "stdout",
     "output_type": "stream",
     "text": [
      "['a', 'b', 'c', 'd', 'e']\n",
      "{'a': 5, 'b': 5, 'c': 5, 'd': 5, 'e': 5}\n",
      "{'a': None, 'b': None, 'c': None, 'd': None, 'e': None}\n"
     ]
    }
   ],
   "source": [
    "r = ['a','b','c','d','e']\n",
    "r1 = dict.fromkeys(r,5)\n",
    "r2 = dict.fromkeys(r1)\n",
    "print(r)\n",
    "print(r1)\n",
    "print(r2)"
   ]
  },
  {
   "cell_type": "markdown",
   "id": "5bc3f775",
   "metadata": {},
   "source": [
    "#### 8),9) and 10) keys, values and items\n",
    "keys()- Returns keys of the dict<br>\n",
    "values()- Returns keys of the dict<br>\n",
    "items()- Returns keys,values of the dict in tuple format"
   ]
  },
  {
   "cell_type": "code",
   "execution_count": 49,
   "id": "eae01524",
   "metadata": {},
   "outputs": [
    {
     "name": "stdout",
     "output_type": "stream",
     "text": [
      "dict_keys(['a1', 'a2', 'a3', 'a4'])\n",
      "dict_values([7, 12, 19, 25])\n",
      "dict_items([('a1', 7), ('a2', 12), ('a3', 19), ('a4', 25)])\n"
     ]
    }
   ],
   "source": [
    "d = {'a1':7,'a2':12,'a3':19,'a4':25}\n",
    "print(d.keys())\n",
    "print(d.values())\n",
    "print(d.items())"
   ]
  },
  {
   "cell_type": "code",
   "execution_count": 50,
   "id": "b0cd07ba",
   "metadata": {},
   "outputs": [
    {
     "name": "stdout",
     "output_type": "stream",
     "text": [
      "['a1', 'a2', 'a3', 'a4']\n",
      "[7, 12, 19, 25]\n",
      "[('a1', 7), ('a2', 12), ('a3', 19), ('a4', 25)]\n"
     ]
    }
   ],
   "source": [
    "d = {'a1':7,'a2':12,'a3':19,'a4':25}\n",
    "print(list(d.keys())) # list of keys\n",
    "print(list(d.values())) # list of values\n",
    "print(list(d.items())) # list of tuples containing key,value"
   ]
  },
  {
   "cell_type": "markdown",
   "id": "4a6f462f",
   "metadata": {},
   "source": [
    "### Iteration in Dict\n",
    "By default dict allows iteration only on its keys"
   ]
  },
  {
   "cell_type": "code",
   "execution_count": 53,
   "id": "e072062a",
   "metadata": {},
   "outputs": [
    {
     "name": "stdout",
     "output_type": "stream",
     "text": [
      "a1 7 7\n",
      "a2 12 12\n",
      "a3 19 19\n",
      "a4 25 25\n"
     ]
    }
   ],
   "source": [
    "# Method-1\n",
    "d = {'a1':7,'a2':12,'a3':19,'a4':25}\n",
    "for i in d: # i corresponds to each and every key of the dict\n",
    "    print(i,d[i],d.get(i))"
   ]
  },
  {
   "cell_type": "code",
   "execution_count": 54,
   "id": "30280a6f",
   "metadata": {},
   "outputs": [
    {
     "name": "stdout",
     "output_type": "stream",
     "text": [
      "a1 7 7\n",
      "a2 12 12\n",
      "a3 19 19\n",
      "a4 25 25\n"
     ]
    }
   ],
   "source": [
    "# Method-2\n",
    "d = {'a1':7,'a2':12,'a3':19,'a4':25}\n",
    "for i in d.keys(): # i corresponds to each and every key of the dict\n",
    "    print(i,d[i],d.get(i))"
   ]
  },
  {
   "cell_type": "code",
   "execution_count": 61,
   "id": "6124f322",
   "metadata": {},
   "outputs": [
    {
     "name": "stdout",
     "output_type": "stream",
     "text": [
      "7\n",
      "12\n",
      "19\n",
      "25\n"
     ]
    }
   ],
   "source": [
    "# Method-3\n",
    "d = {'a1':7,'a2':12,'a3':19,'a4':25}\n",
    "for i in d.values(): # i corresponds to each and every values of the dict\n",
    "    print(i)"
   ]
  },
  {
   "cell_type": "code",
   "execution_count": 59,
   "id": "ab8397e5",
   "metadata": {},
   "outputs": [
    {
     "name": "stdout",
     "output_type": "stream",
     "text": [
      "('a1', 7)\n",
      "('a2', 12)\n",
      "('a3', 19)\n",
      "('a4', 25)\n"
     ]
    }
   ],
   "source": [
    "# Method-4\n",
    "d = {'a1':7,'a2':12,'a3':19,'a4':25}\n",
    "for i in d.items(): # i corresponds to each and every (key,values) of the dict\n",
    "    print(i)"
   ]
  },
  {
   "cell_type": "code",
   "execution_count": 64,
   "id": "11771564",
   "metadata": {},
   "outputs": [
    {
     "name": "stdout",
     "output_type": "stream",
     "text": [
      "7 a1\n",
      "12 a2\n",
      "19 a3\n",
      "25 a4\n"
     ]
    }
   ],
   "source": [
    "# Method-5\n",
    "d = {'a1':7,'a2':12,'a3':19,'a4':25}\n",
    "for k,v in d.items(): # k corresponds to the keys and v corresponds to the value\n",
    "    print(v,k)"
   ]
  },
  {
   "cell_type": "code",
   "execution_count": null,
   "id": "0f58a6b9",
   "metadata": {},
   "outputs": [],
   "source": []
  },
  {
   "cell_type": "code",
   "execution_count": null,
   "id": "c40e99be",
   "metadata": {},
   "outputs": [],
   "source": []
  },
  {
   "cell_type": "code",
   "execution_count": null,
   "id": "9c92c0ba",
   "metadata": {},
   "outputs": [],
   "source": []
  }
 ],
 "metadata": {
  "kernelspec": {
   "display_name": "Python 3",
   "language": "python",
   "name": "python3"
  },
  "language_info": {
   "codemirror_mode": {
    "name": "ipython",
    "version": 3
   },
   "file_extension": ".py",
   "mimetype": "text/x-python",
   "name": "python",
   "nbconvert_exporter": "python",
   "pygments_lexer": "ipython3",
   "version": "3.8.8"
  }
 },
 "nbformat": 4,
 "nbformat_minor": 5
}
