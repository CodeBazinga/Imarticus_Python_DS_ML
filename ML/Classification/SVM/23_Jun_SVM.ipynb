{
 "cells": [
  {
   "cell_type": "markdown",
   "id": "c7931dcc",
   "metadata": {},
   "source": [
    "### SVM Links\n",
    "1) Vector Algebra -> https://www.svm-tutorial.com/2014/11/svm-understanding-math-part-2/\n",
    "    \n",
    "2) SVM Simulation -> https://jgreitemann.github.io/svm-demo\n",
    "    "
   ]
  },
  {
   "cell_type": "markdown",
   "id": "7f8f8f67",
   "metadata": {},
   "source": [
    "### Lagrange Multiplier\n",
    "In mathematical optimization, the method of Lagrange multipliers is a strategy for finding the local maxima and minima of a function subject to equality constraints. \n",
    "\n",
    "<img src=\"lagrange_multiplier.png\" align=\"left\">"
   ]
  },
  {
   "cell_type": "markdown",
   "id": "10eb964e",
   "metadata": {},
   "source": [
    "<img src=\"lagrange_multiplier_ex2.png\" align=\"left\">"
   ]
  },
  {
   "cell_type": "code",
   "execution_count": null,
   "id": "f6d1aa83",
   "metadata": {},
   "outputs": [],
   "source": []
  }
 ],
 "metadata": {
  "kernelspec": {
   "display_name": "Python 3",
   "language": "python",
   "name": "python3"
  },
  "language_info": {
   "codemirror_mode": {
    "name": "ipython",
    "version": 3
   },
   "file_extension": ".py",
   "mimetype": "text/x-python",
   "name": "python",
   "nbconvert_exporter": "python",
   "pygments_lexer": "ipython3",
   "version": "3.8.8"
  }
 },
 "nbformat": 4,
 "nbformat_minor": 5
}
