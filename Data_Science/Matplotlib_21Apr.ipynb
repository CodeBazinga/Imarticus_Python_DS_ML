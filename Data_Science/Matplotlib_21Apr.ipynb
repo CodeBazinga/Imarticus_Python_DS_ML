{
 "cells": [
  {
   "cell_type": "code",
   "execution_count": 24,
   "id": "4d7295ae",
   "metadata": {},
   "outputs": [],
   "source": [
    "import matplotlib.pyplot as plt\n",
    "import pandas as pd\n",
    "# plt is the alias name"
   ]
  },
  {
   "cell_type": "code",
   "execution_count": 11,
   "id": "a04bf3b7",
   "metadata": {},
   "outputs": [
    {
     "name": "stdout",
     "output_type": "stream",
     "text": [
      "10\n",
      "10\n"
     ]
    }
   ],
   "source": [
    "s1 = [1,2,3,4,5,6,7,8,9,10]  # list(range(1,11))\n",
    "s2 = [12,17,16,19,20,15,11,9,13,14]\n",
    "\n",
    "print(len(s1))\n",
    "print(len(s2))"
   ]
  },
  {
   "cell_type": "markdown",
   "id": "d150defa",
   "metadata": {},
   "source": [
    "### Bar Chart\n",
    "1) We represent numerical values with respect to categorical data on a Bar Chart<br>"
   ]
  },
  {
   "cell_type": "code",
   "execution_count": 7,
   "id": "59a31e58",
   "metadata": {},
   "outputs": [
    {
     "data": {
      "image/png": "[encoded data removed]",
      "text/plain": [
       "<Figure size 432x288 with 1 Axes>"
      ]
     },
     "metadata": {
      "needs_background": "light"
     },
     "output_type": "display_data"
    }
   ],
   "source": [
    "# s1 is represented on x-axis, s2 is represented on y-axis\n",
    "plt.bar(s1,s2)\n",
    "plt.show()  # removes unnecessary info"
   ]
  },
  {
   "cell_type": "code",
   "execution_count": 8,
   "id": "beabe72d",
   "metadata": {},
   "outputs": [
    {
     "name": "stdout",
     "output_type": "stream",
     "text": [
      "[1, 2, 3, 4, 5, 6, 7, 8, 9, 10]\n",
      "[12, 17, 16, 19, 20, 15, 11, 9, 13, 14]\n"
     ]
    }
   ],
   "source": [
    "print(s1)\n",
    "print(s2)"
   ]
  },
  {
   "cell_type": "code",
   "execution_count": 16,
   "id": "56d2eb9e",
   "metadata": {},
   "outputs": [
    {
     "data": {
      "image/png": "[encoded data removed]",
      "text/plain": [
       "<Figure size 432x288 with 1 Axes>"
      ]
     },
     "metadata": {
      "needs_background": "light"
     },
     "output_type": "display_data"
    }
   ],
   "source": [
    "plt.bar(s1,s2,color='green',label='s1 vs s2')\n",
    "plt.xlabel('S1')\n",
    "plt.ylabel('S2')\n",
    "plt.title('S1 vs S2 - Bar Chart')\n",
    "plt.legend()\n",
    "plt.grid()\n",
    "plt.savefig('21Apr_barchart.png')\n",
    "plt.show()"
   ]
  },
  {
   "cell_type": "code",
   "execution_count": 17,
   "id": "0b2f863d",
   "metadata": {},
   "outputs": [
    {
     "name": "stdout",
     "output_type": "stream",
     "text": [
      "[1, 2, 3, 4, 5, 6, 7, 8, 9, 10]\n",
      "[12, 17, 16, 19, 20, 15, 11, 9, 13, 14]\n"
     ]
    }
   ],
   "source": [
    "print(s1)\n",
    "print(s2)"
   ]
  },
  {
   "cell_type": "code",
   "execution_count": 20,
   "id": "af71212e",
   "metadata": {},
   "outputs": [
    {
     "name": "stdout",
     "output_type": "stream",
     "text": [
      "20 9\n",
      "4 7\n",
      "5 8\n"
     ]
    }
   ],
   "source": [
    "print(max(s2),min(s2))\n",
    "print(s2.index(max(s2)),s2.index(min(s2)))\n",
    "print(s1[s2.index(max(s2))],s1[s2.index(min(s2))])"
   ]
  },
  {
   "cell_type": "code",
   "execution_count": 22,
   "id": "c7e09b7a",
   "metadata": {},
   "outputs": [
    {
     "data": {
      "image/png": "[encoded data removed]",
      "text/plain": [
       "<Figure size 432x288 with 1 Axes>"
      ]
     },
     "metadata": {
      "needs_background": "light"
     },
     "output_type": "display_data"
    }
   ],
   "source": [
    "plt.bar(s1,s2,color='green',label='s1 vs s2')\n",
    "plt.bar(s1[s2.index(max(s2))],max(s2),color='maroon',label='Highest')\n",
    "plt.bar(s1[s2.index(min(s2))],min(s2),color='orange',label='Lowest')\n",
    "plt.xlabel('S1')\n",
    "plt.ylabel('S2')\n",
    "plt.title('S1 vs S2 - Bar Chart')\n",
    "plt.legend()\n",
    "plt.grid()\n",
    "plt.show()"
   ]
  },
  {
   "cell_type": "code",
   "execution_count": 25,
   "id": "754ae653",
   "metadata": {},
   "outputs": [
    {
     "data": {
      "text/html": [
       "<div>\n",
       "<style scoped>\n",
       "    .dataframe tbody tr th:only-of-type {\n",
       "        vertical-align: middle;\n",
       "    }\n",
       "\n",
       "    .dataframe tbody tr th {\n",
       "        vertical-align: top;\n",
       "    }\n",
       "\n",
       "    .dataframe thead th {\n",
       "        text-align: right;\n",
       "    }\n",
       "</style>\n",
       "<table border=\"1\" class=\"dataframe\">\n",
       "  <thead>\n",
       "    <tr style=\"text-align: right;\">\n",
       "      <th></th>\n",
       "      <th>Region</th>\n",
       "      <th>Sales</th>\n",
       "      <th>Profit</th>\n",
       "    </tr>\n",
       "  </thead>\n",
       "  <tbody>\n",
       "    <tr>\n",
       "      <th>0</th>\n",
       "      <td>USA</td>\n",
       "      <td>13.08</td>\n",
       "      <td>4.56</td>\n",
       "    </tr>\n",
       "    <tr>\n",
       "      <th>1</th>\n",
       "      <td>UK</td>\n",
       "      <td>252.16</td>\n",
       "      <td>90.72</td>\n",
       "    </tr>\n",
       "    <tr>\n",
       "      <th>2</th>\n",
       "      <td>UK</td>\n",
       "      <td>193.28</td>\n",
       "      <td>54.08</td>\n",
       "    </tr>\n",
       "    <tr>\n",
       "      <th>3</th>\n",
       "      <td>UK</td>\n",
       "      <td>35.44</td>\n",
       "      <td>4.96</td>\n",
       "    </tr>\n",
       "    <tr>\n",
       "      <th>4</th>\n",
       "      <td>UK</td>\n",
       "      <td>71.60</td>\n",
       "      <td>11.44</td>\n",
       "    </tr>\n",
       "  </tbody>\n",
       "</table>\n",
       "</div>"
      ],
      "text/plain": [
       "  Region    Sales    Profit\n",
       "0    USA      13.08    4.56\n",
       "1     UK     252.16   90.72\n",
       "2     UK     193.28   54.08\n",
       "3     UK      35.44    4.96\n",
       "4     UK      71.60   11.44"
      ]
     },
     "execution_count": 25,
     "metadata": {},
     "output_type": "execute_result"
    }
   ],
   "source": [
    "df = pd.read_csv('SalesRetails.csv')\n",
    "df.head()"
   ]
  },
  {
   "cell_type": "markdown",
   "id": "36316640",
   "metadata": {},
   "source": [
    "#### Q) Depict Region wise Sum of Sales on a Bar Chart"
   ]
  },
  {
   "cell_type": "code",
   "execution_count": 26,
   "id": "3f2356e6",
   "metadata": {},
   "outputs": [
    {
     "data": {
      "text/plain": [
       "Region\n",
       "India    12862.18\n",
       "UK       25101.12\n",
       "USA      41239.83\n",
       "Name:   Sales  , dtype: float64"
      ]
     },
     "execution_count": 26,
     "metadata": {},
     "output_type": "execute_result"
    }
   ],
   "source": [
    "r1 = df.groupby(['Region'])['  Sales  '].sum()\n",
    "r1"
   ]
  },
  {
   "cell_type": "code",
   "execution_count": 27,
   "id": "aea699aa",
   "metadata": {},
   "outputs": [
    {
     "name": "stdout",
     "output_type": "stream",
     "text": [
      "[12862.18 25101.12 41239.83]\n",
      "Index(['India', 'UK', 'USA'], dtype='object', name='Region')\n"
     ]
    }
   ],
   "source": [
    "print(r1.values)\n",
    "print(r1.index)"
   ]
  },
  {
   "cell_type": "code",
   "execution_count": 31,
   "id": "3460eb25",
   "metadata": {},
   "outputs": [
    {
     "data": {
      "image/png": "[encoded data removed]",
      "text/plain": [
       "<Figure size 432x288 with 1 Axes>"
      ]
     },
     "metadata": {
      "needs_background": "light"
     },
     "output_type": "display_data"
    }
   ],
   "source": [
    "plt.bar(r1.index,r1.values,color='orange',label='Sales sum')\n",
    "plt.xlabel('Region')\n",
    "plt.ylabel('Sum of Sales')\n",
    "plt.title('Region wise Sum of Sales')\n",
    "plt.legend(loc=9)\n",
    "plt.grid()\n",
    "plt.show()"
   ]
  },
  {
   "cell_type": "markdown",
   "id": "8781fdc3",
   "metadata": {},
   "source": [
    "#### Q) Depict Region wise Sum of Sales and Profit on a Bar Chart"
   ]
  },
  {
   "cell_type": "code",
   "execution_count": null,
   "id": "2b9140ae",
   "metadata": {},
   "outputs": [],
   "source": []
  }
 ],
 "metadata": {
  "kernelspec": {
   "display_name": "Python 3",
   "language": "python",
   "name": "python3"
  },
  "language_info": {
   "codemirror_mode": {
    "name": "ipython",
    "version": 3
   },
   "file_extension": ".py",
   "mimetype": "text/x-python",
   "name": "python",
   "nbconvert_exporter": "python",
   "pygments_lexer": "ipython3",
   "version": "3.8.8"
  }
 },
 "nbformat": 4,
 "nbformat_minor": 5
}
