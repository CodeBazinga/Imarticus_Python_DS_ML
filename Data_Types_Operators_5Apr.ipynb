{
 "cells": [
  {
   "cell_type": "markdown",
   "id": "d4761a01",
   "metadata": {},
   "source": [
    "#### Jupyter Shortcuts\n",
    "\n",
    "1) Execute/Run the cell -> Shift + Enter<br>\n",
    "2) Add a new cell on top of a cell -> A<br>\n",
    "3) Add a new cell on below a cell -> B<br>\n",
    "4) Delete a cell -> double D<br>\n",
    "5) Undo delete -> Z<br>\n",
    "6) Shortcuts -> H"
   ]
  },
  {
   "cell_type": "markdown",
   "id": "0bfd3170",
   "metadata": {},
   "source": [
    "# Heading 1\n",
    "\n",
    "## Heading 2\n",
    "\n",
    "### Heading 3\n",
    "\n",
    "#### Heading 4\n",
    "\n",
    "##### Heading 5\n",
    "\n",
    "###### Heading 6\n",
    "\n",
    "Text in normal size"
   ]
  },
  {
   "cell_type": "markdown",
   "id": "6a951230",
   "metadata": {},
   "source": [
    "#### Different IDEs for Python\n",
    "\n",
    "IDE (Integerated Developmenet Environment)\n",
    "\n",
    "1) Jupyter<br>\n",
    "2) Google Colab<br>\n",
    "3) VS Code<br>\n",
    "4) PyCharm<br>\n",
    "5) Spyder<br>\n",
    "6) Pythhon IDLE<br>\n",
    "7) Notepad<br>\n",
    "8) Notepad ++<br>\n",
    "9) Sublime<br>\n",
    "10) Atom<br>\n",
    "11) Thonny<br>\n",
    "12) Eclipse<br>"
   ]
  },
  {
   "cell_type": "markdown",
   "id": "f6adebd3",
   "metadata": {},
   "source": [
    "#### Notes\n",
    "1) () are called as parenthesis"
   ]
  },
  {
   "cell_type": "markdown",
   "id": "4383a0bb",
   "metadata": {},
   "source": [
    "### Comments\n",
    "1) Meant for internal documentation<br>\n",
    "2) They are not executed. Only meant explaination purpose<br>\n",
    "3) Comments are written in Code cell starting with #<br>"
   ]
  },
  {
   "cell_type": "markdown",
   "id": "e8a92663",
   "metadata": {},
   "source": [
    "### Variables\n",
    "1) Reserved memory that stores data<br>\n",
    "2) Variable is a container that can store any data. Data can be of any data types<br>\n",
    "3) Can be reassigned and reinitialized<br>\n",
    "4) Multiple variables can be created in the same line<br>"
   ]
  },
  {
   "cell_type": "code",
   "execution_count": 6,
   "id": "2ea059bd",
   "metadata": {},
   "outputs": [
    {
     "name": "stdout",
     "output_type": "stream",
     "text": [
      "10\n"
     ]
    }
   ],
   "source": [
    "a = 10\n",
    "print(a)\n",
    "\n",
    "# 1) The value of 10 is stored in variable a\n",
    "# 2) The value of 10 is assigned to variable a\n",
    "# 3) The variable a has been initialized with the value of 10"
   ]
  },
  {
   "cell_type": "code",
   "execution_count": 7,
   "id": "5db8e260",
   "metadata": {},
   "outputs": [
    {
     "name": "stdout",
     "output_type": "stream",
     "text": [
      "17\n"
     ]
    }
   ],
   "source": [
    "a = 17\n",
    "print(a)"
   ]
  },
  {
   "cell_type": "code",
   "execution_count": 8,
   "id": "149b1994",
   "metadata": {},
   "outputs": [
    {
     "name": "stdout",
     "output_type": "stream",
     "text": [
      "17\n"
     ]
    }
   ],
   "source": [
    "print(a)"
   ]
  },
  {
   "cell_type": "code",
   "execution_count": 9,
   "id": "ada4d3c1",
   "metadata": {},
   "outputs": [
    {
     "name": "stdout",
     "output_type": "stream",
     "text": [
      "Helo\n",
      "56\n"
     ]
    }
   ],
   "source": [
    "a1 = \"Helo\"\n",
    "a2 = 56\n",
    "print(a1)\n",
    "print(a2)"
   ]
  },
  {
   "cell_type": "code",
   "execution_count": 10,
   "id": "4faa24c9",
   "metadata": {},
   "outputs": [
    {
     "name": "stdout",
     "output_type": "stream",
     "text": [
      "Welcome\n",
      "34\n",
      "True\n"
     ]
    }
   ],
   "source": [
    "b1, b2, b3 = \"Welcome\", 34, True\n",
    "print(b1)\n",
    "print(b2)\n",
    "print(b3)"
   ]
  },
  {
   "cell_type": "code",
   "execution_count": 11,
   "id": "8c43e0c4",
   "metadata": {},
   "outputs": [
    {
     "name": "stdout",
     "output_type": "stream",
     "text": [
      "Welcome 34\n"
     ]
    }
   ],
   "source": [
    "print(b1,b2)"
   ]
  },
  {
   "cell_type": "markdown",
   "id": "3269ce46",
   "metadata": {},
   "source": [
    "### Rules of naming  a variable\n",
    "\n",
    "1) Should start with A-Z, a-z or _(underscore)<br>\n",
    "2) Should not start with numbers.<br>\n",
    "3) Should not contain special characters.<br>\n",
    "4) Should not contain space in between<br>\n",
    "5) Python keywords should be avoided in variable name<br>"
   ]
  },
  {
   "cell_type": "markdown",
   "id": "1b7a40c9",
   "metadata": {},
   "source": [
    "#### Valid variable names"
   ]
  },
  {
   "cell_type": "code",
   "execution_count": 1,
   "id": "3d6fbc52",
   "metadata": {},
   "outputs": [
    {
     "name": "stdout",
     "output_type": "stream",
     "text": [
      "3400\n",
      "8.5\n",
      "Python\n"
     ]
    }
   ],
   "source": [
    "Sales_mar = 3400\n",
    "prof_2022 = 8.5\n",
    "_course = \"Python\"\n",
    "print(Sales_mar)\n",
    "print(prof_2022)\n",
    "print(_course)"
   ]
  },
  {
   "cell_type": "code",
   "execution_count": 2,
   "id": "1c2d8c8e",
   "metadata": {},
   "outputs": [
    {
     "ename": "SyntaxError",
     "evalue": "invalid syntax (<ipython-input-2-e056fbd66ff3>, line 1)",
     "output_type": "error",
     "traceback": [
      "\u001b[1;36m  File \u001b[1;32m\"<ipython-input-2-e056fbd66ff3>\"\u001b[1;36m, line \u001b[1;32m1\u001b[0m\n\u001b[1;33m    23name = \"Ankit\"\u001b[0m\n\u001b[1;37m      ^\u001b[0m\n\u001b[1;31mSyntaxError\u001b[0m\u001b[1;31m:\u001b[0m invalid syntax\n"
     ]
    }
   ],
   "source": [
    "23name = \"Ankit\"\n",
    "print(23name)"
   ]
  },
  {
   "cell_type": "code",
   "execution_count": 3,
   "id": "4e703d6e",
   "metadata": {},
   "outputs": [
    {
     "ename": "SyntaxError",
     "evalue": "cannot assign to operator (<ipython-input-3-8ad3240758b2>, line 1)",
     "output_type": "error",
     "traceback": [
      "\u001b[1;36m  File \u001b[1;32m\"<ipython-input-3-8ad3240758b2>\"\u001b[1;36m, line \u001b[1;32m1\u001b[0m\n\u001b[1;33m    city@india = \"Delhi\"\u001b[0m\n\u001b[1;37m    ^\u001b[0m\n\u001b[1;31mSyntaxError\u001b[0m\u001b[1;31m:\u001b[0m cannot assign to operator\n"
     ]
    }
   ],
   "source": [
    "city@india = \"Delhi\"\n",
    "print(city@india)"
   ]
  },
  {
   "cell_type": "markdown",
   "id": "89a4560a",
   "metadata": {},
   "source": [
    "### Data Types\n",
    "\n",
    "Data types are the differnt categories of data that we can store in a variable.<br>\n",
    "Examples - int, float, bool, str, None etc\n",
    "\n",
    "type() - type function returns the data type"
   ]
  },
  {
   "cell_type": "code",
   "execution_count": 5,
   "id": "162a4954",
   "metadata": {},
   "outputs": [
    {
     "name": "stdout",
     "output_type": "stream",
     "text": [
      "10\n",
      "<class 'int'>\n"
     ]
    }
   ],
   "source": [
    "v1 = 10\n",
    "print(v1)\n",
    "print(type(v1))"
   ]
  },
  {
   "cell_type": "code",
   "execution_count": 6,
   "id": "46ee1a9b",
   "metadata": {},
   "outputs": [
    {
     "name": "stdout",
     "output_type": "stream",
     "text": [
      "23.45\n",
      "<class 'float'>\n"
     ]
    }
   ],
   "source": [
    "v2 = 23.45\n",
    "print(v2)\n",
    "print(type(v2))"
   ]
  },
  {
   "cell_type": "code",
   "execution_count": 7,
   "id": "58b8e45e",
   "metadata": {},
   "outputs": [
    {
     "name": "stdout",
     "output_type": "stream",
     "text": [
      "False\n",
      "<class 'bool'>\n"
     ]
    }
   ],
   "source": [
    "v3 = False\n",
    "print(v3)\n",
    "print(type(v3))"
   ]
  },
  {
   "cell_type": "code",
   "execution_count": 8,
   "id": "c6b1bffe",
   "metadata": {},
   "outputs": [
    {
     "name": "stdout",
     "output_type": "stream",
     "text": [
      "None\n",
      "<class 'NoneType'>\n"
     ]
    }
   ],
   "source": [
    "v4 = None\n",
    "print(v4)\n",
    "print(type(v4))"
   ]
  },
  {
   "cell_type": "markdown",
   "id": "7c4893c7",
   "metadata": {},
   "source": [
    "#### Strings can be enclosed in single, double or triple quotes"
   ]
  },
  {
   "cell_type": "code",
   "execution_count": 9,
   "id": "8e083c19",
   "metadata": {},
   "outputs": [
    {
     "name": "stdout",
     "output_type": "stream",
     "text": [
      "Welcome to Python\n",
      "<class 'str'>\n"
     ]
    }
   ],
   "source": [
    "v5 = \"Welcome to Python\"\n",
    "print(v5)\n",
    "print(type(v5))"
   ]
  },
  {
   "cell_type": "code",
   "execution_count": 10,
   "id": "f1e95685",
   "metadata": {},
   "outputs": [
    {
     "name": "stdout",
     "output_type": "stream",
     "text": [
      "Learning Python is fun\n",
      "<class 'str'>\n"
     ]
    }
   ],
   "source": [
    "v6 = 'Learning Python is fun'\n",
    "print(v6)\n",
    "print(type(v6))"
   ]
  },
  {
   "cell_type": "code",
   "execution_count": 11,
   "id": "e4bfbb97",
   "metadata": {},
   "outputs": [
    {
     "name": "stdout",
     "output_type": "stream",
     "text": [
      "Learning Python with \n",
      "hands on examples\n",
      "\n",
      "<class 'str'>\n"
     ]
    }
   ],
   "source": [
    "v7 = \"\"\"Learning Python with \n",
    "hands on examples\n",
    "\"\"\"\n",
    "print(v7)\n",
    "print(type(v7))"
   ]
  },
  {
   "cell_type": "code",
   "execution_count": 19,
   "id": "26fdb377",
   "metadata": {},
   "outputs": [
    {
     "name": "stdout",
     "output_type": "stream",
     "text": [
      "5000.0\n"
     ]
    },
    {
     "data": {
      "text/plain": [
       "float"
      ]
     },
     "execution_count": 19,
     "metadata": {},
     "output_type": "execute_result"
    }
   ],
   "source": [
    "r = 5e3\n",
    "print(r)\n",
    "type(r)"
   ]
  },
  {
   "cell_type": "markdown",
   "id": "571361f1",
   "metadata": {},
   "source": [
    "### Operators\n",
    "Entities using which we can perform mathematical operations"
   ]
  },
  {
   "cell_type": "markdown",
   "id": "8a739694",
   "metadata": {},
   "source": [
    "### 1) Arithmetic Operators "
   ]
  },
  {
   "cell_type": "code",
   "execution_count": 23,
   "id": "b60748ae",
   "metadata": {},
   "outputs": [
    {
     "name": "stdout",
     "output_type": "stream",
     "text": [
      "7\n",
      "3\n",
      "10\n",
      "2.5\n",
      "25\n",
      "2\n",
      "1\n"
     ]
    }
   ],
   "source": [
    "a,b = 5,2\n",
    "print(a+b)\n",
    "print(a-b)\n",
    "print(a*b)\n",
    "print(a/b)\n",
    "print(a**b) # Power Operator\n",
    "print(a//b) # Integer Division\n",
    "print(a%b)  # Modulo Operator (returns remainder)"
   ]
  },
  {
   "cell_type": "markdown",
   "id": "f9f2a7ad",
   "metadata": {},
   "source": [
    "### 2) Assignment Operator "
   ]
  },
  {
   "cell_type": "code",
   "execution_count": 31,
   "id": "f99f0751",
   "metadata": {},
   "outputs": [
    {
     "name": "stdout",
     "output_type": "stream",
     "text": [
      "2 5\n",
      "---------\n",
      "2 7\n",
      "---------\n",
      "2 5\n",
      "---------\n",
      "2 10\n",
      "---------\n",
      "2 5.0\n"
     ]
    }
   ],
   "source": [
    "a,b = 2,5\n",
    "print(a,b)\n",
    "b += a   # (b = b+a) \n",
    "print('---------')\n",
    "print(a,b)\n",
    "b -= a   # (b = b-a)\n",
    "print('---------')\n",
    "print(a,b)\n",
    "b *= a   # (b = b*a)\n",
    "print('---------')\n",
    "print(a,b)\n",
    "b /= a   # (b = b/a)\n",
    "print('---------')\n",
    "print(a,b)"
   ]
  },
  {
   "cell_type": "code",
   "execution_count": 30,
   "id": "41fa30c3",
   "metadata": {},
   "outputs": [
    {
     "name": "stdout",
     "output_type": "stream",
     "text": [
      "2 5\n",
      "---------\n",
      "2 25\n",
      "---------\n",
      "2 12\n",
      "---------\n",
      "2 0\n"
     ]
    }
   ],
   "source": [
    "a,b = 2,5\n",
    "print(a,b)\n",
    "b **= a   # (b = b**a) \n",
    "print('---------')\n",
    "print(a,b)\n",
    "b //= a   # (b = b//a)\n",
    "print('---------')\n",
    "print(a,b)\n",
    "b %= a   # (b = b%a)\n",
    "print('---------')\n",
    "print(a,b)\n"
   ]
  },
  {
   "cell_type": "markdown",
   "id": "5f852500",
   "metadata": {},
   "source": [
    "### 3) Relational/Comparison Operator \n",
    "Returns True or False"
   ]
  },
  {
   "cell_type": "code",
   "execution_count": 32,
   "id": "96d87a32",
   "metadata": {},
   "outputs": [
    {
     "name": "stdout",
     "output_type": "stream",
     "text": [
      "False\n",
      "True\n",
      "False\n",
      "True\n",
      "True\n",
      "False\n"
     ]
    }
   ],
   "source": [
    "a,b =  20,25\n",
    "print(a>b)  # F\n",
    "print(a<b)  # T\n",
    "print(a>=b) # F\n",
    "print(a<=b) # T\n",
    "print(a!=b) # T\n",
    "print(a==b) # F"
   ]
  },
  {
   "cell_type": "markdown",
   "id": "b232f2f3",
   "metadata": {},
   "source": [
    "### 4) Logical Operators"
   ]
  },
  {
   "cell_type": "code",
   "execution_count": 35,
   "id": "c865f672",
   "metadata": {},
   "outputs": [
    {
     "name": "stdout",
     "output_type": "stream",
     "text": [
      "False\n",
      "False\n",
      "True\n",
      "True\n",
      "False\n"
     ]
    }
   ],
   "source": [
    "a,b,c = 10,15,20\n",
    "print(a>b and c>b) #F\n",
    "print(a<b and a>c) #F\n",
    "print(a<b and b<c) #T\n",
    "print(a>b or c>b)  #T\n",
    "print(a>c or b>c)  #F"
   ]
  },
  {
   "cell_type": "markdown",
   "id": "70c92aca",
   "metadata": {},
   "source": [
    "### 5) Membership Operators\n",
    "Retunrs True or False"
   ]
  },
  {
   "cell_type": "code",
   "execution_count": 34,
   "id": "5628d226",
   "metadata": {},
   "outputs": [
    {
     "name": "stdout",
     "output_type": "stream",
     "text": [
      "True\n",
      "False\n",
      "True\n",
      "False\n",
      "True\n",
      "True\n"
     ]
    }
   ],
   "source": [
    "a = \"Welcome to python Learning\"\n",
    "print(\"me\" in a)\n",
    "print('Python' in a)\n",
    "print(\"n Le\" in a)\n",
    "print('very' in a)\n",
    "print('hello' not in a)\n",
    "print('the' not in a)"
   ]
  },
  {
   "cell_type": "markdown",
   "id": "67ec815d",
   "metadata": {},
   "source": [
    "### end and sep arguments of print()"
   ]
  },
  {
   "cell_type": "code",
   "execution_count": 37,
   "id": "41ad69c2",
   "metadata": {},
   "outputs": [
    {
     "name": "stdout",
     "output_type": "stream",
     "text": [
      "Hello World Python\n",
      "Hello World Python Hi "
     ]
    }
   ],
   "source": [
    "a = \"Hello\"\n",
    "b = \"World\"\n",
    "c = \"Python\"\n",
    "print(a,b,c)\n",
    "print(a,b,c,end=\" Hi \")"
   ]
  },
  {
   "cell_type": "code",
   "execution_count": 38,
   "id": "9de2b86e",
   "metadata": {},
   "outputs": [
    {
     "name": "stdout",
     "output_type": "stream",
     "text": [
      "Hello World Python ** "
     ]
    }
   ],
   "source": [
    "print(a,b,c,end=\" ** \")"
   ]
  },
  {
   "cell_type": "code",
   "execution_count": 40,
   "id": "68422c65",
   "metadata": {},
   "outputs": [
    {
     "name": "stdout",
     "output_type": "stream",
     "text": [
      "Hello World Python\n",
      "Hello ** World ** Python\n",
      "Hello $$ World $$ Python\n"
     ]
    }
   ],
   "source": [
    "print(a,b,c)\n",
    "print(a,b,c,sep=\" ** \")\n",
    "print(a,b,c,sep=\" $$ \")"
   ]
  },
  {
   "cell_type": "code",
   "execution_count": 41,
   "id": "e2a9917e",
   "metadata": {},
   "outputs": [
    {
     "name": "stdout",
     "output_type": "stream",
     "text": [
      "Hello $$ World $$ Python Ends here"
     ]
    }
   ],
   "source": [
    "print(a,b,c,sep=\" $$ \",end=\" Ends here\")"
   ]
  },
  {
   "cell_type": "markdown",
   "id": "fc87c9a5",
   "metadata": {},
   "source": [
    "### Accepting input from the user"
   ]
  },
  {
   "cell_type": "code",
   "execution_count": 43,
   "id": "50764631",
   "metadata": {},
   "outputs": [
    {
     "name": "stdout",
     "output_type": "stream",
     "text": [
      "Hello\n",
      "Hello\n"
     ]
    },
    {
     "data": {
      "text/plain": [
       "str"
      ]
     },
     "execution_count": 43,
     "metadata": {},
     "output_type": "execute_result"
    }
   ],
   "source": [
    "n= input()\n",
    "print(n)\n",
    "type(n)"
   ]
  },
  {
   "cell_type": "code",
   "execution_count": 44,
   "id": "144b569d",
   "metadata": {},
   "outputs": [
    {
     "name": "stdout",
     "output_type": "stream",
     "text": [
      "45\n",
      "45\n"
     ]
    },
    {
     "data": {
      "text/plain": [
       "str"
      ]
     },
     "execution_count": 44,
     "metadata": {},
     "output_type": "execute_result"
    }
   ],
   "source": [
    "m = input()\n",
    "print(m)\n",
    "type(m)"
   ]
  },
  {
   "cell_type": "markdown",
   "id": "32844ced",
   "metadata": {},
   "source": [
    "### Notes\n",
    "1) The return type of input function is string (str).<br>\n",
    "2)<b> Typecasting </b> - Changing from one data type to another is called typecasting.\n",
    "    It ensures that data of only a specified data type can be accepted by the program\n",
    "    and any other data type if entered by the user will throw an error."
   ]
  },
  {
   "cell_type": "code",
   "execution_count": 46,
   "id": "10c8c81a",
   "metadata": {},
   "outputs": [
    {
     "name": "stdout",
     "output_type": "stream",
     "text": [
      "Enter your name Harsh\n",
      "Harsh\n",
      "<class 'str'>\n"
     ]
    }
   ],
   "source": [
    "text = input('Enter your name ')\n",
    "print(text)\n",
    "print(type(text))"
   ]
  },
  {
   "cell_type": "code",
   "execution_count": 50,
   "id": "1fe5bf3e",
   "metadata": {},
   "outputs": [
    {
     "name": "stdout",
     "output_type": "stream",
     "text": [
      "Enter a number 23\n",
      "23\n",
      "<class 'int'>\n"
     ]
    }
   ],
   "source": [
    "text = int(input('Enter a number '))\n",
    "print(text)\n",
    "print(type(text))"
   ]
  },
  {
   "cell_type": "code",
   "execution_count": 49,
   "id": "b71a4ccf",
   "metadata": {},
   "outputs": [
    {
     "name": "stdout",
     "output_type": "stream",
     "text": [
      "Enter a number Welcome\n"
     ]
    },
    {
     "ename": "ValueError",
     "evalue": "invalid literal for int() with base 10: 'Welcome'",
     "output_type": "error",
     "traceback": [
      "\u001b[1;31m---------------------------------------------------------------------------\u001b[0m",
      "\u001b[1;31mValueError\u001b[0m                                Traceback (most recent call last)",
      "\u001b[1;32m<ipython-input-49-0bcb494cf2af>\u001b[0m in \u001b[0;36m<module>\u001b[1;34m\u001b[0m\n\u001b[1;32m----> 1\u001b[1;33m \u001b[0mtext\u001b[0m \u001b[1;33m=\u001b[0m \u001b[0mint\u001b[0m\u001b[1;33m(\u001b[0m\u001b[0minput\u001b[0m\u001b[1;33m(\u001b[0m\u001b[1;34m'Enter a number '\u001b[0m\u001b[1;33m)\u001b[0m\u001b[1;33m)\u001b[0m\u001b[1;33m\u001b[0m\u001b[1;33m\u001b[0m\u001b[0m\n\u001b[0m\u001b[0;32m      2\u001b[0m \u001b[0mprint\u001b[0m\u001b[1;33m(\u001b[0m\u001b[0mtext\u001b[0m\u001b[1;33m)\u001b[0m\u001b[1;33m\u001b[0m\u001b[1;33m\u001b[0m\u001b[0m\n\u001b[0;32m      3\u001b[0m \u001b[0mprint\u001b[0m\u001b[1;33m(\u001b[0m\u001b[0mtype\u001b[0m\u001b[1;33m(\u001b[0m\u001b[0mtext\u001b[0m\u001b[1;33m)\u001b[0m\u001b[1;33m)\u001b[0m\u001b[1;33m\u001b[0m\u001b[1;33m\u001b[0m\u001b[0m\n",
      "\u001b[1;31mValueError\u001b[0m: invalid literal for int() with base 10: 'Welcome'"
     ]
    }
   ],
   "source": [
    "text = int(input('Enter a number '))\n",
    "print(text)\n",
    "print(type(text))"
   ]
  },
  {
   "cell_type": "code",
   "execution_count": 51,
   "id": "9630fbb0",
   "metadata": {},
   "outputs": [
    {
     "name": "stdout",
     "output_type": "stream",
     "text": [
      "Enter a number 3.78\n"
     ]
    },
    {
     "ename": "ValueError",
     "evalue": "invalid literal for int() with base 10: '3.78'",
     "output_type": "error",
     "traceback": [
      "\u001b[1;31m---------------------------------------------------------------------------\u001b[0m",
      "\u001b[1;31mValueError\u001b[0m                                Traceback (most recent call last)",
      "\u001b[1;32m<ipython-input-51-0bcb494cf2af>\u001b[0m in \u001b[0;36m<module>\u001b[1;34m\u001b[0m\n\u001b[1;32m----> 1\u001b[1;33m \u001b[0mtext\u001b[0m \u001b[1;33m=\u001b[0m \u001b[0mint\u001b[0m\u001b[1;33m(\u001b[0m\u001b[0minput\u001b[0m\u001b[1;33m(\u001b[0m\u001b[1;34m'Enter a number '\u001b[0m\u001b[1;33m)\u001b[0m\u001b[1;33m)\u001b[0m\u001b[1;33m\u001b[0m\u001b[1;33m\u001b[0m\u001b[0m\n\u001b[0m\u001b[0;32m      2\u001b[0m \u001b[0mprint\u001b[0m\u001b[1;33m(\u001b[0m\u001b[0mtext\u001b[0m\u001b[1;33m)\u001b[0m\u001b[1;33m\u001b[0m\u001b[1;33m\u001b[0m\u001b[0m\n\u001b[0;32m      3\u001b[0m \u001b[0mprint\u001b[0m\u001b[1;33m(\u001b[0m\u001b[0mtype\u001b[0m\u001b[1;33m(\u001b[0m\u001b[0mtext\u001b[0m\u001b[1;33m)\u001b[0m\u001b[1;33m)\u001b[0m\u001b[1;33m\u001b[0m\u001b[1;33m\u001b[0m\u001b[0m\n",
      "\u001b[1;31mValueError\u001b[0m: invalid literal for int() with base 10: '3.78'"
     ]
    }
   ],
   "source": [
    "text = int(input('Enter a number '))\n",
    "print(text)\n",
    "print(type(text))"
   ]
  },
  {
   "cell_type": "code",
   "execution_count": 53,
   "id": "4c5fc664",
   "metadata": {},
   "outputs": [
    {
     "name": "stdout",
     "output_type": "stream",
     "text": [
      "Enter a number 34.56\n",
      "34.56\n",
      "<class 'type'>\n"
     ]
    }
   ],
   "source": [
    "g = float(input('Enter a number '))\n",
    "print(g)\n",
    "print(type(float))"
   ]
  },
  {
   "cell_type": "code",
   "execution_count": 54,
   "id": "4f46008e",
   "metadata": {},
   "outputs": [
    {
     "name": "stdout",
     "output_type": "stream",
     "text": [
      "Enter a number 38\n",
      "38.0\n",
      "<class 'float'>\n"
     ]
    }
   ],
   "source": [
    "# float accpets iint as input but int cant accpe float as integer\n",
    "g = float(input('Enter a number '))\n",
    "print(g)\n",
    "print(type(g))"
   ]
  },
  {
   "cell_type": "code",
   "execution_count": null,
   "id": "a8910613",
   "metadata": {},
   "outputs": [],
   "source": []
  }
 ],
 "metadata": {
  "kernelspec": {
   "display_name": "Python 3",
   "language": "python",
   "name": "python3"
  },
  "language_info": {
   "codemirror_mode": {
    "name": "ipython",
    "version": 3
   },
   "file_extension": ".py",
   "mimetype": "text/x-python",
   "name": "python",
   "nbconvert_exporter": "python",
   "pygments_lexer": "ipython3",
   "version": "3.8.8"
  }
 },
 "nbformat": 4,
 "nbformat_minor": 5
}
