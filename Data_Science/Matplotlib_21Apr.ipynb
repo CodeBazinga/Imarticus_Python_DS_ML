{
 "cells": [
  {
   "cell_type": "code",
   "execution_count": 17,
   "id": "bf5e0045",
   "metadata": {},
   "outputs": [],
   "source": [
    "import matplotlib.pyplot as plt\n",
    "import pandas as pd\n",
    "import numpy as np\n",
    "# plt is the alias name"
   ]
  },
  {
   "cell_type": "code",
   "execution_count": 2,
   "id": "1e245d51",
   "metadata": {},
   "outputs": [
    {
     "name": "stdout",
     "output_type": "stream",
     "text": [
      "10\n",
      "10\n"
     ]
    }
   ],
   "source": [
    "s1 = [1,2,3,4,5,6,7,8,9,10]  # list(range(1,11))\n",
    "s2 = [12,17,16,19,20,15,11,9,13,14]\n",
    "\n",
    "print(len(s1))\n",
    "print(len(s2))"
   ]
  },
  {
   "cell_type": "markdown",
   "id": "4f29b542",
   "metadata": {},
   "source": [
    "### Bar Chart\n",
    "1) We represent numerical values with respect to categorical data on a Bar Chart<br>\n",
    "2) It is used to compare different categories of categorical data<br>\n",
    "3) One axis displays the categorical variable. The other axis displays the value foe each category<br>"
   ]
  },
  {
   "cell_type": "code",
   "execution_count": 3,
   "id": "649e4878",
   "metadata": {},
   "outputs": [
    {
     "data": {
      "image/png": "[encoded data removed]",
      "text/plain": [
       "<Figure size 432x288 with 1 Axes>"
      ]
     },
     "metadata": {
      "needs_background": "light"
     },
     "output_type": "display_data"
    }
   ],
   "source": [
    "# s1 is represented on x-axis, s2 is represented on y-axis\n",
    "plt.bar(s1,s2)\n",
    "plt.show()  # removes unnecessary info"
   ]
  },
  {
   "cell_type": "code",
   "execution_count": 4,
   "id": "4c7112a4",
   "metadata": {},
   "outputs": [
    {
     "name": "stdout",
     "output_type": "stream",
     "text": [
      "[1, 2, 3, 4, 5, 6, 7, 8, 9, 10]\n",
      "[12, 17, 16, 19, 20, 15, 11, 9, 13, 14]\n"
     ]
    }
   ],
   "source": [
    "print(s1)\n",
    "print(s2)"
   ]
  },
  {
   "cell_type": "code",
   "execution_count": 5,
   "id": "a979ca2f",
   "metadata": {},
   "outputs": [
    {
     "data": {
      "image/png": "[encoded data removed]",
      "text/plain": [
       "<Figure size 432x288 with 1 Axes>"
      ]
     },
     "metadata": {
      "needs_background": "light"
     },
     "output_type": "display_data"
    }
   ],
   "source": [
    "plt.bar(s1,s2,color='green',label='s1 vs s2')\n",
    "plt.xlabel('S1')\n",
    "plt.ylabel('S2')\n",
    "plt.title('S1 vs S2 - Bar Chart')\n",
    "plt.legend()\n",
    "plt.grid()\n",
    "plt.savefig('21Apr_barchart.png')\n",
    "plt.show()"
   ]
  },
  {
   "cell_type": "code",
   "execution_count": 6,
   "id": "28e8d702",
   "metadata": {},
   "outputs": [
    {
     "name": "stdout",
     "output_type": "stream",
     "text": [
      "[1, 2, 3, 4, 5, 6, 7, 8, 9, 10]\n",
      "[12, 17, 16, 19, 20, 15, 11, 9, 13, 14]\n"
     ]
    }
   ],
   "source": [
    "print(s1)\n",
    "print(s2)"
   ]
  },
  {
   "cell_type": "code",
   "execution_count": 7,
   "id": "08426b80",
   "metadata": {},
   "outputs": [
    {
     "name": "stdout",
     "output_type": "stream",
     "text": [
      "20 9\n",
      "4 7\n",
      "5 8\n"
     ]
    }
   ],
   "source": [
    "print(max(s2),min(s2))\n",
    "print(s2.index(max(s2)),s2.index(min(s2)))\n",
    "print(s1[s2.index(max(s2))],s1[s2.index(min(s2))])"
   ]
  },
  {
   "cell_type": "code",
   "execution_count": 8,
   "id": "19ef0798",
   "metadata": {},
   "outputs": [
    {
     "data": {
      "image/png": "[encoded data removed]",
      "text/plain": [
       "<Figure size 432x288 with 1 Axes>"
      ]
     },
     "metadata": {
      "needs_background": "light"
     },
     "output_type": "display_data"
    }
   ],
   "source": [
    "plt.bar(s1,s2,color='green',label='s1 vs s2')\n",
    "plt.bar(s1[s2.index(max(s2))],max(s2),color='maroon',label='Highest')\n",
    "plt.bar(s1[s2.index(min(s2))],min(s2),color='orange',label='Lowest')\n",
    "plt.xlabel('S1')\n",
    "plt.ylabel('S2')\n",
    "plt.title('S1 vs S2 - Bar Chart')\n",
    "plt.legend()\n",
    "plt.grid()\n",
    "plt.show()"
   ]
  },
  {
   "cell_type": "code",
   "execution_count": 9,
   "id": "ddb8a805",
   "metadata": {},
   "outputs": [
    {
     "data": {
      "text/html": [
       "<div>\n",
       "<style scoped>\n",
       "    .dataframe tbody tr th:only-of-type {\n",
       "        vertical-align: middle;\n",
       "    }\n",
       "\n",
       "    .dataframe tbody tr th {\n",
       "        vertical-align: top;\n",
       "    }\n",
       "\n",
       "    .dataframe thead th {\n",
       "        text-align: right;\n",
       "    }\n",
       "</style>\n",
       "<table border=\"1\" class=\"dataframe\">\n",
       "  <thead>\n",
       "    <tr style=\"text-align: right;\">\n",
       "      <th></th>\n",
       "      <th>Region</th>\n",
       "      <th>Sales</th>\n",
       "      <th>Profit</th>\n",
       "    </tr>\n",
       "  </thead>\n",
       "  <tbody>\n",
       "    <tr>\n",
       "      <th>0</th>\n",
       "      <td>USA</td>\n",
       "      <td>13.08</td>\n",
       "      <td>4.56</td>\n",
       "    </tr>\n",
       "    <tr>\n",
       "      <th>1</th>\n",
       "      <td>UK</td>\n",
       "      <td>252.16</td>\n",
       "      <td>90.72</td>\n",
       "    </tr>\n",
       "    <tr>\n",
       "      <th>2</th>\n",
       "      <td>UK</td>\n",
       "      <td>193.28</td>\n",
       "      <td>54.08</td>\n",
       "    </tr>\n",
       "    <tr>\n",
       "      <th>3</th>\n",
       "      <td>UK</td>\n",
       "      <td>35.44</td>\n",
       "      <td>4.96</td>\n",
       "    </tr>\n",
       "    <tr>\n",
       "      <th>4</th>\n",
       "      <td>UK</td>\n",
       "      <td>71.60</td>\n",
       "      <td>11.44</td>\n",
       "    </tr>\n",
       "  </tbody>\n",
       "</table>\n",
       "</div>"
      ],
      "text/plain": [
       "  Region    Sales    Profit\n",
       "0    USA      13.08    4.56\n",
       "1     UK     252.16   90.72\n",
       "2     UK     193.28   54.08\n",
       "3     UK      35.44    4.96\n",
       "4     UK      71.60   11.44"
      ]
     },
     "execution_count": 9,
     "metadata": {},
     "output_type": "execute_result"
    }
   ],
   "source": [
    "df = pd.read_csv('SalesRetails.csv')\n",
    "df.head()"
   ]
  },
  {
   "cell_type": "markdown",
   "id": "fad28a65",
   "metadata": {},
   "source": [
    "#### Q) Depict Region wise Sum of Sales on a Bar Chart"
   ]
  },
  {
   "cell_type": "code",
   "execution_count": 10,
   "id": "f78e8fc8",
   "metadata": {},
   "outputs": [
    {
     "data": {
      "text/plain": [
       "Region\n",
       "India    12862.18\n",
       "UK       25101.12\n",
       "USA      41239.83\n",
       "Name:   Sales  , dtype: float64"
      ]
     },
     "execution_count": 10,
     "metadata": {},
     "output_type": "execute_result"
    }
   ],
   "source": [
    "r1 = df.groupby(['Region'])['  Sales  '].sum()\n",
    "r1"
   ]
  },
  {
   "cell_type": "code",
   "execution_count": 11,
   "id": "9f7dc39b",
   "metadata": {},
   "outputs": [
    {
     "name": "stdout",
     "output_type": "stream",
     "text": [
      "[12862.18 25101.12 41239.83]\n",
      "Index(['India', 'UK', 'USA'], dtype='object', name='Region')\n"
     ]
    }
   ],
   "source": [
    "print(r1.values)\n",
    "print(r1.index)"
   ]
  },
  {
   "cell_type": "code",
   "execution_count": 12,
   "id": "c4e99cc4",
   "metadata": {},
   "outputs": [
    {
     "data": {
      "image/png": "[encoded data removed]",
      "text/plain": [
       "<Figure size 432x288 with 1 Axes>"
      ]
     },
     "metadata": {
      "needs_background": "light"
     },
     "output_type": "display_data"
    }
   ],
   "source": [
    "plt.bar(r1.index,r1.values,color='orange',label='Sales sum')\n",
    "plt.xlabel('Region')\n",
    "plt.ylabel('Sum of Sales')\n",
    "plt.title('Region wise Sum of Sales')\n",
    "plt.legend(loc=9)\n",
    "plt.grid()\n",
    "plt.show()"
   ]
  },
  {
   "cell_type": "markdown",
   "id": "cf333e19",
   "metadata": {},
   "source": [
    "#### Q) Depict Region wise Sum of Sales and Profit on a Bar Chart"
   ]
  },
  {
   "cell_type": "code",
   "execution_count": null,
   "id": "584d97a9",
   "metadata": {},
   "outputs": [],
   "source": []
  },
  {
   "cell_type": "code",
   "execution_count": null,
   "id": "1edd0c15",
   "metadata": {},
   "outputs": [],
   "source": []
  },
  {
   "cell_type": "code",
   "execution_count": null,
   "id": "82218324",
   "metadata": {},
   "outputs": [],
   "source": []
  },
  {
   "cell_type": "code",
   "execution_count": null,
   "id": "7ef77870",
   "metadata": {},
   "outputs": [],
   "source": []
  },
  {
   "cell_type": "code",
   "execution_count": null,
   "id": "d55c5750",
   "metadata": {},
   "outputs": [],
   "source": []
  },
  {
   "cell_type": "code",
   "execution_count": null,
   "id": "00563f10",
   "metadata": {},
   "outputs": [],
   "source": []
  },
  {
   "cell_type": "code",
   "execution_count": null,
   "id": "8dd1f7ea",
   "metadata": {},
   "outputs": [],
   "source": []
  },
  {
   "cell_type": "markdown",
   "id": "e62bdb28",
   "metadata": {},
   "source": [
    "### Line Chart/Plot\n",
    "1) A line chart is a type of chart used to show information that changes over time.<br>"
   ]
  },
  {
   "cell_type": "code",
   "execution_count": null,
   "id": "a9ff7321",
   "metadata": {},
   "outputs": [],
   "source": []
  },
  {
   "cell_type": "code",
   "execution_count": null,
   "id": "b250057c",
   "metadata": {},
   "outputs": [],
   "source": []
  },
  {
   "cell_type": "markdown",
   "id": "d7b79aaf",
   "metadata": {},
   "source": [
    "### Scatter Chart\n",
    "1) It is used to display relationship between 2 numerical variables<br>\n",
    "2) Used to detect extreme points in the data<br>\n",
    "3) It represents correlation between two variables<br>"
   ]
  },
  {
   "cell_type": "code",
   "execution_count": null,
   "id": "654096da",
   "metadata": {},
   "outputs": [],
   "source": []
  },
  {
   "cell_type": "code",
   "execution_count": null,
   "id": "da83cd44",
   "metadata": {},
   "outputs": [],
   "source": []
  },
  {
   "cell_type": "markdown",
   "id": "a9ecfb0b",
   "metadata": {},
   "source": [
    "### Pie Chart\n",
    "1) It is used to represent percentage distribution<br>\n",
    "2) It is used for univariate data<br>"
   ]
  },
  {
   "cell_type": "code",
   "execution_count": null,
   "id": "417412e6",
   "metadata": {},
   "outputs": [],
   "source": []
  },
  {
   "cell_type": "markdown",
   "id": "d86a7212",
   "metadata": {},
   "source": [
    "### Histogram\n",
    "1) It is used to represent frequency distrbution<br>\n",
    "2) There are no gaps between the bars of histogram<br>\n",
    "3) One axis represents variable in form of bars, the orther represents frequency of each bar<br>\n",
    "\n",
    "A histogram displays numerical data by grouping data into \"bins\" of equal width. Bins are also sometimes called \"intervals\", \"classes\", or \"buckets\". Bins divide the entire range of values into a series of intervals — and then count how many values fall into each interval\n",
    "\n",
    "If bins is a sequence. All but the last (righthand-most) bin is half-open.\n",
    "In other words, if bins is:[1, 2, 3, 4] then the first bin is [1, 2) (including 1, but excluding 2) and the second [2, 3). The last bin, however, is [3, 4], which includes 4."
   ]
  },
  {
   "cell_type": "code",
   "execution_count": null,
   "id": "7c71e701",
   "metadata": {},
   "outputs": [],
   "source": []
  },
  {
   "cell_type": "markdown",
   "id": "b9ecf8d5",
   "metadata": {},
   "source": [
    "### BoxPlot\n",
    "1) It is used to represent percentile/quartile distrubution<br>\n",
    "2) It is used to visualize distribution of numerical data<br>\n",
    "3) It represnets a 5 number summary<br>\n",
    "\n",
    "i) Q1 - 25 percentile (median of min and Q2)<br>\n",
    "ii) Q2 - 50 percentile (median)<br>\n",
    "iii) Q3 - 75 percentile (median of max and Q2)<br>\n",
    "iv) IQR (Inter Quartile Range) = Q3-Q1<br>\n",
    "v) min = Q1 - 1.5 * IQR<br>\n",
    "vi) max = Q3 +  1.5 * IQR<br>\n",
    "vii) Outliers = >max or <min"
   ]
  },
  {
   "cell_type": "code",
   "execution_count": 79,
   "id": "5f69ddad",
   "metadata": {},
   "outputs": [
    {
     "name": "stdout",
     "output_type": "stream",
     "text": [
      "[12, 14, 16, 15, 14, 25, 12, 11, 9, 10, 13, 15, 2, 17, 9, 16]\n",
      "16\n"
     ]
    }
   ],
   "source": [
    "x = [12,14, 16, 15, 14,25, 12, 11, 9,10,13,15,2,17,9,16]\n",
    "print(x)\n",
    "print(len(x))"
   ]
  },
  {
   "cell_type": "code",
   "execution_count": 80,
   "id": "219c08da",
   "metadata": {},
   "outputs": [
    {
     "data": {
      "image/png": "[encoded data removed]",
      "text/plain": [
       "<Figure size 432x288 with 1 Axes>"
      ]
     },
     "metadata": {
      "needs_background": "light"
     },
     "output_type": "display_data"
    }
   ],
   "source": [
    "plt.boxplot(x)\n",
    "plt.show()"
   ]
  },
  {
   "cell_type": "code",
   "execution_count": null,
   "id": "63210614",
   "metadata": {},
   "outputs": [],
   "source": []
  },
  {
   "cell_type": "code",
   "execution_count": 81,
   "id": "363fabd0",
   "metadata": {},
   "outputs": [],
   "source": [
    "# data = [32, 36, 46, 47, 56, 61, 75, 79, 79, 88, 89, 91, 92, 93, 96, 97,  \n",
    "#         101, 105, 112, 116] \n",
    "# print(len(data))"
   ]
  },
  {
   "cell_type": "code",
   "execution_count": null,
   "id": "347d5787",
   "metadata": {},
   "outputs": [],
   "source": []
  },
  {
   "cell_type": "code",
   "execution_count": null,
   "id": "78ca17f7",
   "metadata": {},
   "outputs": [],
   "source": []
  },
  {
   "cell_type": "code",
   "execution_count": null,
   "id": "f69e35eb",
   "metadata": {},
   "outputs": [],
   "source": []
  },
  {
   "cell_type": "markdown",
   "id": "7c4e668b",
   "metadata": {},
   "source": [
    "### Subplots\n",
    "\n",
    "1) Facilitates to plot multiple subplots (charts) for a single figure<br>"
   ]
  },
  {
   "cell_type": "code",
   "execution_count": 42,
   "id": "d7d7d30a",
   "metadata": {},
   "outputs": [
    {
     "name": "stdout",
     "output_type": "stream",
     "text": [
      "7 7\n"
     ]
    }
   ],
   "source": [
    "day = [1,2,3,4,5,6,7]\n",
    "sales = [6,4,3,5,8,4,7]\n",
    "r = ['Delhi','Noida','Mumbai','Kolkata','Chennai','Bangalore']\n",
    "print(len(day),len(sales))"
   ]
  },
  {
   "cell_type": "code",
   "execution_count": null,
   "id": "27183086",
   "metadata": {},
   "outputs": [],
   "source": []
  }
 ],
 "metadata": {
  "kernelspec": {
   "display_name": "Python 3",
   "language": "python",
   "name": "python3"
  },
  "language_info": {
   "codemirror_mode": {
    "name": "ipython",
    "version": 3
   },
   "file_extension": ".py",
   "mimetype": "text/x-python",
   "name": "python",
   "nbconvert_exporter": "python",
   "pygments_lexer": "ipython3",
   "version": "3.8.8"
  }
 },
 "nbformat": 4,
 "nbformat_minor": 5
}
