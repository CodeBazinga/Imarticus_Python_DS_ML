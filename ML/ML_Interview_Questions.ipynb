{
 "cells": [
  {
   "cell_type": "markdown",
   "id": "c1c0e9f2",
   "metadata": {},
   "source": [
    "### ML Interview Questions"
   ]
  },
  {
   "cell_type": "code",
   "execution_count": null,
   "id": "ef77ef2a",
   "metadata": {},
   "outputs": [],
   "source": []
  },
  {
   "cell_type": "markdown",
   "id": "2d8445fa",
   "metadata": {},
   "source": [
    "### General Questions\n",
    "\n",
    "1) What are the differnent types of Machine Learning Techniques?<br>\n",
    "2) What are steps involved in builing an ML model<br>\n",
    "3) What is supervised learning? What is it called supervised.<br>\n",
    "4) What are the types of problems that we solve using Supervised learning?<br>\n",
    "5) What are Regression problems? or What is Regression analsysis?<br>\n",
    "6) What are Classification problems?<br>\n",
    "7) What is Reinforcemnent learning?<br>\n",
    "8) What is overfitting and underfitting<br>\n",
    "9) What are methods to prevent overfiiting<br>\n",
    "10) What is Bias and Variance?<br>\n",
    "11) What is Bais-variance trade-off<br>\n",
    "12) What is an imbalanced dataset<br>\n",
    "13) How to deal with imbalanced data set in classification problem?<br>\n",
    "14) What is an underfit and an overfit model. Explain in terms of <br>\n",
    "    \n",
    "     a) Performance of training and testing data\n",
    "     b) Bias and variance\n",
    "15) What are differnmt methods of null value imputation<br>\n",
    "16) What are differnt ways of feature selection<br>"
   ]
  },
  {
   "cell_type": "markdown",
   "id": "31618ea7",
   "metadata": {},
   "source": [
    "### Linear Regression\n",
    "\n",
    "1) What is R-sqaured?<br>\n",
    "2) <b>What is difference between R2 and Adjusted R2?</b><br>\n",
    "3) Why do we use Adjusted R2?<br>\n",
    "4) What are the assumptions of Linear Regression?<br>\n",
    "5) What is Homoscedaticity?<br>\n",
    "6) <b>What is Regularization?</b><br>\n",
    "7) <b>Explain different regularization techniques</b><br>\n",
    "8) How to prevent overfitting in Regression models<br>\n",
    "9) <b>Explain Gradient Descent</b><br>\n",
    "10) <b>What is the cost function in Linear Regression, Ridge Regression and Lasso Regression and ElasticNet Regression</b><br>\n",
    "11) What is the difference between Ridge and Lasso Regression<br>\n",
    "12) How would you minimize the cost function of Linear Regression<br>\n",
    "13) What are Regression performance metrics?<br>\n",
    "14) How to detect multicollinearity and how to get rid of it?<br>\n",
    "15) What is VIF<br>\n",
    "16) Name the tests to detect in following in Linear Regression<br>\n",
    "\n",
    "    a) Homoscedasticity\n",
    "    b) Autocorrelation\n",
    "    c) Multicollinearity\n",
    "    d) Normality\n",
    "\n",
    "18) What are limitations of Linear Regression<br>\n",
    "19) How to perform Regression when data is non-linear?<br>\n",
    "20) What is Mean Squared Error and Mean Absolute Error<br>\n",
    "21) What are SSE,SST and SSR in Regression?<br>\n",
    "22) What is OLS model?<br>\n",
    "23) How would you convert non-normalally distributed data to normally distributed data<br>\n",
    "24) What is a convex functions. How to identify if a function is convex in nature<br>"
   ]
  },
  {
   "cell_type": "markdown",
   "id": "0c2c93c6",
   "metadata": {},
   "source": [
    "### Classification General Questions\n",
    "\n",
    "1) What is confusion matrix?<br>\n",
    "2) What are different classification metrics?<br>\n",
    "3) What is TP,FP,FN and TN?<br>\n",
    "4) <b>What is the difference between Precision and Recall?</b><br>\n",
    "5) What is Accuracy in classification problems?<br>\n",
    "6) Give examples of problems where you would judge the performance of the model based on <br>\n",
    "\n",
    "    a) Precision\n",
    "    b) Recall\n",
    "7) What is ROC, AUC?<br>\n",
    "8) What is True Positive Rate and False Positive Rate<br>\n",
    "9) What is Sensitivity, Specificity?<br>\n",
    "10) What are Type-I and Type-II Errors. Which is more severe and why? Explain with example<br>\n",
    "12) "
   ]
  },
  {
   "cell_type": "markdown",
   "id": "136cfd24",
   "metadata": {},
   "source": [
    "### Logistic Regression\n",
    "\n",
    "1) What is Likelihood in Logistic Regression<br>\n",
    "2) What is maximum likelihood<br>\n",
    "3) What is the difference between Probability and likelihood?<br>\n",
    "4) What is odds ratio<br>\n",
    "5) What is sigmoid or logistic function<br>\n",
    "6) What is the cost function for Logistic Regression<br>\n",
    "7) What is the cost function for Logistic Regression<br>\n",
    "8) What are limitations of Logistic Regression<br>\n",
    "9) What is negative log likelihood in LogisticRegression<br>\n",
    "10) What are limitations of Logistic Regression<br>\n"
   ]
  },
  {
   "cell_type": "markdown",
   "id": "a0b88b3d",
   "metadata": {},
   "source": [
    "### Decision Tree\n",
    "1) What is intuition behind Decision Tree<br>\n",
    "2) How is splitting decided in Decision Tree?<br>\n",
    "3) Explain the working of gini and entropy criterion<br>\n",
    "4) What is the alogorithm used behind<br>\n",
    "    \n",
    "    a) gini crterion\n",
    "    b) entropy criterion\n",
    "\n",
    "5) What is Information gain. How does it affect the splitting?<br>\n",
    "6) What are Decision Tree hyperparamters<br>\n",
    "7) Explain max_depth,min_samples_split in a Decision Tree<br>\n",
    "8) How would you prevent overfitting in a Decision Tree<br>\n",
    "9) How would you prune a DT<br>\n",
    "10) How to import a decision tree?<br>\n",
    "11) How to fetch the rules for a decision tree classifier<br>\n",
    "12) What is the criterion for Decision Tree Regression<br>\n",
    "13) What are limitations of Decision Tree Classifier?<br>\n"
   ]
  },
  {
   "cell_type": "markdown",
   "id": "4472f0ef",
   "metadata": {},
   "source": [
    "### Random Forest\n",
    "1) What is intuition behind Random Forest?<br>\n",
    "2) What is a Bagging in Random Forest?<br>\n",
    "3) What Random Forest is called random?<br>\n",
    "4) What are Random Forest hyperparamters<br>\n",
    "5) How would you prevent overfitting in a Random Forest<br>\n",
    "6) How to import a RandomForestClassifier?<br>\n",
    "7) What is feature importance in Random Forest<br>\n",
    "8) What is ensmble learning. What are types of ensemble learning techniques<br>\n",
    "9) What are limitations of RandomForestClassifier?<br>\n",
    "10) What is oob score in Random Forest<br>\n",
    "11) What is Bootstrapping in Random Forest<br>\n",
    "12) Why is Random Forest conidered a black-box model<br>"
   ]
  },
  {
   "cell_type": "markdown",
   "id": "d47340b4",
   "metadata": {},
   "source": [
    "### SVM\n",
    "\n",
    "1) What is Intuition behind SVM<br>\n",
    "2) What is a hyperplane?<br>\n",
    "3) What are support vetcors?<br>\n",
    "4) What is margin in SVM?<br> \n",
    "5) What is hyperplnae in 1D, 2D and 3D<br>\n",
    "6) What is kernel trick in SVM<br>\n",
    "7) What is C paramter in SVM. <br>\n",
    "8) What is the cost Function in SVM<br>\n",
    "9) How to minimize cost Function in SVM<br>\n",
    "10) What is Primal and Dual formulation<br>\n",
    "11) What kind of optmization would you use to sove SVM cost function?<br>\n",
    "12) What are the different kernels used in SVM Classification<br>\n",
    "13) What are hyperparameters of SVM<br>\n",
    "14) What are limitations of SVM<br>\n",
    "15) In which ML algoirthm do we use Lagrange Multiplier<br>\n",
    "16) What is Lagrange Multiplier<br>"
   ]
  },
  {
   "cell_type": "markdown",
   "id": "15392c1b",
   "metadata": {},
   "source": [
    "### KNN\n",
    "\n",
    "* What is the intuition behind KNN?\n",
    "* What are the limitaions of KNN?\n",
    "* WhY KNN is considered an lazy algorithm\n",
    "* Why data scaling/standradization is needed before KNN?\n",
    "* Explain the working of KNN?\n",
    "* What are the different distance metrics used in KNN?\n",
    "* What would happen if we choose the nearest neighbor as an even number\n",
    "* "
   ]
  },
  {
   "cell_type": "code",
   "execution_count": null,
   "id": "57dd0165",
   "metadata": {},
   "outputs": [],
   "source": []
  },
  {
   "cell_type": "markdown",
   "id": "b551f978",
   "metadata": {},
   "source": [
    "### Advanvced Interview Questions\n",
    "\n",
    "1) What are saddle points<br>\n",
    "2) <b>How to prevent overfitting in logistic regression</b><br>\n",
    "Ans) Using C parameter, C = 1/lambda where lambda is regularization term<br>\n",
    "3) Where do we use Newton rahphson method<br>\n",
    "4) Where do we use Hessian matrix<br>\n",
    "5) What is Cohen Kappa Score. When do we use it?<br>\n",
    "6) What is box-cox transformation. When to use it<br>"
   ]
  },
  {
   "cell_type": "code",
   "execution_count": null,
   "id": "0bc95a90",
   "metadata": {},
   "outputs": [],
   "source": []
  }
 ],
 "metadata": {
  "kernelspec": {
   "display_name": "Python 3",
   "language": "python",
   "name": "python3"
  },
  "language_info": {
   "codemirror_mode": {
    "name": "ipython",
    "version": 3
   },
   "file_extension": ".py",
   "mimetype": "text/x-python",
   "name": "python",
   "nbconvert_exporter": "python",
   "pygments_lexer": "ipython3",
   "version": "3.8.8"
  }
 },
 "nbformat": 4,
 "nbformat_minor": 5
}
