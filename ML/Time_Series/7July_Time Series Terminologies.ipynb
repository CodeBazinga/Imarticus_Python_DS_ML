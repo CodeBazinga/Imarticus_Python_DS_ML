{
 "cells": [
  {
   "cell_type": "code",
   "execution_count": null,
   "id": "e9e5dcaf",
   "metadata": {},
   "outputs": [],
   "source": []
  },
  {
   "cell_type": "markdown",
   "id": "2b0e45b8",
   "metadata": {},
   "source": [
    "#### Time Series\n",
    "A time series is simply a series of data points ordered in time. In a time series, time is often the independent variable and the goal is usually to make a forecast for the future.\n",
    "\n",
    "<b>Time series data: </b> A set of observations on the values that a variable takes at different times.\n",
    "\n",
    "#### Time Series Forecasting \n",
    "Predicting a continuous value over a period of time. Independent feature is time<br>\n",
    "Businesses utilize forecasting to determine how to allocate their budgets or plan for anticipated expenses for an upcoming period of time"
   ]
  },
  {
   "cell_type": "markdown",
   "id": "3c98038f",
   "metadata": {},
   "source": [
    "#### Examples of Time Series\n",
    "\n",
    "1) Stock Market<br>\n",
    "2) Weather Forecasting<br>\n",
    "3) GDP<br>\n",
    "4) Zomato,Swiggy pricing<br>\n",
    "5) Ola, Uber pricing<br>\n",
    "6) Movies show time<br>\n",
    "7) Flight Pricing<br>\n",
    "8) Water Park<br>\n",
    "9) Ocean Tides<br>\n",
    "10) Energy/power consumption<br>\n",
    "11) Pricing of Mobile phones<br>\n",
    "12) Car pricing<br>\n",
    "13) Cryptocurrency<br>\n",
    "14) Accessories Cost over time<br>"
   ]
  },
  {
   "cell_type": "markdown",
   "id": "279c91a2",
   "metadata": {},
   "source": [
    "### Components of Time Series\n",
    "1) Trend<br>\n",
    "2) Seasonality<br>\n",
    "3) Residuals or Irregularity<br>"
   ]
  },
  {
   "cell_type": "markdown",
   "id": "6d72e7c6",
   "metadata": {},
   "source": [
    "### Trend\n",
    "1) It is a movement of data values that decrease or increase with time. There can be an upward trend and downward trend of any data series.<br>\n",
    "2) The upward trends are those that increase with time. The downward trends are those that decrease with time.\n",
    "<img src=\"trend.png\">"
   ]
  },
  {
   "cell_type": "markdown",
   "id": "5e9be5ec",
   "metadata": {},
   "source": [
    "### Seasonality\n",
    "1) Seasonality is a repeated behavior of data that occurs on the regular interval of time. It means that there are patterns that repeat themselves after some interval of the period then we call it seasonality.<br>\n",
    "2) Seasonality refers to periodic fluctuations.<br>\n",
    "3) The target variable can have yearly, bi-yearly,quarterly, monthly, weekly,daily,hourly etc seasonality<br>\n",
    "<img src=\"seasonality1.png\" align=\"left\">"
   ]
  },
  {
   "cell_type": "markdown",
   "id": "751f7b5d",
   "metadata": {},
   "source": [
    "#### Noise or Residual or Irregularity\n",
    "1) The variation and irregular patterns are not fixed frequency patterns and they are or short duration and non-repeating.\n",
    "\n",
    "<img src=\"residuals1.png\" align=\"left\">"
   ]
  },
  {
   "cell_type": "markdown",
   "id": "ed65f945",
   "metadata": {},
   "source": [
    "#### Cyclicity(Cyclic Patterns) :\n",
    "It refers to repeating up and down movements. It usually go over more than a year of time.It is much harder to predict."
   ]
  },
  {
   "cell_type": "markdown",
   "id": "3fe2c0bf",
   "metadata": {},
   "source": [
    "#### Features of Time Series\n",
    "1) Series must be sequentially indexed with time.<br>\n",
    "2) No missing values<br>\n",
    "3) There must be autocorrelation(next value must be dependent on previous value)<br>\n",
    "$ {Y}_t  = F({Y}_{t-1} + {Y}_{t-2} + {Y}_{t-3} +.... + {Y}_{t-n})  $"
   ]
  },
  {
   "cell_type": "code",
   "execution_count": null,
   "id": "0f0a70cf",
   "metadata": {},
   "outputs": [],
   "source": [
    "#  Time         Sales\n",
    "# 2019-01-01    344\n",
    "# 2019-02-01    387\n",
    "# 2019-03-01    415\n",
    "# 2019-04-01    450\n",
    "# 2019-05-01    435\n",
    "# 2019-06-01    424"
   ]
  },
  {
   "cell_type": "code",
   "execution_count": null,
   "id": "371ddf61",
   "metadata": {},
   "outputs": [],
   "source": [
    "#  Time         Sales\n",
    "# 2019-01-01    344\n",
    "# 2019-01-03    387\n",
    "# 2019-01-07    415\n",
    "# 2019-01-08    450\n",
    "# 2019-01-10    435\n",
    "# 2019-01-15    424\n",
    "# 2019-01-18    424\n",
    "# 2019-01-19    424\n",
    "# 2019-01-28    424"
   ]
  },
  {
   "cell_type": "markdown",
   "id": "714a8256",
   "metadata": {},
   "source": [
    "### Stationary Time Series\n",
    "1) A Stationary series is one whose statistical properties like mean, variance, covariance do not vary with time or these stats properties are not the function of time.<br>\n",
    "2) Time series are stationary if they do not have trend or seasonal effects(not strictly followed)<br>\n",
    "3) We should have a stationary time series otherwise some Time Series models cant be applied.\n",
    "<img src = \"stationary1.png\">"
   ]
  },
  {
   "cell_type": "markdown",
   "id": "b23958a9",
   "metadata": {},
   "source": [
    "#### Methods to Check Stationarity\n",
    "There are many methods to check whether a time series (direct observations, residuals, otherwise) is stationary or non-stationary.\n",
    "\n",
    "1) <b>Look at Plots:</b> You can review a time series plot of your data and visually check if there are any obvious trends or seasonality.<br>\n",
    "2) <b>Summary Statistics:</b> You can review the summary statistics for your data for seasons or random partitions and check for obvious or significant differences.<br>\n",
    "3) <b>Statistical Tests: </b>You can use statistical tests to check if the expectations of stationarity are met or have been violated.\n"
   ]
  },
  {
   "cell_type": "markdown",
   "id": "18299187",
   "metadata": {},
   "source": [
    "### How to test if Time Series is Stationary - Statistical methods\n",
    "\n",
    "1) <b>ADF Test (Augmnented Dickey Fuller Test)</b>\n",
    "The intuition behind a unit root test is that it determines how strongly a time series is defined by a trend.<br>\n",
    "Ho : Data is non-stationary<br>\n",
    "H1 : Data is stationary<br>    \n",
    "\n",
    "p-value > 0.05: Ho accepted => Data is non-stationary<br>\n",
    "p-value <= 0.05: H1 accepted => Data is stationary<br>\n",
    "\n",
    "\n",
    "2)<b> KPSS Test (Kwiatkowski-Phillips-Schmidt-Shin Test)</b><br>\n",
    "KPSS test tests for stationarity of the series around a deterministic trend. \n",
    "The word deterministic implies the slope of the trend in the series does not change permanently.<br>\n",
    "Ho : Data is stationary<br>\n",
    "H1 : Data is not stationary<br>  \n",
    "\n",
    "p-value > 0.05: Ho accepted => Data  is stationary<br>\n",
    "p-value <= 0.05: H1 accepted => Data is non-stationary<br>\n",
    "\n",
    "#### Note\n",
    "KPSS cant be interchangibly used with ADF test"
   ]
  },
  {
   "cell_type": "markdown",
   "id": "5194945a",
   "metadata": {},
   "source": [
    "#### When to use ADF and KPSS?\n",
    "Apply both the tests and makes sure that the series is truly stationary.\n",
    "\n",
    "<b>Case 1:</b>  Both tests conclude that the given series is stationary – The series is stationary\n",
    "\n",
    "<b>Case 2:</b>  Both tests conclude that the given series is non-stationary – The series is non-stationary\n",
    "    \n",
    "<b>Case 3:</b>  ADF concludes non-stationary and KPSS concludes stationary – The series is trend stationary. To make the series strictly stationary, the trend needs to be removed in this case. Then the detrended series is checked for stationarity.\n",
    "    \n",
    "<b>Case 4:</b> ADF concludes stationary and KPSS concludes non-stationary – The series is difference stationary. Differencing is to be used to make series stationary. Then the differenced series is checked for stationarity.    "
   ]
  },
  {
   "cell_type": "markdown",
   "id": "ff355aba",
   "metadata": {},
   "source": [
    "#### What if Series is not-Sationary\n",
    "Then we make the series Stationary.\n",
    "\n",
    "#### Methods to make a Stationary Time Series\n",
    "1) Detrending<br>\n",
    "2) Transformation Methods<br>\n",
    "\n",
    "       a) Lag Difference\n",
    "       b) Log \n",
    "       c) Log Difference"
   ]
  },
  {
   "cell_type": "code",
   "execution_count": null,
   "id": "ae6cd4a8",
   "metadata": {},
   "outputs": [],
   "source": []
  },
  {
   "cell_type": "code",
   "execution_count": null,
   "id": "e53e2534",
   "metadata": {},
   "outputs": [],
   "source": []
  },
  {
   "cell_type": "code",
   "execution_count": null,
   "id": "cb9a739d",
   "metadata": {},
   "outputs": [],
   "source": []
  },
  {
   "cell_type": "code",
   "execution_count": null,
   "id": "6da2bc35",
   "metadata": {},
   "outputs": [],
   "source": []
  },
  {
   "cell_type": "code",
   "execution_count": null,
   "id": "92170c1f",
   "metadata": {},
   "outputs": [],
   "source": []
  },
  {
   "cell_type": "code",
   "execution_count": null,
   "id": "82b50735",
   "metadata": {},
   "outputs": [],
   "source": []
  }
 ],
 "metadata": {
  "kernelspec": {
   "display_name": "Python 3",
   "language": "python",
   "name": "python3"
  },
  "language_info": {
   "codemirror_mode": {
    "name": "ipython",
    "version": 3
   },
   "file_extension": ".py",
   "mimetype": "text/x-python",
   "name": "python",
   "nbconvert_exporter": "python",
   "pygments_lexer": "ipython3",
   "version": "3.8.8"
  }
 },
 "nbformat": 4,
 "nbformat_minor": 5
}
