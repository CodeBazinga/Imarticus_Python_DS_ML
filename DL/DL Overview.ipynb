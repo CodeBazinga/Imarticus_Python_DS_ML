{
 "cells": [
  {
   "cell_type": "markdown",
   "id": "a3128bb7",
   "metadata": {},
   "source": [
    "#### AI - Artificial Intelligence\n",
    "1) Ability to imitate human intellect and behaviour<br>\n",
    "2) To ease human efforts<br>"
   ]
  },
  {
   "cell_type": "code",
   "execution_count": null,
   "id": "2040f8b1",
   "metadata": {},
   "outputs": [],
   "source": [
    "# AI can be implemented using ML and DL (Deep Learning)\n",
    "# ML and DL are subsets of AI\n",
    "# DL is subset of ML"
   ]
  },
  {
   "cell_type": "markdown",
   "id": "374857ad",
   "metadata": {},
   "source": [
    "<img src=\"neuron.jpg\">"
   ]
  },
  {
   "cell_type": "code",
   "execution_count": 1,
   "id": "fcb1d697",
   "metadata": {},
   "outputs": [],
   "source": [
    "# Input  -> Processing  -> Output\n",
    "# Neural Network\n",
    "# Network of interconnected neurons "
   ]
  },
  {
   "cell_type": "code",
   "execution_count": null,
   "id": "a28cdd32",
   "metadata": {},
   "outputs": [],
   "source": [
    "# Regression \n",
    "# Input -> (x1,x2,x3)\n",
    "# Target -> y\n",
    "\n",
    "# ML Approach\n",
    "# y_pred = m1x1+ m2x2 + m3x3 + c"
   ]
  },
  {
   "cell_type": "markdown",
   "id": "d32f0c0a",
   "metadata": {},
   "source": [
    "<img src=\"neural_network.jpg\" width=\"400\" height=\"300\">"
   ]
  },
  {
   "cell_type": "code",
   "execution_count": null,
   "id": "17a9e0cb",
   "metadata": {},
   "outputs": [],
   "source": [
    "# Coefficients - Weights(w)\n",
    "# Intecept - Bias(b)\n",
    "# y_pred = wx + b"
   ]
  },
  {
   "cell_type": "code",
   "execution_count": null,
   "id": "d24af082",
   "metadata": {},
   "outputs": [],
   "source": [
    "# DL Appproach\n",
    "\n",
    "# Input Layer -> x1,x2,x3\n",
    "# Input layer has 3 neurons/nodes\n",
    "\n",
    "# Hidden Layer 1 -> 4 neurons\n",
    "H1, H2, H3, H4\n",
    "\n",
    "Weights assigned between Input Layer and HL1\n",
    "# x1 (w11,w12,w13,w14)\n",
    "# x2 (w21,w22,w23,w24)\n",
    "# x3 (w31,w32,w33,w34)\n",
    "\n",
    "\n",
    "H11_in = x1*w11 + x2*w21  + x3*w31 + b1\n",
    "H12_in = x1*w12 + x2*w22  + x3*w32 + b2\n",
    "H13_in = x1*w13 + x2*w23  + x3*w33 + b3\n",
    "H14_in = x1*w14 + x2*w24  + x3*w34 + b4\n",
    "\n",
    "H11_out = Activation_Function(x1*w11 + x2*w21  + x3*w31 + b1)\n",
    "H12_out = Activation_Function(H12_in)\n",
    "H13_out = Activation_Function(H13_in)\n",
    "H14_out = Activation_Function(H14_in)\n",
    "\n",
    "Weights assigned between HL1 and HL2\n",
    "# H11 (w41,w42,w43,w44)\n",
    "# H12 (w51,w52,w53,w54)\n",
    "# H13 (w61,w62,w63,w64)\n",
    "# H14 (w71,w72,w73,w74)\n",
    "\n",
    "H21_in = H11_out*w41 + H12_out*w51 +  H13_out*w61 + H14_out*w71 + b2\n",
    "H22_in = H11_out*w42 + H12_out*w52 +  H13_out*w62 + H14_out*w72 + b2\n",
    "H23_in = H11_out*w43 + H12_out*w53 +  H13_out*w63 + H14_out*w73 + b2\n",
    "H24_in = H11_out*w44 + H12_out*w54 +  H13_out*w64 + H14_out*w74 + b2\n",
    "\n",
    "H21_out = Activation_Function(H21_in)\n",
    "H22_out = Activation_Function(H22_in)\n",
    "H23_out = Activation_Function(H23_in)\n",
    "H24_out = Activation_Function(H24_in)\n",
    "\n",
    "output = H21_out*w81 + H22_out*w91 + H23_out*w101 + H24_out*w111 + b3"
   ]
  },
  {
   "cell_type": "code",
   "execution_count": null,
   "id": "5f637488",
   "metadata": {},
   "outputs": [],
   "source": [
    "!pip install tensorflow"
   ]
  },
  {
   "cell_type": "code",
   "execution_count": 3,
   "id": "a56ae6b0",
   "metadata": {},
   "outputs": [],
   "source": [
    "import tensorflow as tf"
   ]
  },
  {
   "cell_type": "code",
   "execution_count": 8,
   "id": "d07dd7cd",
   "metadata": {},
   "outputs": [],
   "source": [
    "from tensorflow.keras.models import Sequential\n",
    "from tensorflow.keras.layers import Dense"
   ]
  },
  {
   "cell_type": "code",
   "execution_count": 4,
   "id": "903dc0c5",
   "metadata": {},
   "outputs": [
    {
     "name": "stdout",
     "output_type": "stream",
     "text": [
      "2.6.0\n"
     ]
    }
   ],
   "source": [
    "print(tf.__version__)"
   ]
  },
  {
   "cell_type": "code",
   "execution_count": null,
   "id": "81d7d162",
   "metadata": {},
   "outputs": [],
   "source": [
    "# #### Libraries in Deep Learning\n",
    "# 1) Tensorflow \n",
    "# a) ANN - Classification\n",
    "# b) CNN - Image Classficaition (Comp Vision)\n",
    "# c) RNN  -  Text Classification (NLP)\n",
    "# d) LSTM - Text Classification (NLP)\n",
    "\n",
    "\n",
    "# 2) Keras\n",
    "# 3) Pytorch  - OOPS"
   ]
  },
  {
   "cell_type": "code",
   "execution_count": null,
   "id": "774bdb1d",
   "metadata": {},
   "outputs": [],
   "source": [
    "# Terminologies\n",
    "# 1) Neuron\n",
    "# 2) Neural Network\n",
    "# 3) Weights\n",
    "# 4) Bias\n",
    "# 5) Synapse\n",
    "# 6) Layers\n",
    "#     a) Input Layer\n",
    "#     b) Hidden Layer\n",
    "#     c) Output Layer\n",
    "# 7) Forward Propagation    \n",
    "# 8) Backward Propagation    \n",
    "    "
   ]
  },
  {
   "cell_type": "code",
   "execution_count": null,
   "id": "cca4ff57",
   "metadata": {},
   "outputs": [],
   "source": []
  }
 ],
 "metadata": {
  "kernelspec": {
   "display_name": "Python 3",
   "language": "python",
   "name": "python3"
  },
  "language_info": {
   "codemirror_mode": {
    "name": "ipython",
    "version": 3
   },
   "file_extension": ".py",
   "mimetype": "text/x-python",
   "name": "python",
   "nbconvert_exporter": "python",
   "pygments_lexer": "ipython3",
   "version": "3.8.8"
  }
 },
 "nbformat": 4,
 "nbformat_minor": 5
}
