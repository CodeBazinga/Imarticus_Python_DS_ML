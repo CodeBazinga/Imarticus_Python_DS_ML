{
 "cells": [
  {
   "cell_type": "markdown",
   "id": "876fb7f2",
   "metadata": {},
   "source": [
    "### One Way ANOVA (Analyis of Variance)\n",
    "\n",
    "1) A one-way ANOVA (“analysis of variance”) compares the means of three or more independent groups to determine if there is a statistically significant difference between the corresponding population means.\n",
    "\n",
    "\n",
    "Steps in ANOVA<br>\n",
    "1) <b>Calculate group mean and overall mean(mean of all the group mean obtained)</b><br>\n",
    "\n",
    "2) <b>Compute SSR (Regression sum of squares)</b><br>\n",
    "SSR = n * sum(individal_mean_of_each_group - overall_mean)^2<br>\n",
    "where n is the length of group (it is same for each group)\n",
    "\n",
    "3) <b>Compute SSE(Error sum of squares)</b><br>\n",
    "SSE = sum(xi - x_mean)<br>\n",
    "where <br>\n",
    "xi = individual values of each group<br>\n",
    "x_mean = mean of individal group<br>\n",
    "\n",
    "4) <b>Compute SST (Total Sum of Squares)</b>\n",
    "SST = SSR + SSE<br>\n",
    "\n",
    "5) Populate the ANOVA Table\n",
    "<img src=\"ANOVA_table1.png\">\n",
    "\n",
    "where <br>\n",
    "n = total observations (sum of obersvtaions of each group), K = number of groups\n",
    "\n",
    "6) Compare f_stat with f-critical at a given alpha value and df_t and df_er values<br>\n",
    "7) Make inference for the hypothesis<br>"
   ]
  },
  {
   "cell_type": "markdown",
   "id": "229d2000",
   "metadata": {},
   "source": [
    "#### Q1)\n",
    "We want to know whether or not three different exam prep programs lead to different mean scores on a certain exam. To test this, we recruit 30 students to participate in a study and split them into three groups.\n",
    "\n",
    "The students in each group are randomly assigned to use one of the three exam prep programs for the next three weeks to prepare for an exam. At the end of the three weeks, all of the students take the same exam. The exam scores for each group are shown below:\n",
    "\n",
    "Perform a one-way ANOVA test to determine if the mean exam score is different between the three groups.\n",
    "\n",
    "<img src=\"anova_ex1.png\" height=\"150\" width=\"150\" align=\"left\">"
   ]
  },
  {
   "cell_type": "code",
   "execution_count": 13,
   "id": "e2503c54",
   "metadata": {},
   "outputs": [],
   "source": [
    "import numpy as np\n",
    "import math\n",
    "import pandas as pd\n",
    "import statistics as st"
   ]
  },
  {
   "cell_type": "code",
   "execution_count": 41,
   "id": "fa21cea1",
   "metadata": {},
   "outputs": [],
   "source": [
    "# 1) H0 (null hypothesis): μ1 = μ2 = μ3 = … = μk (all the population means are equal)\n",
    "# 2) H1 (null hypothesis): at least one population mean is different from the rest"
   ]
  },
  {
   "cell_type": "code",
   "execution_count": 1,
   "id": "d61e2165",
   "metadata": {},
   "outputs": [],
   "source": [
    "g1 = [85,86,88,75,78,94,98,79,71,80]\n",
    "g2 = [91,92,93,85,87,84,82,88,95,96]\n",
    "g3 = [79,78,88,94,92,85,83,85,82,81]\n"
   ]
  },
  {
   "cell_type": "code",
   "execution_count": 46,
   "id": "f64584ed",
   "metadata": {},
   "outputs": [],
   "source": [
    "from scipy.stats import f_oneway"
   ]
  },
  {
   "cell_type": "code",
   "execution_count": 48,
   "id": "17b24b3f",
   "metadata": {},
   "outputs": [
    {
     "name": "stdout",
     "output_type": "stream",
     "text": [
      "f_stat 2.3575322551335636 p 0.11384795345837218\n"
     ]
    }
   ],
   "source": [
    "f_stat,p = f_oneway(g1,g2,g3)\n",
    "print('f_stat',f_stat,'p',p)"
   ]
  },
  {
   "cell_type": "markdown",
   "id": "fb25de75",
   "metadata": {},
   "source": [
    "Since the F test statistic in the ANOVA table is less than the F critical value in the F distribution table, we fail to reject the null hypothesis. This means we don’t have sufficient evidence to say that there is a statistically significant difference between the mean exam scores of the three groups."
   ]
  },
  {
   "cell_type": "code",
   "execution_count": null,
   "id": "82acdf02",
   "metadata": {},
   "outputs": [],
   "source": []
  },
  {
   "cell_type": "markdown",
   "id": "764d82fd",
   "metadata": {},
   "source": [
    "#### Q2) \n",
    "Apply One Way ANOVA using alpha=0.05\n",
    "\n",
    "g1 = [210,240,270,270,300]<br>\n",
    "g2 = [210,240,240,270,270]<br>\n",
    "g3 = [180,210,210,210,240]\n"
   ]
  },
  {
   "cell_type": "code",
   "execution_count": 2,
   "id": "f46d83b7",
   "metadata": {},
   "outputs": [],
   "source": [
    "# 1) H0 (null hypothesis): μ1 = μ2 = μ3 = … = μk (all the population means are equal)\n",
    "# 2) H1 (null hypothesis): at least one population mean is different from the rest\n",
    "\n",
    "g1 = [210,240,270,270,300]\n",
    "g2 = [210,240,240,270,270]\n",
    "g3 = [180,210,210,210,240]\n",
    "\n"
   ]
  },
  {
   "cell_type": "markdown",
   "id": "0c0707ee",
   "metadata": {},
   "source": [
    "#### Q3)\n",
    "Using the following data, perform a oneway ANOVA using α=0.05<br>\n",
    "g1 = [51,45,33,45,67]<br>\n",
    "g2 = [23,43,23,43,45]<br>\n",
    "g3 = [56,76,74,87,56]\n"
   ]
  },
  {
   "cell_type": "code",
   "execution_count": null,
   "id": "41e2121a",
   "metadata": {},
   "outputs": [],
   "source": [
    "# 1) H0 (null hypothesis): μ1 = μ2 = μ3 = … = μk (all the population means are equal)\n",
    "# 2) H1 (null hypothesis): at least one population mean is different from the rest"
   ]
  },
  {
   "cell_type": "code",
   "execution_count": 3,
   "id": "4d990317",
   "metadata": {},
   "outputs": [],
   "source": [
    "g1 = [51,45,33,45,67]\n",
    "g2 = [23,43,23,43,45]\n",
    "g3 = [56,76,74,87,56]\n"
   ]
  },
  {
   "cell_type": "markdown",
   "id": "9b6ef471",
   "metadata": {},
   "source": [
    "#### Link Used -> http://rstudio-pubs-static.s3.amazonaws.com/228015_d8d0ddab79664707890681a9a75cf16d.html\n",
    "\n",
    "#### Q3)\n",
    "Perform ANOVA using the following summary at alpha = 0.01\n",
    "<img src=\"anova_ex3.png\">\n",
    "\n",
    "#### Q4)\n",
    "A clinical psychologist has run a between-subjects experiment comparing two treatments for depression (cognitive-behavioral therapy (CBT) and client-centered therapy (CCT) against a control condition. Subjects were randomly assigned to the experimental condition. After 12 weeks, the subject’s depression scores were measured using the CESD depression scale. The data are summarized as follows:\n",
    "\n",
    "<img src=\"anova_ex4.png\">\n",
    "\n",
    "Use a oneway ANOVA with α=.01 for the test."
   ]
  },
  {
   "cell_type": "markdown",
   "id": "af13a42c",
   "metadata": {},
   "source": [
    "### Chi_Square Test of Independence\n",
    "\n",
    "A Chi-Square Test of Independence is used to determine whether or not there is a significant association between two categorical variables.\n",
    "\n",
    "Examples:-\n",
    "We want to know if gender is associated with political party preference so we survey 500 voters and record their gender and political party preference.<br>\n",
    "We want to know if a person’s favorite color is associated with their favorite sport so we survey 100 people and ask them about their preferences for both.<br>\n",
    "\n",
    "Hypothesis<br>\n",
    "\n",
    "    H0: (null hypothesis) The two variables are independent.\n",
    "    H1: (alternative hypothesis) The two variables are not independent. (i.e. they are associated)\n",
    "\n",
    "Formula for Chi_Square test\n",
    "\n",
    "<img src=\"chi_square_formula.png\">\n",
    "\n",
    "where<br>\n",
    "O = Observed Value<br>\n",
    "E = Expected Value<br>\n",
    "Expected value = (row sum * column sum) / table sum."
   ]
  },
  {
   "cell_type": "markdown",
   "id": "8d686cfb",
   "metadata": {},
   "source": [
    "#### Q1)\n",
    "We want to know whether or not gender is associated with political party preference. We take a simple random sample of 500 voters and survey them on their political party preference. Alpha = 0.05. \n",
    "The following table shows the results of the survey:-\n",
    "<img src=\"chi_square_ex1.png\" width=\"500\">"
   ]
  },
  {
   "cell_type": "markdown",
   "id": "a7b86958",
   "metadata": {},
   "source": [
    "### Solution\n",
    "1) Compute the expected value\n",
    "<img src=\"chi_square_ex1_expected_val.png\" width=\"500\">\n",
    "\n",
    "2) Compute X2 (chi square values)\n",
    "<img src=\"chi_square_ex1_chi_square_val.png\" width =\"500\">\n",
    "\n",
    "3) Calcuate the sum of X2 values obtained in step 2<br>\n",
    "Sum = Σ(O-E)^2/E = 0.2174 + 0.2174 + 0.0676 + 0.0676 + 0.1471 + 0.1471 = 0.8642\n",
    "\n",
    "4) dof_rows = (2-1) = 1, dof_col = (3-1) = 2<br>\n",
    "dof = dof_rows * dof_cols = 1 * 2 = 2\n",
    "\n",
    "5) The p-value associated with X2 = 0.8642 and dof 2 degrees of freedom is 0.649198\n"
   ]
  },
  {
   "cell_type": "code",
   "execution_count": 72,
   "id": "ea481bf2",
   "metadata": {},
   "outputs": [],
   "source": [
    "from scipy.stats import chi2_contingency"
   ]
  },
  {
   "cell_type": "code",
   "execution_count": 76,
   "id": "f473735a",
   "metadata": {},
   "outputs": [
    {
     "name": "stdout",
     "output_type": "stream",
     "text": [
      "chi_stat 0.8640353908896108\n",
      "p 0.6491978887380976\n",
      "dof 2\n",
      "expected\n",
      " [[115.   92.5  42.5]\n",
      " [115.   92.5  42.5]]\n",
      "Ho is accepted\n"
     ]
    }
   ],
   "source": [
    "# H0: Gender and political party preference are independent.\n",
    "# H1: Gender and political party preference are not independent\n",
    "data = [[120,90,40],[110,95,45]]\n",
    "alpha=0.05\n",
    "chi_stat,p,dof,expected = chi2_contingency(data)\n",
    "print('chi_stat',chi_stat)\n",
    "print('p',p)\n",
    "print('dof',dof)\n",
    "print('expected\\n',expected)\n",
    "if p<alpha:\n",
    "    print('Ho is rejected')\n",
    "else:\n",
    "    print('Ho is accepted')"
   ]
  },
  {
   "cell_type": "markdown",
   "id": "62c46cf2",
   "metadata": {},
   "source": [
    "Since this p-value is not less than 0.05, we fail to reject the null hypothesis. This means we do not have sufficient evidence to say that there is an association between gender and political party preference."
   ]
  },
  {
   "cell_type": "markdown",
   "id": "3e4df02d",
   "metadata": {},
   "source": [
    "#### Q2) Test whether Gender and Like Shopping are independent. \n",
    "Gender =  ['F','F','F','M','M','F','F','M','M']<br>\n",
    "Like Shopping = ['Y','N','Y','N','N','N','Y','Y','Y']"
   ]
  },
  {
   "cell_type": "code",
   "execution_count": 99,
   "id": "441a294a",
   "metadata": {},
   "outputs": [
    {
     "data": {
      "text/html": [
       "<div>\n",
       "<style scoped>\n",
       "    .dataframe tbody tr th:only-of-type {\n",
       "        vertical-align: middle;\n",
       "    }\n",
       "\n",
       "    .dataframe tbody tr th {\n",
       "        vertical-align: top;\n",
       "    }\n",
       "\n",
       "    .dataframe thead th {\n",
       "        text-align: right;\n",
       "    }\n",
       "</style>\n",
       "<table border=\"1\" class=\"dataframe\">\n",
       "  <thead>\n",
       "    <tr style=\"text-align: right;\">\n",
       "      <th></th>\n",
       "      <th>Gender</th>\n",
       "      <th>Like Shopping</th>\n",
       "    </tr>\n",
       "  </thead>\n",
       "  <tbody>\n",
       "    <tr>\n",
       "      <th>0</th>\n",
       "      <td>F</td>\n",
       "      <td>Y</td>\n",
       "    </tr>\n",
       "    <tr>\n",
       "      <th>1</th>\n",
       "      <td>F</td>\n",
       "      <td>N</td>\n",
       "    </tr>\n",
       "    <tr>\n",
       "      <th>2</th>\n",
       "      <td>F</td>\n",
       "      <td>Y</td>\n",
       "    </tr>\n",
       "    <tr>\n",
       "      <th>3</th>\n",
       "      <td>M</td>\n",
       "      <td>N</td>\n",
       "    </tr>\n",
       "    <tr>\n",
       "      <th>4</th>\n",
       "      <td>M</td>\n",
       "      <td>N</td>\n",
       "    </tr>\n",
       "  </tbody>\n",
       "</table>\n",
       "</div>"
      ],
      "text/plain": [
       "  Gender Like Shopping\n",
       "0      F             Y\n",
       "1      F             N\n",
       "2      F             Y\n",
       "3      M             N\n",
       "4      M             N"
      ]
     },
     "execution_count": 99,
     "metadata": {},
     "output_type": "execute_result"
    }
   ],
   "source": [
    "df =  pd.DataFrame({'Gender': ['F','F','F','M','M','F','F','M','M','F','M'],\n",
    "                    'Like Shopping':['Y','N','Y','N','N','N','Y','Y','Y','Y','N']})\n",
    "df.head()"
   ]
  },
  {
   "cell_type": "code",
   "execution_count": 100,
   "id": "b94c25aa",
   "metadata": {},
   "outputs": [
    {
     "data": {
      "text/html": [
       "<div>\n",
       "<style scoped>\n",
       "    .dataframe tbody tr th:only-of-type {\n",
       "        vertical-align: middle;\n",
       "    }\n",
       "\n",
       "    .dataframe tbody tr th {\n",
       "        vertical-align: top;\n",
       "    }\n",
       "\n",
       "    .dataframe thead th {\n",
       "        text-align: right;\n",
       "    }\n",
       "</style>\n",
       "<table border=\"1\" class=\"dataframe\">\n",
       "  <thead>\n",
       "    <tr style=\"text-align: right;\">\n",
       "      <th>Like Shopping</th>\n",
       "      <th>N</th>\n",
       "      <th>Y</th>\n",
       "    </tr>\n",
       "    <tr>\n",
       "      <th>Gender</th>\n",
       "      <th></th>\n",
       "      <th></th>\n",
       "    </tr>\n",
       "  </thead>\n",
       "  <tbody>\n",
       "    <tr>\n",
       "      <th>F</th>\n",
       "      <td>2</td>\n",
       "      <td>4</td>\n",
       "    </tr>\n",
       "    <tr>\n",
       "      <th>M</th>\n",
       "      <td>3</td>\n",
       "      <td>2</td>\n",
       "    </tr>\n",
       "  </tbody>\n",
       "</table>\n",
       "</div>"
      ],
      "text/plain": [
       "Like Shopping  N  Y\n",
       "Gender             \n",
       "F              2  4\n",
       "M              3  2"
      ]
     },
     "execution_count": 100,
     "metadata": {},
     "output_type": "execute_result"
    }
   ],
   "source": [
    "# Ho: Gender and Like Shopping are independent.\n",
    "# H1: Gender and Like Shopping are not independent.\n",
    "contingency_table = pd.crosstab(df[\"Gender\"],df[\"Like Shopping\"])\n",
    "contingency_table"
   ]
  },
  {
   "cell_type": "code",
   "execution_count": 101,
   "id": "844b9289",
   "metadata": {},
   "outputs": [
    {
     "name": "stdout",
     "output_type": "stream",
     "text": [
      "chi_stat 0.07638888888888876\n",
      "p 0.782252069887464\n",
      "dof 1\n",
      "expected\n",
      " [[2.72727273 3.27272727]\n",
      " [2.27272727 2.72727273]]\n",
      "Ho is accepted\n"
     ]
    }
   ],
   "source": [
    "chi_stat,p,dof,expected = chi2_contingency(contingency_table)\n",
    "print('chi_stat',chi_stat)\n",
    "print('p',p)\n",
    "print('dof',dof)\n",
    "print('expected\\n',expected)\n",
    "if p<alpha:\n",
    "    print('Ho is rejected')\n",
    "else:\n",
    "    print('Ho is accepted')"
   ]
  },
  {
   "cell_type": "code",
   "execution_count": null,
   "id": "618a6bc6",
   "metadata": {},
   "outputs": [],
   "source": []
  },
  {
   "cell_type": "code",
   "execution_count": null,
   "id": "197a3885",
   "metadata": {},
   "outputs": [],
   "source": []
  }
 ],
 "metadata": {
  "kernelspec": {
   "display_name": "Python 3",
   "language": "python",
   "name": "python3"
  },
  "language_info": {
   "codemirror_mode": {
    "name": "ipython",
    "version": 3
   },
   "file_extension": ".py",
   "mimetype": "text/x-python",
   "name": "python",
   "nbconvert_exporter": "python",
   "pygments_lexer": "ipython3",
   "version": "3.8.8"
  }
 },
 "nbformat": 4,
 "nbformat_minor": 5
}
