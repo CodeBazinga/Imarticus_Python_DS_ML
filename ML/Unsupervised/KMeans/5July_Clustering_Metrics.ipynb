{
 "cells": [
  {
   "cell_type": "markdown",
   "id": "b5d0faee",
   "metadata": {},
   "source": [
    "### Clustering metrics are\n",
    "When ground truth values are not known,the following metrics are used<br>\n",
    "1) Silhouette Score<br>\n",
    "2) Davies Bouldini Score<br>\n",
    "3) Calinski-Harabasz Index<br>\n",
    "\n",
    "When ground truth values are known,the following metrics are used<br>\n",
    "1) Mutual Information scores<br>\n",
    "2) Homogeneity, completeness and V-measure<br>"
   ]
  },
  {
   "cell_type": "markdown",
   "id": "84a46ced",
   "metadata": {},
   "source": [
    "### Silhoutte Score\n",
    "a) The Silhouette Score and Silhouette Plot are used to measure the separation distance between clusters. <br>\n",
    "b) It displays a measure of how close each point in a cluster is to points in the neighbouring clusters. <br>\n",
    "c) This measure has a range of [-1, 1] and is a great tool to visually inspect the similarities within clusters and differences across clusters.<br>\n",
    "d) The Silhouette Score is calculated using the mean intra-cluster distance (a) and the mean nearest-cluster distance (b) for each sample. The Silhouette Coefficient for a sample is (b-a) / max(a,b).<br>\n",
    "e) b is the distance between each sample and the nearest cluster that the sample is not a part of while a is the mean distance within each cluster.<br>\n",
    "\n",
    "#### silhoutte score = (b-a)/max(b,a)\n",
    "\n",
    "a: The mean distance between a sample and all other points in the same class.<br>\n",
    "b: The mean distance between a sample and all other points in the next nearest cluster<br>\n",
    "\n",
    "a is also called cohesion. a should be small<br>\n",
    "b is also called separation. b should be large<br>\n",
    "\n",
    "A score of 1 denotes the best meaning that the data point i is very compact within the cluster to which it belongs and far away from the other clusters. The worst value is -1. Values near 0 denote overlapping clusters."
   ]
  },
  {
   "cell_type": "markdown",
   "id": "e31ee91b",
   "metadata": {},
   "source": [
    "<img src=\"silhoutte_score.jpg\">"
   ]
  },
  {
   "cell_type": "code",
   "execution_count": 1,
   "id": "a3b01351",
   "metadata": {},
   "outputs": [],
   "source": [
    "from sklearn.metrics import silhouette_score\n",
    "import numpy as np\n",
    "import pandas as pd\n",
    "import matplotlib.pyplot as plt\n",
    "from sklearn.cluster import KMeans"
   ]
  },
  {
   "cell_type": "code",
   "execution_count": null,
   "id": "95a79611",
   "metadata": {},
   "outputs": [],
   "source": []
  },
  {
   "cell_type": "code",
   "execution_count": null,
   "id": "926a0a3c",
   "metadata": {},
   "outputs": [],
   "source": []
  }
 ],
 "metadata": {
  "kernelspec": {
   "display_name": "Python 3",
   "language": "python",
   "name": "python3"
  },
  "language_info": {
   "codemirror_mode": {
    "name": "ipython",
    "version": 3
   },
   "file_extension": ".py",
   "mimetype": "text/x-python",
   "name": "python",
   "nbconvert_exporter": "python",
   "pygments_lexer": "ipython3",
   "version": "3.8.8"
  }
 },
 "nbformat": 4,
 "nbformat_minor": 5
}
