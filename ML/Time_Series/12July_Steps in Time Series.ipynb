{
 "cells": [
  {
   "cell_type": "markdown",
   "id": "3519b443",
   "metadata": {},
   "source": [
    "# Steps in Time Series\n",
    "1) Load the data<br>\n",
    "\n",
    "#### DateTime Preprocessing\n",
    "2) Remove null values,if any<br>\n",
    "3) Check if for a single date value, there are multiple time dependent data avaiable, then compute avg for each given date.<br>\n",
    "4) Convert date columns to datetime, if not already in datetime format<br>\n",
    "5) Sort dates in ascending order<br>\n",
    "5) Set date column as index.<br>\n",
    "6) Check if dates are sequentially indexed. If not take aggregate(groupby) on the next higher hierarchy (days -> weeks,months), (weeks->months,quarter), (months-> quarter,year) and so on.\n",
    "\n",
    "\n",
    "#### Next steps\n",
    "7) Plot data wrt datetime<br>\n",
    "8) Compute Lag1, Lag2, Lag3....<br>\n",
    "9) Compute Diff1,Diff2,Diff3....<br>\n",
    "10) Remove null values from the dataframe before proceeding<br>\n",
    "11) Check stationarity of actual data using ADF test.<br>\n",
    "12) If not stationary apply ADF(Augmented Dickey Fuller) test on:<br>\n",
    "a) Diff1,Diff2,Diff3....<br>\n",
    "b) Log, Square, Srqt...<br>\n",
    "c) Log_Diff1, Log_Diff2<br>\n",
    "d) EWM<br>\n",
    "\n",
    "6) Data Smoothing <br>\n",
    "a) Rolling Mean at differnt window size<br>\n",
    "b) Rolling Std at differnt window size<br>\n",
    "\n",
    "7) Seasonal Decompose<br>\n",
    "a) Multiplicative - when both trend and seasonality is strong<br>\n",
    "b) Additive - when only one of trend or seasonality is strong<br>\n",
    "c) Plot Seasonal Decomposition<br>\n",
    "i) Actual data<br>\n",
    "ii) Diff1,Diff2,Diff3....<br>\n",
    "iii) Log, Square, Srqt...<br>\n",
    "iv) Log_Diff1, Log_Diff2<br>\n",
    "\n",
    "\n",
    "8) Plot ACF and PACF for the data which has been proved as stationary<br>\n",
    "a) Determine q using ACF<br>\n",
    "b) Determined p using PACF<br>\n",
    "c) d is the number of times differencing is required to make the time series stationary<br>\n",
    "\n",
    "#### Apply Model for Forecasting\n",
    "a) Simple Moving Average<br>\n",
    "\n",
    "b) Exponential Smoothing<br>\n",
    "i) Single Exponential Smoothing<br>\n",
    "ii) Double Exponential Smoothing<br>\n",
    "iii) Triple Exponential Smoothing (Holts Winter Smoothing)<br>\n",
    "\n",
    "c) ARIMA variants<br>\n",
    "iv) AR Model<br>\n",
    "v) MA Model<br>\n",
    "vi) ARMA Model<br>\n",
    "vii) ARIMA Model<br>\n"
   ]
  },
  {
   "cell_type": "code",
   "execution_count": 1,
   "id": "fe2e37f6",
   "metadata": {},
   "outputs": [],
   "source": [
    "### (p,d,q) - ARIMA\n",
    "# (p,d,q)  - Model Name\n",
    "# (1,0,0)  - AR model\n",
    "# (0,0,1)  - MA Model\n",
    "# (1,0,1)  - ARMA Model\n",
    "# (1,1,1)  - ARIMA  Model"
   ]
  },
  {
   "cell_type": "markdown",
   "id": "3990361b",
   "metadata": {},
   "source": [
    "#### AnalyticsVidya - Hackathon\n",
    "https://datahack.analyticsvidhya.com/contest/all/"
   ]
  },
  {
   "cell_type": "code",
   "execution_count": null,
   "id": "978d20f1",
   "metadata": {},
   "outputs": [],
   "source": []
  }
 ],
 "metadata": {
  "kernelspec": {
   "display_name": "Python 3",
   "language": "python",
   "name": "python3"
  },
  "language_info": {
   "codemirror_mode": {
    "name": "ipython",
    "version": 3
   },
   "file_extension": ".py",
   "mimetype": "text/x-python",
   "name": "python",
   "nbconvert_exporter": "python",
   "pygments_lexer": "ipython3",
   "version": "3.8.8"
  }
 },
 "nbformat": 4,
 "nbformat_minor": 5
}
